{
 "cells": [
  {
   "cell_type": "code",
   "execution_count": 1,
   "metadata": {},
   "outputs": [
    {
     "name": "stderr",
     "output_type": "stream",
     "text": [
      "/Library/Frameworks/Python.framework/Versions/3.7/lib/python3.7/site-packages/librosa/cache.py:36: DeprecationWarning: The 'cachedir' attribute has been deprecated in version 0.12 and will be removed in version 0.14.\n",
      "Use os.path.join(memory.location, 'joblib') attribute instead.\n",
      "  if self.cachedir is not None:\n",
      "/Library/Frameworks/Python.framework/Versions/3.7/lib/python3.7/site-packages/librosa/cache.py:36: DeprecationWarning: The 'cachedir' attribute has been deprecated in version 0.12 and will be removed in version 0.14.\n",
      "Use os.path.join(memory.location, 'joblib') attribute instead.\n",
      "  if self.cachedir is not None:\n",
      "/Library/Frameworks/Python.framework/Versions/3.7/lib/python3.7/site-packages/librosa/cache.py:36: DeprecationWarning: The 'cachedir' attribute has been deprecated in version 0.12 and will be removed in version 0.14.\n",
      "Use os.path.join(memory.location, 'joblib') attribute instead.\n",
      "  if self.cachedir is not None:\n",
      "/Library/Frameworks/Python.framework/Versions/3.7/lib/python3.7/site-packages/librosa/cache.py:36: DeprecationWarning: The 'cachedir' attribute has been deprecated in version 0.12 and will be removed in version 0.14.\n",
      "Use os.path.join(memory.location, 'joblib') attribute instead.\n",
      "  if self.cachedir is not None:\n",
      "/Library/Frameworks/Python.framework/Versions/3.7/lib/python3.7/site-packages/librosa/cache.py:36: DeprecationWarning: The 'cachedir' attribute has been deprecated in version 0.12 and will be removed in version 0.14.\n",
      "Use os.path.join(memory.location, 'joblib') attribute instead.\n",
      "  if self.cachedir is not None:\n",
      "/Library/Frameworks/Python.framework/Versions/3.7/lib/python3.7/site-packages/librosa/cache.py:36: DeprecationWarning: The 'cachedir' attribute has been deprecated in version 0.12 and will be removed in version 0.14.\n",
      "Use os.path.join(memory.location, 'joblib') attribute instead.\n",
      "  if self.cachedir is not None:\n",
      "/Library/Frameworks/Python.framework/Versions/3.7/lib/python3.7/site-packages/librosa/cache.py:36: DeprecationWarning: The 'cachedir' attribute has been deprecated in version 0.12 and will be removed in version 0.14.\n",
      "Use os.path.join(memory.location, 'joblib') attribute instead.\n",
      "  if self.cachedir is not None:\n",
      "/Library/Frameworks/Python.framework/Versions/3.7/lib/python3.7/site-packages/librosa/cache.py:36: DeprecationWarning: The 'cachedir' attribute has been deprecated in version 0.12 and will be removed in version 0.14.\n",
      "Use os.path.join(memory.location, 'joblib') attribute instead.\n",
      "  if self.cachedir is not None:\n",
      "/Library/Frameworks/Python.framework/Versions/3.7/lib/python3.7/site-packages/librosa/cache.py:36: DeprecationWarning: The 'cachedir' attribute has been deprecated in version 0.12 and will be removed in version 0.14.\n",
      "Use os.path.join(memory.location, 'joblib') attribute instead.\n",
      "  if self.cachedir is not None:\n",
      "/Library/Frameworks/Python.framework/Versions/3.7/lib/python3.7/site-packages/librosa/cache.py:36: DeprecationWarning: The 'cachedir' attribute has been deprecated in version 0.12 and will be removed in version 0.14.\n",
      "Use os.path.join(memory.location, 'joblib') attribute instead.\n",
      "  if self.cachedir is not None:\n",
      "/Library/Frameworks/Python.framework/Versions/3.7/lib/python3.7/site-packages/librosa/cache.py:36: DeprecationWarning: The 'cachedir' attribute has been deprecated in version 0.12 and will be removed in version 0.14.\n",
      "Use os.path.join(memory.location, 'joblib') attribute instead.\n",
      "  if self.cachedir is not None:\n",
      "/Library/Frameworks/Python.framework/Versions/3.7/lib/python3.7/site-packages/librosa/core/audio.py:37: UserWarning: Could not import scikits.samplerate. Falling back to scipy.signal\n",
      "  warnings.warn('Could not import scikits.samplerate. '\n",
      "/Library/Frameworks/Python.framework/Versions/3.7/lib/python3.7/site-packages/librosa/cache.py:36: DeprecationWarning: The 'cachedir' attribute has been deprecated in version 0.12 and will be removed in version 0.14.\n",
      "Use os.path.join(memory.location, 'joblib') attribute instead.\n",
      "  if self.cachedir is not None:\n",
      "/Library/Frameworks/Python.framework/Versions/3.7/lib/python3.7/site-packages/librosa/cache.py:36: DeprecationWarning: The 'cachedir' attribute has been deprecated in version 0.12 and will be removed in version 0.14.\n",
      "Use os.path.join(memory.location, 'joblib') attribute instead.\n",
      "  if self.cachedir is not None:\n",
      "/Library/Frameworks/Python.framework/Versions/3.7/lib/python3.7/site-packages/librosa/cache.py:36: DeprecationWarning: The 'cachedir' attribute has been deprecated in version 0.12 and will be removed in version 0.14.\n",
      "Use os.path.join(memory.location, 'joblib') attribute instead.\n",
      "  if self.cachedir is not None:\n",
      "/Library/Frameworks/Python.framework/Versions/3.7/lib/python3.7/site-packages/librosa/cache.py:36: DeprecationWarning: The 'cachedir' attribute has been deprecated in version 0.12 and will be removed in version 0.14.\n",
      "Use os.path.join(memory.location, 'joblib') attribute instead.\n",
      "  if self.cachedir is not None:\n",
      "/Library/Frameworks/Python.framework/Versions/3.7/lib/python3.7/site-packages/librosa/cache.py:36: DeprecationWarning: The 'cachedir' attribute has been deprecated in version 0.12 and will be removed in version 0.14.\n",
      "Use os.path.join(memory.location, 'joblib') attribute instead.\n",
      "  if self.cachedir is not None:\n",
      "/Library/Frameworks/Python.framework/Versions/3.7/lib/python3.7/site-packages/librosa/cache.py:36: DeprecationWarning: The 'cachedir' attribute has been deprecated in version 0.12 and will be removed in version 0.14.\n",
      "Use os.path.join(memory.location, 'joblib') attribute instead.\n",
      "  if self.cachedir is not None:\n",
      "/Library/Frameworks/Python.framework/Versions/3.7/lib/python3.7/site-packages/librosa/cache.py:36: DeprecationWarning: The 'cachedir' attribute has been deprecated in version 0.12 and will be removed in version 0.14.\n",
      "Use os.path.join(memory.location, 'joblib') attribute instead.\n",
      "  if self.cachedir is not None:\n",
      "/Library/Frameworks/Python.framework/Versions/3.7/lib/python3.7/site-packages/librosa/cache.py:36: DeprecationWarning: The 'cachedir' attribute has been deprecated in version 0.12 and will be removed in version 0.14.\n",
      "Use os.path.join(memory.location, 'joblib') attribute instead.\n",
      "  if self.cachedir is not None:\n",
      "/Library/Frameworks/Python.framework/Versions/3.7/lib/python3.7/site-packages/librosa/cache.py:36: DeprecationWarning: The 'cachedir' attribute has been deprecated in version 0.12 and will be removed in version 0.14.\n",
      "Use os.path.join(memory.location, 'joblib') attribute instead.\n",
      "  if self.cachedir is not None:\n",
      "/Library/Frameworks/Python.framework/Versions/3.7/lib/python3.7/site-packages/librosa/cache.py:36: DeprecationWarning: The 'cachedir' attribute has been deprecated in version 0.12 and will be removed in version 0.14.\n",
      "Use os.path.join(memory.location, 'joblib') attribute instead.\n",
      "  if self.cachedir is not None:\n",
      "/Library/Frameworks/Python.framework/Versions/3.7/lib/python3.7/site-packages/librosa/cache.py:36: DeprecationWarning: The 'cachedir' attribute has been deprecated in version 0.12 and will be removed in version 0.14.\n",
      "Use os.path.join(memory.location, 'joblib') attribute instead.\n",
      "  if self.cachedir is not None:\n",
      "/Library/Frameworks/Python.framework/Versions/3.7/lib/python3.7/site-packages/librosa/cache.py:36: DeprecationWarning: The 'cachedir' attribute has been deprecated in version 0.12 and will be removed in version 0.14.\n",
      "Use os.path.join(memory.location, 'joblib') attribute instead.\n",
      "  if self.cachedir is not None:\n",
      "/Library/Frameworks/Python.framework/Versions/3.7/lib/python3.7/site-packages/librosa/cache.py:36: DeprecationWarning: The 'cachedir' attribute has been deprecated in version 0.12 and will be removed in version 0.14.\n",
      "Use os.path.join(memory.location, 'joblib') attribute instead.\n",
      "  if self.cachedir is not None:\n",
      "/Library/Frameworks/Python.framework/Versions/3.7/lib/python3.7/site-packages/librosa/cache.py:36: DeprecationWarning: The 'cachedir' attribute has been deprecated in version 0.12 and will be removed in version 0.14.\n",
      "Use os.path.join(memory.location, 'joblib') attribute instead.\n",
      "  if self.cachedir is not None:\n",
      "/Library/Frameworks/Python.framework/Versions/3.7/lib/python3.7/site-packages/librosa/cache.py:36: DeprecationWarning: The 'cachedir' attribute has been deprecated in version 0.12 and will be removed in version 0.14.\n",
      "Use os.path.join(memory.location, 'joblib') attribute instead.\n",
      "  if self.cachedir is not None:\n",
      "/Library/Frameworks/Python.framework/Versions/3.7/lib/python3.7/site-packages/librosa/cache.py:36: DeprecationWarning: The 'cachedir' attribute has been deprecated in version 0.12 and will be removed in version 0.14.\n",
      "Use os.path.join(memory.location, 'joblib') attribute instead.\n",
      "  if self.cachedir is not None:\n",
      "/Library/Frameworks/Python.framework/Versions/3.7/lib/python3.7/site-packages/librosa/cache.py:36: DeprecationWarning: The 'cachedir' attribute has been deprecated in version 0.12 and will be removed in version 0.14.\n",
      "Use os.path.join(memory.location, 'joblib') attribute instead.\n",
      "  if self.cachedir is not None:\n",
      "/Library/Frameworks/Python.framework/Versions/3.7/lib/python3.7/site-packages/librosa/cache.py:36: DeprecationWarning: The 'cachedir' attribute has been deprecated in version 0.12 and will be removed in version 0.14.\n",
      "Use os.path.join(memory.location, 'joblib') attribute instead.\n",
      "  if self.cachedir is not None:\n",
      "/Library/Frameworks/Python.framework/Versions/3.7/lib/python3.7/site-packages/librosa/cache.py:36: DeprecationWarning: The 'cachedir' attribute has been deprecated in version 0.12 and will be removed in version 0.14.\n",
      "Use os.path.join(memory.location, 'joblib') attribute instead.\n",
      "  if self.cachedir is not None:\n",
      "/Library/Frameworks/Python.framework/Versions/3.7/lib/python3.7/site-packages/librosa/cache.py:36: DeprecationWarning: The 'cachedir' attribute has been deprecated in version 0.12 and will be removed in version 0.14.\n",
      "Use os.path.join(memory.location, 'joblib') attribute instead.\n",
      "  if self.cachedir is not None:\n",
      "/Library/Frameworks/Python.framework/Versions/3.7/lib/python3.7/site-packages/librosa/cache.py:36: DeprecationWarning: The 'cachedir' attribute has been deprecated in version 0.12 and will be removed in version 0.14.\n",
      "Use os.path.join(memory.location, 'joblib') attribute instead.\n",
      "  if self.cachedir is not None:\n",
      "/Library/Frameworks/Python.framework/Versions/3.7/lib/python3.7/site-packages/librosa/cache.py:36: DeprecationWarning: The 'cachedir' attribute has been deprecated in version 0.12 and will be removed in version 0.14.\n",
      "Use os.path.join(memory.location, 'joblib') attribute instead.\n",
      "  if self.cachedir is not None:\n",
      "/Library/Frameworks/Python.framework/Versions/3.7/lib/python3.7/site-packages/librosa/cache.py:36: DeprecationWarning: The 'cachedir' attribute has been deprecated in version 0.12 and will be removed in version 0.14.\n",
      "Use os.path.join(memory.location, 'joblib') attribute instead.\n",
      "  if self.cachedir is not None:\n",
      "/Library/Frameworks/Python.framework/Versions/3.7/lib/python3.7/site-packages/librosa/cache.py:36: DeprecationWarning: The 'cachedir' attribute has been deprecated in version 0.12 and will be removed in version 0.14.\n",
      "Use os.path.join(memory.location, 'joblib') attribute instead.\n",
      "  if self.cachedir is not None:\n",
      "/Library/Frameworks/Python.framework/Versions/3.7/lib/python3.7/site-packages/librosa/cache.py:36: DeprecationWarning: The 'cachedir' attribute has been deprecated in version 0.12 and will be removed in version 0.14.\n",
      "Use os.path.join(memory.location, 'joblib') attribute instead.\n",
      "  if self.cachedir is not None:\n",
      "/Library/Frameworks/Python.framework/Versions/3.7/lib/python3.7/site-packages/librosa/cache.py:36: DeprecationWarning: The 'cachedir' attribute has been deprecated in version 0.12 and will be removed in version 0.14.\n",
      "Use os.path.join(memory.location, 'joblib') attribute instead.\n",
      "  if self.cachedir is not None:\n",
      "/Library/Frameworks/Python.framework/Versions/3.7/lib/python3.7/site-packages/librosa/cache.py:36: DeprecationWarning: The 'cachedir' attribute has been deprecated in version 0.12 and will be removed in version 0.14.\n",
      "Use os.path.join(memory.location, 'joblib') attribute instead.\n",
      "  if self.cachedir is not None:\n",
      "/Library/Frameworks/Python.framework/Versions/3.7/lib/python3.7/site-packages/librosa/cache.py:36: DeprecationWarning: The 'cachedir' attribute has been deprecated in version 0.12 and will be removed in version 0.14.\n",
      "Use os.path.join(memory.location, 'joblib') attribute instead.\n",
      "  if self.cachedir is not None:\n"
     ]
    },
    {
     "name": "stderr",
     "output_type": "stream",
     "text": [
      "/Library/Frameworks/Python.framework/Versions/3.7/lib/python3.7/site-packages/librosa/cache.py:36: DeprecationWarning: The 'cachedir' attribute has been deprecated in version 0.12 and will be removed in version 0.14.\n",
      "Use os.path.join(memory.location, 'joblib') attribute instead.\n",
      "  if self.cachedir is not None:\n",
      "/Library/Frameworks/Python.framework/Versions/3.7/lib/python3.7/site-packages/librosa/display.py:32: MatplotlibDeprecationWarning: \n",
      "The examples.directory rcparam was deprecated in Matplotlib 3.0 and will be removed in 3.2. In the future, examples will be found relative to the 'datapath' directory.\n",
      "  mpl.rcParams.update(**_matplotlibrc)\n",
      "/Library/Frameworks/Python.framework/Versions/3.7/lib/python3.7/_collections_abc.py:849: MatplotlibDeprecationWarning: \n",
      "The examples.directory rcparam was deprecated in Matplotlib 3.0 and will be removed in 3.2. In the future, examples will be found relative to the 'datapath' directory.\n",
      "  self[key] = value\n",
      "/Library/Frameworks/Python.framework/Versions/3.7/lib/python3.7/_collections_abc.py:849: MatplotlibDeprecationWarning: \n",
      "The savefig.frameon rcparam was deprecated in Matplotlib 3.1 and will be removed in 3.3.\n",
      "  self[key] = value\n",
      "/Library/Frameworks/Python.framework/Versions/3.7/lib/python3.7/_collections_abc.py:849: MatplotlibDeprecationWarning: \n",
      "The text.latex.unicode rcparam was deprecated in Matplotlib 3.0 and will be removed in 3.2.\n",
      "  self[key] = value\n",
      "/Library/Frameworks/Python.framework/Versions/3.7/lib/python3.7/_collections_abc.py:849: MatplotlibDeprecationWarning: \n",
      "The verbose.fileo rcparam was deprecated in Matplotlib 3.1 and will be removed in 3.3.\n",
      "  self[key] = value\n",
      "/Library/Frameworks/Python.framework/Versions/3.7/lib/python3.7/_collections_abc.py:849: MatplotlibDeprecationWarning: \n",
      "The verbose.level rcparam was deprecated in Matplotlib 3.1 and will be removed in 3.3.\n",
      "  self[key] = value\n",
      "/Library/Frameworks/Python.framework/Versions/3.7/lib/python3.7/site-packages/librosa/cache.py:36: DeprecationWarning: The 'cachedir' attribute has been deprecated in version 0.12 and will be removed in version 0.14.\n",
      "Use os.path.join(memory.location, 'joblib') attribute instead.\n",
      "  if self.cachedir is not None:\n",
      "/Library/Frameworks/Python.framework/Versions/3.7/lib/python3.7/site-packages/librosa/cache.py:36: DeprecationWarning: The 'cachedir' attribute has been deprecated in version 0.12 and will be removed in version 0.14.\n",
      "Use os.path.join(memory.location, 'joblib') attribute instead.\n",
      "  if self.cachedir is not None:\n",
      "/Library/Frameworks/Python.framework/Versions/3.7/lib/python3.7/site-packages/librosa/cache.py:36: DeprecationWarning: The 'cachedir' attribute has been deprecated in version 0.12 and will be removed in version 0.14.\n",
      "Use os.path.join(memory.location, 'joblib') attribute instead.\n",
      "  if self.cachedir is not None:\n",
      "/Library/Frameworks/Python.framework/Versions/3.7/lib/python3.7/site-packages/librosa/cache.py:36: DeprecationWarning: The 'cachedir' attribute has been deprecated in version 0.12 and will be removed in version 0.14.\n",
      "Use os.path.join(memory.location, 'joblib') attribute instead.\n",
      "  if self.cachedir is not None:\n",
      "/Library/Frameworks/Python.framework/Versions/3.7/lib/python3.7/site-packages/librosa/cache.py:36: DeprecationWarning: The 'cachedir' attribute has been deprecated in version 0.12 and will be removed in version 0.14.\n",
      "Use os.path.join(memory.location, 'joblib') attribute instead.\n",
      "  if self.cachedir is not None:\n"
     ]
    }
   ],
   "source": [
    "#code to record X mins of audio, overlay gunshot clips on top of it, run inference on it with both the 1D and 2D\n",
    "#tflite models, and output precision, recall, etc, in order to evaluate the performance of models\n",
    "    #can easily jump to overlaying clips/inference if you already have a recording\n",
    "    \n",
    "    \n",
    "import pyaudio\n",
    "import librosa\n",
    "import wave\n",
    "import numpy as np\n",
    "from threading import Thread\n",
    "from array import array\n",
    "from scipy.io import wavfile\n",
    "import soundfile as sf\n",
    "import scipy.signal\n",
    "from queue import Queue\n",
    "import time\n",
    "import os\n",
    "import tensorflow as tf\n",
    "import tensorflow.keras as keras"
   ]
  },
  {
   "cell_type": "markdown",
   "metadata": {},
   "source": [
    "## Variables and Functions"
   ]
  },
  {
   "cell_type": "code",
   "execution_count": 26,
   "metadata": {},
   "outputs": [],
   "source": [
    "#variables\n",
    "audio_format = pyaudio.paInt16\n",
    "audio_rate = 44100\n",
    "audio_channels = 1\n",
    "audio_device_index = 2\n",
    "audio_frames_per_buffer = 4410\n",
    "audio_sample_duration = 2\n",
    "sound_data = np.zeros(0, dtype = \"int16\")\n",
    "sound_normalization_threshold = 10 ** (-1.0 / 20)\n",
    "max_audio_frame_int_value = 2 ** 15 - 1\n",
    "\n",
    "\n",
    "#how long to record audio for\n",
    "recording_length = 10\n",
    "#how many gunshot clips to put on top of your audio\n",
    "n_gunshot_files_to_use = 100\n",
    "\n",
    "#booleans for which model to use\n",
    "USING_2D_RAW_SPECTROGRAM_MODEL = True\n",
    "USING_1D_TIME_SERIES_MODEL = False\n",
    "\n",
    "#directory to save files to\n",
    "#for my laptop\n",
    "files_directory = \"/Users/laurenogden/Downloads/\"\n",
    "#relative path to directory on github\n",
    "#files_directory = \"../recordings/\"\n",
    "\n",
    "#directory of gunshot files to put on top of data (2s or less long files)\n",
    "gunshot_directory = files_directory + \"Original Gunshot Trimmed/\"\n",
    "\n",
    "audio_analysis_queue = Queue()"
   ]
  },
  {
   "cell_type": "code",
   "execution_count": 3,
   "metadata": {},
   "outputs": [],
   "source": [
    "#normalization function\n",
    "def normalize(sound_data):\n",
    "    normalization_factor = float(sound_normalization_threshold * max_audio_frame_int_value) / max(abs(i) for i in sound_data)\n",
    "    \n",
    "    # Averages the volume out\n",
    "    r = array('h')\n",
    "    for datum in sound_data:\n",
    "        r.append(int(datum * normalization_factor))\n",
    "    return np.array(r, dtype = np.int16)"
   ]
  },
  {
   "cell_type": "code",
   "execution_count": 4,
   "metadata": {},
   "outputs": [],
   "source": [
    "#function to save a wav file\n",
    "def create_wav_file(microphone_data, name):\n",
    "    librosa.output.write_wav(files_directory + name + \".wav\", microphone_data, 22050)"
   ]
  },
  {
   "cell_type": "code",
   "execution_count": 5,
   "metadata": {},
   "outputs": [],
   "source": [
    "#prints the times of each sound (mins : secs)\n",
    "def time_in_mins(index):\n",
    "    secs = index/22050\n",
    "    return str(int(secs//60)) + \":\" + str(secs%60)"
   ]
  },
  {
   "cell_type": "code",
   "execution_count": 6,
   "metadata": {},
   "outputs": [],
   "source": [
    "#makes a spectrogram for 2d CNN\n",
    "def convert_to_spectrogram(data, sample_rate):\n",
    "    return np.array(librosa.feature.melspectrogram(y = data, sr = sample_rate), dtype = \"float32\")"
   ]
  },
  {
   "cell_type": "code",
   "execution_count": 7,
   "metadata": {},
   "outputs": [],
   "source": [
    "#callback function for pyaudio strean\n",
    "def callback(in_data, frame_count, time_info, status):\n",
    "    global sound_data\n",
    "    sound_buffer = np.frombuffer(in_data, dtype = \"int16\")\n",
    "    sound_data = np.append(sound_data, sound_buffer)\n",
    "    if len(sound_data) >= 88200:\n",
    "        audio_analysis_queue.put(sound_data)\n",
    "        #empty out sound_data\n",
    "        sound_data = np.zeros(0, dtype = \"int16\")\n",
    "\n",
    "    return (sound_buffer, pyaudio.paContinue)"
   ]
  },
  {
   "cell_type": "markdown",
   "metadata": {},
   "source": [
    "## Record X mins of audio"
   ]
  },
  {
   "cell_type": "code",
   "execution_count": null,
   "metadata": {},
   "outputs": [],
   "source": [
    "#open pyaudio stream\n",
    "pa = pyaudio.PyAudio()\n",
    "stream = pa.open(format = audio_format,\n",
    "                 rate = audio_rate,\n",
    "                 channels = audio_channels,\n",
    "                 input_device_index = audio_device_index,\n",
    "                 frames_per_buffer = audio_frames_per_buffer,\n",
    "                 input = True,\n",
    "                 stream_callback = callback)\n",
    "\n",
    "# Starts the callback thread\n",
    "stream.start_stream()\n",
    "\n",
    "#get first bit of mic data from the stream\n",
    "mic_data = audio_analysis_queue.get()\n",
    "mod_mic_data = librosa.resample(y = mic_data, orig_sr = audio_rate, target_sr = 22050)\n",
    "mod_mic_data = normalize(mod_mic_data)\n",
    "mic_data = mod_mic_data\n",
    "#create_wav_file(mod_mic_data, \"-1_\" + str(time.time()))\n",
    "\n",
    "#get 10 mins of audio data (300 2s clips)\n",
    "for i in range(0, recording_length*30 - 1):\n",
    "    #print(time.ctime(time.time()))\n",
    "    new_data = np.array(audio_analysis_queue.get(), dtype = \"int16\")\n",
    "    mod_new_data = librosa.resample(y = new_data, orig_sr = audio_rate, target_sr = 22050)\n",
    "    mod_mic_data = normalize(mod_new_data)\n",
    "    #create_wav_file(mod_new_data, str(i) + \"_\" + str(time.time()))\n",
    "    mic_data = np.append(mic_data, mod_new_data)\n",
    "\n",
    "#save the clip\n",
    "createwav_file(mic_data, str(recording_length) + \"_mins_background\")"
   ]
  },
  {
   "cell_type": "markdown",
   "metadata": {},
   "source": [
    "### Mark loud noises in noise clip"
   ]
  },
  {
   "cell_type": "code",
   "execution_count": null,
   "metadata": {},
   "outputs": [],
   "source": [
    "#mark locations of loud noises in the clips (taps/claps/etc)\n",
    "\n",
    "#sort the data, figure out the threshold\n",
    "sorted_data = np.sort(mic_data)\n",
    "threshold = sorted_data[len(sorted_data) - int(len(sorted_data)*0.001)]\n",
    "\n",
    "#find all values above that threshold\n",
    "above_threshold = []\n",
    "for i in range(0, len(mic_data)):\n",
    "    if mic_data[i] > threshold:\n",
    "        above_threshold.append(i)\n",
    "\n",
    "#separate out individual sounds from that whole chunk\n",
    "distinct_sounds = []\n",
    "distinct_sounds.append(above_threshold[0])\n",
    "for i in range(1, len(above_threshold)):\n",
    "    #if within 5ms of each other, assume from same shot\n",
    "    if above_threshold[i] - above_threshold[i-1] > 0.05*22050:\n",
    "        distinct_sounds.append(above_threshold[i])\n",
    "\n",
    "#times relative to beginning of the saved clip\n",
    "print(\"There were \" + str(len(distinct_sounds)) + \" distinct loud sounds detected\")\n",
    "distinct_times = []\n",
    "for i in distinct_sounds:\n",
    "    distinct_times.append(i/22050)\n",
    "    \n",
    "#save them in a txt file for future possible use\n",
    "loud_noises_file = open(files_directory + \"background_loud_noises_indices.txt\", \"w\")\n",
    "for i in distinct_sounds:\n",
    "    loud_noises_file.write(str(i)+\"\\n\")\n",
    "loud_noises_file.close()\n",
    "    "
   ]
  },
  {
   "cell_type": "markdown",
   "metadata": {},
   "source": [
    "## Overlay gunshot clips onto recorded noise clip"
   ]
  },
  {
   "cell_type": "code",
   "execution_count": 27,
   "metadata": {},
   "outputs": [],
   "source": [
    "#load back the X min clip saved above (or whenever, idc)\n",
    "noise, rate = librosa.load(files_directory + \"10mins_lab.wav\")\n",
    "#noise, rate = librosa.load(files_directory + str(recording_length) + \"_mins_background.wav\")\n",
    "\n",
    "#list files in a gunshot audio directory\n",
    "gunshot_files = os.listdir(gunshot_directory)"
   ]
  },
  {
   "cell_type": "code",
   "execution_count": 10,
   "metadata": {},
   "outputs": [],
   "source": [
    "# make a numpy array the size of your clip, fill it with zeros\n",
    "all_gunshots = np.zeros(len(noise), dtype = \"float32\")\n",
    "\n",
    "locs = []\n",
    "locs_of_actual_shots = []\n",
    "files_used = []\n",
    "#add gunshots to that 0 numpy array\n",
    "for i in range(0, n_gunshot_files_to_use):\n",
    "    #pick a random gunshot file\n",
    "    file = gunshot_files[np.random.randint(0, len(gunshot_files))]\n",
    "    #avoid using the exact same gunshot twice, or attempting to load a non-wav file in the folder\n",
    "    while file in files_used and \".wav\" not in file:\n",
    "        file = gunshot_files[np.random.randint(0, len(gunshot_files))]\n",
    "    files_used.append(file)\n",
    "    #load the file\n",
    "    gunshot, sr = librosa.load(gunshot_directory + file)\n",
    "    \n",
    "    \n",
    "    #find the location(s) of the actual gunshot(s) in that file\n",
    "    #sort the data, figure out the threshold\n",
    "    sorted_gunshot_data = np.sort(gunshot)\n",
    "    threshold = sorted_gunshot_data[len(sorted_gunshot_data) - int(len(sorted_gunshot_data)*0.001)]\n",
    "    #find all values above that threshold\n",
    "    above_threshold = []\n",
    "    for i in range(0, len(gunshot)):\n",
    "        if gunshot[i] > threshold:\n",
    "            above_threshold.append(i)\n",
    "    #separate out individual sounds from that whole chunk\n",
    "    distinct_shots = []\n",
    "    distinct_shots.append(above_threshold[0])\n",
    "    for i in range(1, len(above_threshold)):\n",
    "        #if within 5ms of each other, assume from same shot\n",
    "        if above_threshold[i] - above_threshold[i-1] > 0.05*22050:\n",
    "            distinct_shots.append(above_threshold[i])\n",
    "    \n",
    "    \n",
    "    #pick a random location to put it at \n",
    "    loc = np.random.randint(0, len(noise) - 44100)\n",
    "    #to avoid putting two gunshots at the exact same place in the clip\n",
    "        #to be improved potentially to avoid overlapping gunshots??\n",
    "    while loc in locs:\n",
    "        loc = np.random.randint(0, len(noise))\n",
    "    locs.append(loc)\n",
    "    #append location(s) of the actual gunshot(s) in the entire clip\n",
    "    for i in distinct_shots:\n",
    "        locs_of_actual_shots.append(loc+i)\n",
    "    \n",
    "    #print(\"putting \" + file + \" at location \" + str(loc) + \", time= \" + time_in_mins(loc))\n",
    "    \n",
    "    #place the data at that location\n",
    "    for j in range(loc, loc+len(gunshot)):\n",
    "        all_gunshots[j] = all_gunshots[j] + gunshot[j-loc]\n",
    "    \n",
    "#combine the noise clip with the gunshot array and save it\n",
    "overlaid = noise * 0.7 + all_gunshots * 1.2\n",
    "overlaid_normed = normalize(overlaid)\n",
    "create_wav_file(overlaid_normed, str(recording_length) + \"_mins_overlaid\")"
   ]
  },
  {
   "cell_type": "markdown",
   "metadata": {},
   "source": [
    "### Save locations of gunshots in new overlaid clip"
   ]
  },
  {
   "cell_type": "code",
   "execution_count": 30,
   "metadata": {},
   "outputs": [
    {
     "name": "stdout",
     "output_type": "stream",
     "text": [
      "Added 151 gunshots\n",
      "There are 86 2s clips in our 10.0 min recording containing gunshots\n"
     ]
    }
   ],
   "source": [
    "#sort the list of locations of actual gunshots\n",
    "print(\"Added \" + str(len(locs_of_actual_shots)) + \" gunshots\")\n",
    "locs_of_actual_shots.sort()\n",
    "'''\n",
    "print(\"Times of the gunshots in the recording: \")\n",
    "for i in locs_of_actual_shots:\n",
    "    print(\"location = \" + str(i) + \" at time = \" + str(time_in_mins(i)))\n",
    "'''\n",
    "    \n",
    "#figure out what two second clips contain gunshots\n",
    "clips_w_guns = []\n",
    "for i in range(0, len(noise), 44100):\n",
    "    for j in locs_of_actual_shots:\n",
    "        if j in range(i, i+44100):\n",
    "            if i not in clips_w_guns:\n",
    "                clips_w_guns.append(i)\n",
    "\n",
    "print(\"There are \" + str(len(clips_w_guns)) + \" 2s clips in our \" + str(len(noise)/22050/60) \n",
    "      + \" min recording containing gunshots\")"
   ]
  },
  {
   "cell_type": "code",
   "execution_count": 31,
   "metadata": {},
   "outputs": [],
   "source": [
    "#save all of the clips with guns for evaluation purposes if you feel like it\n",
    "'''\n",
    "for i in clips_w_guns:\n",
    "    #print(time_in_mins(i))\n",
    "    create_wav_file(overlaid_normed[i: i+44100], \"contains_gunshot_\" + time_in_mins(i))\n",
    "'''\n",
    "    \n",
    "#save the indices of the clips with guns in a textfile for later use\n",
    "locations_file = open(files_directory + \"gunshot_clip_indices.txt\", \"w\")\n",
    "for i in clips_w_guns:\n",
    "    locations_file.write(str(i)+\"\\n\")\n",
    "locations_file.close()"
   ]
  },
  {
   "cell_type": "markdown",
   "metadata": {},
   "source": [
    "## Run Models on Clips"
   ]
  },
  {
   "cell_type": "code",
   "execution_count": 15,
   "metadata": {},
   "outputs": [],
   "source": [
    "#load back in the clip with the gunshots\n",
    "audio, sr = librosa.load(files_directory + \"10mins_overlaid.wav\")\n",
    "#audio, sr = librosa.load(files_directory + str(recording_length) + \"_mins_overlaid.wav\")\n",
    "\n",
    "#load back the indices of clips that contain gunshots from the txt file\n",
    "locations_file = open(files_directory + \"gunshot_clip_indices.txt\", \"r\")\n",
    "clips_w_guns = locations_file.readlines()\n",
    "locations_file.close()\n",
    "#turn strings to ints\n",
    "clips_w_guns = list(map(int, clips_w_guns))\n",
    "#print(clips_w_guns)"
   ]
  },
  {
   "cell_type": "markdown",
   "metadata": {},
   "source": [
    "### Load Models"
   ]
  },
  {
   "cell_type": "markdown",
   "metadata": {},
   "source": [
    "#### 1D TFLite"
   ]
  },
  {
   "cell_type": "code",
   "execution_count": 33,
   "metadata": {},
   "outputs": [],
   "source": [
    "#load 1D tflite model\n",
    "interpreter_1D = tf.lite.Interpreter(model_path=\"../models/gunshot_sound_model.tflite\")\n",
    "interpreter_1D.allocate_tensors()\n",
    "# Get input and output tensors.\n",
    "input_details_1D = interpreter_1D.get_input_details()\n",
    "output_details_1D = interpreter_1D.get_output_details()\n",
    "input_shape_1D = input_details_1D[0]['shape']\n"
   ]
  },
  {
   "cell_type": "markdown",
   "metadata": {},
   "source": [
    "#### 2D TFLite"
   ]
  },
  {
   "cell_type": "code",
   "execution_count": null,
   "metadata": {},
   "outputs": [],
   "source": [
    "#load 2D tflite model\n",
    "interpreter_2D = tf.lite.Interpreter(model_path=\"../models/spectro_no_variables.tflite\")\n",
    "interpreter_2D.allocate_tensors()\n",
    "# Get input and output tensors.\n",
    "input_details_2D = interpreter_2D.get_input_details()\n",
    "output_details_2D = interpreter_2D.get_output_details()\n",
    "input_shape_2D = input_details_2D[0]['shape']"
   ]
  },
  {
   "cell_type": "markdown",
   "metadata": {},
   "source": [
    "### Inference"
   ]
  },
  {
   "cell_type": "markdown",
   "metadata": {},
   "source": [
    "#### 1D TFLite"
   ]
  },
  {
   "cell_type": "code",
   "execution_count": 34,
   "metadata": {},
   "outputs": [],
   "source": [
    "positives_1D = []\n",
    "\n",
    "#pass two second slices into the model to predict\n",
    "for i in range (0, len(audio), 44100):\n",
    "    audio_slice = audio[i:i+44100]\n",
    "    \n",
    "    #1D reshaping\n",
    "    reshaped_audio_slice_1D = audio_slice.reshape(-1, 44100, 1)\n",
    "    \n",
    "    # https://stackoverflow.com/questions/54006031/tf-lite-model-test-fails-with-run-time-error\n",
    "        \n",
    "    #1D predictions\n",
    "    input_tensor_1D = tf.convert_to_tensor(reshaped_audio_slice_1D, np.float32)\n",
    "    interpreter_1D.set_tensor(input_details_1D[0][\"index\"], reshaped_audio_slice_1D)\n",
    "    interpreter_1D.invoke()\n",
    "    probabilities_1D = interpreter_1D.get_tensor(output_details_1D[0][\"index\"])\n",
    "    if probabilities_1D[0][1] >= 0.95:\n",
    "        #create_wav_file(audio_slice, str(i))\n",
    "        positives_1D.append(i)    \n"
   ]
  },
  {
   "cell_type": "markdown",
   "metadata": {},
   "source": [
    "#### 2D TFLite"
   ]
  },
  {
   "cell_type": "code",
   "execution_count": null,
   "metadata": {},
   "outputs": [],
   "source": [
    "positives_2D = []\n",
    "\n",
    "#pass two second slices into the model to predict\n",
    "for i in range (0, len(audio), 44100):\n",
    "    audio_slice = audio[i:i+44100]\n",
    "    \n",
    "    #2D reshaping\n",
    "    reshaped_audio_slice_2D = convert_to_spectrogram(data = audio_slice, sample_rate = 22050)\n",
    "    reshaped_audio_slice_2D = reshaped_audio_slice_2D.reshape(-1, 128, 87, 1)\n",
    "        \n",
    "    # https://stackoverflow.com/questions/54006031/tf-lite-model-test-fails-with-run-time-error\n",
    "        \n",
    "    #2D predictions\n",
    "    input_tensor_2D = tf.convert_to_tensor(reshaped_audio_slice_2D, np.float32)\n",
    "    interpreter_2D.set_tensor(input_details_2D[0][\"index\"], reshaped_audio_slice_2D)\n",
    "    interpreter_2D.invoke()\n",
    "    probabilities_2D = interpreter_2D.get_tensor(output_details_2D[0][\"index\"])\n",
    "    if probabilities_2D[0][1] >= 0.95:\n",
    "        #create_wav_file(audio_slice, str(i))\n",
    "        positives_2D.append(i) \n",
    "    "
   ]
  },
  {
   "cell_type": "markdown",
   "metadata": {},
   "source": [
    "### Separate TP, FP, TN, FN and Output Metrics"
   ]
  },
  {
   "cell_type": "markdown",
   "metadata": {},
   "source": [
    "### 1D Model"
   ]
  },
  {
   "cell_type": "code",
   "execution_count": 35,
   "metadata": {},
   "outputs": [],
   "source": [
    "false_positives_1D = []\n",
    "true_positives_1D = []\n",
    "false_negatives_1D = []\n",
    "true_negatives_1D = []\n",
    "\n",
    "#figure out all true positives\n",
    "for i in positives_1D:\n",
    "    if i in clips_w_guns:\n",
    "        true_positives_1D.append(i)\n",
    "        create_wav_file(audio[i: i+44100], \"1D_true_positive_\" + str(i))\n",
    "\n",
    "#figure out all false positives\n",
    "for i in positives_1D:\n",
    "    if i not in true_positives_1D:\n",
    "        false_positives_1D.append(i)\n",
    "        create_wav_file(audio[i:i+44100], \"1D_false_positive_\" + str(i))\n",
    "        \n",
    "#figure out all false negatives\n",
    "for i in clips_w_guns:\n",
    "    if i not in positives_1D:\n",
    "        #missed_gunshots.append(i)\n",
    "        #slice_location = i//44100\n",
    "        false_negatives_1D.append(i)\n",
    "        create_wav_file(audio[i:i+44100], \"1D_false_negative_\" + str(i))"
   ]
  },
  {
   "cell_type": "code",
   "execution_count": 36,
   "metadata": {},
   "outputs": [
    {
     "name": "stdout",
     "output_type": "stream",
     "text": [
      "1D Model Metrics:\n",
      "Total # of clips classified as gunshots: 4\n",
      "True Positives: 4\n",
      "False Positives: 0\n",
      "False Negatives: 82\n",
      "True Negatives: 214\n",
      "Precision: 1.0\n",
      "Recall: 0.046511627906976744\n",
      "Accuracy: 0.7266666666666667\n"
     ]
    }
   ],
   "source": [
    "total = recording_length*30\n",
    "total_pos_1D = len(positives_1D)\n",
    "total_neg_1D = total - total_pos_1D\n",
    "TP_1D = len(true_positives_1D)\n",
    "FP_1D = len(false_positives_1D)\n",
    "FN_1D = len(false_negatives_1D)\n",
    "TN_1D = total_neg_1D - FN_1D \n",
    "\n",
    "print(\"1D Model Metrics:\")\n",
    "print(\"Total # of clips classified as gunshots: \" + str(total_pos_1D))\n",
    "print(\"True Positives: \" + str(TP_1D))\n",
    "print(\"False Positives: \" + str(FP_1D))\n",
    "print(\"False Negatives: \" + str(FN_1D))\n",
    "print(\"True Negatives: \" + str(TN_1D))\n",
    "\n",
    "precision_1D = TP_1D / (TP_1D + FP_1D)\n",
    "recall_1D = TP_1D / (TP_1D + FN_1D)\n",
    "accuracy_1D = (TP_1D + TN_1D) / total\n",
    "print(\"Precision: \" + str(precision_1D))\n",
    "print(\"Recall: \" + str(recall_1D))\n",
    "print(\"Accuracy: \" + str(accuracy_1D))"
   ]
  },
  {
   "cell_type": "markdown",
   "metadata": {},
   "source": [
    "### 2D Model"
   ]
  },
  {
   "cell_type": "code",
   "execution_count": 37,
   "metadata": {},
   "outputs": [],
   "source": [
    "false_positives_2D = []\n",
    "true_positives_2D = []\n",
    "false_negatives_2D = []\n",
    "true_negatives_2D = []\n",
    "\n",
    "#figure out all true positives\n",
    "for i in positives_2D:\n",
    "    if i in clips_w_guns:\n",
    "        true_positives_2D.append(i)\n",
    "        create_wav_file(audio[i: i+44100], \"2D_true_positive_\" + str(i))\n",
    "\n",
    "#figure out all false positives\n",
    "for i in positives_2D:\n",
    "    if i not in true_positives_2D:\n",
    "        false_positives_2D.append(i)\n",
    "        create_wav_file(audio[i:i+44100], \"2D_false_positive_\" + str(i))\n",
    "        \n",
    "#figure out all false negatives\n",
    "for i in clips_w_guns:\n",
    "    if i not in positives_2D:\n",
    "        #missed_gunshots.append(i)\n",
    "        #slice_location = i//44100\n",
    "        false_negatives_2D.append(i)\n",
    "        create_wav_file(audio[i:i+44100], \"2D_false_negative_\" + str(i))"
   ]
  },
  {
   "cell_type": "code",
   "execution_count": 38,
   "metadata": {},
   "outputs": [
    {
     "name": "stdout",
     "output_type": "stream",
     "text": [
      "1D Model Metrics:\n",
      "Total # of clips classified as gunshots: 3\n",
      "True Positives: 3\n",
      "False Positives: 0\n",
      "False Negatives: 83\n",
      "True Negatives: 214\n",
      "Precision: 1.0\n",
      "Recall: 0.03488372093023256\n",
      "Accuracy: 0.7233333333333334\n"
     ]
    }
   ],
   "source": [
    "total = recording_length*30\n",
    "total_pos_2D = len(positives_2D)\n",
    "total_neg_2D = total - total_pos_2D\n",
    "TP_2D = len(true_positives_2D)\n",
    "FP_2D = len(false_positives_2D)\n",
    "FN_2D = len(false_negatives_2D)\n",
    "TN_2D = total_neg_2D - FN_2D \n",
    "\n",
    "print(\"1D Model Metrics:\")\n",
    "print(\"Total # of clips classified as gunshots: \" + str(total_pos_2D))\n",
    "print(\"True Positives: \" + str(TP_2D))\n",
    "print(\"False Positives: \" + str(FP_2D))\n",
    "print(\"False Negatives: \" + str(FN_2D))\n",
    "print(\"True Negatives: \" + str(TN_2D))\n",
    "\n",
    "precision_2D = TP_2D / (TP_2D + FP_2D)\n",
    "recall_2D = TP_2D / (TP_2D + FN_2D)\n",
    "accuracy_2D = (TP_2D + TN_2D) / total\n",
    "print(\"Precision: \" + str(precision_2D))\n",
    "print(\"Recall: \" + str(recall_2D))\n",
    "print(\"Accuracy: \" + str(accuracy_2D))"
   ]
  }
 ],
 "metadata": {
  "kernelspec": {
   "display_name": "Python 3",
   "language": "python",
   "name": "python3"
  },
  "language_info": {
   "codemirror_mode": {
    "name": "ipython",
    "version": 3
   },
   "file_extension": ".py",
   "mimetype": "text/x-python",
   "name": "python",
   "nbconvert_exporter": "python",
   "pygments_lexer": "ipython3",
   "version": "3.7.3"
  }
 },
 "nbformat": 4,
 "nbformat_minor": 2
}
