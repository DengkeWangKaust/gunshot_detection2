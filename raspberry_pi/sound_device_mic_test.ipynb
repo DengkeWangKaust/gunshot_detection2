{
 "cells": [
  {
   "cell_type": "code",
   "execution_count": null,
   "metadata": {},
   "outputs": [],
   "source": [
    "# import sounddevice as sd\n",
    "# import librosa"
   ]
  },
  {
   "cell_type": "code",
   "execution_count": null,
   "metadata": {},
   "outputs": [],
   "source": [
    "# sd.default.device = 6\n",
    "# sd.default.samplerate = 44100\n",
    "# sd.default.channels = 1"
   ]
  },
  {
   "cell_type": "code",
   "execution_count": null,
   "metadata": {},
   "outputs": [],
   "source": [
    "# rec = sd.rec(int(2 * 44100), dtype=\"int16\", blocksize = 24000)\n",
    "# sd.wait()\n",
    "# librosa.output.write_wav(\"SoundDevice Output from Mic.wav\", rec, sr=44100)"
   ]
  },
  {
   "cell_type": "markdown",
   "metadata": {},
   "source": [
    "## New Attempt"
   ]
  },
  {
   "cell_type": "code",
   "execution_count": null,
   "metadata": {},
   "outputs": [],
   "source": [
    "import sys\n",
    "import time\n",
    "import queue\n",
    "\n",
    "import sounddevice as sd\n",
    "import soundfile as sf\n",
    "\n",
    "RECORD_TIME = 2\n",
    "\n",
    "q = queue.Queue()\n",
    "rec_start = int(time.time())\n",
    "\n",
    "sd.default.device = 7\n",
    "sd.default.samplerate = 44100\n",
    "sd.default.channels = 1\n",
    "\n",
    "def data_callback(input_data, frames, time, status):\n",
    "    if status:\n",
    "        print(status, file=sys.stderr)\n",
    "    q.put(input_data.copy())\n",
    "\n",
    "with sf.SoundFile('SoundDevice Output from Mic.wav', mode='x', samplerate=44100, channels=1) as file:\n",
    "    with sd.InputStream(callback=data_callback, blocksize=24000, dtype=\"int16\"):\n",
    "        rec_time = int(time.time()) - rec_start\n",
    "        \n",
    "        while rec_time <= RECORD_TIME:\n",
    "            data = q.get()\n",
    "            print(data)\n",
    "            file.write(data)\n",
    "            rec_time = int(time.time()) - rec_start"
   ]
  }
 ],
 "metadata": {
  "kernelspec": {
   "display_name": "model_inference",
   "language": "python",
   "name": "model_inference"
  },
  "language_info": {
   "codemirror_mode": {
    "name": "ipython",
    "version": 3
   },
   "file_extension": ".py",
   "mimetype": "text/x-python",
   "name": "python",
   "nbconvert_exporter": "python",
   "pygments_lexer": "ipython3",
   "version": "3.7.3"
  }
 },
 "nbformat": 4,
 "nbformat_minor": 2
}
