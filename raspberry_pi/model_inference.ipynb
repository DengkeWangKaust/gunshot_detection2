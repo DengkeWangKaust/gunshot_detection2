{
 "cells": [
  {
   "cell_type": "markdown",
   "metadata": {},
   "source": [
    "## Package Imports"
   ]
  },
  {
   "cell_type": "code",
   "execution_count": 1,
   "metadata": {
    "collapsed": false
   },
   "outputs": [
    {
     "name": "stderr",
     "output_type": "stream",
     "text": [
      "/usr/lib/python3.5/importlib/_bootstrap.py:222: RuntimeWarning: compiletime version 3.4 of module 'tensorflow.python.framework.fast_tensor_util' does not match runtime version 3.5\n",
      "  return f(*args, **kwds)\n",
      "/usr/lib/python3.5/importlib/_bootstrap.py:222: RuntimeWarning: builtins.type size changed, may indicate binary incompatibility. Expected 432, got 412\n",
      "  return f(*args, **kwds)\n"
     ]
    }
   ],
   "source": [
    "import pyaudio\n",
    "import wave\n",
    "import tensorflow as tf\n",
    "import numpy as np"
   ]
  },
  {
   "cell_type": "markdown",
   "metadata": {},
   "source": [
    "## Variable Initializations"
   ]
  },
  {
   "cell_type": "code",
   "execution_count": 2,
   "metadata": {
    "collapsed": true
   },
   "outputs": [],
   "source": [
    "audio_format = pyaudio.paFloat32\n",
    "audio_rate = 44100\n",
    "audio_channels = 1\n",
    "audio_device_index = 1\n",
    "audio_frames_per_buffer = 4096\n",
    "audio_sample_duration = 2"
   ]
  },
  {
   "cell_type": "markdown",
   "metadata": {},
   "source": [
    "## Processing Microphone Audio"
   ]
  },
  {
   "cell_type": "code",
   "execution_count": 3,
   "metadata": {
    "collapsed": false
   },
   "outputs": [
    {
     "name": "stdout",
     "output_type": "stream",
     "text": [
      "--- Recording Audio ---\n",
      "--- Finished Recording Audio ---\n"
     ]
    }
   ],
   "source": [
    "pa = pyaudio.PyAudio()\n",
    "    \n",
    "stream = pa.open(format = audio_format,\n",
    "                 rate = audio_rate,\n",
    "                 channels = audio_channels,\n",
    "                 input_device_index = audio_device_index,\n",
    "                 frames_per_buffer = audio_frames_per_buffer,\n",
    "                 input = True)\n",
    "\n",
    "print(\"--- Recording Audio ---\")\n",
    "np_array_data = []\n",
    "\n",
    "# Loops through the stream and appends audio chunks to the frame array\n",
    "for i in range(0, int((audio_rate / audio_frames_per_buffer) * audio_sample_duration)):\n",
    "    data = stream.read(audio_frames_per_buffer, exception_on_overflow = False)\n",
    "    np_array_data.append(np.frombuffer(data, dtype=np.float32))\n",
    "    \n",
    "microphone_data = np.concatenate(np_array_data)\n",
    "print(\"--- Finished Recording Audio ---\")\n",
    "\n",
    "# Stops the stream, closes it, and terminates the PyAudio instance\n",
    "stream.stop_stream()\n",
    "stream.close()\n",
    "pa.terminate()\n",
    "\n",
    "# Saves the audio frames as WAV files\n",
    "# wavefile = wave.open(\"mic_test\",'wb')\n",
    "# wavefile.setnchannels(audio_channels)\n",
    "# wavefile.setsampwidth(pa.get_sample_size(audio_format))\n",
    "# wavefile.setframerate(audio_rate)\n",
    "# wavefile.writeframes(b''.join(microphone_data))\n",
    "# wavefile.close()"
   ]
  },
  {
   "cell_type": "markdown",
   "metadata": {},
   "source": [
    "## Loading the Model"
   ]
  },
  {
   "cell_type": "code",
   "execution_count": null,
   "metadata": {
    "collapsed": false
   },
   "outputs": [],
   "source": [
    "interpreter = tf.lite.Interpreter(\"./models/converted_gunshot_sound_model.tflite\")\n",
    "interpreter.allocate_tensors()\n",
    "\n",
    "input_details = interpreter.get_input_details()\n",
    "output_details = interpreter.get_output_details()\n",
    "\n",
    "input_shape = input_details[0][\"shape\"]\n",
    "input_data = microphone_data\n",
    "interpreter.set_tensor(input_details[0][\"index\"], input_data)\n",
    "\n",
    "interpreter.invoke()\n",
    "\n",
    "output_data = interpreter.get_tensor(output_details[0][\"index\"])\n",
    "print(output_data)"
   ]
  }
 ],
 "metadata": {
  "kernelspec": {
   "display_name": "model_inference",
   "language": "python",
   "name": "model_inference"
  },
  "language_info": {
   "codemirror_mode": {
    "name": "ipython",
    "version": 3
   },
   "file_extension": ".py",
   "mimetype": "text/x-python",
   "name": "python",
   "nbconvert_exporter": "python",
   "pygments_lexer": "ipython3",
   "version": "3.5.3"
  }
 },
 "nbformat": 4,
 "nbformat_minor": 2
}
