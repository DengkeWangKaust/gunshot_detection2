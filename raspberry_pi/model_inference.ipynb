{
 "cells": [
  {
   "cell_type": "markdown",
   "metadata": {},
   "source": [
    "## Package Imports"
   ]
  },
  {
   "cell_type": "code",
   "execution_count": null,
   "metadata": {
    "collapsed": false
   },
   "outputs": [],
   "source": [
    "import keras\n",
    "import pyaudio"
   ]
  },
  {
   "cell_type": "markdown",
   "metadata": {},
   "source": [
    "## Variable Initializations"
   ]
  },
  {
   "cell_type": "code",
   "execution_count": null,
   "metadata": {
    "collapsed": true
   },
   "outputs": [],
   "source": [
    "audio_format = pyaudio.paInt16\n",
    "audio_channels = 1\n",
    "audio_rate = 44100\n",
    "audio_device_index = 1\n",
    "audio_input_block_time = 0.05\n",
    "audio_input_frames_per_block = int(audio_rate * audio_input_block_time)"
   ]
  },
  {
   "cell_type": "markdown",
   "metadata": {},
   "source": [
    "## Processing Microphone Audio"
   ]
  },
  {
   "cell_type": "code",
   "execution_count": null,
   "metadata": {
    "collapsed": false
   },
   "outputs": [],
   "source": [
    "pa = pyaudio.PyAudio()\n",
    "stream = pa.open(format = audio_format,\n",
    "                 channels = audio_channels,\n",
    "                 rate = audio_rate,\n",
    "                 input = True,\n",
    "                 input_device_index = audio_device_index,\n",
    "                 frames_per_buffer = audio_input_frames_per_block)\n",
    "\n",
    "while (True):\n",
    "    try:\n",
    "        block = stream.read(audio_input_frames_per_block)\n",
    "    except IOerror as e:\n",
    "        print(\"--- Error Trying to Process Microphone Audio ---\")"
   ]
  }
 ],
 "metadata": {
  "kernelspec": {
   "display_name": "model_inference",
   "language": "python",
   "name": "model_inference"
  },
  "language_info": {
   "codemirror_mode": {
    "name": "ipython",
    "version": 3
   },
   "file_extension": ".py",
   "mimetype": "text/x-python",
   "name": "python",
   "nbconvert_exporter": "python",
   "pygments_lexer": "ipython3",
   "version": "3.5.3"
  }
 },
 "nbformat": 4,
 "nbformat_minor": 2
}
