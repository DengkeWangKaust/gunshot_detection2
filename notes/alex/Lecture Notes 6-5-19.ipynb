{
 "cells": [
  {
   "cell_type": "code",
   "execution_count": null,
   "metadata": {},
   "outputs": [],
   "source": [
    "\"AutoML\": (Automated Machine Learning)\n",
    "    - Automate modeling process\n",
    "    - feature engines\n",
    "    - ensemble\n",
    "    - parameters tuned\n",
    "\n",
    "Auto Exploratory Data Analysis\n",
    "    - Before modeling phase\n",
    "    - Get a sense of the data\n",
    "    - Automatically create a report\n",
    "\n",
    "Automated Hypothesis Generation\n",
    "    - Analyze abstracts articles\n",
    "    - Create new hypotheses"
   ]
  },
  {
   "cell_type": "code",
   "execution_count": null,
   "metadata": {},
   "outputs": [],
   "source": [
    "Intro to Spatial Analysis\n",
    "-------------------------\n",
    "\n",
    "3 types of spatial (geographical) data:\n",
    "    1. Point pattern (dots on a map - \"marks\" vector attached to each point) - Discrete\n",
    "    2. Raster data (census blocks - discrete geometries in space) - Discrete\n",
    "    3. Continuous data (multivariable calculus over 3D space) - Continuous"
   ]
  },
  {
   "cell_type": "code",
   "execution_count": null,
   "metadata": {},
   "outputs": [],
   "source": [
    "1D Uniform Random Variable\n",
    "---------------------------\n",
    "\n",
    "    - Uniformly-distributed data points where each point is equally likely to assume one of the two possible probabilities.\n",
    "    - f(x) = 1 / (b - a)"
   ]
  },
  {
   "cell_type": "code",
   "execution_count": null,
   "metadata": {},
   "outputs": [],
   "source": [
    "Poisson Random Variable\n",
    "-------------------------\n",
    "\n",
    "    - Lose number of trials = n\n",
    "    - Small probability of \"success\" = p\n",
    "    - lambda = n * p\n",
    "    - P(x = i) = ( lambda^i * e ^ (-lambda) ) / (i!)"
   ]
  },
  {
   "cell_type": "code",
   "execution_count": null,
   "metadata": {},
   "outputs": [],
   "source": [
    "Poisson Process\n",
    "---------------\n",
    "\n",
    "- X(t) = number of events between time 0 and time t\n",
    "- Generate x with Pois(lambda) => number equals N\n",
    "- Distribute N events unit [0, T]"
   ]
  },
  {
   "cell_type": "code",
   "execution_count": null,
   "metadata": {},
   "outputs": [],
   "source": [
    "Poisson Point Process\n",
    "---------------------\n",
    "\n",
    "- Generate N events according to some Pois(lambda * | sizeOfSpace |)\n",
    "- Distribute N events randomly in S"
   ]
  },
  {
   "cell_type": "code",
   "execution_count": null,
   "metadata": {},
   "outputs": [],
   "source": [
    "Clustering?\n",
    "-----------\n",
    "\n",
    "- k(r) function = Extracted number of events / points around a randomly chosen point in a radius r\n",
    "- k(r) ~ c * Pi * r^2"
   ]
  },
  {
   "cell_type": "code",
   "execution_count": null,
   "metadata": {},
   "outputs": [],
   "source": [
    "Point pattern -> raster\n",
    "-----------------------\n",
    "\n",
    "Histogram\n",
    "---------\n",
    "        [2 * * , 0, 0]\n",
    "        [0,   0, 1 * ]\n",
    "        [* 1, * 1, 0 ]"
   ]
  },
  {
   "cell_type": "code",
   "execution_count": null,
   "metadata": {},
   "outputs": [],
   "source": [
    "Point pattern -> continuous\n",
    "----------------------------\n",
    "\n",
    "- (Xi, Yi)\n",
    "- Came from density f(x, y)\n",
    "- We want to estimate f^ (x, y)"
   ]
  },
  {
   "cell_type": "code",
   "execution_count": null,
   "metadata": {},
   "outputs": [],
   "source": [
    "Kernel density estimation\n",
    "-------------------------\n",
    "\n",
    "- f^ (x, y) = (1 / N) * Sigma from 1 -> N of ( k (X - Xi, Y - Yi, sigma ^ 2) )\n",
    "- k ~ N/o, sigma ^ 2"
   ]
  },
  {
   "cell_type": "code",
   "execution_count": null,
   "metadata": {},
   "outputs": [],
   "source": [
    "Spatial Regression\n",
    "------------------\n",
    "\n",
    "- Spatial units/polygons\n",
    "- Features described in each polygon\n",
    "- Target variable in polygon we want to predict\n",
    "- Need to deal with spatial correlation (to significantly increase accuracy)"
   ]
  },
  {
   "cell_type": "code",
   "execution_count": null,
   "metadata": {},
   "outputs": [],
   "source": [
    "Spatial Scan Statistics\n",
    "-----------------------\n",
    "\n",
    "- Disease outbreak\n",
    "\n",
    "[ (****) () () () ]\n",
    "[   () () () ()   ]\n",
    "[                 ]\n",
    "[                 ]"
   ]
  },
  {
   "cell_type": "code",
   "execution_count": null,
   "metadata": {},
   "outputs": [],
   "source": [
    "1. Kaggle Kernels\n",
    "2. Paper on EDA in R"
   ]
  },
  {
   "cell_type": "code",
   "execution_count": null,
   "metadata": {},
   "outputs": [],
   "source": [
    "For Today\n",
    "---------\n",
    "    - Start a Google Doc (shared)\n",
    "    - Everybody find a different spatial dataset\n",
    "    - Pick top 5 kernels\n",
    "    - Summarize what EDA/Questions they analyzed\n",
    "    - Add you own questions/EDA based on discussion this morning (\"clustering\" vs. Poisson, histogram/KDE, regression-related questions, etc.)\n",
    "    - Paper on EDA in R\n",
    "        => Run a few of these on your dataset => summary of this in shared Google Doc"
   ]
  }
 ],
 "metadata": {
  "kernelspec": {
   "display_name": "Python 3",
   "language": "python",
   "name": "python3"
  },
  "language_info": {
   "codemirror_mode": {
    "name": "ipython",
    "version": 3
   },
   "file_extension": ".py",
   "mimetype": "text/x-python",
   "name": "python",
   "nbconvert_exporter": "python",
   "pygments_lexer": "ipython3",
   "version": "3.7.3"
  }
 },
 "nbformat": 4,
 "nbformat_minor": 2
}
