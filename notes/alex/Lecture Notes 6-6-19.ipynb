{
 "cells": [
  {
   "cell_type": "code",
   "execution_count": null,
   "metadata": {},
   "outputs": [],
   "source": [
    "Graph Data\n",
    "__________\n",
    "\n",
    "- Large graphs are classified by having more than 10,000 vertices and more than 100,000 edges\n",
    "- Can be from social networks, scientific (protein-protein interaction) networks, or communication (road or internet router) networks"
   ]
  },
  {
   "cell_type": "code",
   "execution_count": null,
   "metadata": {},
   "outputs": [],
   "source": [
    "Problems in Graph Theory:\n",
    "------------------------\n",
    "\n",
    "Graph Clustering\n",
    "----------------\n",
    "\n",
    "Node Classification\n",
    "-------------------"
   ]
  },
  {
   "cell_type": "code",
   "execution_count": null,
   "metadata": {},
   "outputs": [],
   "source": [
    "The Link Prediction Problem\n",
    "---------------------------\n",
    "\n",
    "- Find the most likely pair of nodes which will form a link in the future\n",
    "\n",
    "The Community Delection Problem\n",
    "-------------------------------\n",
    "\n",
    "Graph Embedding\n",
    "---------------\n",
    "\n",
    "- Given a graph and a two-dimensional space, embed vertices by representing them as a vector in that space by using a specific loss function.\n",
    "- Sigma (from (u, v) in E) of (du - dv) ^ 2\n",
    "- \"word2vec\" was made by Google\n",
    "\n",
    "Clustering Co-efficient\n",
    "----------------------\n",
    "\n",
    "- From the sociological frame of thought\n",
    "- How many triangles formed by pairs divided by the number of pairs formed choose 2.\n",
    "\n",
    "Closeness Centrality\n",
    "--------------------\n",
    "\n",
    "Edge Embedding\n",
    "--------------\n",
    "- node-pair"
   ]
  },
  {
   "cell_type": "code",
   "execution_count": null,
   "metadata": {},
   "outputs": [],
   "source": [
    "Motivation\n",
    "----------\n",
    "\n",
    "- In all of the previous problems, the motivation is to represent the data as a series of vectors."
   ]
  },
  {
   "cell_type": "code",
   "execution_count": null,
   "metadata": {},
   "outputs": [],
   "source": [
    "K-Fold (3-Fold) Cross Validation\n",
    "--------------------------------\n",
    "\n",
    "(1 + 2) for train; (3 for test)\n",
    "(1 + 3) for train; (2 for test)\n",
    "(2 + 3) for train; (1 for test)"
   ]
  }
 ],
 "metadata": {
  "kernelspec": {
   "display_name": "Python 3",
   "language": "python",
   "name": "python3"
  },
  "language_info": {
   "codemirror_mode": {
    "name": "ipython",
    "version": 3
   },
   "file_extension": ".py",
   "mimetype": "text/x-python",
   "name": "python",
   "nbconvert_exporter": "python",
   "pygments_lexer": "ipython3",
   "version": "3.7.3"
  }
 },
 "nbformat": 4,
 "nbformat_minor": 2
}
