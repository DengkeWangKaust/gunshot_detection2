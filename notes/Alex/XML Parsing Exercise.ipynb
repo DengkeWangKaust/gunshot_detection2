{
 "cells": [
  {
   "cell_type": "code",
   "execution_count": 7,
   "metadata": {},
   "outputs": [],
   "source": [
    "import spacy\n",
    "from lxml import etree\n",
    "from collections import Counter"
   ]
  },
  {
   "cell_type": "code",
   "execution_count": 8,
   "metadata": {},
   "outputs": [],
   "source": [
    "# 1. <title> [We want the keywords in this content field] </title>\n",
    "parser = etree.XMLParser(dtd_validation=True)\n",
    "tree = etree.parse(\"/home/alexm/Datasets/dblp2.xml\", parser)\n",
    "root = tree.getroot()"
   ]
  },
  {
   "cell_type": "code",
   "execution_count": 11,
   "metadata": {},
   "outputs": [],
   "source": [
    "# 2. Make a list of all keywords\n",
    "title_keywords = []\n",
    "\n",
    "for title in root.findall(\"*/title\"):\n",
    "    \n",
    "    for keyword in title.text.split(' '):\n",
    "        if keyword not in [\"and\", \"or\", \"but\", \"for\", \"in\", \"on\", \"a\",\n",
    "                           \"of\", \"A\", \"The\", \"On\", \"to\", \"by\", \"Their\",\n",
    "                           \"from\", \"the\", \"with\", \"an\", \"as\", \"using\",\n",
    "                           \"der\", \"between\", \"An\"]:\n",
    "            title_keywords.append(keyword)\n",
    "\n",
    "# 3. Make a hashset with incrementing integer indices associated with each keyword\n",
    "keywords_dictionary = {i + 1: title_keywords[i] for i in range(len(title_keywords))}"
   ]
  },
  {
   "cell_type": "code",
   "execution_count": 12,
   "metadata": {},
   "outputs": [
    {
     "name": "stdout",
     "output_type": "stream",
     "text": [
      "Counter({'Parallel': 3, 'Sorting': 3, 'Problems': 2, 'Power': 2, 'systems': 2, 'Analysis': 2, 'Trees.': 2, 'Two': 2, '': 2, 'Systems.': 2, 'Integer': 1, 'Simulation': 1, 'Amongst': 1, 'CRCW': 1, 'Models.': 1, 'Pattern': 1, 'Matching': 1, 'Trees': 1, 'Nets.': 1, 'NP-complete': 1, 'Simplified': 1, 'Tree': 1, 'Schemas.': 1, 'Chain': 1, 'Rules': 1, 'Context': 1, 'Free': 1, 'Grammars.': 1, 'Schnelle': 1, 'Multiplikation': 1, 'von': 1, 'Polynomen': 1, 'über': 1, 'Körpern': 1, 'Charakteristik': 1, '2.': 1, 'characterization': 1, 'rational': 1, 'D0L': 1, 'power': 1, 'series.': 1, 'Derivation': 1, 'Systolic': 1, 'Implementations': 1, 'Programs.': 1, 'Fifo': 1, 'Nets': 1, 'Without': 1, 'Order': 1, 'Deadlock.': 1, 'Complementation': 1, 'Rule': 1, 'Multivalued': 1, 'Dependencies': 1, 'Database': 1, 'Relations.': 1, 'Equational': 1, 'weighted': 1, 'tree': 1, 'transformations.': 1, 'Merged': 1, 'processes:': 1, 'new': 1, 'condensed': 1, 'representation': 1, 'Petri': 1, 'net': 1, 'behaviour.': 1, 'Verifying': 1, 'simplification': 1, 'mutual': 1, 'exclusion': 1, 'Lycklama-Hadzilacos.': 1, 'Three-Stage': 1, 'Construction': 1, 'Multiconnection': 1, 'Networks.': 1, 'Expressive': 1, 'Delay': 1, 'Operators': 1, 'SCCS.': 1, 'Verification': 1, 'asynchronous': 1, 'unspecified': 1, 'component.': 1, 'Calculi': 1, 'Interaction.': 1, 'Synthesis': 1, 'Several': 1, 'Algorithms.': 1, 'Workload': 1, 'Model': 1, 'Representative': 1, 'Static': 1, 'Dynamic': 1, 'Characteristics.': 1, 'Gray': 1, 'visiting': 1, 'Motzkins.': 1, 'Trace-': 1, 'failure-based': 1, 'semantics': 1, 'responsiveness.': 1, 'Branching': 1, 'Processes': 1, 'Heights': 1, 'Least': 1, 'Upper': 1, 'Bound': 1, 'Cost': 1, 'Optimum': 1, 'Binary': 1, 'Search': 1, 'Mathematical': 1, 'Computer': 1, 'System': 1, 'Modeled': 1, 'Stage': 1, 'Cyclic': 1, 'Queue.': 1, 'Invariants,': 1, 'Composition,': 1, 'Substitution.': 1, 'Maximum': 1, 'Entropy': 1, 'Abstraction': 1, 'Performance': 1, 'Design': 1, 'Programs:': 1, 'Overview': 1, 'SAT': 1, 'Approach.': 1, 'theory': 1, 'structural': 1, 'stationarity': 1, 'Hex': 1, 'ist': 1, 'PSPACE-vollständig.': 1, 'Evolutionary': 1, 'Systems:': 1, 'Language': 1, 'Generating': 1, 'Device': 1, 'Inspired': 1, 'Evolving': 1, 'Communities': 1, 'Cells.': 1, 'Disjunctivity': 1, 'other': 1, 'properties': 1, 'sets': 1, 'pseudo-bordered': 1, 'words.': 1, 'Relational': 1, 'structures': 1, 'model': 1, 'concurrency.': 1, 'Equivalence': 1, 'Continuation': 1, 'Stack': 1, 'Semantics.': 1, 'Nonterminals': 1, 'Versus': 1, 'Homomorphisms': 1, 'Defining': 1, 'Languages': 1, 'Some': 1, 'Classes': 1, 'Rewriting': 1, 'Note': 1, 'Density': 1, 'Inherently': 1, 'Ambiguous': 1, 'Context-free': 1, 'Languages.': 1, 'Time': 1, 'Lower': 1, 'Bounds': 1, 'Mesh-Conected': 1, 'Processor': 1, 'Array.': 1, 'Computational': 1, 'Algorithms': 1, 'Networks': 1, 'Queues': 1, 'Rejection': 1, 'Blocking.': 1, 'Compositional': 1, 'Refinements': 1, 'Multiple': 1, 'Blackboard': 1, 'Special': 1, 'issue': 1, '\"Combining': 1, 'Compositionality': 1, 'Concurrency\":': 1, 'part': 1, '1.': 1, 'Automatic': 1, 'verification': 1, 'concurrent': 1, 'formula-based': 1, 'compositional': 1, 'approach.': 1, 'Removing': 1, 'Machine': 1, 'Language.': 1, 'Complete': 1, 'Space': 1, 'Bounded': 1, 'Subclasses': 1, 'NP.': 1, 'Efficient': 1, 'controller': 1, 'synthesis': 1, 'fragment': 1, 'MTL': 1, 'Notions': 1, 'Correctness': 1, 'Relation': 1, 'Testing.': 1})\n"
     ]
    }
   ],
   "source": [
    "# 4. Create a list of the degrees of each keyword divided by its frequency\n",
    "keyword_frequencies = Counter(title_keywords)\n",
    "\n",
    "print(keyword_frequencies)"
   ]
  }
 ],
 "metadata": {
  "kernelspec": {
   "display_name": "Python 3",
   "language": "python",
   "name": "python3"
  },
  "language_info": {
   "codemirror_mode": {
    "name": "ipython",
    "version": 3
   },
   "file_extension": ".py",
   "mimetype": "text/x-python",
   "name": "python",
   "nbconvert_exporter": "python",
   "pygments_lexer": "ipython3",
   "version": "3.7.3"
  }
 },
 "nbformat": 4,
 "nbformat_minor": 2
}
