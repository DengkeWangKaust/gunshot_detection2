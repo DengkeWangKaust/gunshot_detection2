{
 "cells": [
  {
   "cell_type": "code",
   "execution_count": 1,
   "metadata": {},
   "outputs": [
    {
     "name": "stderr",
     "output_type": "stream",
     "text": [
      "Using TensorFlow backend.\n"
     ]
    }
   ],
   "source": [
    "%matplotlib inline\n",
    "import numpy as np\n",
    "import matplotlib.pyplot as plt\n",
    "\n",
    "import librosa\n",
    "import os\n",
    "import glob\n",
    "import numpy as np\n",
    "import sklearn\n",
    "from keras.models import Sequential\n",
    "from keras.layers import Dense, Dropout, Activation, Flatten\n",
    "from keras.layers import Conv1D, MaxPooling1D\n",
    "from keras.utils import np_utils\n",
    "from keras import optimizers"
   ]
  },
  {
   "cell_type": "code",
   "execution_count": 5,
   "metadata": {},
   "outputs": [
    {
     "name": "stdout",
     "output_type": "stream",
     "text": [
      "[0. 0. 0. ... 0. 0. 0.]\n",
      "[-1.7242247e-04 -2.2673715e-04 -1.7907241e-04 ...  1.9452986e-05\n",
      "  2.3644574e-05  0.0000000e+00]\n",
      "[ 0.00639941 -0.00803491  0.01059294 ...  0.00013107  0.00021444\n",
      "  0.        ]\n",
      "[0.00255712 0.00383692 0.00292432 ... 0.         0.         0.        ]\n",
      "[-4.2938183e-05 -1.1663888e-04 -1.3880288e-04 ... -4.7966841e-04\n",
      " -4.5381891e-04 -4.8970233e-04]\n",
      "[-1.1114657e-05 -1.6231717e-05 -1.5209395e-05 ... -7.1362874e-06\n",
      " -8.5958254e-06  0.0000000e+00]\n",
      "[-2.3058593e-02 -6.5194353e-02  8.5631050e-02 ... -1.5320746e-05\n",
      "  5.8599303e-06  0.0000000e+00]\n",
      "[-0.0688955  -0.06834549 -0.0140107  ...  0.          0.\n",
      "  0.        ]\n",
      "[-2.9782531e-01 -4.8585540e-01 -4.0610278e-01 ... -1.2424431e-05\n",
      "  1.6850068e-05  0.0000000e+00]\n",
      "[-0.73689854 -1.0800318  -0.9519966  ... -1.0097102  -0.9775502\n",
      " -1.0539925 ]\n",
      "[-0.00033946 -0.0001705   0.00014908 ...  0.00087216  0.0006108\n",
      "  0.        ]\n",
      "[0.0026418  0.01129374 0.0194991  ... 0.00040548 0.00025034 0.        ]\n",
      "[-9.9921290e-06 -6.8405566e-06 -7.1044036e-07 ...  1.5594744e-05\n",
      "  1.9040702e-06  0.0000000e+00]\n",
      "[-7.4765454e-12  1.1764319e-11 -1.5510608e-11 ... -2.4346402e-06\n",
      " -4.5303964e-06  0.0000000e+00]\n",
      "[0. 0. 0. ... 0. 0. 0.]\n",
      "[-4.06308705e-03  6.25409232e-03 -1.72075559e-03 ... -1.51579725e-05\n",
      " -1.55923844e-05  0.00000000e+00]\n",
      "[ 8.9057878e-08 -6.7387873e-08  2.4926607e-08 ...  1.4918756e-04\n",
      "  1.4996337e-04  1.6022535e-04]\n",
      "[-1.4751992e-02 -2.2581972e-02 -2.9493513e-02 ...  7.7725235e-06\n",
      " -7.6942370e-06  0.0000000e+00]\n",
      "[-0.73689854 -1.0800318  -0.9519966  ... -1.0097102  -0.9775502\n",
      " -1.0539925 ]\n",
      "[-3.5094933e-04 -4.8361483e-04 -3.5096472e-04 ...  3.1390784e-06\n",
      " -2.1587712e-06  0.0000000e+00]\n",
      "[ 1.9383357e-01  8.9680308e-01  1.0411801e+00 ...  2.4190782e-05\n",
      " -3.1149154e-06  0.0000000e+00]\n",
      "[0.11842647 0.8257401  1.023412   ... 0.         0.         0.        ]\n",
      "[-2.2166956e-05 -3.3406955e-05 -2.8437764e-05 ... -2.0465914e-05\n",
      " -4.7399508e-06  1.6282587e-06]\n",
      "[-0.00048743 -0.00070547 -0.00077679 ... -0.01530155 -0.02049681\n",
      "  0.        ]\n",
      "[0.11702173 0.82569194 1.0199925  ... 0.         0.         0.        ]\n",
      "[1.9203295e-01 8.9553308e-01 1.0416111e+00 ... 6.7410467e-05 3.9119481e-05\n",
      " 0.0000000e+00]\n",
      "[3.3495888e-02 3.2549217e-01 4.6235272e-01 ... 6.7410467e-05 3.9119481e-05\n",
      " 0.0000000e+00]\n",
      "[ 0.0000000e+00  0.0000000e+00  0.0000000e+00 ...  4.5496545e-06\n",
      " -4.0038274e-05  4.3274187e-05]\n",
      "[-5.1911627e-07  5.7353367e-07 -6.2308811e-07 ... -4.5799556e-08\n",
      "  4.3485567e-08  0.0000000e+00]\n",
      "[ 0.03142346 -0.04065792  0.20064579 ...  0.00148131  0.00207777\n",
      "  0.        ]\n",
      "[-2.8060149e-05 -1.0936222e-04 -3.9163155e-05 ... -6.0683371e-05\n",
      " -6.2901854e-05 -8.4725667e-05]\n",
      "[ 2.7502448e-10 -3.1109790e-10  3.2363806e-10 ...  1.1472329e-06\n",
      " -9.0824267e-07  0.0000000e+00]\n",
      "[ 0.0000000e+00  0.0000000e+00  0.0000000e+00 ... -2.8953220e-05\n",
      " -3.3331133e-05  0.0000000e+00]\n",
      "[-0.00027392 -0.00149327 -0.00097253 ... -0.0020684  -0.00222679\n",
      " -0.00049701]\n",
      "[-6.09617473e-06 -4.69434963e-05 -6.54043179e-05 ... -1.86867066e-04\n",
      " -1.19555174e-04  0.00000000e+00]\n",
      "[1.9375299e-01 8.9692414e-01 1.0410249e+00 ... 6.7410467e-05 3.9119481e-05\n",
      " 0.0000000e+00]\n",
      "[-0.00028621  0.00016041 -0.00050894 ...  0.00011407  0.00018525\n",
      "  0.        ]\n",
      "[-4.6584892e-06 -1.5779453e-05 -1.5275309e-05 ... -1.5936520e-08\n",
      "  1.2721266e-08  0.0000000e+00]\n",
      "[ 1.1049886e-04  2.1316916e-04  1.7270024e-04 ... -4.9984906e-06\n",
      "  2.0067152e-07  0.0000000e+00]\n",
      "[ 1.6961716e-08 -1.8790940e-08  2.0109416e-08 ...  1.6071148e-09\n",
      " -1.5990632e-09  1.4799146e-09]\n",
      "[ 0.0000000e+00  0.0000000e+00  0.0000000e+00 ...  1.2636205e-07\n",
      " -1.0291536e-07  8.1019685e-08]\n",
      "[-0.03386056  0.01902092 -0.02502222 ... -0.00051238 -0.00064714\n",
      " -0.00074658]\n",
      "[-0.00166323  0.00183553 -0.00107629 ...  0.          0.\n",
      "  0.        ]\n",
      "[-1.0937315e-06  1.4120499e-06 -2.0062328e-06 ... -3.5569663e-08\n",
      "  2.0935538e-08  0.0000000e+00]\n",
      "[-0.00032163 -0.00047742 -0.0003863  ... -0.00052781 -0.00054865\n",
      "  0.        ]\n",
      "[0. 0. 0. ... 0. 0. 0.]\n",
      "[ 3.3109234e-07 -5.7554905e-07 -1.1934997e-05 ... -1.6488228e-08\n",
      "  1.4014721e-08  0.0000000e+00]\n",
      "[0. 0. 0. ... 0. 0. 0.]\n",
      "[-9.6691338e-07 -1.1099430e-06 -6.1473602e-06 ...  4.3491932e-06\n",
      "  1.0868268e-05  0.0000000e+00]\n",
      "[0. 0. 0. ... 0. 0. 0.]\n",
      "[-0.0001384  -0.00024133 -0.00020336 ... -0.00023044 -0.00023345\n",
      "  0.        ]\n",
      "[-9.3510811e-04 -1.4615579e-02 -2.4264973e-02 ...  5.0448438e-05\n",
      "  3.1346062e-05  0.0000000e+00]\n",
      "[-1.4783211e-05  1.3927631e-04  3.9493584e-04 ...  0.0000000e+00\n",
      "  0.0000000e+00  0.0000000e+00]\n",
      "[-1.5718250e-04  4.3383054e-04 -6.1216223e-04 ...  5.0448438e-05\n",
      "  3.1346062e-05  0.0000000e+00]\n",
      "[-4.7791735e-03 -1.9341964e-02 -2.5342463e-02 ... -1.1808937e-06\n",
      "  2.8610370e-06 -2.4821720e-05]\n"
     ]
    },
    {
     "ename": "KeyboardInterrupt",
     "evalue": "",
     "output_type": "error",
     "traceback": [
      "\u001b[0;31m---------------------------------------------------------------------------\u001b[0m",
      "\u001b[0;31mKeyboardInterrupt\u001b[0m                         Traceback (most recent call last)",
      "\u001b[0;32m<ipython-input-5-72511449f132>\u001b[0m in \u001b[0;36m<module>\u001b[0;34m\u001b[0m\n\u001b[1;32m      9\u001b[0m \u001b[0;32mfor\u001b[0m \u001b[0mfile\u001b[0m \u001b[0;32min\u001b[0m \u001b[0mos\u001b[0m\u001b[0;34m.\u001b[0m\u001b[0mlistdir\u001b[0m\u001b[0;34m(\u001b[0m\u001b[0mgunshot_sound_dir\u001b[0m\u001b[0;34m)\u001b[0m\u001b[0;34m:\u001b[0m\u001b[0;34m\u001b[0m\u001b[0;34m\u001b[0m\u001b[0m\n\u001b[1;32m     10\u001b[0m     \u001b[0;32mif\u001b[0m \u001b[0mfile\u001b[0m\u001b[0;34m.\u001b[0m\u001b[0mendswith\u001b[0m\u001b[0;34m(\u001b[0m\u001b[0;34m\".wav\"\u001b[0m\u001b[0;34m)\u001b[0m\u001b[0;34m:\u001b[0m\u001b[0;34m\u001b[0m\u001b[0;34m\u001b[0m\u001b[0m\n\u001b[0;32m---> 11\u001b[0;31m         \u001b[0my\u001b[0m\u001b[0;34m,\u001b[0m \u001b[0msr\u001b[0m \u001b[0;34m=\u001b[0m \u001b[0mlibrosa\u001b[0m\u001b[0;34m.\u001b[0m\u001b[0mload\u001b[0m\u001b[0;34m(\u001b[0m\u001b[0mgunshot_sound_dir\u001b[0m \u001b[0;34m+\u001b[0m \u001b[0mfile\u001b[0m\u001b[0;34m)\u001b[0m\u001b[0;34m\u001b[0m\u001b[0;34m\u001b[0m\u001b[0m\n\u001b[0m\u001b[1;32m     12\u001b[0m         \u001b[0mprint\u001b[0m\u001b[0;34m(\u001b[0m\u001b[0my\u001b[0m\u001b[0;34m)\u001b[0m\u001b[0;34m\u001b[0m\u001b[0;34m\u001b[0m\u001b[0m\n\u001b[1;32m     13\u001b[0m         \u001b[0mgunshot_sound_data\u001b[0m\u001b[0;34m.\u001b[0m\u001b[0mappend\u001b[0m\u001b[0;34m(\u001b[0m\u001b[0my\u001b[0m\u001b[0;34m)\u001b[0m\u001b[0;34m\u001b[0m\u001b[0;34m\u001b[0m\u001b[0m\n",
      "\u001b[0;32m/usr/lib/python3.7/site-packages/librosa/core/audio.py\u001b[0m in \u001b[0;36mload\u001b[0;34m(path, sr, mono, offset, duration, dtype, res_type)\u001b[0m\n\u001b[1;32m    165\u001b[0m \u001b[0;34m\u001b[0m\u001b[0m\n\u001b[1;32m    166\u001b[0m         \u001b[0;32mif\u001b[0m \u001b[0msr\u001b[0m \u001b[0;32mis\u001b[0m \u001b[0;32mnot\u001b[0m \u001b[0;32mNone\u001b[0m\u001b[0;34m:\u001b[0m\u001b[0;34m\u001b[0m\u001b[0;34m\u001b[0m\u001b[0m\n\u001b[0;32m--> 167\u001b[0;31m             \u001b[0my\u001b[0m \u001b[0;34m=\u001b[0m \u001b[0mresample\u001b[0m\u001b[0;34m(\u001b[0m\u001b[0my\u001b[0m\u001b[0;34m,\u001b[0m \u001b[0msr_native\u001b[0m\u001b[0;34m,\u001b[0m \u001b[0msr\u001b[0m\u001b[0;34m,\u001b[0m \u001b[0mres_type\u001b[0m\u001b[0;34m=\u001b[0m\u001b[0mres_type\u001b[0m\u001b[0;34m)\u001b[0m\u001b[0;34m\u001b[0m\u001b[0;34m\u001b[0m\u001b[0m\n\u001b[0m\u001b[1;32m    168\u001b[0m \u001b[0;34m\u001b[0m\u001b[0m\n\u001b[1;32m    169\u001b[0m         \u001b[0;32melse\u001b[0m\u001b[0;34m:\u001b[0m\u001b[0;34m\u001b[0m\u001b[0;34m\u001b[0m\u001b[0m\n",
      "\u001b[0;32m/usr/lib/python3.7/site-packages/librosa/core/audio.py\u001b[0m in \u001b[0;36mresample\u001b[0;34m(y, orig_sr, target_sr, res_type, fix, scale, **kwargs)\u001b[0m\n\u001b[1;32m    291\u001b[0m         \u001b[0my_hat\u001b[0m \u001b[0;34m=\u001b[0m \u001b[0mscipy\u001b[0m\u001b[0;34m.\u001b[0m\u001b[0msignal\u001b[0m\u001b[0;34m.\u001b[0m\u001b[0mresample\u001b[0m\u001b[0;34m(\u001b[0m\u001b[0my\u001b[0m\u001b[0;34m,\u001b[0m \u001b[0mn_samples\u001b[0m\u001b[0;34m,\u001b[0m \u001b[0maxis\u001b[0m\u001b[0;34m=\u001b[0m\u001b[0;34m-\u001b[0m\u001b[0;36m1\u001b[0m\u001b[0;34m)\u001b[0m\u001b[0;34m\u001b[0m\u001b[0;34m\u001b[0m\u001b[0m\n\u001b[1;32m    292\u001b[0m     \u001b[0;32melse\u001b[0m\u001b[0;34m:\u001b[0m\u001b[0;34m\u001b[0m\u001b[0;34m\u001b[0m\u001b[0m\n\u001b[0;32m--> 293\u001b[0;31m         \u001b[0my_hat\u001b[0m \u001b[0;34m=\u001b[0m \u001b[0mresampy\u001b[0m\u001b[0;34m.\u001b[0m\u001b[0mresample\u001b[0m\u001b[0;34m(\u001b[0m\u001b[0my\u001b[0m\u001b[0;34m,\u001b[0m \u001b[0morig_sr\u001b[0m\u001b[0;34m,\u001b[0m \u001b[0mtarget_sr\u001b[0m\u001b[0;34m,\u001b[0m \u001b[0mfilter\u001b[0m\u001b[0;34m=\u001b[0m\u001b[0mres_type\u001b[0m\u001b[0;34m,\u001b[0m \u001b[0maxis\u001b[0m\u001b[0;34m=\u001b[0m\u001b[0;34m-\u001b[0m\u001b[0;36m1\u001b[0m\u001b[0;34m)\u001b[0m\u001b[0;34m\u001b[0m\u001b[0;34m\u001b[0m\u001b[0m\n\u001b[0m\u001b[1;32m    294\u001b[0m \u001b[0;34m\u001b[0m\u001b[0m\n\u001b[1;32m    295\u001b[0m     \u001b[0;32mif\u001b[0m \u001b[0mfix\u001b[0m\u001b[0;34m:\u001b[0m\u001b[0;34m\u001b[0m\u001b[0;34m\u001b[0m\u001b[0m\n",
      "\u001b[0;32m/usr/lib/python3.7/site-packages/resampy/core.py\u001b[0m in \u001b[0;36mresample\u001b[0;34m(x, sr_orig, sr_new, axis, filter, **kwargs)\u001b[0m\n\u001b[1;32m    111\u001b[0m     \u001b[0mx_2d\u001b[0m \u001b[0;34m=\u001b[0m \u001b[0mx\u001b[0m\u001b[0;34m.\u001b[0m\u001b[0mswapaxes\u001b[0m\u001b[0;34m(\u001b[0m\u001b[0;36m0\u001b[0m\u001b[0;34m,\u001b[0m \u001b[0maxis\u001b[0m\u001b[0;34m)\u001b[0m\u001b[0;34m.\u001b[0m\u001b[0mreshape\u001b[0m\u001b[0;34m(\u001b[0m\u001b[0;34m(\u001b[0m\u001b[0mx\u001b[0m\u001b[0;34m.\u001b[0m\u001b[0mshape\u001b[0m\u001b[0;34m[\u001b[0m\u001b[0maxis\u001b[0m\u001b[0;34m]\u001b[0m\u001b[0;34m,\u001b[0m \u001b[0;34m-\u001b[0m\u001b[0;36m1\u001b[0m\u001b[0;34m)\u001b[0m\u001b[0;34m)\u001b[0m\u001b[0;34m\u001b[0m\u001b[0;34m\u001b[0m\u001b[0m\n\u001b[1;32m    112\u001b[0m     \u001b[0my_2d\u001b[0m \u001b[0;34m=\u001b[0m \u001b[0my\u001b[0m\u001b[0;34m.\u001b[0m\u001b[0mswapaxes\u001b[0m\u001b[0;34m(\u001b[0m\u001b[0;36m0\u001b[0m\u001b[0;34m,\u001b[0m \u001b[0maxis\u001b[0m\u001b[0;34m)\u001b[0m\u001b[0;34m.\u001b[0m\u001b[0mreshape\u001b[0m\u001b[0;34m(\u001b[0m\u001b[0;34m(\u001b[0m\u001b[0my\u001b[0m\u001b[0;34m.\u001b[0m\u001b[0mshape\u001b[0m\u001b[0;34m[\u001b[0m\u001b[0maxis\u001b[0m\u001b[0;34m]\u001b[0m\u001b[0;34m,\u001b[0m \u001b[0;34m-\u001b[0m\u001b[0;36m1\u001b[0m\u001b[0;34m)\u001b[0m\u001b[0;34m)\u001b[0m\u001b[0;34m\u001b[0m\u001b[0;34m\u001b[0m\u001b[0m\n\u001b[0;32m--> 113\u001b[0;31m     \u001b[0mresample_f\u001b[0m\u001b[0;34m(\u001b[0m\u001b[0mx_2d\u001b[0m\u001b[0;34m,\u001b[0m \u001b[0my_2d\u001b[0m\u001b[0;34m,\u001b[0m \u001b[0msample_ratio\u001b[0m\u001b[0;34m,\u001b[0m \u001b[0minterp_win\u001b[0m\u001b[0;34m,\u001b[0m \u001b[0minterp_delta\u001b[0m\u001b[0;34m,\u001b[0m \u001b[0mprecision\u001b[0m\u001b[0;34m)\u001b[0m\u001b[0;34m\u001b[0m\u001b[0;34m\u001b[0m\u001b[0m\n\u001b[0m\u001b[1;32m    114\u001b[0m \u001b[0;34m\u001b[0m\u001b[0m\n\u001b[1;32m    115\u001b[0m     \u001b[0;32mreturn\u001b[0m \u001b[0my\u001b[0m\u001b[0;34m\u001b[0m\u001b[0;34m\u001b[0m\u001b[0m\n",
      "\u001b[0;31mKeyboardInterrupt\u001b[0m: "
     ]
    }
   ],
   "source": [
    "# import gunshot/glassbreak data and visualize first image\n",
    "gunshot_sound_data = []\n",
    "glassbreak_sound_data = []\n",
    "sound_labels = []\n",
    "sampling_rate_per_second = 22050\n",
    "\n",
    "gunshot_sound_dir = \"/home/alexm/Datasets/gunshot_data/gunshot/\"\n",
    "\n",
    "for file in os.listdir(gunshot_sound_dir):\n",
    "    if file.endswith(\".wav\"):\n",
    "        y, sr = librosa.load(gunshot_sound_dir + file)\n",
    "        print(y)\n",
    "        gunshot_sound_data.append(y)\n",
    "        sound_labels.append(1)\n",
    "\n",
    "glassbreak_sound_dir = \"/home/alexm/Datasets/gunshot_data/glassbreak/\"        \n",
    "\n",
    "for file in os.listdir(glassbreak_sound_dir):\n",
    "    if file.endswith(\".wav\"):\n",
    "        y, sr = librosa.load(glassbreak_sound_dir + file)\n",
    "        glassbreak_sound_data.append(y)\n",
    "        sound_labels.append(0)"
   ]
  },
  {
   "cell_type": "code",
   "execution_count": 3,
   "metadata": {},
   "outputs": [],
   "source": [
    "# combine, reshape, & split data\n",
    "combined_sound_data = gunshot_sound_data + glassbreak_sound_data\n",
    "combined_sound_data_reshaped = np.zeros((126, sampling_rate_per_second))\n",
    "\n",
    "for i in range(len(combined_sound_data)):\n",
    "    if len(combined_sound_data[i]) < sampling_rate_per_second:\n",
    "        number_of_missing_hertz = sampling_rate_per_second - len(combined_sound_data[i])\n",
    "        padded_sound_data = combined_sound_data[i].tolist() + [0 for i in range(number_of_missing_hertz)]\n",
    "        combined_sound_data_reshaped[i] = padded_sound_data\n",
    "    else:\n",
    "        combined_sound_data_reshaped[i] = combined_sound_data[i]      \n",
    "\n",
    "X_train, X_test, y_train, y_test = sklearn.model_selection.train_test_split(combined_sound_data_reshaped, sound_labels)"
   ]
  },
  {
   "cell_type": "code",
   "execution_count": 4,
   "metadata": {},
   "outputs": [],
   "source": [
    "# reshape data\n",
    "X_train = X_train.reshape(-1, sampling_rate_per_second, 1)\n",
    "X_test = X_test.reshape(-1, sampling_rate_per_second, 1)\n",
    "\n",
    "# make output a 2 dim vector indicating class\n",
    "Y_train = np_utils.to_categorical(y_train, 2)\n",
    "Y_test = np_utils.to_categorical(y_test, 2)"
   ]
  },
  {
   "cell_type": "code",
   "execution_count": 5,
   "metadata": {},
   "outputs": [
    {
     "name": "stdout",
     "output_type": "stream",
     "text": [
      "WARNING:tensorflow:From /usr/lib/python3.7/site-packages/tensorflow/python/framework/op_def_library.py:263: colocate_with (from tensorflow.python.framework.ops) is deprecated and will be removed in a future version.\n",
      "Instructions for updating:\n",
      "Colocations handled automatically by placer.\n",
      "WARNING:tensorflow:From /usr/lib/python3.7/site-packages/keras/backend/tensorflow_backend.py:3445: calling dropout (from tensorflow.python.ops.nn_ops) with keep_prob is deprecated and will be removed in a future version.\n",
      "Instructions for updating:\n",
      "Please use `rate` instead of `keep_prob`. Rate should be set to `rate = 1 - keep_prob`.\n"
     ]
    }
   ],
   "source": [
    "# create convolution neural network\n",
    "model = Sequential()\n",
    "\n",
    "# Kernels here are the filters. They need to scale with the sound data.\n",
    "model.add(Conv1D(32, kernel_size=9,\n",
    "                 activation='relu',\n",
    "                 input_shape=(22050, 1)))\n",
    "\n",
    "# Downsampling sound data.\n",
    "model.add(MaxPooling1D(pool_size=4))\n",
    "\n",
    "# Dropouts prevents overfitting.\n",
    "model.add(Dropout(0.25))\n",
    "\n",
    "# Another layer.\n",
    "model.add(Conv1D(64, kernel_size=9,\n",
    "                 activation='relu'))\n",
    "model.add(MaxPooling1D(pool_size=4))\n",
    "model.add(Dropout(0.25))\n",
    "\n",
    "# Flatten transforms the convolution data into data a dense layer can receive.\n",
    "model.add(Flatten())\n",
    "\n",
    "# Dense means making a feed-forward NN from a 500 node graph.\n",
    "model.add(Dense(256, activation='relu'))\n",
    "model.add(Dropout(0.5))\n",
    "model.add(Dense(2, activation='softmax'))"
   ]
  },
  {
   "cell_type": "code",
   "execution_count": 6,
   "metadata": {
    "scrolled": true
   },
   "outputs": [
    {
     "name": "stdout",
     "output_type": "stream",
     "text": [
      "_________________________________________________________________\n",
      "Layer (type)                 Output Shape              Param #   \n",
      "=================================================================\n",
      "conv1d_1 (Conv1D)            (None, 22042, 32)         320       \n",
      "_________________________________________________________________\n",
      "max_pooling1d_1 (MaxPooling1 (None, 5510, 32)          0         \n",
      "_________________________________________________________________\n",
      "dropout_1 (Dropout)          (None, 5510, 32)          0         \n",
      "_________________________________________________________________\n",
      "conv1d_2 (Conv1D)            (None, 5502, 64)          18496     \n",
      "_________________________________________________________________\n",
      "max_pooling1d_2 (MaxPooling1 (None, 1375, 64)          0         \n",
      "_________________________________________________________________\n",
      "dropout_2 (Dropout)          (None, 1375, 64)          0         \n",
      "_________________________________________________________________\n",
      "flatten_1 (Flatten)          (None, 88000)             0         \n",
      "_________________________________________________________________\n",
      "dense_1 (Dense)              (None, 256)               22528256  \n",
      "_________________________________________________________________\n",
      "dropout_3 (Dropout)          (None, 256)               0         \n",
      "_________________________________________________________________\n",
      "dense_2 (Dense)              (None, 2)                 514       \n",
      "=================================================================\n",
      "Total params: 22,547,586\n",
      "Trainable params: 22,547,586\n",
      "Non-trainable params: 0\n",
      "_________________________________________________________________\n"
     ]
    }
   ],
   "source": [
    "# compile model\n",
    "sgd=optimizers.SGD(lr=.01) \n",
    "model.compile(loss='categorical_crossentropy',\n",
    "              optimizer=sgd,\n",
    "              metrics=['accuracy'])\n",
    "model.summary()"
   ]
  },
  {
   "cell_type": "code",
   "execution_count": 7,
   "metadata": {
    "scrolled": true
   },
   "outputs": [
    {
     "name": "stdout",
     "output_type": "stream",
     "text": [
      "WARNING:tensorflow:From /usr/lib/python3.7/site-packages/tensorflow/python/ops/math_ops.py:3066: to_int32 (from tensorflow.python.ops.math_ops) is deprecated and will be removed in a future version.\n",
      "Instructions for updating:\n",
      "Use tf.cast instead.\n",
      "Train on 94 samples, validate on 32 samples\n",
      "Epoch 1/10\n",
      "94/94 [==============================] - 2s 24ms/step - loss: 0.6956 - acc: 0.4255 - val_loss: 0.6767 - val_acc: 0.5312\n",
      "Epoch 2/10\n",
      "94/94 [==============================] - 1s 15ms/step - loss: 0.6870 - acc: 0.5426 - val_loss: 0.6720 - val_acc: 0.5312\n",
      "Epoch 3/10\n",
      "94/94 [==============================] - 1s 14ms/step - loss: 0.6817 - acc: 0.5213 - val_loss: 0.6687 - val_acc: 0.6250\n",
      "Epoch 4/10\n",
      "94/94 [==============================] - 1s 14ms/step - loss: 0.6792 - acc: 0.5213 - val_loss: 0.6640 - val_acc: 0.6562\n",
      "Epoch 5/10\n",
      "94/94 [==============================] - 1s 14ms/step - loss: 0.6668 - acc: 0.5319 - val_loss: 0.6599 - val_acc: 0.6875\n",
      "Epoch 6/10\n",
      "94/94 [==============================] - 1s 14ms/step - loss: 0.6614 - acc: 0.5851 - val_loss: 0.6566 - val_acc: 0.6562\n",
      "Epoch 7/10\n",
      "94/94 [==============================] - 1s 14ms/step - loss: 0.6610 - acc: 0.5638 - val_loss: 0.6552 - val_acc: 0.6562\n",
      "Epoch 8/10\n",
      "94/94 [==============================] - 1s 14ms/step - loss: 0.6571 - acc: 0.5957 - val_loss: 0.6522 - val_acc: 0.6875\n",
      "Epoch 9/10\n",
      "94/94 [==============================] - 1s 15ms/step - loss: 0.6479 - acc: 0.6489 - val_loss: 0.6495 - val_acc: 0.6875\n",
      "Epoch 10/10\n",
      "94/94 [==============================] - 1s 15ms/step - loss: 0.6458 - acc: 0.6383 - val_loss: 0.6474 - val_acc: 0.6562\n"
     ]
    },
    {
     "data": {
      "text/plain": [
       "<keras.callbacks.History at 0x7fac8009d630>"
      ]
     },
     "execution_count": 7,
     "metadata": {},
     "output_type": "execute_result"
    }
   ],
   "source": [
    "model.fit(X_train, Y_train,\n",
    "          batch_size=500, epochs=10,verbose=1,\n",
    "          validation_data=(X_test, Y_test))"
   ]
  },
  {
   "cell_type": "code",
   "execution_count": null,
   "metadata": {},
   "outputs": [],
   "source": []
  },
  {
   "cell_type": "code",
   "execution_count": null,
   "metadata": {},
   "outputs": [],
   "source": []
  }
 ],
 "metadata": {
  "kernelspec": {
   "display_name": "Python 3",
   "language": "python",
   "name": "python3"
  },
  "language_info": {
   "codemirror_mode": {
    "name": "ipython",
    "version": 3
   },
   "file_extension": ".py",
   "mimetype": "text/x-python",
   "name": "python",
   "nbconvert_exporter": "python",
   "pygments_lexer": "ipython3",
   "version": "3.7.3"
  }
 },
 "nbformat": 4,
 "nbformat_minor": 2
}
