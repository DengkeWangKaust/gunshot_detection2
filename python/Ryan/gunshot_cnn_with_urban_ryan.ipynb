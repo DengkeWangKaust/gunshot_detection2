{
 "cells": [
  {
   "cell_type": "code",
   "execution_count": 1,
   "metadata": {},
   "outputs": [
    {
     "name": "stderr",
     "output_type": "stream",
     "text": [
      "Using TensorFlow backend.\n"
     ]
    }
   ],
   "source": [
    "# File Directory \n",
    "import glob\n",
    "import os\n",
    "from os.path import isdir, join\n",
    "from pathlib import Path\n",
    "\n",
    "# Math\n",
    "import numpy as np\n",
    "from scipy.fftpack import fft\n",
    "from scipy import signal\n",
    "import librosa\n",
    "\n",
    "# Dimension Reduction\n",
    "from sklearn.decomposition import PCA\n",
    "\n",
    "# Visualization\n",
    "import matplotlib.pyplot as plt\n",
    "import seaborn as sns\n",
    "import IPython.display as ipd\n",
    "import librosa.display\n",
    "'''import plotly.offline as py\n",
    "import plotly.graph_objs as go\n",
    "import plotly.tools as tls'''\n",
    "\n",
    "# Data Pre-processing\n",
    "import pandas as pd\n",
    "from sklearn.model_selection import KFold\n",
    "import soundfile\n",
    "\n",
    "# Deep Learning\n",
    "import tensorflow as tf\n",
    "import tensorflow.keras as keras\n",
    "from tensorflow.keras.layers import Dense, Dropout, Flatten\n",
    "from tensorflow.keras import Input, layers\n",
    "#from tensorflow.keras import backend as K\n",
    "import cv2\n",
    "\n",
    "# Configuration\n",
    "#py.init_notebook_mode(connected=True)\n",
    "\n",
    "from keras.activations import relu, softmax\n",
    "from keras.layers import (Convolution1D, Dense, Dropout, GlobalAveragePooling1D, \n",
    "                          GlobalMaxPool1D, Input, MaxPool1D, concatenate)\n",
    "from keras import losses, models, optimizers\n",
    "from keras.callbacks import (EarlyStopping, LearningRateScheduler,\n",
    "                             ModelCheckpoint, TensorBoard, ReduceLROnPlateau)\n",
    "from keras import backend as K\n",
    "\n",
    "%matplotlib inline"
   ]
  },
  {
   "cell_type": "code",
   "execution_count": null,
   "metadata": {},
   "outputs": [],
   "source": [
    "samples=[]\n",
    "labels = []\n",
    "sample_slice_iteration = 0\n",
    "\n",
    "gunshot_sound_dir = \"C:\\\\Users\\\\hosle\\\\Documents\\\\_REU2019\\\\gunshot\\\\\"\n",
    "\n",
    "for file in os.listdir(gunshot_sound_dir):\n",
    "    if file.endswith(\".wav\"):\n",
    "        sample, sample_rate = librosa.load(gunshot_sound_dir + file)\n",
    "        if (sample.size <= 44100):\n",
    "            sample_slice = np.zeros(44100)\n",
    "            sample_slice[0:sample.size] = sample\n",
    "            label = 1\n",
    "            sample_slice_iteration += 1\n",
    "            if np.max(abs(sample_slice)) < 0.25:\n",
    "                label = 0\n",
    "\n",
    "            samples.append(sample_slice)\n",
    "            labels.append(label)\n",
    "            \n",
    "        for i in range(0, sample.size - 44100, 44100):\n",
    "            sample_slice = sample[i : i + 44100]\n",
    "            label = 1\n",
    "            sample_slice_iteration += 1\n",
    "            if np.max(abs(sample_slice)) < 0.25:\n",
    "                label = 0\n",
    "\n",
    "            samples.append(sample_slice)\n",
    "            labels.append(label)\n",
    "        \n",
    "glassbreak_sound_dir = \"C:\\\\Users\\\\hosle\\\\Documents\\\\_REU2019\\\\glassbreak\\\\\"\n",
    "\n",
    "print(\"...Switching to glassbreak sounds...\")\n",
    "\n",
    "for file in os.listdir(glassbreak_sound_dir):\n",
    "    if file.endswith(\".wav\"):\n",
    "        sample, sample_rate = librosa.load(glassbreak_sound_dir + file)\n",
    "        if (sample.size <= 44100):\n",
    "            sample_slice = np.zeros(44100)\n",
    "            sample_slice[0:sample.size] = sample\n",
    "            label = 0\n",
    "            sample_slice_iteration += 1\n",
    "            if np.max(abs(sample_slice)) < 0.5:\n",
    "                label = 0\n",
    "\n",
    "            samples.append(sample_slice)\n",
    "            labels.append(label)\n",
    "            \n",
    "        for i in range(0, sample.size - 44100, 44100):\n",
    "            sample_slice = sample[i : i + 44100]\n",
    "            label = 0\n",
    "            sample_slice_iteration += 1\n",
    "            if np.max(abs(sample_slice)) < 0.5:\n",
    "                label = 0\n",
    "\n",
    "            samples.append(sample_slice)\n",
    "            labels.append(label)"
   ]
  },
  {
   "cell_type": "code",
   "execution_count": null,
   "metadata": {},
   "outputs": [],
   "source": [
    "np.save(\"samples.npy\", samples)\n",
    "np.save(\"labels.npy\", labels)"
   ]
  },
  {
   "cell_type": "code",
   "execution_count": null,
   "metadata": {},
   "outputs": [],
   "source": []
  },
  {
   "cell_type": "code",
   "execution_count": null,
   "metadata": {},
   "outputs": [],
   "source": [
    "mypath = \"C:\\\\Users\\\\hosle\\\\Documents\\\\_REU2019\\\\_project\\\\gunshot_detection\\\\Train\\\\\"\n",
    "dr = os.listdir(mypath)\n",
    "for i in range(len(dr)):\n",
    "    dr[i] = int(dr[i][:-4])\n",
    "dr = np.sort(dr)\n",
    "files = np.zeros(len(dr)).astype('str')\n",
    "for i in range(len(dr)):\n",
    "    files[i] = str(dr[i]) + '.wav'\n",
    "files"
   ]
  },
  {
   "cell_type": "code",
   "execution_count": null,
   "metadata": {
    "scrolled": true
   },
   "outputs": [],
   "source": [
    "#read in the csv file of descriptors for all other urban sounds\n",
    "sound_types = pd.read_csv(\"C:\\\\Users\\\\hosle\\\\Documents\\\\_REU2019\\\\_project\\\\gunshot_detection\\\\train.csv\")\n",
    "print(sound_types.loc[0,'Class'])\n",
    "\n",
    "j=0\n",
    "count = 0\n",
    "#read in all of the wav files similar to above\n",
    "urban_sound_dir = \"C:\\\\Users\\\\hosle\\\\Documents\\\\_REU2019\\\\_project\\\\gunshot_detection\\\\Train\\\\\"\n",
    "\n",
    "for file in files:\n",
    "    if file.endswith(\".wav\"):\n",
    "        count += 1\n",
    "        sample, sample_rate = librosa.load(urban_sound_dir + file)\n",
    "        if (count % 100 == 0):\n",
    "            print (count)\n",
    "        if (sample.size <= 44100):\n",
    "            sample_slice = np.zeros(44100)\n",
    "            sample_slice[0:sample.size] = sample\n",
    "            if(sound_types.loc[j, 'Class'] == \"gun_shot\"):\n",
    "                label = 1\n",
    "            else:\n",
    "                label = 0\n",
    "            sample_slice_iteration += 1\n",
    "            if np.max(abs(sample_slice)) < 0.25:\n",
    "                label = 0\n",
    "\n",
    "            samples.append(sample_slice)\n",
    "            labels.append(label)\n",
    "\n",
    "\n",
    "        for i in range(0, sample.size - 44100, 44100):\n",
    "            sample_slice = sample[i : i + 44100]\n",
    "            if(sound_types.loc[j, 'Class'] == \"gun_shot\"):\n",
    "                label = 1\n",
    "            else:\n",
    "                label = 0\n",
    "            sample_slice_iteration += 1\n",
    "            if np.max(abs(sample_slice)) < 0.25:\n",
    "                label = 0\n",
    "\n",
    "            samples.append(sample_slice)\n",
    "            labels.append(label)\n",
    "        j +=1\n"
   ]
  },
  {
   "cell_type": "markdown",
   "metadata": {},
   "source": [
    "## Fireworks"
   ]
  },
  {
   "cell_type": "code",
   "execution_count": null,
   "metadata": {},
   "outputs": [],
   "source": [
    "samples = list(np.load(\"samples.npy\"))\n",
    "labels = list(np.load(\"labels.npy\"))"
   ]
  },
  {
   "cell_type": "code",
   "execution_count": null,
   "metadata": {},
   "outputs": [],
   "source": [
    "sample_slice_iteration = 0\n",
    "\n",
    "sound_dir = \"C:\\\\Users\\\\hosle\\\\Documents\\\\_REU2019\\\\_project\\\\gunshot_detection\\\\fireworks\\\\\"\n",
    "\n",
    "for file in os.listdir(sound_dir):\n",
    "    if file.endswith(\".wav\"):\n",
    "        sample, sample_rate = librosa.load(sound_dir + file)\n",
    "        if (sample.size <= 44100):\n",
    "            sample_slice = np.zeros(44100)\n",
    "            sample_slice[0:sample.size] = sample\n",
    "            label = 0\n",
    "            sample_slice_iteration += 1\n",
    "            if np.max(abs(sample_slice)) < 0.25:\n",
    "                label = 0\n",
    "\n",
    "            samples.append(sample_slice)\n",
    "            labels.append(label)\n",
    "            \n",
    "        for i in range(0, sample.size - 44100, 44100):\n",
    "            sample_slice = sample[i : i + 44100]\n",
    "            label = 0\n",
    "            sample_slice_iteration += 1\n",
    "            if np.max(abs(sample_slice)) < 0.25:\n",
    "                label = 0\n",
    "\n",
    "            samples.append(sample_slice)\n",
    "            labels.append(label)"
   ]
  },
  {
   "cell_type": "code",
   "execution_count": null,
   "metadata": {},
   "outputs": [],
   "source": [
    "print(len(samples))\n",
    "i=450\n",
    "samp=samples[i]\n",
    "sr=2050\n",
    "print(np.max(abs(samp)))\n",
    "print(labels[i])\n",
    "ipd.Audio(samp, rate=sr)"
   ]
  },
  {
   "cell_type": "code",
   "execution_count": null,
   "metadata": {},
   "outputs": [],
   "source": [
    "sum(labels)"
   ]
  },
  {
   "cell_type": "code",
   "execution_count": null,
   "metadata": {},
   "outputs": [],
   "source": [
    "np.save(\"samples.npy\", samples)\n",
    "np.save(\"labels.npy\", labels)"
   ]
  },
  {
   "cell_type": "code",
   "execution_count": null,
   "metadata": {},
   "outputs": [],
   "source": [
    "samples = np.load(\"samples.npy\")\n",
    "labels = np.load(\"labels.npy\")"
   ]
  },
  {
   "cell_type": "markdown",
   "metadata": {},
   "source": [
    "## Augment data"
   ]
  },
  {
   "cell_type": "code",
   "execution_count": null,
   "metadata": {},
   "outputs": [],
   "source": [
    "def time_shift(wav):\n",
    "    start_ = int(np.random.uniform(-4800,4800))\n",
    "    if start_ >= 0:\n",
    "        wav_time_shift = np.r_[wav[start_:], np.random.uniform(-0.001,0.001, start_)]\n",
    "    else:\n",
    "        wav_time_shift = np.r_[np.random.uniform(-0.001,0.001, -start_), wav[:start_]]\n",
    "    return wav_time_shift\n",
    "\n",
    "def speed_change(wav):\n",
    "    speed_rate = np.random.uniform(0.7,1.3)\n",
    "    wav_speed_tune = cv2.resize(wav, (1, int(len(wav) * speed_rate))).squeeze()\n",
    "    #print('speed rate: %.3f' % speed_rate, '(lower is faster)')\n",
    "    if len(wav_speed_tune) < len(wav):\n",
    "        pad_len = len(wav) - len(wav_speed_tune)\n",
    "        wav_speed_tune = np.r_[np.random.uniform(-0.001,0.001,int(pad_len/2)),\n",
    "                               wav_speed_tune,\n",
    "                               np.random.uniform(-0.001,0.001,int(np.ceil(pad_len/2)))]\n",
    "    else: \n",
    "        cut_len = len(wav_speed_tune) - len(wav)\n",
    "        wav_speed_tune = wav_speed_tune[int(cut_len/2):int(cut_len/2)+len(wav)]\n",
    "    return wav_speed_tune"
   ]
  },
  {
   "cell_type": "code",
   "execution_count": null,
   "metadata": {},
   "outputs": [],
   "source": [
    "samples.shape[0]"
   ]
  },
  {
   "cell_type": "code",
   "execution_count": null,
   "metadata": {},
   "outputs": [],
   "source": [
    "aug_labels = np.zeros((labels.shape[0]*3,))\n",
    "aug_labels[1]"
   ]
  },
  {
   "cell_type": "code",
   "execution_count": null,
   "metadata": {},
   "outputs": [],
   "source": [
    "aug_samples = np.zeros((samples.shape[0]*3, samples.shape[1]))\n",
    "aug_labels = np.zeros((labels.shape[0]*3,))\n",
    "j = 0\n",
    "for i in range (0, len(aug_samples), 3):\n",
    "    aug_samples[i,:] = samples[j,:]\n",
    "    aug_samples[i+1,:] = time_shift(samples[j,:])\n",
    "    aug_samples[i+2,:] = speed_change(samples[j,:])\n",
    "    \n",
    "    aug_labels[i] = labels[j]\n",
    "    aug_labels[i+1] = labels[j]\n",
    "    aug_labels[i+2] = labels[j]\n",
    "    j += 1"
   ]
  },
  {
   "cell_type": "code",
   "execution_count": null,
   "metadata": {},
   "outputs": [],
   "source": [
    "np.save(\"aug_samples.npy\", aug_samples)\n",
    "np.save(\"aug_labels.npy\", aug_labels)"
   ]
  },
  {
   "cell_type": "markdown",
   "metadata": {},
   "source": [
    "## Model"
   ]
  },
  {
   "cell_type": "code",
   "execution_count": 2,
   "metadata": {},
   "outputs": [],
   "source": [
    "from sklearn.preprocessing import LabelBinarizer\n",
    "samples = np.load(\"samples.npy\")\n",
    "labels = np.load(\"labels.npy\")"
   ]
  },
  {
   "cell_type": "code",
   "execution_count": 3,
   "metadata": {},
   "outputs": [],
   "source": [
    "l = []\n",
    "for i in range(len(labels)):\n",
    "    if labels[i] == 1:\n",
    "        l.append('gunshot')\n",
    "    else:\n",
    "        l.append('other')"
   ]
  },
  {
   "cell_type": "code",
   "execution_count": 4,
   "metadata": {},
   "outputs": [],
   "source": [
    "lb = LabelBinarizer()\n",
    "labels = lb.fit_transform(l)"
   ]
  },
  {
   "cell_type": "code",
   "execution_count": 5,
   "metadata": {},
   "outputs": [
    {
     "data": {
      "text/plain": [
       "array([[0, 1],\n",
       "       [0, 1],\n",
       "       [0, 1],\n",
       "       ...,\n",
       "       [1, 0],\n",
       "       [1, 0],\n",
       "       [1, 0]])"
      ]
     },
     "execution_count": 5,
     "metadata": {},
     "output_type": "execute_result"
    }
   ],
   "source": [
    "labels = np.hstack((labels, 1 - labels))\n",
    "labels"
   ]
  },
  {
   "cell_type": "code",
   "execution_count": 6,
   "metadata": {},
   "outputs": [
    {
     "name": "stdout",
     "output_type": "stream",
     "text": [
      "TRAIN: [   1    3    6 ... 6374 6375 6377] TEST: [   0    2    4 ... 6370 6372 6376]\n",
      "TRAIN: [   0    1    2 ... 6375 6376 6377] TEST: [   6   10   11 ... 6366 6371 6374]\n",
      "TRAIN: [   0    2    4 ... 6372 6374 6376] TEST: [   1    3    7 ... 6373 6375 6377]\n"
     ]
    }
   ],
   "source": [
    "kf = KFold(n_splits=3, shuffle=True)\n",
    "'''samples = aug_samples #np.array(samples)\n",
    "labels = aug_labels #np.array(labels)'''\n",
    "\n",
    "#labels = keras.utils.to_categorical(labels, 2)\n",
    "for train_index, test_index in kf.split(samples):\n",
    "    print(\"TRAIN:\", train_index, \"TEST:\", test_index)\n",
    "    train_wav, test_wav = samples[train_index], samples[test_index]\n",
    "    train_label, test_label = labels[train_index], labels[test_index]"
   ]
  },
  {
   "cell_type": "code",
   "execution_count": 7,
   "metadata": {},
   "outputs": [],
   "source": [
    "def show(data):\n",
    "    plt.figure(figsize=(12, 4))\n",
    "    librosa.display.waveplot(data, sr = 16000)"
   ]
  },
  {
   "cell_type": "code",
   "execution_count": 8,
   "metadata": {},
   "outputs": [
    {
     "name": "stdout",
     "output_type": "stream",
     "text": [
      "[0 1]\n"
     ]
    },
    {
     "data": {
      "image/png": "[encoded data removed]",
      "text/plain": [
       "<Figure size 864x288 with 1 Axes>"
      ]
     },
     "metadata": {},
     "output_type": "display_data"
    }
   ],
   "source": [
    "d = 0\n",
    "print(labels[d])\n",
    "show(samples[d,:])"
   ]
  },
  {
   "cell_type": "code",
   "execution_count": 9,
   "metadata": {},
   "outputs": [],
   "source": [
    "# Parameters\n",
    "lr = 0.001\n",
    "generations = 20000\n",
    "num_gens_to_wait = 250\n",
    "batch_size = 32\n",
    "drop_out_rate = 0.2\n",
    "input_shape = (44100,1)"
   ]
  },
  {
   "cell_type": "code",
   "execution_count": 10,
   "metadata": {},
   "outputs": [],
   "source": [
    "#For Conv1D add Channel\n",
    "train_wav = np.array(train_wav)\n",
    "test_wav = np.array(test_wav)\n",
    "train_wav = train_wav.reshape(-1,44100,1)\n",
    "test_wav = test_wav.reshape(-1,44100,1)\n",
    "#train_label = keras.utils.to_categorical(train_label, 2)\n",
    "#test_label = keras.utils.to_categorical(test_label, 2)"
   ]
  },
  {
   "cell_type": "code",
   "execution_count": 11,
   "metadata": {},
   "outputs": [
    {
     "name": "stdout",
     "output_type": "stream",
     "text": [
      "[0 1]\n",
      "[0 1]\n"
     ]
    }
   ],
   "source": [
    "print(train_label[0])\n",
    "print(test_label[0])"
   ]
  },
  {
   "cell_type": "markdown",
   "metadata": {},
   "source": [
    "### ROC AUC metric used. Make sure to use the import: from keras import backend as K for a Keras network"
   ]
  },
  {
   "cell_type": "code",
   "execution_count": 12,
   "metadata": {},
   "outputs": [],
   "source": [
    "def auc(y_true, y_pred):\n",
    "    auc = tf.metrics.auc(y_true, y_pred)[1]\n",
    "    K.get_session().run(tf.local_variables_initializer())\n",
    "    return auc"
   ]
  },
  {
   "cell_type": "code",
   "execution_count": 16,
   "metadata": {},
   "outputs": [],
   "source": [
    "input_tensor = Input(shape=input_shape)\n",
    "nclass = 2\n",
    "\n",
    "x = Convolution1D(16, 9, activation=relu, padding=\"same\")(input_tensor)\n",
    "x = Convolution1D(16, 9, activation=relu, padding=\"same\")(x)\n",
    "x = MaxPool1D(16)(x)\n",
    "x = Dropout(rate=0.1)(x)\n",
    "\n",
    "x = Convolution1D(32, 3, activation=relu, padding=\"same\")(x)\n",
    "x = Convolution1D(32, 3, activation=relu, padding=\"same\")(x)\n",
    "x = MaxPool1D(8)(x)\n",
    "x = Dropout(rate=0.1)(x)\n",
    "\n",
    "x = Convolution1D(128, 3, activation=relu, padding=\"same\")(x)\n",
    "x = Convolution1D(128, 3, activation=relu, padding=\"same\")(x)\n",
    "x = GlobalMaxPool1D()(x)\n",
    "x = Dropout(rate=0.2)(x)\n",
    "\n",
    "x = Dense(64, activation=relu)(x)\n",
    "x = Dense(1028, activation=relu)(x)\n",
    "output_tensor = Dense(nclass, activation=softmax)(x)\n",
    "\n",
    "model = models.Model(inputs=input_tensor, outputs=output_tensor)\n",
    "opt = optimizers.Adam(0.001, 0.001 / 100)\n",
    "\n",
    "model.compile(optimizer=opt, loss=losses.binary_crossentropy, metrics=[auc, 'acc'])"
   ]
  },
  {
   "cell_type": "code",
   "execution_count": 17,
   "metadata": {},
   "outputs": [
    {
     "name": "stdout",
     "output_type": "stream",
     "text": [
      "_________________________________________________________________\n",
      "Layer (type)                 Output Shape              Param #   \n",
      "=================================================================\n",
      "input_2 (InputLayer)         (None, 44100, 1)          0         \n",
      "_________________________________________________________________\n",
      "conv1d_9 (Conv1D)            (None, 44100, 16)         160       \n",
      "_________________________________________________________________\n",
      "conv1d_10 (Conv1D)           (None, 44100, 16)         2320      \n",
      "_________________________________________________________________\n",
      "max_pooling1d_4 (MaxPooling1 (None, 2756, 16)          0         \n",
      "_________________________________________________________________\n",
      "dropout_5 (Dropout)          (None, 2756, 16)          0         \n",
      "_________________________________________________________________\n",
      "conv1d_11 (Conv1D)           (None, 2756, 32)          1568      \n",
      "_________________________________________________________________\n",
      "conv1d_12 (Conv1D)           (None, 2756, 32)          3104      \n",
      "_________________________________________________________________\n",
      "max_pooling1d_5 (MaxPooling1 (None, 344, 32)           0         \n",
      "_________________________________________________________________\n",
      "dropout_6 (Dropout)          (None, 344, 32)           0         \n",
      "_________________________________________________________________\n",
      "conv1d_13 (Conv1D)           (None, 344, 128)          12416     \n",
      "_________________________________________________________________\n",
      "conv1d_14 (Conv1D)           (None, 344, 128)          49280     \n",
      "_________________________________________________________________\n",
      "global_max_pooling1d_2 (Glob (None, 128)               0         \n",
      "_________________________________________________________________\n",
      "dropout_7 (Dropout)          (None, 128)               0         \n",
      "_________________________________________________________________\n",
      "dense_4 (Dense)              (None, 64)                8256      \n",
      "_________________________________________________________________\n",
      "dense_5 (Dense)              (None, 1028)              66820     \n",
      "_________________________________________________________________\n",
      "dense_6 (Dense)              (None, 2)                 2058      \n",
      "=================================================================\n",
      "Total params: 145,982\n",
      "Trainable params: 145,982\n",
      "Non-trainable params: 0\n",
      "_________________________________________________________________\n"
     ]
    }
   ],
   "source": [
    "model.summary()"
   ]
  },
  {
   "cell_type": "code",
   "execution_count": 18,
   "metadata": {},
   "outputs": [],
   "source": [
    "model_filename = '1Dcnngunglass.pkl' \n",
    "callbacks = [\n",
    "    EarlyStopping(monitor='val_auc',\n",
    "                  patience=10,\n",
    "                  verbose=1,\n",
    "                  mode='max'),\n",
    "    \n",
    "    ModelCheckpoint(model_filename, monitor='val_auc',\n",
    "                    verbose=1,\n",
    "                    save_best_only=True,\n",
    "                    mode='max'),\n",
    "]"
   ]
  },
  {
   "cell_type": "code",
   "execution_count": 19,
   "metadata": {},
   "outputs": [
    {
     "name": "stdout",
     "output_type": "stream",
     "text": [
      "Train on 4252 samples, validate on 2126 samples\n",
      "Epoch 1/100\n",
      "4252/4252 [==============================] - 16s 4ms/step - loss: 0.2064 - auc: 0.9429 - acc: 0.9287 - val_loss: 0.0945 - val_auc: 0.9777 - val_acc: 0.9652\n",
      "\n",
      "Epoch 00001: val_auc improved from -inf to 0.97767, saving model to 1Dcnngunglass.pkl\n",
      "Epoch 2/100\n",
      "4252/4252 [==============================] - 12s 3ms/step - loss: 0.1015 - auc: 0.9857 - acc: 0.9603 - val_loss: 0.1018 - val_auc: 0.9880 - val_acc: 0.9671\n",
      "\n",
      "Epoch 00002: val_auc improved from 0.97767 to 0.98799, saving model to 1Dcnngunglass.pkl\n",
      "Epoch 3/100\n",
      "4252/4252 [==============================] - 13s 3ms/step - loss: 0.0871 - auc: 0.9899 - acc: 0.9675 - val_loss: 0.0811 - val_auc: 0.9908 - val_acc: 0.9690\n",
      "\n",
      "Epoch 00003: val_auc improved from 0.98799 to 0.99078, saving model to 1Dcnngunglass.pkl\n",
      "Epoch 4/100\n",
      " 992/4252 [=====>........................] - ETA: 7s - loss: 0.0718 - auc: 0.9915 - acc: 0.9728"
     ]
    },
    {
     "ename": "KeyboardInterrupt",
     "evalue": "",
     "output_type": "error",
     "traceback": [
      "\u001b[1;31m---------------------------------------------------------------------------\u001b[0m",
      "\u001b[1;31mKeyboardInterrupt\u001b[0m                         Traceback (most recent call last)",
      "\u001b[1;32m<ipython-input-19-935112a58c68>\u001b[0m in \u001b[0;36m<module>\u001b[1;34m()\u001b[0m\n\u001b[0;32m      4\u001b[0m           \u001b[0mcallbacks\u001b[0m \u001b[1;33m=\u001b[0m \u001b[0mcallbacks\u001b[0m\u001b[1;33m,\u001b[0m\u001b[1;33m\u001b[0m\u001b[0m\n\u001b[0;32m      5\u001b[0m           \u001b[0mepochs\u001b[0m\u001b[1;33m=\u001b[0m\u001b[1;36m100\u001b[0m\u001b[1;33m,\u001b[0m\u001b[1;33m\u001b[0m\u001b[0m\n\u001b[1;32m----> 6\u001b[1;33m           verbose=1)\n\u001b[0m",
      "\u001b[1;32m~\\Anaconda3\\lib\\site-packages\\keras\\engine\\training.py\u001b[0m in \u001b[0;36mfit\u001b[1;34m(self, x, y, batch_size, epochs, verbose, callbacks, validation_split, validation_data, shuffle, class_weight, sample_weight, initial_epoch, steps_per_epoch, validation_steps, **kwargs)\u001b[0m\n\u001b[0;32m   1037\u001b[0m                                         \u001b[0minitial_epoch\u001b[0m\u001b[1;33m=\u001b[0m\u001b[0minitial_epoch\u001b[0m\u001b[1;33m,\u001b[0m\u001b[1;33m\u001b[0m\u001b[0m\n\u001b[0;32m   1038\u001b[0m                                         \u001b[0msteps_per_epoch\u001b[0m\u001b[1;33m=\u001b[0m\u001b[0msteps_per_epoch\u001b[0m\u001b[1;33m,\u001b[0m\u001b[1;33m\u001b[0m\u001b[0m\n\u001b[1;32m-> 1039\u001b[1;33m                                         validation_steps=validation_steps)\n\u001b[0m\u001b[0;32m   1040\u001b[0m \u001b[1;33m\u001b[0m\u001b[0m\n\u001b[0;32m   1041\u001b[0m     def evaluate(self, x=None, y=None,\n",
      "\u001b[1;32m~\\Anaconda3\\lib\\site-packages\\keras\\engine\\training_arrays.py\u001b[0m in \u001b[0;36mfit_loop\u001b[1;34m(model, f, ins, out_labels, batch_size, epochs, verbose, callbacks, val_f, val_ins, shuffle, callback_metrics, initial_epoch, steps_per_epoch, validation_steps)\u001b[0m\n\u001b[0;32m    197\u001b[0m                     \u001b[0mins_batch\u001b[0m\u001b[1;33m[\u001b[0m\u001b[0mi\u001b[0m\u001b[1;33m]\u001b[0m \u001b[1;33m=\u001b[0m \u001b[0mins_batch\u001b[0m\u001b[1;33m[\u001b[0m\u001b[0mi\u001b[0m\u001b[1;33m]\u001b[0m\u001b[1;33m.\u001b[0m\u001b[0mtoarray\u001b[0m\u001b[1;33m(\u001b[0m\u001b[1;33m)\u001b[0m\u001b[1;33m\u001b[0m\u001b[0m\n\u001b[0;32m    198\u001b[0m \u001b[1;33m\u001b[0m\u001b[0m\n\u001b[1;32m--> 199\u001b[1;33m                 \u001b[0mouts\u001b[0m \u001b[1;33m=\u001b[0m \u001b[0mf\u001b[0m\u001b[1;33m(\u001b[0m\u001b[0mins_batch\u001b[0m\u001b[1;33m)\u001b[0m\u001b[1;33m\u001b[0m\u001b[0m\n\u001b[0m\u001b[0;32m    200\u001b[0m                 \u001b[0mouts\u001b[0m \u001b[1;33m=\u001b[0m \u001b[0mto_list\u001b[0m\u001b[1;33m(\u001b[0m\u001b[0mouts\u001b[0m\u001b[1;33m)\u001b[0m\u001b[1;33m\u001b[0m\u001b[0m\n\u001b[0;32m    201\u001b[0m                 \u001b[1;32mfor\u001b[0m \u001b[0ml\u001b[0m\u001b[1;33m,\u001b[0m \u001b[0mo\u001b[0m \u001b[1;32min\u001b[0m \u001b[0mzip\u001b[0m\u001b[1;33m(\u001b[0m\u001b[0mout_labels\u001b[0m\u001b[1;33m,\u001b[0m \u001b[0mouts\u001b[0m\u001b[1;33m)\u001b[0m\u001b[1;33m:\u001b[0m\u001b[1;33m\u001b[0m\u001b[0m\n",
      "\u001b[1;32m~\\Anaconda3\\lib\\site-packages\\keras\\backend\\tensorflow_backend.py\u001b[0m in \u001b[0;36m__call__\u001b[1;34m(self, inputs)\u001b[0m\n\u001b[0;32m   2713\u001b[0m                 \u001b[1;32mreturn\u001b[0m \u001b[0mself\u001b[0m\u001b[1;33m.\u001b[0m\u001b[0m_legacy_call\u001b[0m\u001b[1;33m(\u001b[0m\u001b[0minputs\u001b[0m\u001b[1;33m)\u001b[0m\u001b[1;33m\u001b[0m\u001b[0m\n\u001b[0;32m   2714\u001b[0m \u001b[1;33m\u001b[0m\u001b[0m\n\u001b[1;32m-> 2715\u001b[1;33m             \u001b[1;32mreturn\u001b[0m \u001b[0mself\u001b[0m\u001b[1;33m.\u001b[0m\u001b[0m_call\u001b[0m\u001b[1;33m(\u001b[0m\u001b[0minputs\u001b[0m\u001b[1;33m)\u001b[0m\u001b[1;33m\u001b[0m\u001b[0m\n\u001b[0m\u001b[0;32m   2716\u001b[0m         \u001b[1;32melse\u001b[0m\u001b[1;33m:\u001b[0m\u001b[1;33m\u001b[0m\u001b[0m\n\u001b[0;32m   2717\u001b[0m             \u001b[1;32mif\u001b[0m \u001b[0mpy_any\u001b[0m\u001b[1;33m(\u001b[0m\u001b[0mis_tensor\u001b[0m\u001b[1;33m(\u001b[0m\u001b[0mx\u001b[0m\u001b[1;33m)\u001b[0m \u001b[1;32mfor\u001b[0m \u001b[0mx\u001b[0m \u001b[1;32min\u001b[0m \u001b[0minputs\u001b[0m\u001b[1;33m)\u001b[0m\u001b[1;33m:\u001b[0m\u001b[1;33m\u001b[0m\u001b[0m\n",
      "\u001b[1;32m~\\Anaconda3\\lib\\site-packages\\keras\\backend\\tensorflow_backend.py\u001b[0m in \u001b[0;36m_call\u001b[1;34m(self, inputs)\u001b[0m\n\u001b[0;32m   2673\u001b[0m             \u001b[0mfetched\u001b[0m \u001b[1;33m=\u001b[0m \u001b[0mself\u001b[0m\u001b[1;33m.\u001b[0m\u001b[0m_callable_fn\u001b[0m\u001b[1;33m(\u001b[0m\u001b[1;33m*\u001b[0m\u001b[0marray_vals\u001b[0m\u001b[1;33m,\u001b[0m \u001b[0mrun_metadata\u001b[0m\u001b[1;33m=\u001b[0m\u001b[0mself\u001b[0m\u001b[1;33m.\u001b[0m\u001b[0mrun_metadata\u001b[0m\u001b[1;33m)\u001b[0m\u001b[1;33m\u001b[0m\u001b[0m\n\u001b[0;32m   2674\u001b[0m         \u001b[1;32melse\u001b[0m\u001b[1;33m:\u001b[0m\u001b[1;33m\u001b[0m\u001b[0m\n\u001b[1;32m-> 2675\u001b[1;33m             \u001b[0mfetched\u001b[0m \u001b[1;33m=\u001b[0m \u001b[0mself\u001b[0m\u001b[1;33m.\u001b[0m\u001b[0m_callable_fn\u001b[0m\u001b[1;33m(\u001b[0m\u001b[1;33m*\u001b[0m\u001b[0marray_vals\u001b[0m\u001b[1;33m)\u001b[0m\u001b[1;33m\u001b[0m\u001b[0m\n\u001b[0m\u001b[0;32m   2676\u001b[0m         \u001b[1;32mreturn\u001b[0m \u001b[0mfetched\u001b[0m\u001b[1;33m[\u001b[0m\u001b[1;33m:\u001b[0m\u001b[0mlen\u001b[0m\u001b[1;33m(\u001b[0m\u001b[0mself\u001b[0m\u001b[1;33m.\u001b[0m\u001b[0moutputs\u001b[0m\u001b[1;33m)\u001b[0m\u001b[1;33m]\u001b[0m\u001b[1;33m\u001b[0m\u001b[0m\n\u001b[0;32m   2677\u001b[0m \u001b[1;33m\u001b[0m\u001b[0m\n",
      "\u001b[1;32m~\\Anaconda3\\lib\\site-packages\\tensorflow\\python\\client\\session.py\u001b[0m in \u001b[0;36m__call__\u001b[1;34m(self, *args, **kwargs)\u001b[0m\n\u001b[0;32m   1437\u001b[0m           ret = tf_session.TF_SessionRunCallable(\n\u001b[0;32m   1438\u001b[0m               \u001b[0mself\u001b[0m\u001b[1;33m.\u001b[0m\u001b[0m_session\u001b[0m\u001b[1;33m.\u001b[0m\u001b[0m_session\u001b[0m\u001b[1;33m,\u001b[0m \u001b[0mself\u001b[0m\u001b[1;33m.\u001b[0m\u001b[0m_handle\u001b[0m\u001b[1;33m,\u001b[0m \u001b[0margs\u001b[0m\u001b[1;33m,\u001b[0m \u001b[0mstatus\u001b[0m\u001b[1;33m,\u001b[0m\u001b[1;33m\u001b[0m\u001b[0m\n\u001b[1;32m-> 1439\u001b[1;33m               run_metadata_ptr)\n\u001b[0m\u001b[0;32m   1440\u001b[0m         \u001b[1;32mif\u001b[0m \u001b[0mrun_metadata\u001b[0m\u001b[1;33m:\u001b[0m\u001b[1;33m\u001b[0m\u001b[0m\n\u001b[0;32m   1441\u001b[0m           \u001b[0mproto_data\u001b[0m \u001b[1;33m=\u001b[0m \u001b[0mtf_session\u001b[0m\u001b[1;33m.\u001b[0m\u001b[0mTF_GetBuffer\u001b[0m\u001b[1;33m(\u001b[0m\u001b[0mrun_metadata_ptr\u001b[0m\u001b[1;33m)\u001b[0m\u001b[1;33m\u001b[0m\u001b[0m\n",
      "\u001b[1;31mKeyboardInterrupt\u001b[0m: "
     ]
    }
   ],
   "source": [
    "model.fit(train_wav, train_label, \n",
    "          validation_data=[test_wav, test_label],\n",
    "          batch_size=batch_size,\n",
    "          callbacks = callbacks,\n",
    "          epochs=100,\n",
    "          verbose=1)"
   ]
  },
  {
   "cell_type": "markdown",
   "metadata": {},
   "source": [
    "### Validation"
   ]
  },
  {
   "cell_type": "code",
   "execution_count": 298,
   "metadata": {},
   "outputs": [],
   "source": [
    "model.load_weights(\"1Dcnngunglass.pkl\")"
   ]
  },
  {
   "cell_type": "code",
   "execution_count": 390,
   "metadata": {},
   "outputs": [],
   "source": [
    "mypath = \"C:\\\\Users\\\\hosle\\\\Downloads\\\\Metal Bang-SoundBible.com-672025076.wav\"\n",
    "#mypath = \"C:\\\\Users\\\\hosle\\\\Documents\\\\_REU2019\\\\extra\\\\320134.wav\"\n",
    "#mypath = \"C:\\\\Users\\\\hosle\\\\Documents\\\\_REU2019\\\\_project\\\\gunshot_detection\\\\fireworks\\\\56608__syna-max__fireworks-well-i-guess-you-missed-it.wav\"\n",
    "\n",
    "fire, sr = librosa.load(mypath)"
   ]
  },
  {
   "cell_type": "code",
   "execution_count": 391,
   "metadata": {},
   "outputs": [
    {
     "data": {
      "image/png": "[encoded data removed]",
      "text/plain": [
       "<Figure size 864x288 with 1 Axes>"
      ]
     },
     "metadata": {},
     "output_type": "display_data"
    }
   ],
   "source": [
    "show(fire)"
   ]
  },
  {
   "cell_type": "code",
   "execution_count": 392,
   "metadata": {},
   "outputs": [],
   "source": [
    "validation = []\n",
    "if (fire.size <= 44100):\n",
    "    sample_slice = np.zeros(44100)\n",
    "    sample_slice[0:fire.size] = fire\n",
    "    validation.append(sample_slice)\n",
    "\n",
    "for i in range(0, fire.size - 44100, 44100):\n",
    "    sample_slice = fire[i : i + 44100]\n",
    "    validation.append(sample_slice)\n",
    "    \n",
    "validation = np.array(validation)\n",
    "validation_1 = validation.reshape(-1,44100,1)"
   ]
  },
  {
   "cell_type": "code",
   "execution_count": 393,
   "metadata": {},
   "outputs": [],
   "source": [
    "val_pred = model.predict(validation_1)"
   ]
  },
  {
   "cell_type": "code",
   "execution_count": 394,
   "metadata": {},
   "outputs": [
    {
     "name": "stdout",
     "output_type": "stream",
     "text": [
      "1\n"
     ]
    }
   ],
   "source": [
    "val_pred1 = lb.inverse_transform(val_pred[:, 0])\n",
    "print(len(val_pred1))"
   ]
  },
  {
   "cell_type": "code",
   "execution_count": 395,
   "metadata": {},
   "outputs": [
    {
     "data": {
      "text/plain": [
       "array([[0]], dtype=int64)"
      ]
     },
     "execution_count": 395,
     "metadata": {},
     "output_type": "execute_result"
    }
   ],
   "source": [
    "np.argwhere(val_pred1 == 'gunshot')"
   ]
  },
  {
   "cell_type": "code",
   "execution_count": 396,
   "metadata": {},
   "outputs": [
    {
     "name": "stdout",
     "output_type": "stream",
     "text": [
      "[0.13116647 0.8688335 ]\n",
      "gunshot\n"
     ]
    },
    {
     "data": {
      "text/html": [
       "\n",
       "                <audio controls=\"controls\" >\n",
       "                    <source src=\"data:audio/wav;base64,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\" type=\"audio/wav\" />\n",
       "                    Your browser does not support the audio element.\n",
       "                </audio>\n",
       "              "
      ],
      "text/plain": [
       "<IPython.lib.display.Audio object>"
      ]
     },
     "execution_count": 396,
     "metadata": {},
     "output_type": "execute_result"
    },
    {
     "data": {
      "image/png": "[encoded data removed]",
      "text/plain": [
       "<Figure size 864x288 with 1 Axes>"
      ]
     },
     "metadata": {},
     "output_type": "display_data"
    }
   ],
   "source": [
    "#[0, 1] = gunshot\n",
    "i = 0\n",
    "print(val_pred[i, :])\n",
    "print(val_pred1[i])\n",
    "show(validation [i])\n",
    "ipd.Audio(validation [i], rate=22050)"
   ]
  },
  {
   "cell_type": "code",
   "execution_count": null,
   "metadata": {},
   "outputs": [],
   "source": []
  },
  {
   "cell_type": "code",
   "execution_count": 32,
   "metadata": {},
   "outputs": [
    {
     "data": {
      "text/plain": [
       "array([1, 1, 1, ..., 0, 0, 0])"
      ]
     },
     "execution_count": 32,
     "metadata": {},
     "output_type": "execute_result"
    }
   ],
   "source": [
    "labels"
   ]
  },
  {
   "cell_type": "code",
   "execution_count": null,
   "metadata": {},
   "outputs": [],
   "source": [
    "Y_test_pred = model.predict(test_wav)\n",
    "y_predicted_classes_test = Y_test_pred.argmax(axis=-1)\n",
    "y_actual_classes_test= test_label.argmax(axis=-1)\n",
    "wrong_examples = np.nonzero(y_predicted_classes_test != y_actual_classes_test)"
   ]
  },
  {
   "cell_type": "code",
   "execution_count": null,
   "metadata": {},
   "outputs": [],
   "source": [
    "print(wrong_examples)\n",
    "y_test = test_label"
   ]
  },
  {
   "cell_type": "code",
   "execution_count": null,
   "metadata": {},
   "outputs": [],
   "source": [
    "i=2012\n",
    "samp=np.reshape(test_wav[i],44100,)\n",
    "sr=22050\n",
    "print(y_test[i],Y_test_pred[i])\n",
    "ipd.Audio(samp, rate=sr)"
   ]
  },
  {
   "cell_type": "code",
   "execution_count": null,
   "metadata": {},
   "outputs": [],
   "source": [
    "i=5\n",
    "samp=np.reshape(test_wav[i],44100,)\n",
    "sr=22050\n",
    "print(y_test[i],Y_test_pred[i])\n",
    "ipd.Audio(samp, rate=sr)"
   ]
  },
  {
   "cell_type": "code",
   "execution_count": null,
   "metadata": {},
   "outputs": [],
   "source": [
    "i=19\n",
    "samp=np.reshape(test_wav[i],44100,)\n",
    "sr=22050\n",
    "print(y_test[i],Y_test_pred[i])\n",
    "ipd.Audio(samp, rate=sr)"
   ]
  },
  {
   "cell_type": "code",
   "execution_count": null,
   "metadata": {},
   "outputs": [],
   "source": [
    "i=41\n",
    "samp=np.reshape(test_wav[i],44100,)\n",
    "sr=22050\n",
    "print(y_test[i],Y_test_pred[i])\n",
    "ipd.Audio(samp, rate=sr)"
   ]
  },
  {
   "cell_type": "code",
   "execution_count": null,
   "metadata": {},
   "outputs": [],
   "source": [
    "i=504\n",
    "samp=np.reshape(test_wav[i],44100,)\n",
    "sr=22050\n",
    "print(y_test[i],Y_test_pred[i])\n",
    "ipd.Audio(samp, rate=sr)"
   ]
  },
  {
   "cell_type": "code",
   "execution_count": 268,
   "metadata": {},
   "outputs": [],
   "source": [
    "lb = LabelBinarizer()"
   ]
  },
  {
   "cell_type": "code",
   "execution_count": 272,
   "metadata": {},
   "outputs": [
    {
     "data": {
      "text/plain": [
       "array([[1, 0, 0],\n",
       "       [0, 0, 1],\n",
       "       [0, 1, 0]])"
      ]
     },
     "execution_count": 272,
     "metadata": {},
     "output_type": "execute_result"
    }
   ],
   "source": [
    "lb.fit_transform([1, 3, 2])"
   ]
  },
  {
   "cell_type": "code",
   "execution_count": null,
   "metadata": {},
   "outputs": [],
   "source": []
  }
 ],
 "metadata": {
  "kernelspec": {
   "display_name": "Python 3",
   "language": "python",
   "name": "python3"
  },
  "language_info": {
   "codemirror_mode": {
    "name": "ipython",
    "version": 3
   },
   "file_extension": ".py",
   "mimetype": "text/x-python",
   "name": "python",
   "nbconvert_exporter": "python",
   "pygments_lexer": "ipython3",
   "version": "3.6.4"
  }
 },
 "nbformat": 4,
 "nbformat_minor": 2
}
