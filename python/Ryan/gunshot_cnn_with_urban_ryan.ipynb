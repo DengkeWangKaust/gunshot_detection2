{
 "cells": [
  {
   "cell_type": "code",
   "execution_count": 1,
   "metadata": {},
   "outputs": [
    {
     "name": "stderr",
     "output_type": "stream",
     "text": [
      "Using TensorFlow backend.\n"
     ]
    }
   ],
   "source": [
    "# File Directory \n",
    "import glob\n",
    "import os\n",
    "from os.path import isdir, join\n",
    "from pathlib import Path\n",
    "\n",
    "# Math\n",
    "import numpy as np\n",
    "from scipy.fftpack import fft\n",
    "from scipy import signal\n",
    "import librosa\n",
    "\n",
    "# Dimension Reduction\n",
    "from sklearn.decomposition import PCA\n",
    "\n",
    "# Visualization\n",
    "import matplotlib.pyplot as plt\n",
    "import seaborn as sns\n",
    "import IPython.display as ipd\n",
    "import librosa.display\n",
    "'''import plotly.offline as py\n",
    "import plotly.graph_objs as go\n",
    "import plotly.tools as tls'''\n",
    "\n",
    "# Data Pre-processing\n",
    "import pandas as pd\n",
    "from sklearn.model_selection import KFold\n",
    "import soundfile\n",
    "\n",
    "# Deep Learning\n",
    "import tensorflow as tf\n",
    "import tensorflow.keras as keras\n",
    "from tensorflow.keras.layers import Dense, Dropout, Flatten\n",
    "from tensorflow.keras import Input, layers\n",
    "#from tensorflow.keras import backend as K\n",
    "import cv2\n",
    "\n",
    "# Configuration\n",
    "#py.init_notebook_mode(connected=True)\n",
    "\n",
    "from keras.activations import relu, softmax\n",
    "from keras.layers import (Convolution1D, Dense, Dropout, GlobalAveragePooling1D, \n",
    "                          GlobalMaxPool1D, Input, MaxPool1D, concatenate)\n",
    "from keras import losses, models, optimizers\n",
    "from keras.callbacks import (EarlyStopping, LearningRateScheduler,\n",
    "                             ModelCheckpoint, TensorBoard, ReduceLROnPlateau)\n",
    "from keras import backend as K\n",
    "\n",
    "%matplotlib inline"
   ]
  },
  {
   "cell_type": "code",
   "execution_count": null,
   "metadata": {},
   "outputs": [],
   "source": [
    "samples=[]\n",
    "labels = []\n",
    "sample_slice_iteration = 0\n",
    "\n",
    "gunshot_sound_dir = \"C:\\\\Users\\\\hosle\\\\Documents\\\\_REU2019\\\\gunshot\\\\\"\n",
    "\n",
    "for file in os.listdir(gunshot_sound_dir):\n",
    "    if file.endswith(\".wav\"):\n",
    "        sample, sample_rate = librosa.load(gunshot_sound_dir + file)\n",
    "        if (sample.size <= 44100):\n",
    "            sample_slice = np.zeros(44100)\n",
    "            sample_slice[0:sample.size] = sample\n",
    "            label = 1\n",
    "            sample_slice_iteration += 1\n",
    "            if np.max(abs(sample_slice)) < 0.25:\n",
    "                label = 0\n",
    "\n",
    "            samples.append(sample_slice)\n",
    "            labels.append(label)\n",
    "            \n",
    "        for i in range(0, sample.size - 44100, 44100):\n",
    "            sample_slice = sample[i : i + 44100]\n",
    "            label = 1\n",
    "            sample_slice_iteration += 1\n",
    "            if np.max(abs(sample_slice)) < 0.25:\n",
    "                label = 0\n",
    "\n",
    "            samples.append(sample_slice)\n",
    "            labels.append(label)\n",
    "        \n",
    "glassbreak_sound_dir = \"C:\\\\Users\\\\hosle\\\\Documents\\\\_REU2019\\\\glassbreak\\\\\"\n",
    "\n",
    "print(\"...Switching to glassbreak sounds...\")\n",
    "\n",
    "for file in os.listdir(glassbreak_sound_dir):\n",
    "    if file.endswith(\".wav\"):\n",
    "        sample, sample_rate = librosa.load(glassbreak_sound_dir + file)\n",
    "        if (sample.size <= 44100):\n",
    "            sample_slice = np.zeros(44100)\n",
    "            sample_slice[0:sample.size] = sample\n",
    "            label = 0\n",
    "            sample_slice_iteration += 1\n",
    "            if np.max(abs(sample_slice)) < 0.5:\n",
    "                label = 0\n",
    "\n",
    "            samples.append(sample_slice)\n",
    "            labels.append(label)\n",
    "            \n",
    "        for i in range(0, sample.size - 44100, 44100):\n",
    "            sample_slice = sample[i : i + 44100]\n",
    "            label = 0\n",
    "            sample_slice_iteration += 1\n",
    "            if np.max(abs(sample_slice)) < 0.5:\n",
    "                label = 0\n",
    "\n",
    "            samples.append(sample_slice)\n",
    "            labels.append(label)"
   ]
  },
  {
   "cell_type": "code",
   "execution_count": null,
   "metadata": {},
   "outputs": [],
   "source": [
    "np.save(\"samples.npy\", samples)\n",
    "np.save(\"labels.npy\", labels)"
   ]
  },
  {
   "cell_type": "code",
   "execution_count": null,
   "metadata": {},
   "outputs": [],
   "source": []
  },
  {
   "cell_type": "code",
   "execution_count": null,
   "metadata": {},
   "outputs": [],
   "source": [
    "mypath = \"C:\\\\Users\\\\hosle\\\\Documents\\\\_REU2019\\\\_project\\\\gunshot_detection\\\\Train\\\\\"\n",
    "dr = os.listdir(mypath)\n",
    "for i in range(len(dr)):\n",
    "    dr[i] = int(dr[i][:-4])\n",
    "dr = np.sort(dr)\n",
    "files = np.zeros(len(dr)).astype('str')\n",
    "for i in range(len(dr)):\n",
    "    files[i] = str(dr[i]) + '.wav'\n",
    "files"
   ]
  },
  {
   "cell_type": "code",
   "execution_count": null,
   "metadata": {
    "scrolled": true
   },
   "outputs": [],
   "source": [
    "#read in the csv file of descriptors for all other urban sounds\n",
    "sound_types = pd.read_csv(\"C:\\\\Users\\\\hosle\\\\Documents\\\\_REU2019\\\\_project\\\\gunshot_detection\\\\train.csv\")\n",
    "print(sound_types.loc[0,'Class'])\n",
    "\n",
    "j=0\n",
    "count = 0\n",
    "#read in all of the wav files similar to above\n",
    "urban_sound_dir = \"C:\\\\Users\\\\hosle\\\\Documents\\\\_REU2019\\\\_project\\\\gunshot_detection\\\\Train\\\\\"\n",
    "\n",
    "for file in files:\n",
    "    if file.endswith(\".wav\"):\n",
    "        count += 1\n",
    "        sample, sample_rate = librosa.load(urban_sound_dir + file)\n",
    "        if (count % 100 == 0):\n",
    "            print (count)\n",
    "        if (sample.size <= 44100):\n",
    "            sample_slice = np.zeros(44100)\n",
    "            sample_slice[0:sample.size] = sample\n",
    "            if(sound_types.loc[j, 'Class'] == \"gun_shot\"):\n",
    "                label = 1\n",
    "            else:\n",
    "                label = 0\n",
    "            sample_slice_iteration += 1\n",
    "            if np.max(abs(sample_slice)) < 0.25:\n",
    "                label = 0\n",
    "\n",
    "            samples.append(sample_slice)\n",
    "            labels.append(label)\n",
    "\n",
    "\n",
    "        for i in range(0, sample.size - 44100, 44100):\n",
    "            sample_slice = sample[i : i + 44100]\n",
    "            if(sound_types.loc[j, 'Class'] == \"gun_shot\"):\n",
    "                label = 1\n",
    "            else:\n",
    "                label = 0\n",
    "            sample_slice_iteration += 1\n",
    "            if np.max(abs(sample_slice)) < 0.25:\n",
    "                label = 0\n",
    "\n",
    "            samples.append(sample_slice)\n",
    "            labels.append(label)\n",
    "        j +=1\n"
   ]
  },
  {
   "cell_type": "markdown",
   "metadata": {},
   "source": [
    "## Fireworks"
   ]
  },
  {
   "cell_type": "code",
   "execution_count": null,
   "metadata": {},
   "outputs": [],
   "source": [
    "samples = list(np.load(\"samples.npy\"))\n",
    "labels = list(np.load(\"labels.npy\"))"
   ]
  },
  {
   "cell_type": "code",
   "execution_count": null,
   "metadata": {},
   "outputs": [],
   "source": [
    "sample_slice_iteration = 0\n",
    "\n",
    "sound_dir = \"C:\\\\Users\\\\hosle\\\\Documents\\\\_REU2019\\\\_project\\\\gunshot_detection\\\\fireworks\\\\\"\n",
    "\n",
    "for file in os.listdir(sound_dir):\n",
    "    if file.endswith(\".wav\"):\n",
    "        sample, sample_rate = librosa.load(sound_dir + file)\n",
    "        if (sample.size <= 44100):\n",
    "            sample_slice = np.zeros(44100)\n",
    "            sample_slice[0:sample.size] = sample\n",
    "            label = 0\n",
    "            sample_slice_iteration += 1\n",
    "            if np.max(abs(sample_slice)) < 0.25:\n",
    "                label = 0\n",
    "\n",
    "            samples.append(sample_slice)\n",
    "            labels.append(label)\n",
    "            \n",
    "        for i in range(0, sample.size - 44100, 44100):\n",
    "            sample_slice = sample[i : i + 44100]\n",
    "            label = 0\n",
    "            sample_slice_iteration += 1\n",
    "            if np.max(abs(sample_slice)) < 0.25:\n",
    "                label = 0\n",
    "\n",
    "            samples.append(sample_slice)\n",
    "            labels.append(label)"
   ]
  },
  {
   "cell_type": "code",
   "execution_count": null,
   "metadata": {},
   "outputs": [],
   "source": [
    "print(len(samples))\n",
    "i=450\n",
    "samp=samples[i]\n",
    "sr=2050\n",
    "print(np.max(abs(samp)))\n",
    "print(labels[i])\n",
    "ipd.Audio(samp, rate=sr)"
   ]
  },
  {
   "cell_type": "code",
   "execution_count": null,
   "metadata": {},
   "outputs": [],
   "source": [
    "sum(labels)"
   ]
  },
  {
   "cell_type": "code",
   "execution_count": null,
   "metadata": {},
   "outputs": [],
   "source": [
    "np.save(\"samples.npy\", samples)\n",
    "np.save(\"labels.npy\", labels)"
   ]
  },
  {
   "cell_type": "code",
   "execution_count": null,
   "metadata": {},
   "outputs": [],
   "source": [
    "samples = np.load(\"samples.npy\")\n",
    "labels = np.load(\"labels.npy\")"
   ]
  },
  {
   "cell_type": "markdown",
   "metadata": {},
   "source": [
    "## Augment data"
   ]
  },
  {
   "cell_type": "code",
   "execution_count": null,
   "metadata": {},
   "outputs": [],
   "source": [
    "def time_shift(wav):\n",
    "    start_ = int(np.random.uniform(-4800,4800))\n",
    "    if start_ >= 0:\n",
    "        wav_time_shift = np.r_[wav[start_:], np.random.uniform(-0.001,0.001, start_)]\n",
    "    else:\n",
    "        wav_time_shift = np.r_[np.random.uniform(-0.001,0.001, -start_), wav[:start_]]\n",
    "    return wav_time_shift\n",
    "\n",
    "def speed_change(wav):\n",
    "    speed_rate = np.random.uniform(0.7,1.3)\n",
    "    wav_speed_tune = cv2.resize(wav, (1, int(len(wav) * speed_rate))).squeeze()\n",
    "    #print('speed rate: %.3f' % speed_rate, '(lower is faster)')\n",
    "    if len(wav_speed_tune) < len(wav):\n",
    "        pad_len = len(wav) - len(wav_speed_tune)\n",
    "        wav_speed_tune = np.r_[np.random.uniform(-0.001,0.001,int(pad_len/2)),\n",
    "                               wav_speed_tune,\n",
    "                               np.random.uniform(-0.001,0.001,int(np.ceil(pad_len/2)))]\n",
    "    else: \n",
    "        cut_len = len(wav_speed_tune) - len(wav)\n",
    "        wav_speed_tune = wav_speed_tune[int(cut_len/2):int(cut_len/2)+len(wav)]\n",
    "    return wav_speed_tune"
   ]
  },
  {
   "cell_type": "code",
   "execution_count": null,
   "metadata": {},
   "outputs": [],
   "source": [
    "samples.shape[0]"
   ]
  },
  {
   "cell_type": "code",
   "execution_count": null,
   "metadata": {},
   "outputs": [],
   "source": [
    "aug_labels = np.zeros((labels.shape[0]*3,))\n",
    "aug_labels[1]"
   ]
  },
  {
   "cell_type": "code",
   "execution_count": null,
   "metadata": {},
   "outputs": [],
   "source": [
    "aug_samples = np.zeros((samples.shape[0]*3, samples.shape[1]))\n",
    "aug_labels = np.zeros((labels.shape[0]*3,))\n",
    "j = 0\n",
    "for i in range (0, len(aug_samples), 3):\n",
    "    aug_samples[i,:] = samples[j,:]\n",
    "    aug_samples[i+1,:] = time_shift(samples[j,:])\n",
    "    aug_samples[i+2,:] = speed_change(samples[j,:])\n",
    "    \n",
    "    aug_labels[i] = labels[j]\n",
    "    aug_labels[i+1] = labels[j]\n",
    "    aug_labels[i+2] = labels[j]\n",
    "    j += 1"
   ]
  },
  {
   "cell_type": "code",
   "execution_count": null,
   "metadata": {},
   "outputs": [],
   "source": [
    "np.save(\"aug_samples.npy\", aug_samples)\n",
    "np.save(\"aug_labels.npy\", aug_labels)"
   ]
  },
  {
   "cell_type": "markdown",
   "metadata": {},
   "source": [
    "## Model"
   ]
  },
  {
   "cell_type": "code",
   "execution_count": 293,
   "metadata": {},
   "outputs": [],
   "source": [
    "from sklearn.preprocessing import LabelBinarizer\n",
    "samples = np.load(\"samples.npy\")\n",
    "labels = np.load(\"labels.npy\")"
   ]
  },
  {
   "cell_type": "code",
   "execution_count": 294,
   "metadata": {},
   "outputs": [],
   "source": [
    "l = []\n",
    "for i in range(len(labels)):\n",
    "    if labels[i] == 1:\n",
    "        l.append('gunshot')\n",
    "    else:\n",
    "        l.append('other')"
   ]
  },
  {
   "cell_type": "code",
   "execution_count": 295,
   "metadata": {},
   "outputs": [],
   "source": [
    "lb = LabelBinarizer()\n",
    "labels = lb.fit_transform(l)"
   ]
  },
  {
   "cell_type": "code",
   "execution_count": 297,
   "metadata": {},
   "outputs": [
    {
     "data": {
      "text/plain": [
       "array([[0, 1],\n",
       "       [0, 1],\n",
       "       [0, 1],\n",
       "       ...,\n",
       "       [1, 0],\n",
       "       [1, 0],\n",
       "       [1, 0]])"
      ]
     },
     "execution_count": 297,
     "metadata": {},
     "output_type": "execute_result"
    }
   ],
   "source": [
    "labels = np.hstack((labels, 1 - labels))\n",
    "labels"
   ]
  },
  {
   "cell_type": "code",
   "execution_count": 276,
   "metadata": {},
   "outputs": [
    {
     "name": "stdout",
     "output_type": "stream",
     "text": [
      "TRAIN: [   1    2    3 ... 6374 6375 6377] TEST: [   0    6    7 ... 6369 6371 6376]\n",
      "TRAIN: [   0    1    5 ... 6374 6375 6376] TEST: [   2    3    4 ... 6372 6373 6377]\n",
      "TRAIN: [   0    2    3 ... 6373 6376 6377] TEST: [   1    5    9 ... 6370 6374 6375]\n"
     ]
    }
   ],
   "source": [
    "kf = KFold(n_splits=3, shuffle=True)\n",
    "'''samples = aug_samples #np.array(samples)\n",
    "labels = aug_labels #np.array(labels)'''\n",
    "\n",
    "#labels = keras.utils.to_categorical(labels, 2)\n",
    "for train_index, test_index in kf.split(samples):\n",
    "    print(\"TRAIN:\", train_index, \"TEST:\", test_index)\n",
    "    train_wav, test_wav = samples[train_index], samples[test_index]\n",
    "    train_label, test_label = labels[train_index], labels[test_index]"
   ]
  },
  {
   "cell_type": "code",
   "execution_count": 16,
   "metadata": {},
   "outputs": [],
   "source": [
    "def show(data):\n",
    "    plt.figure(figsize=(12, 4))\n",
    "    librosa.display.waveplot(data, sr = 16000)"
   ]
  },
  {
   "cell_type": "code",
   "execution_count": 91,
   "metadata": {},
   "outputs": [
    {
     "name": "stdout",
     "output_type": "stream",
     "text": [
      "[0. 1.]\n"
     ]
    },
    {
     "data": {
      "image/png": "[encoded data removed]",
      "text/plain": [
       "<Figure size 864x288 with 1 Axes>"
      ]
     },
     "metadata": {},
     "output_type": "display_data"
    }
   ],
   "source": [
    "d = 0\n",
    "print(labels[d])\n",
    "show(samples[d,:])"
   ]
  },
  {
   "cell_type": "code",
   "execution_count": 277,
   "metadata": {},
   "outputs": [],
   "source": [
    "# Parameters\n",
    "lr = 0.001\n",
    "generations = 20000\n",
    "num_gens_to_wait = 250\n",
    "batch_size = 32\n",
    "drop_out_rate = 0.2\n",
    "input_shape = (44100,1)"
   ]
  },
  {
   "cell_type": "code",
   "execution_count": 278,
   "metadata": {},
   "outputs": [],
   "source": [
    "#For Conv1D add Channel\n",
    "train_wav = np.array(train_wav)\n",
    "test_wav = np.array(test_wav)\n",
    "train_wav = train_wav.reshape(-1,44100,1)\n",
    "test_wav = test_wav.reshape(-1,44100,1)\n",
    "#train_label = keras.utils.to_categorical(train_label, 2)\n",
    "#test_label = keras.utils.to_categorical(test_label, 2)"
   ]
  },
  {
   "cell_type": "code",
   "execution_count": 49,
   "metadata": {},
   "outputs": [
    {
     "name": "stdout",
     "output_type": "stream",
     "text": [
      "[0. 1.]\n",
      "[0. 1.]\n"
     ]
    }
   ],
   "source": [
    "print(train_label[0])\n",
    "print(test_label[0])"
   ]
  },
  {
   "cell_type": "markdown",
   "metadata": {},
   "source": [
    "### ROC AUC metric used. Make sure to use the import: from keras import backend as K "
   ]
  },
  {
   "cell_type": "code",
   "execution_count": 38,
   "metadata": {},
   "outputs": [],
   "source": [
    "def auc(y_true, y_pred):\n",
    "    auc = tf.metrics.auc(y_true, y_pred)[1]\n",
    "    K.get_session().run(tf.local_variables_initializer())\n",
    "    return auc"
   ]
  },
  {
   "cell_type": "code",
   "execution_count": 50,
   "metadata": {},
   "outputs": [],
   "source": [
    "input_tensor = Input(shape=input_shape)\n",
    "nclass = 2\n",
    "\n",
    "x = Convolution1D(16, 9, activation=relu, padding=\"same\")(input_tensor)\n",
    "x = Convolution1D(16, 9, activation=relu, padding=\"same\")(x)\n",
    "x = MaxPool1D(16)(x)\n",
    "x = Dropout(rate=0.1)(x)\n",
    "\n",
    "x = Convolution1D(32, 3, activation=relu, padding=\"same\")(x)\n",
    "x = Convolution1D(32, 3, activation=relu, padding=\"same\")(x)\n",
    "x = MaxPool1D(4)(x)\n",
    "x = Dropout(rate=0.1)(x)\n",
    "\n",
    "x = Convolution1D(32, 3, activation=relu, padding=\"same\")(x)\n",
    "x = Convolution1D(32, 3, activation=relu, padding=\"same\")(x)\n",
    "x = MaxPool1D(4)(x)\n",
    "x = Dropout(rate=0.1)(x)\n",
    "\n",
    "x = Convolution1D(256, 3, activation=relu, padding=\"same\")(x)\n",
    "x = Convolution1D(256, 3, activation=relu, padding=\"same\")(x)\n",
    "x = GlobalMaxPool1D()(x)\n",
    "x = Dropout(rate=0.2)(x)\n",
    "\n",
    "x = Dense(64, activation=relu)(x)\n",
    "x = Dense(1028, activation=relu)(x)\n",
    "output_tensor = Dense(nclass, activation=softmax)(x)\n",
    "\n",
    "model = models.Model(inputs=input_tensor, outputs=output_tensor)\n",
    "opt = optimizers.Adam(0.001, 0.001 / 100)\n",
    "\n",
    "model.compile(optimizer=opt, loss=losses.binary_crossentropy, metrics=[auc, 'acc'])"
   ]
  },
  {
   "cell_type": "code",
   "execution_count": 40,
   "metadata": {},
   "outputs": [],
   "source": [
    "model_filename = '1Dcnngunglass.pkl' \n",
    "callbacks = [\n",
    "    EarlyStopping(monitor='val_auc',\n",
    "                  patience=10,\n",
    "                  verbose=1,\n",
    "                  mode='max'),\n",
    "    \n",
    "    ModelCheckpoint(model_filename, monitor='val_auc',\n",
    "                    verbose=1,\n",
    "                    save_best_only=True,\n",
    "                    mode='max'),\n",
    "]"
   ]
  },
  {
   "cell_type": "code",
   "execution_count": 41,
   "metadata": {},
   "outputs": [
    {
     "name": "stdout",
     "output_type": "stream",
     "text": [
      "Train on 4252 samples, validate on 2126 samples\n",
      "Epoch 1/100\n",
      "4252/4252 [==============================] - 14s 3ms/step - loss: 0.2310 - auc: 0.9242 - acc: 0.9198 - val_loss: 0.1007 - val_auc: 0.9718 - val_acc: 0.9610\n",
      "\n",
      "Epoch 00001: val_auc improved from -inf to 0.97179, saving model to 1Dcnngunglass.pkl\n",
      "Epoch 2/100\n",
      "1088/4252 [======>.......................] - ETA: 7s - loss: 0.1119 - auc: 0.9797 - acc: 0.9632"
     ]
    },
    {
     "ename": "KeyboardInterrupt",
     "evalue": "",
     "output_type": "error",
     "traceback": [
      "\u001b[1;31m---------------------------------------------------------------------------\u001b[0m",
      "\u001b[1;31mKeyboardInterrupt\u001b[0m                         Traceback (most recent call last)",
      "\u001b[1;32m<ipython-input-41-935112a58c68>\u001b[0m in \u001b[0;36m<module>\u001b[1;34m()\u001b[0m\n\u001b[0;32m      4\u001b[0m           \u001b[0mcallbacks\u001b[0m \u001b[1;33m=\u001b[0m \u001b[0mcallbacks\u001b[0m\u001b[1;33m,\u001b[0m\u001b[1;33m\u001b[0m\u001b[0m\n\u001b[0;32m      5\u001b[0m           \u001b[0mepochs\u001b[0m\u001b[1;33m=\u001b[0m\u001b[1;36m100\u001b[0m\u001b[1;33m,\u001b[0m\u001b[1;33m\u001b[0m\u001b[0m\n\u001b[1;32m----> 6\u001b[1;33m           verbose=1)\n\u001b[0m",
      "\u001b[1;32m~\\Anaconda3\\lib\\site-packages\\keras\\engine\\training.py\u001b[0m in \u001b[0;36mfit\u001b[1;34m(self, x, y, batch_size, epochs, verbose, callbacks, validation_split, validation_data, shuffle, class_weight, sample_weight, initial_epoch, steps_per_epoch, validation_steps, **kwargs)\u001b[0m\n\u001b[0;32m   1037\u001b[0m                                         \u001b[0minitial_epoch\u001b[0m\u001b[1;33m=\u001b[0m\u001b[0minitial_epoch\u001b[0m\u001b[1;33m,\u001b[0m\u001b[1;33m\u001b[0m\u001b[0m\n\u001b[0;32m   1038\u001b[0m                                         \u001b[0msteps_per_epoch\u001b[0m\u001b[1;33m=\u001b[0m\u001b[0msteps_per_epoch\u001b[0m\u001b[1;33m,\u001b[0m\u001b[1;33m\u001b[0m\u001b[0m\n\u001b[1;32m-> 1039\u001b[1;33m                                         validation_steps=validation_steps)\n\u001b[0m\u001b[0;32m   1040\u001b[0m \u001b[1;33m\u001b[0m\u001b[0m\n\u001b[0;32m   1041\u001b[0m     def evaluate(self, x=None, y=None,\n",
      "\u001b[1;32m~\\Anaconda3\\lib\\site-packages\\keras\\engine\\training_arrays.py\u001b[0m in \u001b[0;36mfit_loop\u001b[1;34m(model, f, ins, out_labels, batch_size, epochs, verbose, callbacks, val_f, val_ins, shuffle, callback_metrics, initial_epoch, steps_per_epoch, validation_steps)\u001b[0m\n\u001b[0;32m    197\u001b[0m                     \u001b[0mins_batch\u001b[0m\u001b[1;33m[\u001b[0m\u001b[0mi\u001b[0m\u001b[1;33m]\u001b[0m \u001b[1;33m=\u001b[0m \u001b[0mins_batch\u001b[0m\u001b[1;33m[\u001b[0m\u001b[0mi\u001b[0m\u001b[1;33m]\u001b[0m\u001b[1;33m.\u001b[0m\u001b[0mtoarray\u001b[0m\u001b[1;33m(\u001b[0m\u001b[1;33m)\u001b[0m\u001b[1;33m\u001b[0m\u001b[0m\n\u001b[0;32m    198\u001b[0m \u001b[1;33m\u001b[0m\u001b[0m\n\u001b[1;32m--> 199\u001b[1;33m                 \u001b[0mouts\u001b[0m \u001b[1;33m=\u001b[0m \u001b[0mf\u001b[0m\u001b[1;33m(\u001b[0m\u001b[0mins_batch\u001b[0m\u001b[1;33m)\u001b[0m\u001b[1;33m\u001b[0m\u001b[0m\n\u001b[0m\u001b[0;32m    200\u001b[0m                 \u001b[0mouts\u001b[0m \u001b[1;33m=\u001b[0m \u001b[0mto_list\u001b[0m\u001b[1;33m(\u001b[0m\u001b[0mouts\u001b[0m\u001b[1;33m)\u001b[0m\u001b[1;33m\u001b[0m\u001b[0m\n\u001b[0;32m    201\u001b[0m                 \u001b[1;32mfor\u001b[0m \u001b[0ml\u001b[0m\u001b[1;33m,\u001b[0m \u001b[0mo\u001b[0m \u001b[1;32min\u001b[0m \u001b[0mzip\u001b[0m\u001b[1;33m(\u001b[0m\u001b[0mout_labels\u001b[0m\u001b[1;33m,\u001b[0m \u001b[0mouts\u001b[0m\u001b[1;33m)\u001b[0m\u001b[1;33m:\u001b[0m\u001b[1;33m\u001b[0m\u001b[0m\n",
      "\u001b[1;32m~\\Anaconda3\\lib\\site-packages\\keras\\backend\\tensorflow_backend.py\u001b[0m in \u001b[0;36m__call__\u001b[1;34m(self, inputs)\u001b[0m\n\u001b[0;32m   2713\u001b[0m                 \u001b[1;32mreturn\u001b[0m \u001b[0mself\u001b[0m\u001b[1;33m.\u001b[0m\u001b[0m_legacy_call\u001b[0m\u001b[1;33m(\u001b[0m\u001b[0minputs\u001b[0m\u001b[1;33m)\u001b[0m\u001b[1;33m\u001b[0m\u001b[0m\n\u001b[0;32m   2714\u001b[0m \u001b[1;33m\u001b[0m\u001b[0m\n\u001b[1;32m-> 2715\u001b[1;33m             \u001b[1;32mreturn\u001b[0m \u001b[0mself\u001b[0m\u001b[1;33m.\u001b[0m\u001b[0m_call\u001b[0m\u001b[1;33m(\u001b[0m\u001b[0minputs\u001b[0m\u001b[1;33m)\u001b[0m\u001b[1;33m\u001b[0m\u001b[0m\n\u001b[0m\u001b[0;32m   2716\u001b[0m         \u001b[1;32melse\u001b[0m\u001b[1;33m:\u001b[0m\u001b[1;33m\u001b[0m\u001b[0m\n\u001b[0;32m   2717\u001b[0m             \u001b[1;32mif\u001b[0m \u001b[0mpy_any\u001b[0m\u001b[1;33m(\u001b[0m\u001b[0mis_tensor\u001b[0m\u001b[1;33m(\u001b[0m\u001b[0mx\u001b[0m\u001b[1;33m)\u001b[0m \u001b[1;32mfor\u001b[0m \u001b[0mx\u001b[0m \u001b[1;32min\u001b[0m \u001b[0minputs\u001b[0m\u001b[1;33m)\u001b[0m\u001b[1;33m:\u001b[0m\u001b[1;33m\u001b[0m\u001b[0m\n",
      "\u001b[1;32m~\\Anaconda3\\lib\\site-packages\\keras\\backend\\tensorflow_backend.py\u001b[0m in \u001b[0;36m_call\u001b[1;34m(self, inputs)\u001b[0m\n\u001b[0;32m   2673\u001b[0m             \u001b[0mfetched\u001b[0m \u001b[1;33m=\u001b[0m \u001b[0mself\u001b[0m\u001b[1;33m.\u001b[0m\u001b[0m_callable_fn\u001b[0m\u001b[1;33m(\u001b[0m\u001b[1;33m*\u001b[0m\u001b[0marray_vals\u001b[0m\u001b[1;33m,\u001b[0m \u001b[0mrun_metadata\u001b[0m\u001b[1;33m=\u001b[0m\u001b[0mself\u001b[0m\u001b[1;33m.\u001b[0m\u001b[0mrun_metadata\u001b[0m\u001b[1;33m)\u001b[0m\u001b[1;33m\u001b[0m\u001b[0m\n\u001b[0;32m   2674\u001b[0m         \u001b[1;32melse\u001b[0m\u001b[1;33m:\u001b[0m\u001b[1;33m\u001b[0m\u001b[0m\n\u001b[1;32m-> 2675\u001b[1;33m             \u001b[0mfetched\u001b[0m \u001b[1;33m=\u001b[0m \u001b[0mself\u001b[0m\u001b[1;33m.\u001b[0m\u001b[0m_callable_fn\u001b[0m\u001b[1;33m(\u001b[0m\u001b[1;33m*\u001b[0m\u001b[0marray_vals\u001b[0m\u001b[1;33m)\u001b[0m\u001b[1;33m\u001b[0m\u001b[0m\n\u001b[0m\u001b[0;32m   2676\u001b[0m         \u001b[1;32mreturn\u001b[0m \u001b[0mfetched\u001b[0m\u001b[1;33m[\u001b[0m\u001b[1;33m:\u001b[0m\u001b[0mlen\u001b[0m\u001b[1;33m(\u001b[0m\u001b[0mself\u001b[0m\u001b[1;33m.\u001b[0m\u001b[0moutputs\u001b[0m\u001b[1;33m)\u001b[0m\u001b[1;33m]\u001b[0m\u001b[1;33m\u001b[0m\u001b[0m\n\u001b[0;32m   2677\u001b[0m \u001b[1;33m\u001b[0m\u001b[0m\n",
      "\u001b[1;32m~\\Anaconda3\\lib\\site-packages\\tensorflow\\python\\client\\session.py\u001b[0m in \u001b[0;36m__call__\u001b[1;34m(self, *args, **kwargs)\u001b[0m\n\u001b[0;32m   1437\u001b[0m           ret = tf_session.TF_SessionRunCallable(\n\u001b[0;32m   1438\u001b[0m               \u001b[0mself\u001b[0m\u001b[1;33m.\u001b[0m\u001b[0m_session\u001b[0m\u001b[1;33m.\u001b[0m\u001b[0m_session\u001b[0m\u001b[1;33m,\u001b[0m \u001b[0mself\u001b[0m\u001b[1;33m.\u001b[0m\u001b[0m_handle\u001b[0m\u001b[1;33m,\u001b[0m \u001b[0margs\u001b[0m\u001b[1;33m,\u001b[0m \u001b[0mstatus\u001b[0m\u001b[1;33m,\u001b[0m\u001b[1;33m\u001b[0m\u001b[0m\n\u001b[1;32m-> 1439\u001b[1;33m               run_metadata_ptr)\n\u001b[0m\u001b[0;32m   1440\u001b[0m         \u001b[1;32mif\u001b[0m \u001b[0mrun_metadata\u001b[0m\u001b[1;33m:\u001b[0m\u001b[1;33m\u001b[0m\u001b[0m\n\u001b[0;32m   1441\u001b[0m           \u001b[0mproto_data\u001b[0m \u001b[1;33m=\u001b[0m \u001b[0mtf_session\u001b[0m\u001b[1;33m.\u001b[0m\u001b[0mTF_GetBuffer\u001b[0m\u001b[1;33m(\u001b[0m\u001b[0mrun_metadata_ptr\u001b[0m\u001b[1;33m)\u001b[0m\u001b[1;33m\u001b[0m\u001b[0m\n",
      "\u001b[1;31mKeyboardInterrupt\u001b[0m: "
     ]
    }
   ],
   "source": [
    "model.fit(train_wav, train_label, \n",
    "          validation_data=[test_wav, test_label],\n",
    "          batch_size=batch_size,\n",
    "          callbacks = callbacks,\n",
    "          epochs=100,\n",
    "          verbose=1)"
   ]
  },
  {
   "cell_type": "markdown",
   "metadata": {},
   "source": [
    "### Validation"
   ]
  },
  {
   "cell_type": "code",
   "execution_count": 298,
   "metadata": {},
   "outputs": [],
   "source": [
    "model.load_weights(\"1Dcnngunglass.pkl\")"
   ]
  },
  {
   "cell_type": "code",
   "execution_count": 325,
   "metadata": {},
   "outputs": [],
   "source": [
    "mypath = \"C:\\\\Users\\\\hosle\\\\Downloads\\\\40_smith_wesson_8x_gunshot-mike-koenig.wav\"\n",
    "#mypath = \"C:\\\\Users\\\\hosle\\\\Documents\\\\_REU2019\\\\extra\\\\320134.wav\"\n",
    "#mypath = \"C:\\\\Users\\\\hosle\\\\Documents\\\\_REU2019\\\\_project\\\\gunshot_detection\\\\fireworks\\\\56608__syna-max__fireworks-well-i-guess-you-missed-it.wav\"\n",
    "\n",
    "fire, sr = librosa.load(mypath)"
   ]
  },
  {
   "cell_type": "code",
   "execution_count": 326,
   "metadata": {},
   "outputs": [
    {
     "data": {
      "image/png": "[encoded data removed]",
      "text/plain": [
       "<Figure size 864x288 with 1 Axes>"
      ]
     },
     "metadata": {},
     "output_type": "display_data"
    }
   ],
   "source": [
    "show(fire)"
   ]
  },
  {
   "cell_type": "code",
   "execution_count": 327,
   "metadata": {},
   "outputs": [],
   "source": [
    "validation = []\n",
    "for i in range(0, fire.size - 44100, 44100):\n",
    "    sample_slice = fire[i : i + 44100]\n",
    "    validation.append(sample_slice)\n",
    "validation = np.array(validation)\n",
    "validation_1 = validation.reshape(-1,44100,1)"
   ]
  },
  {
   "cell_type": "code",
   "execution_count": 328,
   "metadata": {},
   "outputs": [],
   "source": [
    "val_pred = model.predict(validation_1)"
   ]
  },
  {
   "cell_type": "code",
   "execution_count": 329,
   "metadata": {},
   "outputs": [
    {
     "name": "stdout",
     "output_type": "stream",
     "text": [
      "9\n"
     ]
    }
   ],
   "source": [
    "val_pred1 = lb.inverse_transform(val_pred[:, 0])\n",
    "print(len(val_pred1))"
   ]
  },
  {
   "cell_type": "code",
   "execution_count": 330,
   "metadata": {},
   "outputs": [
    {
     "data": {
      "text/plain": [
       "array([[0],\n",
       "       [2],\n",
       "       [4],\n",
       "       [5],\n",
       "       [6]], dtype=int64)"
      ]
     },
     "execution_count": 330,
     "metadata": {},
     "output_type": "execute_result"
    }
   ],
   "source": [
    "np.argwhere(val_pred1 == 'gunshot')"
   ]
  },
  {
   "cell_type": "code",
   "execution_count": 332,
   "metadata": {},
   "outputs": [
    {
     "name": "stdout",
     "output_type": "stream",
     "text": [
      "[9.9999964e-01 2.9884450e-07]\n",
      "other\n"
     ]
    },
    {
     "data": {
      "text/html": [
       "\n",
       "                <audio controls=\"controls\" >\n",
       "                    <source src=\"data:audio/wav;base64,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\" type=\"audio/wav\" />\n",
       "                    Your browser does not support the audio element.\n",
       "                </audio>\n",
       "              "
      ],
      "text/plain": [
       "<IPython.lib.display.Audio object>"
      ]
     },
     "execution_count": 332,
     "metadata": {},
     "output_type": "execute_result"
    },
    {
     "data": {
      "image/png": "[encoded data removed]",
      "text/plain": [
       "<Figure size 864x288 with 1 Axes>"
      ]
     },
     "metadata": {},
     "output_type": "display_data"
    }
   ],
   "source": [
    "#[0, 1] = gunshot\n",
    "i = 1\n",
    "print(val_pred[i, :])\n",
    "print(val_pred1[i])\n",
    "show(validation [i])\n",
    "ipd.Audio(validation [i], rate=22050)"
   ]
  },
  {
   "cell_type": "code",
   "execution_count": null,
   "metadata": {},
   "outputs": [],
   "source": []
  },
  {
   "cell_type": "code",
   "execution_count": 32,
   "metadata": {},
   "outputs": [
    {
     "data": {
      "text/plain": [
       "array([1, 1, 1, ..., 0, 0, 0])"
      ]
     },
     "execution_count": 32,
     "metadata": {},
     "output_type": "execute_result"
    }
   ],
   "source": [
    "labels"
   ]
  },
  {
   "cell_type": "code",
   "execution_count": null,
   "metadata": {},
   "outputs": [],
   "source": [
    "Y_test_pred = model.predict(test_wav)\n",
    "y_predicted_classes_test = Y_test_pred.argmax(axis=-1)\n",
    "y_actual_classes_test= test_label.argmax(axis=-1)\n",
    "wrong_examples = np.nonzero(y_predicted_classes_test != y_actual_classes_test)"
   ]
  },
  {
   "cell_type": "code",
   "execution_count": null,
   "metadata": {},
   "outputs": [],
   "source": [
    "print(wrong_examples)\n",
    "y_test = test_label"
   ]
  },
  {
   "cell_type": "code",
   "execution_count": null,
   "metadata": {},
   "outputs": [],
   "source": [
    "i=2012\n",
    "samp=np.reshape(test_wav[i],44100,)\n",
    "sr=22050\n",
    "print(y_test[i],Y_test_pred[i])\n",
    "ipd.Audio(samp, rate=sr)"
   ]
  },
  {
   "cell_type": "code",
   "execution_count": null,
   "metadata": {},
   "outputs": [],
   "source": [
    "i=5\n",
    "samp=np.reshape(test_wav[i],44100,)\n",
    "sr=22050\n",
    "print(y_test[i],Y_test_pred[i])\n",
    "ipd.Audio(samp, rate=sr)"
   ]
  },
  {
   "cell_type": "code",
   "execution_count": null,
   "metadata": {},
   "outputs": [],
   "source": [
    "i=19\n",
    "samp=np.reshape(test_wav[i],44100,)\n",
    "sr=22050\n",
    "print(y_test[i],Y_test_pred[i])\n",
    "ipd.Audio(samp, rate=sr)"
   ]
  },
  {
   "cell_type": "code",
   "execution_count": null,
   "metadata": {},
   "outputs": [],
   "source": [
    "i=41\n",
    "samp=np.reshape(test_wav[i],44100,)\n",
    "sr=22050\n",
    "print(y_test[i],Y_test_pred[i])\n",
    "ipd.Audio(samp, rate=sr)"
   ]
  },
  {
   "cell_type": "code",
   "execution_count": null,
   "metadata": {},
   "outputs": [],
   "source": [
    "i=504\n",
    "samp=np.reshape(test_wav[i],44100,)\n",
    "sr=22050\n",
    "print(y_test[i],Y_test_pred[i])\n",
    "ipd.Audio(samp, rate=sr)"
   ]
  },
  {
   "cell_type": "code",
   "execution_count": 268,
   "metadata": {},
   "outputs": [],
   "source": [
    "lb = LabelBinarizer()"
   ]
  },
  {
   "cell_type": "code",
   "execution_count": 272,
   "metadata": {},
   "outputs": [
    {
     "data": {
      "text/plain": [
       "array([[1, 0, 0],\n",
       "       [0, 0, 1],\n",
       "       [0, 1, 0]])"
      ]
     },
     "execution_count": 272,
     "metadata": {},
     "output_type": "execute_result"
    }
   ],
   "source": [
    "lb.fit_transform([1, 3, 2])"
   ]
  },
  {
   "cell_type": "code",
   "execution_count": null,
   "metadata": {},
   "outputs": [],
   "source": []
  }
 ],
 "metadata": {
  "kernelspec": {
   "display_name": "Python 3",
   "language": "python",
   "name": "python3"
  },
  "language_info": {
   "codemirror_mode": {
    "name": "ipython",
    "version": 3
   },
   "file_extension": ".py",
   "mimetype": "text/x-python",
   "name": "python",
   "nbconvert_exporter": "python",
   "pygments_lexer": "ipython3",
   "version": "3.6.4"
  }
 },
 "nbformat": 4,
 "nbformat_minor": 2
}
