{
 "cells": [
  {
   "cell_type": "code",
   "execution_count": null,
   "metadata": {},
   "outputs": [],
   "source": [
    "#see\n",
    "    #https://www.tensorflow.org/lite/convert/python_api\n",
    "    #https://www.tensorflow.org/lite/performance/post_training_quantization\n",
    "    #https://www.tensorflow.org/lite/microcontrollers/build_convert#operation-support\n",
    "\n",
    "#imports\n",
    "\n",
    "import tensorflow as tf\n"
   ]
  },
  {
   "cell_type": "code",
   "execution_count": null,
   "metadata": {},
   "outputs": [],
   "source": [
    "#use the saved model (.h5 file)\n",
    "\n",
    "converter = tf.lite.TFLiteConverter.from_keras_model_file(\"/home/lauogden/data/gunshot_sound_model.h5\")\n",
    "\n",
    "#post-training quantization\n",
    "converter.optimizations = [tf.lite.Optimize.OPTIMIZE_FOR_SIZE]\n",
    "\n",
    "#convert\n",
    "tflite_model = converter.convert()\n",
    "\n",
    "#save\n",
    "open(\"/home/lauogden/data/converted_model.tflite\", \"wb\").write(tflite_model)"
   ]
  }
 ],
 "metadata": {
  "kernelspec": {
   "display_name": "Python 3",
   "language": "python",
   "name": "python3"
  },
  "language_info": {
   "codemirror_mode": {
    "name": "ipython",
    "version": 3
   },
   "file_extension": ".py",
   "mimetype": "text/x-python",
   "name": "python",
   "nbconvert_exporter": "python",
   "pygments_lexer": "ipython3",
   "version": "3.7.3"
  }
 },
 "nbformat": 4,
 "nbformat_minor": 2
}
