{
 "cells": [
  {
   "cell_type": "code",
   "execution_count": 1,
   "metadata": {},
   "outputs": [],
   "source": [
    "#Turns a .h5 model file using custom metric into a TFLite flat buffer \n",
    "\n",
    "\n",
    "#see\n",
    "    #https://www.tensorflow.org/lite/convert/python_api\n",
    "    #https://www.tensorflow.org/lite/performance/post_training_quantization\n",
    "    #https://www.tensorflow.org/lite/microcontrollers/build_convert#operation-support\n",
    "\n",
    "#imports\n",
    "\n",
    "import tensorflow as tf\n",
    "from tensorflow.keras.models import load_model\n",
    "import tensorflow.lite\n",
    "from tensorflow.keras import backend as K"
   ]
  },
  {
   "cell_type": "code",
   "execution_count": 2,
   "metadata": {},
   "outputs": [],
   "source": [
    "# custom metric: auc\n",
    "class AUC:\n",
    "    def auc(y_true, y_pred):\n",
    "        auc = tf.metrics.auc(y_true, y_pred)[1]\n",
    "        K.get_session().run(tf.local_variables_initializer())\n",
    "        return auc\n",
    "\n"
   ]
  },
  {
   "cell_type": "code",
   "execution_count": null,
   "metadata": {},
   "outputs": [],
   "source": [
    "\n",
    "model_name = \"/home/lauogden/models/gunshot_sound_model.h5\"\n",
    "\n",
    "converter = tf.lite.TFLiteConverter.from_keras_model_file(model_name, custom_objects={'auc': AUC})\n",
    "print(\"\\n made the converter using from_keras_model \\n\")\n",
    "\n",
    "#post-training quantization\n",
    "converter.optimizations = [tf.lite.Optimize.OPTIMIZE_FOR_SIZE]\n",
    "print(\" did post training quantization \\n\")\n",
    "\n",
    "#convert\n",
    "tflite_model = converter.convert()\n",
    "print(\" converted successfully \\n\")\n",
    "\n",
    "#save\n",
    "open(\"/home/lauogden/models/converted_gunshot_model_ptq.tflite\", \"wb\").write(tflite_model)\n",
    "print(\" saved successfully \\n\")\n"
   ]
  }
 ],
 "metadata": {
  "kernelspec": {
   "display_name": "Python 3",
   "language": "python",
   "name": "python3"
  },
  "language_info": {
   "codemirror_mode": {
    "name": "ipython",
    "version": 3
   },
   "file_extension": ".py",
   "mimetype": "text/x-python",
   "name": "python",
   "nbconvert_exporter": "python",
   "pygments_lexer": "ipython3",
   "version": "3.7.3"
  }
 },
 "nbformat": 4,
 "nbformat_minor": 2
}
