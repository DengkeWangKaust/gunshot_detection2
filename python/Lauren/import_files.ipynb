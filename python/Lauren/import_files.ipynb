{
 "cells": [
  {
   "cell_type": "code",
   "execution_count": null,
   "metadata": {},
   "outputs": [],
   "source": [
    "import numpy as np\n",
    "from scipy.fftpack import fft\n",
    "from scipy import signal\n",
    "import librosa\n",
    "import os\n",
    "\n",
    "# Dimension Reduction\n",
    "from sklearn.decomposition import PCA\n",
    "\n",
    "# Visualization\n",
    "import matplotlib.pyplot as plt\n",
    "import seaborn as sns\n",
    "import IPython.display as ipd\n",
    "import librosa.display\n",
    "import plotly.offline as py\n",
    "import plotly.graph_objs as go\n",
    "import plotly.tools as tls\n",
    "\n",
    "# Data Pre-processing\n",
    "import pandas as pd\n",
    "from sklearn.model_selection import KFold\n",
    "import soundfile\n",
    "\n",
    "# Deep Learning\n",
    "import tensorflow as tf\n",
    "import tensorflow.keras as keras\n",
    "from tensorflow.keras.layers import Dense, Dropout, Flatten\n",
    "from tensorflow.keras.callbacks import EarlyStopping, ModelCheckpoint\n",
    "from tensorflow.keras import Input, layers\n",
    "from tensorflow.keras import backend as K\n",
    "\n",
    "from tensorflow.python.client import device_lib"
   ]
  },
  {
   "cell_type": "code",
   "execution_count": null,
   "metadata": {},
   "outputs": [],
   "source": [
    "#read the csv file of all data labels\n",
    "\n",
    "sound_types = pd.read_csv(\"/home/lauogden/data/REU_data_organized/train.csv\")"
   ]
  },
  {
   "cell_type": "code",
   "execution_count": null,
   "metadata": {},
   "outputs": [],
   "source": [
    "urban_sound_dir = \"/home/lauogden/data/REU_data_organized/Train/\"\n",
    "urban_sound_iterator = 0\n",
    "\n",
    "for file in sorted(os.listdir(urban_sound_dir)):\n",
    "    if file.endswith(\".wav\"):\n",
    "        try:\n",
    "            # Adding 2 second-long samples to the list of samples\n",
    "            urban_sound_iterator = int(re.search(r'\\d+', file).group())\n",
    "            sample, sample_rate = librosa.load(urban_sound_dir + file)\n",
    "            prescribed_label = sound_types.loc[sound_types[\"ID\"] == urban_sound_iterator, \"Class\"].values[0]\n",
    "            \n",
    "            if len(sample) <= sampling_rate_per_two_seconds:\n",
    "                label = 1\n",
    "                number_of_missing_hertz = sampling_rate_per_two_seconds - len(sample)\n",
    "                padded_sample = np.array(sample.tolist() + [0 for i in range(number_of_missing_hertz)])\n",
    "                if prescribed_label != \"gun_shot\":\n",
    "                    label = 0\n",
    "                elif np.max(abs(sample)) < 0.25:\n",
    "                    label = 0\n",
    "\n",
    "                samples.append(padded_sample)\n",
    "                labels.append(label)\n",
    "            else:\n",
    "                for i in range(0, sample.size - sampling_rate_per_two_seconds, sampling_rate_per_two_seconds):\n",
    "                    sample_slice = sample[i : i + sampling_rate_per_two_seconds]\n",
    "                    if prescribed_label != \"gun_shot\":\n",
    "                        label = 0\n",
    "                    elif np.max(abs(sample_slice)) < 0.25:\n",
    "                        label = 0\n",
    "\n",
    "                    samples.append(sample_slice)\n",
    "                    labels.append(label)\n",
    "\n",
    "        except:\n",
    "            sample, sample_rate = soundfile.read(urban_sound_dir + file)\n",
    "            print(\"sound not recognized by Librosa:\", file)\n",
    "            pass\n",
    "\n",
    "print(\"The number of samples of available for training is currently \" + str(len(samples)) + '.')\n",
    "print(\"The number of labels of available for training is currently \" + str(len(labels)) + '.')"
   ]
  },
  {
   "cell_type": "code",
   "execution_count": null,
   "metadata": {},
   "outputs": [],
   "source": [
    "#save it\n",
    "np.save(\"/home/lauogden/data/sound_samples.npy\", samples)\n",
    "np.save(\"/home/lauogden/data/sound_labels.npy\", labels)"
   ]
  }
 ],
 "metadata": {
  "kernelspec": {
   "display_name": "Python 3",
   "language": "python",
   "name": "python3"
  },
  "language_info": {
   "codemirror_mode": {
    "name": "ipython",
    "version": 3
   },
   "file_extension": ".py",
   "mimetype": "text/x-python",
   "name": "python",
   "nbconvert_exporter": "python",
   "pygments_lexer": "ipython3",
   "version": "3.7.3"
  }
 },
 "nbformat": 4,
 "nbformat_minor": 2
}
