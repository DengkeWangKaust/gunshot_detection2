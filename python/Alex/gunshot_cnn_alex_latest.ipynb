{
 "cells": [
  {
   "cell_type": "markdown",
   "metadata": {},
   "source": [
    "# Library Imports"
   ]
  },
  {
   "cell_type": "markdown",
   "metadata": {},
   "source": [
    "### File Directory Packages"
   ]
  },
  {
   "cell_type": "code",
   "execution_count": 1,
   "metadata": {},
   "outputs": [],
   "source": [
    "import glob\n",
    "import os\n",
    "from os.path import isdir, join\n",
    "from pathlib import Path"
   ]
  },
  {
   "cell_type": "markdown",
   "metadata": {},
   "source": [
    "### Math Libraries"
   ]
  },
  {
   "cell_type": "code",
   "execution_count": 2,
   "metadata": {},
   "outputs": [],
   "source": [
    "import numpy as np\n",
    "from scipy.fftpack import fft\n",
    "from scipy import signal\n",
    "import matplotlib.pyplot as plt\n",
    "import plotly.offline as py\n",
    "import plotly.graph_objs as go\n",
    "import plotly.tools as tls"
   ]
  },
  {
   "cell_type": "markdown",
   "metadata": {},
   "source": [
    "### Data Pre-Processing Libraries"
   ]
  },
  {
   "cell_type": "code",
   "execution_count": 3,
   "metadata": {},
   "outputs": [],
   "source": [
    "import pandas as pd\n",
    "import librosa\n",
    "import soundfile\n",
    "import re\n",
    "from sklearn.model_selection import KFold"
   ]
  },
  {
   "cell_type": "markdown",
   "metadata": {},
   "source": [
    "### Visualization Libraries"
   ]
  },
  {
   "cell_type": "code",
   "execution_count": 4,
   "metadata": {},
   "outputs": [],
   "source": [
    "import seaborn as sns\n",
    "import IPython.display as ipd\n",
    "import librosa.display"
   ]
  },
  {
   "cell_type": "markdown",
   "metadata": {},
   "source": [
    "### Deep Learning Libraries"
   ]
  },
  {
   "cell_type": "code",
   "execution_count": 5,
   "metadata": {},
   "outputs": [],
   "source": [
    "import tensorflow as tf\n",
    "import tensorflow.keras as keras\n",
    "from tensorflow.keras import Input, layers\n",
    "from tensorflow.keras import backend as K\n",
    "from tensorflow.keras.models import load_model\n",
    "from tensorflow.keras.layers import Dense, Dropout, Flatten\n",
    "from tensorflow.keras.callbacks import EarlyStopping, ModelCheckpoint"
   ]
  },
  {
   "cell_type": "markdown",
   "metadata": {},
   "source": [
    "### Configuration of Libraries"
   ]
  },
  {
   "cell_type": "code",
   "execution_count": 6,
   "metadata": {},
   "outputs": [
    {
     "data": {
      "text/html": [
       "        <script type=\"text/javascript\">\n",
       "        window.PlotlyConfig = {MathJaxConfig: 'local'};\n",
       "        if (window.MathJax) {MathJax.Hub.Config({SVG: {font: \"STIX-Web\"}});}\n",
       "        if (typeof require !== 'undefined') {\n",
       "        require.undef(\"plotly\");\n",
       "        requirejs.config({\n",
       "            paths: {\n",
       "                'plotly': ['https://cdn.plot.ly/plotly-latest.min']\n",
       "            }\n",
       "        });\n",
       "        require(['plotly'], function(Plotly) {\n",
       "            window._Plotly = Plotly;\n",
       "        });\n",
       "        }\n",
       "        </script>\n",
       "        "
      ]
     },
     "metadata": {},
     "output_type": "display_data"
    }
   ],
   "source": [
    "py.init_notebook_mode(connected=True)\n",
    "%matplotlib inline"
   ]
  },
  {
   "cell_type": "markdown",
   "metadata": {},
   "source": [
    "# Initialization of Variables"
   ]
  },
  {
   "cell_type": "code",
   "execution_count": 7,
   "metadata": {},
   "outputs": [],
   "source": [
    "samples=[]\n",
    "labels = []\n",
    "sampling_rate_per_two_seconds = 44100\n",
    "input_shape = (sampling_rate_per_two_seconds, 1)"
   ]
  },
  {
   "cell_type": "markdown",
   "metadata": {},
   "source": [
    "# Data Pre-Processing"
   ]
  },
  {
   "cell_type": "markdown",
   "metadata": {},
   "source": [
    "## Acquiring gunshot sound data"
   ]
  },
  {
   "cell_type": "code",
   "execution_count": null,
   "metadata": {},
   "outputs": [],
   "source": [
    "gunshot_sound_dir = \"/home/alexm/Datasets/gunshot_data/gunshot/\"\n",
    "print(\"...Parsing gunshot sounds...\")\n",
    "\n",
    "for file in os.listdir(gunshot_sound_dir):\n",
    "    if file.endswith(\".wav\"):\n",
    "        try:\n",
    "            #### Adding 2 second-long samples to the list of samples\n",
    "            sample, sample_rate = librosa.load(gunshot_sound_dir + file)\n",
    "            \n",
    "            if len(sample) <= sampling_rate_per_two_seconds:\n",
    "                label = 1\n",
    "                number_of_missing_hertz = sampling_rate_per_two_seconds - len(sample)\n",
    "                padded_sample = np.array(sample.tolist() + [0 for i in range(number_of_missing_hertz)])\n",
    "                if np.max(abs(sample)) < 0.25:\n",
    "                    label = 0\n",
    "                    \n",
    "                samples.append(padded_sample)\n",
    "                labels.append(label)\n",
    "            else:\n",
    "                for i in range(0, sample.size - sampling_rate_per_two_seconds, sampling_rate_per_two_seconds):\n",
    "                    sample_slice = sample[i : i + sampling_rate_per_two_seconds]\n",
    "                    label = 1\n",
    "                    if np.max(abs(sample_slice)) < 0.25:\n",
    "                        label = 0\n",
    "                        \n",
    "                    samples.append(sample_slice)\n",
    "                    labels.append(label)\n",
    "        except:\n",
    "            sample, sample_rate = soundfile.read(gunshot_sound_dir + file)\n",
    "            print(\"Gunshot sound unrecognized by Librosa:\", sample)\n",
    "            pass\n",
    "\n",
    "print(\"The number of samples of available for training is currently \" + str(len(samples)) + '.')\n",
    "print(\"The number of labels of available for training is currently \" + str(len(labels)) + '.')"
   ]
  },
  {
   "cell_type": "markdown",
   "metadata": {},
   "source": [
    "## Acquiring sound data from examples of glass breaking"
   ]
  },
  {
   "cell_type": "code",
   "execution_count": null,
   "metadata": {},
   "outputs": [],
   "source": [
    "glassbreak_sound_dir = \"/home/alexm/Datasets/gunshot_data/glassbreak/\"\n",
    "print(\"...Parsing sounds of glass breaking...\")\n",
    "\n",
    "for file in os.listdir(glassbreak_sound_dir):\n",
    "    if file.endswith(\".wav\"):\n",
    "        try:\n",
    "            #### Adding 2 second-long samples to the list of samples\n",
    "            sample, sample_rate = librosa.load(glassbreak_sound_dir + file)\n",
    "            \n",
    "            if len(sample) <= sampling_rate_per_two_seconds:\n",
    "                label = 1\n",
    "                number_of_missing_hertz = sampling_rate_per_two_seconds - len(sample)\n",
    "                padded_sample = np.array(sample.tolist() + [0 for i in range(number_of_missing_hertz)])\n",
    "                if np.max(abs(sample)) < 0.25:\n",
    "                    label = 0\n",
    "\n",
    "                samples.append(padded_sample)\n",
    "                labels.append(label)\n",
    "            else:\n",
    "                for i in range(0, sample.size - sampling_rate_per_two_seconds, sampling_rate_per_two_seconds):\n",
    "                    sample_slice = sample[i : i + sampling_rate_per_two_seconds]\n",
    "                    label = 1\n",
    "                    if np.max(abs(sample_slice)) < 0.25:\n",
    "                        label = 0\n",
    "\n",
    "                    samples.append(sample_slice)\n",
    "                    labels.append(label)\n",
    "        except:\n",
    "            sample, sample_rate = soundfile.read(glassbreak_sound_dir + file)\n",
    "            print(\"Glassbreak sound unrecognized by Librosa:\", sample)\n",
    "            pass\n",
    "\n",
    "print(\"The number of samples of available for training is currently \" + str(len(samples)) + '.')\n",
    "print(\"The number of labels of available for training is currently \" + str(len(labels)) + '.')"
   ]
  },
  {
   "cell_type": "markdown",
   "metadata": {},
   "source": [
    "## Reading in the CSV file of descriptors for all other kinds of urban sounds"
   ]
  },
  {
   "cell_type": "code",
   "execution_count": null,
   "metadata": {},
   "outputs": [],
   "source": [
    "sound_types = pd.read_csv(\"/home/alexm/Datasets/urban_sound_labels.csv\")"
   ]
  },
  {
   "cell_type": "markdown",
   "metadata": {},
   "source": [
    "## Reading in all of the urban sound data WAV files"
   ]
  },
  {
   "cell_type": "code",
   "execution_count": null,
   "metadata": {},
   "outputs": [],
   "source": [
    "urban_sound_dir = \"/home/alexm/Datasets/urban_sounds/\"\n",
    "print(\"...Parsing urban sounds...\")\n",
    "urban_sound_iterator = 0\n",
    "\n",
    "for file in sorted(os.listdir(urban_sound_dir)):\n",
    "    if file.endswith(\".wav\"):\n",
    "        try:\n",
    "            # Adding 2 second-long samples to the list of samples\n",
    "            urban_sound_iterator = int(re.search(r'\\d+', file).group())\n",
    "            sample, sample_rate = librosa.load(urban_sound_dir + file)\n",
    "            prescribed_label = sound_types.loc[sound_types[\"ID\"] == urban_sound_iterator, \"Class\"].values[0]\n",
    "            \n",
    "            if len(sample) <= sampling_rate_per_two_seconds:\n",
    "                label = 1\n",
    "                number_of_missing_hertz = sampling_rate_per_two_seconds - len(sample)\n",
    "                padded_sample = np.array(sample.tolist() + [0 for i in range(number_of_missing_hertz)])\n",
    "                if prescribed_label != \"gun_shot\":\n",
    "                    label = 0\n",
    "                elif np.max(abs(sample)) < 0.25:\n",
    "                    label = 0\n",
    "\n",
    "                samples.append(padded_sample)\n",
    "                labels.append(label)\n",
    "            else:\n",
    "                for i in range(0, sample.size - sampling_rate_per_two_seconds, sampling_rate_per_two_seconds):\n",
    "                    sample_slice = sample[i : i + sampling_rate_per_two_seconds]\n",
    "                    if prescribed_label != \"gun_shot\":\n",
    "                        label = 0\n",
    "                    elif np.max(abs(sample_slice)) < 0.25:\n",
    "                        label = 0\n",
    "\n",
    "                    samples.append(sample_slice)\n",
    "                    labels.append(label)\n",
    "\n",
    "        except:\n",
    "            sample, sample_rate = soundfile.read(urban_sound_dir + file)\n",
    "            print(\"Urban sound not recognized by Librosa:\", file)\n",
    "            pass\n",
    "\n",
    "print(\"The number of samples of available for training is currently \" + str(len(samples)) + '.')\n",
    "print(\"The number of labels of available for training is currently \" + str(len(labels)) + '.')"
   ]
  },
  {
   "cell_type": "markdown",
   "metadata": {},
   "source": [
    "## Saving samples and labels as numpy array files"
   ]
  },
  {
   "cell_type": "code",
   "execution_count": null,
   "metadata": {},
   "outputs": [],
   "source": [
    "np.save(\"/home/alexm/Datasets/gunshot_sound_samples.npy\", samples)\n",
    "np.save(\"/home/alexm/Datasets/gunshot_sound_labels.npy\", labels)"
   ]
  },
  {
   "cell_type": "markdown",
   "metadata": {},
   "source": [
    "## Loading sample file and label file as numpy arrays"
   ]
  },
  {
   "cell_type": "code",
   "execution_count": 8,
   "metadata": {},
   "outputs": [],
   "source": [
    "samples = np.load(\"/home/alexm/Datasets/gunshot_sound_samples.npy\")\n",
    "labels = np.load(\"/home/alexm/Datasets/gunshot_sound_labels.npy\")"
   ]
  },
  {
   "cell_type": "markdown",
   "metadata": {},
   "source": [
    "### Optional debugging after processing the data"
   ]
  },
  {
   "cell_type": "code",
   "execution_count": null,
   "metadata": {},
   "outputs": [],
   "source": [
    "i = 0  # You can change the value of 'i' to adjust which sample is being inspected.\n",
    "sample=samples[i]\n",
    "sample_rate=22050\n",
    "print(\"The number of samples available to the model for training is \" + str(len(samples)) + '.')\n",
    "print(\"The maximum frequency value in sample slice #\" + str(i) + \" is \" + str(np.max(abs(sample))) + '.')\n",
    "print(\"The label associated with sample slice #\" + str(i) + \" is \" + str(labels[i]) + '.')\n",
    "ipd.Audio(sample, rate=sample_rate)"
   ]
  },
  {
   "cell_type": "markdown",
   "metadata": {},
   "source": [
    "## Arranging the data"
   ]
  },
  {
   "cell_type": "code",
   "execution_count": 9,
   "metadata": {},
   "outputs": [],
   "source": [
    "kf = KFold(n_splits=3, shuffle=True)\n",
    "samples = np.array(samples)\n",
    "labels = np.array(labels)\n",
    "for train_index, test_index in kf.split(samples):\n",
    "    train_wav, test_wav = samples[train_index], samples[test_index]\n",
    "    train_label, test_label = labels[train_index], labels[test_index]"
   ]
  },
  {
   "cell_type": "markdown",
   "metadata": {},
   "source": [
    "## Reshaping/restructuring the data"
   ]
  },
  {
   "cell_type": "code",
   "execution_count": 10,
   "metadata": {},
   "outputs": [],
   "source": [
    "train_wav = train_wav.reshape(-1, sampling_rate_per_two_seconds, 1)\n",
    "test_wav = test_wav.reshape(-1, sampling_rate_per_two_seconds, 1)\n",
    "train_label = keras.utils.to_categorical(train_label, 2)\n",
    "test_label = keras.utils.to_categorical(test_label, 2)"
   ]
  },
  {
   "cell_type": "markdown",
   "metadata": {},
   "source": [
    "### Optional debugging of the training data's shape"
   ]
  },
  {
   "cell_type": "code",
   "execution_count": null,
   "metadata": {},
   "outputs": [],
   "source": [
    "print(train_wav.shape)"
   ]
  },
  {
   "cell_type": "markdown",
   "metadata": {},
   "source": [
    "# Model"
   ]
  },
  {
   "cell_type": "markdown",
   "metadata": {},
   "source": [
    "## Loading previous model"
   ]
  },
  {
   "cell_type": "code",
   "execution_count": 14,
   "metadata": {},
   "outputs": [],
   "source": [
    "model = load_model(\"/home/alexm/Datasets/gunshot_sound_full_model.h5\")"
   ]
  },
  {
   "cell_type": "markdown",
   "metadata": {},
   "source": [
    "## Model Parameters"
   ]
  },
  {
   "cell_type": "code",
   "execution_count": null,
   "metadata": {},
   "outputs": [],
   "source": [
    "learning_rate = 0.001\n",
    "batch_size = 32\n",
    "drop_out_rate = 0.2"
   ]
  },
  {
   "cell_type": "markdown",
   "metadata": {},
   "source": [
    "## Model Architecture"
   ]
  },
  {
   "cell_type": "code",
   "execution_count": null,
   "metadata": {},
   "outputs": [],
   "source": [
    "input_tensor = Input(shape=input_shape)\n",
    "\n",
    "x = layers.Conv1D(8, 11, padding='valid', activation='relu', strides=1)(input_tensor)\n",
    "x = layers.MaxPooling1D(2)(x)\n",
    "x = layers.Conv1D(16, 7, padding='valid', activation='relu', strides=1)(x)\n",
    "x = layers.MaxPooling1D(4)(x)\n",
    "x = layers.Conv1D(32, 5, padding='valid', activation='relu', strides=1)(x)\n",
    "x = layers.MaxPooling1D(4)(x)\n",
    "x = layers.Conv1D(64, 5, padding='valid', activation='relu', strides=1)(x)\n",
    "x = layers.MaxPooling1D(6)(x)\n",
    "x = layers.Conv1D(128, 3, padding='valid', activation='relu', strides=1)(x)\n",
    "x = layers.MaxPooling1D(6)(x)\n",
    "x = layers.Conv1D(256, 3, padding='valid', activation='relu', strides=1)(x)\n",
    "x = layers.MaxPooling1D(6)(x)\n",
    "x = layers.Flatten()(x)\n",
    "x = layers.Dense(100, activation='relu')(x)\n",
    "x = layers.Dropout(drop_out_rate)(x)\n",
    "x = layers.Dense(50, activation='relu')(x)\n",
    "x = layers.Dropout(drop_out_rate)(x)\n",
    "x = layers.Dense(20, activation='relu')(x)\n",
    "\n",
    "output_tensor = layers.Dense(2, activation='softmax')(x)\n",
    "\n",
    "model = tf.keras.Model(input_tensor, output_tensor)\n",
    "\n",
    "model.compile(loss=keras.losses.binary_crossentropy,\n",
    "             optimizer=keras.optimizers.Adam(lr = learning_rate),\n",
    "             metrics=['accuracy'])"
   ]
  },
  {
   "cell_type": "markdown",
   "metadata": {},
   "source": [
    "## Configuring model properties"
   ]
  },
  {
   "cell_type": "code",
   "execution_count": null,
   "metadata": {},
   "outputs": [],
   "source": [
    "model_filename = '/home/alexm/Datasets/gunshot_sound_model.pkl'\n",
    "\n",
    "model_callbacks = [\n",
    "    EarlyStopping(monitor='val_acc',\n",
    "                  patience=10,\n",
    "                  verbose=1,\n",
    "                  mode='auto'),\n",
    "    \n",
    "    ModelCheckpoint(model_filename, monitor='val_acc',\n",
    "                    verbose=1,\n",
    "                    save_best_only=True,\n",
    "                    mode='auto'),\n",
    "]"
   ]
  },
  {
   "cell_type": "markdown",
   "metadata": {},
   "source": [
    "### Optional debugging of the model's architecture"
   ]
  },
  {
   "cell_type": "code",
   "execution_count": null,
   "metadata": {},
   "outputs": [],
   "source": [
    "model.summary()"
   ]
  },
  {
   "cell_type": "markdown",
   "metadata": {},
   "source": [
    "## Training & caching the model"
   ]
  },
  {
   "cell_type": "code",
   "execution_count": null,
   "metadata": {},
   "outputs": [],
   "source": [
    "History = model.fit(train_wav, train_label, \n",
    "          validation_data=[test_wav, test_label],\n",
    "          epochs=50,\n",
    "          callbacks=model_callbacks,\n",
    "          verbose=1,\n",
    "          batch_size=batch_size,\n",
    "          shuffle=True)\n",
    "\n",
    "model.save(\"/home/alexm/Datasets/gunshot_sound_full_model.h5\")"
   ]
  },
  {
   "cell_type": "markdown",
   "metadata": {},
   "source": [
    "## Summarizing history for accuracy"
   ]
  },
  {
   "cell_type": "code",
   "execution_count": null,
   "metadata": {},
   "outputs": [],
   "source": [
    "plt.plot(History.history['acc'])\n",
    "plt.plot(History.history['val_acc'])\n",
    "plt.title('Model Accuracy')\n",
    "plt.ylabel('Accuracy')\n",
    "plt.xlabel('Epoch')\n",
    "plt.legend(['Train', 'Test'], loc='upper left')\n",
    "plt.show()"
   ]
  },
  {
   "cell_type": "markdown",
   "metadata": {},
   "source": [
    "## Summarizing history for loss"
   ]
  },
  {
   "cell_type": "code",
   "execution_count": null,
   "metadata": {},
   "outputs": [],
   "source": [
    "plt.plot(History.history['loss'])\n",
    "plt.plot(History.history['val_loss'])\n",
    "plt.title('Model Loss')\n",
    "plt.ylabel('Loss')\n",
    "plt.xlabel('Epoch')\n",
    "plt.legend(['Train', 'Test'], loc='upper left')\n",
    "plt.show()"
   ]
  },
  {
   "cell_type": "markdown",
   "metadata": {},
   "source": [
    "### Optional debugging of incorrectly-labeled examples"
   ]
  },
  {
   "cell_type": "code",
   "execution_count": 15,
   "metadata": {},
   "outputs": [
    {
     "name": "stdout",
     "output_type": "stream",
     "text": [
      "(array([  90,  159,  174,  176,  184,  198,  207,  253,  299,  312,  314,\n",
      "        318,  323,  351,  377,  442,  539,  567,  597,  618,  899,  956,\n",
      "       1308, 1316, 1323, 1342, 1506, 1571, 1808, 2039, 2048, 2096, 2128,\n",
      "       2216]),)\n"
     ]
    }
   ],
   "source": [
    "y_test_pred = model.predict(test_wav)\n",
    "y_predicted_classes_test = y_test_pred.argmax(axis=-1)\n",
    "y_actual_classes_test= test_label.argmax(axis=-1)\n",
    "wrong_examples = np.nonzero(y_predicted_classes_test != y_actual_classes_test)\n",
    "print(wrong_examples)"
   ]
  },
  {
   "cell_type": "markdown",
   "metadata": {},
   "source": [
    "### Optional debugging of an individual incorrectly-labeled example"
   ]
  },
  {
   "cell_type": "code",
   "execution_count": 27,
   "metadata": {},
   "outputs": [
    {
     "name": "stdout",
     "output_type": "stream",
     "text": [
      "1 0\n"
     ]
    },
    {
     "data": {
      "text/html": [
       "\n",
       "                <audio  controls=\"controls\" >\n",
       "                    <source src=\"data:audio/wav;base64,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\" type=\"audio/wav\" />\n",
       "                    Your browser does not support the audio element.\n",
       "                </audio>\n",
       "              "
      ],
      "text/plain": [
       "<IPython.lib.display.Audio object>"
      ]
     },
     "execution_count": 27,
     "metadata": {},
     "output_type": "execute_result"
    }
   ],
   "source": [
    "i = 314\n",
    "sample = np.reshape(test_wav[i], sampling_rate_per_two_seconds, )\n",
    "sample_rate = 22050\n",
    "print(y_actual_classes_test[i], y_predicted_classes_test[i])\n",
    "ipd.Audio(sample, rate=sample_rate)"
   ]
  }
 ],
 "metadata": {
  "kernelspec": {
   "display_name": "Python 3",
   "language": "python",
   "name": "python3"
  },
  "language_info": {
   "codemirror_mode": {
    "name": "ipython",
    "version": 3
   },
   "file_extension": ".py",
   "mimetype": "text/x-python",
   "name": "python",
   "nbconvert_exporter": "python",
   "pygments_lexer": "ipython3",
   "version": "3.7.3"
  }
 },
 "nbformat": 4,
 "nbformat_minor": 2
}
