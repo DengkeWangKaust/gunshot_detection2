{
 "cells": [
  {
   "cell_type": "markdown",
   "metadata": {},
   "source": [
    "# Library Imports"
   ]
  },
  {
   "cell_type": "markdown",
   "metadata": {},
   "source": [
    "### File Directory Libraries"
   ]
  },
  {
   "cell_type": "code",
   "execution_count": 1,
   "metadata": {},
   "outputs": [],
   "source": [
    "import glob\n",
    "import os\n",
    "from os.path import isdir, join\n",
    "from pathlib import Path"
   ]
  },
  {
   "cell_type": "markdown",
   "metadata": {},
   "source": [
    "### Math Libraries"
   ]
  },
  {
   "cell_type": "code",
   "execution_count": 2,
   "metadata": {},
   "outputs": [],
   "source": [
    "import numpy as np\n",
    "from scipy.fftpack import fft\n",
    "from scipy import signal\n",
    "import matplotlib.pyplot as plt\n",
    "import plotly.offline as py\n",
    "import plotly.graph_objs as go\n",
    "import plotly.tools as tls"
   ]
  },
  {
   "cell_type": "markdown",
   "metadata": {},
   "source": [
    "### Data Pre-Processing Libraries"
   ]
  },
  {
   "cell_type": "code",
   "execution_count": 3,
   "metadata": {},
   "outputs": [],
   "source": [
    "import pandas as pd\n",
    "import librosa\n",
    "import soundfile\n",
    "import re\n",
    "import cv2\n",
    "from sklearn.model_selection import KFold"
   ]
  },
  {
   "cell_type": "markdown",
   "metadata": {},
   "source": [
    "### Visualization Libraries"
   ]
  },
  {
   "cell_type": "code",
   "execution_count": 4,
   "metadata": {},
   "outputs": [],
   "source": [
    "import seaborn as sns\n",
    "import IPython.display as ipd\n",
    "import librosa.display"
   ]
  },
  {
   "cell_type": "markdown",
   "metadata": {},
   "source": [
    "### Deep Learning Libraries"
   ]
  },
  {
   "cell_type": "code",
   "execution_count": 5,
   "metadata": {},
   "outputs": [],
   "source": [
    "import tensorflow as tf\n",
    "import tensorflow.keras as keras\n",
    "from tensorflow.keras import Input, layers\n",
    "from tensorflow.keras import backend as K\n",
    "from tensorflow.keras.models import load_model\n",
    "from tensorflow.keras.layers import Dense, Dropout, Flatten\n",
    "from tensorflow.keras.callbacks import EarlyStopping, ModelCheckpoint"
   ]
  },
  {
   "cell_type": "markdown",
   "metadata": {},
   "source": [
    "### Configuration of Imported Libraries"
   ]
  },
  {
   "cell_type": "code",
   "execution_count": 6,
   "metadata": {},
   "outputs": [
    {
     "data": {
      "text/html": [
       "        <script type=\"text/javascript\">\n",
       "        window.PlotlyConfig = {MathJaxConfig: 'local'};\n",
       "        if (window.MathJax) {MathJax.Hub.Config({SVG: {font: \"STIX-Web\"}});}\n",
       "        if (typeof require !== 'undefined') {\n",
       "        require.undef(\"plotly\");\n",
       "        requirejs.config({\n",
       "            paths: {\n",
       "                'plotly': ['https://cdn.plot.ly/plotly-latest.min']\n",
       "            }\n",
       "        });\n",
       "        require(['plotly'], function(Plotly) {\n",
       "            window._Plotly = Plotly;\n",
       "        });\n",
       "        }\n",
       "        </script>\n",
       "        "
      ]
     },
     "metadata": {},
     "output_type": "display_data"
    }
   ],
   "source": [
    "py.init_notebook_mode(connected=True)\n",
    "%matplotlib inline"
   ]
  },
  {
   "cell_type": "markdown",
   "metadata": {},
   "source": [
    "# Initialization of Variables"
   ]
  },
  {
   "cell_type": "code",
   "execution_count": 7,
   "metadata": {},
   "outputs": [],
   "source": [
    "samples=[]\n",
    "labels = []\n",
    "gunshot_frequency_threshold = 0.25\n",
    "sampling_rate_per_two_seconds = 44100\n",
    "input_shape = (sampling_rate_per_two_seconds, 1)"
   ]
  },
  {
   "cell_type": "markdown",
   "metadata": {},
   "source": [
    "# Data Pre-Processing"
   ]
  },
  {
   "cell_type": "markdown",
   "metadata": {},
   "source": [
    "## Reading in the CSV file of descriptors for many kinds of sounds"
   ]
  },
  {
   "cell_type": "code",
   "execution_count": null,
   "metadata": {},
   "outputs": [],
   "source": [
    "sound_types = pd.read_csv(\"/home/alexm/Datasets/REU_Data_organized/train.csv\")"
   ]
  },
  {
   "cell_type": "markdown",
   "metadata": {},
   "source": [
    "## Reading in all of the sound data WAV files"
   ]
  },
  {
   "cell_type": "code",
   "execution_count": null,
   "metadata": {},
   "outputs": [],
   "source": [
    "sound_data_dir = \"/home/alexm/Datasets/REU_Data_organized/Train/\"\n",
    "print(\"...Parsing sound data...\")\n",
    "sound_data_iterator = 0\n",
    "\n",
    "for file in os.listdir(sound_data_dir):\n",
    "    if file.endswith(\".wav\"):\n",
    "        try:\n",
    "            # Adding 2 second-long samples to the list of samples\n",
    "            sound_data_iterator = int(re.search(r'\\d+', file).group())\n",
    "            sample, sample_rate = librosa.load(sound_data_dir + file)\n",
    "            prescribed_label = sound_types.loc[sound_types[\"ID\"] == sound_data_iterator, \"Class\"].values[0]\n",
    "            \n",
    "            if len(sample) <= sampling_rate_per_two_seconds:\n",
    "                label = 1\n",
    "                number_of_missing_hertz = sampling_rate_per_two_seconds - len(sample)\n",
    "                padded_sample = np.array(sample.tolist() + [0 for i in range(number_of_missing_hertz)])\n",
    "                if prescribed_label != \"gun_shot\":\n",
    "                    label = 0\n",
    "                elif np.max(abs(sample)) < gunshot_frequency_threshold:\n",
    "                    label = 0\n",
    "\n",
    "                samples.append(padded_sample)\n",
    "                labels.append(label)\n",
    "            else:\n",
    "                for i in range(0, sample.size - sampling_rate_per_two_seconds, sampling_rate_per_two_seconds):\n",
    "                    sample_slice = sample[i : i + sampling_rate_per_two_seconds]\n",
    "                    if prescribed_label != \"gun_shot\":\n",
    "                        label = 0\n",
    "                    elif np.max(abs(sample_slice)) < gunshot_frequency_threshold:\n",
    "                        label = 0\n",
    "\n",
    "                    samples.append(sample_slice)\n",
    "                    labels.append(label)\n",
    "\n",
    "        except:\n",
    "            sample, sample_rate = soundfile.read(sound_data_dir + file)\n",
    "            print(\"Sound(s) not recognized by Librosa:\", file)\n",
    "            pass\n",
    "\n",
    "print(\"The number of samples of available for training is currently \" + str(len(samples)) + '.')\n",
    "print(\"The number of labels of available for training is currently \" + str(len(labels)) + '.')"
   ]
  },
  {
   "cell_type": "markdown",
   "metadata": {},
   "source": [
    "## Saving samples and labels as numpy array files"
   ]
  },
  {
   "cell_type": "code",
   "execution_count": null,
   "metadata": {},
   "outputs": [],
   "source": [
    "np.save(\"/home/alexm/Datasets/gunshot_sound_samples.npy\", samples)\n",
    "np.save(\"/home/alexm/Datasets/gunshot_sound_labels.npy\", labels)"
   ]
  },
  {
   "cell_type": "markdown",
   "metadata": {},
   "source": [
    "## Loading sample file and label file as numpy arrays"
   ]
  },
  {
   "cell_type": "code",
   "execution_count": 8,
   "metadata": {},
   "outputs": [],
   "source": [
    "samples = np.load(\"/home/alexm/Datasets/gunshot_sound_samples.npy\")\n",
    "labels = np.load(\"/home/alexm/Datasets/gunshot_sound_labels.npy\")"
   ]
  },
  {
   "cell_type": "markdown",
   "metadata": {},
   "source": [
    "## Data augmentation functions"
   ]
  },
  {
   "cell_type": "code",
   "execution_count": 9,
   "metadata": {},
   "outputs": [],
   "source": [
    "def time_shift(wav):\n",
    "    start_ = int(np.random.uniform(-wav.shape[0] * 0.5, wav.shape[0] * 0.5))\n",
    "    if start_ >= 0:\n",
    "        wav_time_shift = np.r_[wav[start_:], np.random.uniform(-0.001, 0.001, start_)]\n",
    "    else:\n",
    "        wav_time_shift = np.r_[np.random.uniform(-0.001, 0.001, -start_), wav[:start_]]\n",
    "    return wav_time_shift\n",
    "    \n",
    "def change_pitch(wav, sample_rate):\n",
    "    magnitude = int(np.random.uniform(-10, 10))\n",
    "    wav_pitch_change = librosa.effects.pitch_shift(wav, sample_rate, magnitude)\n",
    "    return wav_pitch_change\n",
    "    \n",
    "def speed_change(wav):\n",
    "    speed_rate = np.random.uniform(0.7, 1.3)\n",
    "    wav_speed_tune = cv2.resize(wav, (1, int(len(wav) * speed_rate))).squeeze()\n",
    "    \n",
    "    if len(wav_speed_tune) < len(wav):\n",
    "        pad_len = len(wav) - len(wav_speed_tune)\n",
    "        wav_speed_tune = np.r_[np.random.uniform(-0.001, 0.001, int(pad_len / 2)),\n",
    "                               wav_speed_tune,\n",
    "                               np.random.uniform(-0.001, 0.001, int(np.ceil(pad_len / 2)))]\n",
    "    else: \n",
    "        cut_len = len(wav_speed_tune) - len(wav)\n",
    "        wav_speed_tune = wav_speed_tune[int(cut_len / 2) : int(cut_len / 2) + len(wav)]\n",
    "    return wav_speed_tune\n",
    "    \n",
    "def change_volume(wav, magnitude):\n",
    "    # 0 < x < 1 quieter; x = 1 identity; x > 1 louder\n",
    "    wav_volume_change = np.multiply(np.array([magnitude]), wav)\n",
    "    return wav_volume_change\n",
    "    \n",
    "def add_background(wav, sound_directory):\n",
    "    bg_files = os.listdir(sound_directory)\n",
    "    bg_files.remove(chosen_file)\n",
    "    chosen_bg_file = bg_files[np.random.randint(len(bg_files))]\n",
    "    bg, sr = librosa.load(sound_directory + chosen_bg_file, sr=None)\n",
    "    ceil = max((bg.shape[0] - wav.shape[0]), 1)\n",
    "    start_ = np.random.randint(ceil)\n",
    "    bg_slice = bg[start_ : start_+ wav.shape[0]]\n",
    "    if bg_slice.shape[0] < wav.shape[0]:\n",
    "        pad_len = wav.shape[0] - bg_slice.shape[0]\n",
    "        bg_slice = np.r_[np.random.uniform(-0.001, 0.001, int(pad_len / 2)), bg_slice, np.random.uniform(-0.001, 0.001, int(np.ceil(pad_len / 2)))]\n",
    "    wav_with_bg = wav * np.random.uniform(0.8, 1.2) + bg_slice * np.random.uniform(0, 0.5)\n",
    "    return wav_with_bg"
   ]
  },
  {
   "cell_type": "markdown",
   "metadata": {},
   "source": [
    "## Augmenting data (time shifting and speed changing)"
   ]
  },
  {
   "cell_type": "code",
   "execution_count": 10,
   "metadata": {},
   "outputs": [],
   "source": [
    "augmented_samples = np.zeros((samples.shape[0] * 3, samples.shape[1]))\n",
    "augmented_labels = np.zeros((labels.shape[0] * 3,))\n",
    "j = 0\n",
    "\n",
    "for i in range (0, len(augmented_samples), 3):\n",
    "    augmented_samples[i,:] = samples[j,:]\n",
    "    augmented_samples[i + 1,:] = time_shift(samples[j,:])\n",
    "    augmented_samples[i + 2,:] = speed_change(samples[j,:])\n",
    "    \n",
    "    augmented_labels[i] = labels[j]\n",
    "    augmented_labels[i + 1] = labels[j]\n",
    "    augmented_labels[i + 2] = labels[j]\n",
    "    j += 1\n",
    "\n",
    "samples = augmented_samples\n",
    "labels = augmented_labels\n",
    "\n",
    "print(\"The number of samples of available for training is currently \" + str(len(samples)) + '.')\n",
    "print(\"The number of labels of available for training is currently \" + str(len(labels)) + '.')"
   ]
  },
  {
   "cell_type": "markdown",
   "metadata": {},
   "source": [
    "## Saving augmented samples and labels as numpy array files"
   ]
  },
  {
   "cell_type": "code",
   "execution_count": 11,
   "metadata": {},
   "outputs": [],
   "source": [
    "np.save(\"/home/alexm/Datasets/gunshot_augmented_sound_samples.npy\", samples)\n",
    "np.save(\"/home/alexm/Datasets/gunshot_augmented_sound_labels.npy\", labels)"
   ]
  },
  {
   "cell_type": "markdown",
   "metadata": {},
   "source": [
    "## Loading augmented sample file and label file as numpy arrays"
   ]
  },
  {
   "cell_type": "code",
   "execution_count": null,
   "metadata": {},
   "outputs": [],
   "source": [
    "samples = np.load(\"/home/alexm/Datasets/gunshot_augmented_sound_samples.npy\")\n",
    "labels = np.load(\"/home/alexm/Datasets/gunshot_augmented_sound_labels.npy\")"
   ]
  },
  {
   "cell_type": "markdown",
   "metadata": {},
   "source": [
    "### Optional debugging after processing the data"
   ]
  },
  {
   "cell_type": "code",
   "execution_count": 18,
   "metadata": {},
   "outputs": [
    {
     "name": "stdout",
     "output_type": "stream",
     "text": [
      "The number of samples available to the model for training is 21789.\n",
      "The maximum frequency value in sample slice #5 is 0.024470953467243817.\n",
      "The label associated with sample slice #5 is 0.0.\n"
     ]
    },
    {
     "data": {
      "text/html": [
       "\n",
       "                <audio  controls=\"controls\" >\n",
       "                    <source src=\"data:audio/wav;base64,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\" type=\"audio/wav\" />\n",
       "                    Your browser does not support the audio element.\n",
       "                </audio>\n",
       "              "
      ],
      "text/plain": [
       "<IPython.lib.display.Audio object>"
      ]
     },
     "execution_count": 18,
     "metadata": {},
     "output_type": "execute_result"
    }
   ],
   "source": [
    "i = 0  # You can change the value of 'i' to adjust which sample is being inspected.\n",
    "sample=samples[i]\n",
    "sample_rate=22050\n",
    "print(\"The number of samples available to the model for training is \" + str(len(samples)) + '.')\n",
    "print(\"The maximum frequency value in sample slice #\" + str(i) + \" is \" + str(np.max(abs(sample))) + '.')\n",
    "print(\"The label associated with sample slice #\" + str(i) + \" is \" + str(labels[i]) + '.')\n",
    "ipd.Audio(sample, rate=sample_rate)"
   ]
  },
  {
   "cell_type": "markdown",
   "metadata": {},
   "source": [
    "## Arranging the data"
   ]
  },
  {
   "cell_type": "code",
   "execution_count": 19,
   "metadata": {},
   "outputs": [
    {
     "ename": "MemoryError",
     "evalue": "",
     "output_type": "error",
     "traceback": [
      "\u001b[0;31m---------------------------------------------------------------------------\u001b[0m",
      "\u001b[0;31mMemoryError\u001b[0m                               Traceback (most recent call last)",
      "\u001b[0;32m<ipython-input-19-1483ca19bd4b>\u001b[0m in \u001b[0;36m<module>\u001b[0;34m\u001b[0m\n\u001b[1;32m      3\u001b[0m \u001b[0mlabels\u001b[0m \u001b[0;34m=\u001b[0m \u001b[0mnp\u001b[0m\u001b[0;34m.\u001b[0m\u001b[0marray\u001b[0m\u001b[0;34m(\u001b[0m\u001b[0mlabels\u001b[0m\u001b[0;34m)\u001b[0m\u001b[0;34m\u001b[0m\u001b[0;34m\u001b[0m\u001b[0m\n\u001b[1;32m      4\u001b[0m \u001b[0;32mfor\u001b[0m \u001b[0mtrain_index\u001b[0m\u001b[0;34m,\u001b[0m \u001b[0mtest_index\u001b[0m \u001b[0;32min\u001b[0m \u001b[0mkf\u001b[0m\u001b[0;34m.\u001b[0m\u001b[0msplit\u001b[0m\u001b[0;34m(\u001b[0m\u001b[0msamples\u001b[0m\u001b[0;34m)\u001b[0m\u001b[0;34m:\u001b[0m\u001b[0;34m\u001b[0m\u001b[0;34m\u001b[0m\u001b[0m\n\u001b[0;32m----> 5\u001b[0;31m     \u001b[0mtrain_wav\u001b[0m\u001b[0;34m,\u001b[0m \u001b[0mtest_wav\u001b[0m \u001b[0;34m=\u001b[0m \u001b[0msamples\u001b[0m\u001b[0;34m[\u001b[0m\u001b[0mtrain_index\u001b[0m\u001b[0;34m]\u001b[0m\u001b[0;34m,\u001b[0m \u001b[0msamples\u001b[0m\u001b[0;34m[\u001b[0m\u001b[0mtest_index\u001b[0m\u001b[0;34m]\u001b[0m\u001b[0;34m\u001b[0m\u001b[0;34m\u001b[0m\u001b[0m\n\u001b[0m\u001b[1;32m      6\u001b[0m     \u001b[0mtrain_label\u001b[0m\u001b[0;34m,\u001b[0m \u001b[0mtest_label\u001b[0m \u001b[0;34m=\u001b[0m \u001b[0mlabels\u001b[0m\u001b[0;34m[\u001b[0m\u001b[0mtrain_index\u001b[0m\u001b[0;34m]\u001b[0m\u001b[0;34m,\u001b[0m \u001b[0mlabels\u001b[0m\u001b[0;34m[\u001b[0m\u001b[0mtest_index\u001b[0m\u001b[0;34m]\u001b[0m\u001b[0;34m\u001b[0m\u001b[0;34m\u001b[0m\u001b[0m\n",
      "\u001b[0;31mMemoryError\u001b[0m: "
     ]
    }
   ],
   "source": [
    "kf = KFold(n_splits=3, shuffle=True)\n",
    "samples = np.array(samples)\n",
    "labels = np.array(labels)\n",
    "for train_index, test_index in kf.split(samples):\n",
    "    train_wav, test_wav = samples[train_index], samples[test_index]\n",
    "    train_label, test_label = labels[train_index], labels[test_index]"
   ]
  },
  {
   "cell_type": "markdown",
   "metadata": {},
   "source": [
    "## Reshaping/restructuring the data"
   ]
  },
  {
   "cell_type": "code",
   "execution_count": null,
   "metadata": {},
   "outputs": [],
   "source": [
    "train_wav = train_wav.reshape(-1, sampling_rate_per_two_seconds, 1)\n",
    "test_wav = test_wav.reshape(-1, sampling_rate_per_two_seconds, 1)\n",
    "train_label = keras.utils.to_categorical(train_label, 2)\n",
    "test_label = keras.utils.to_categorical(test_label, 2)"
   ]
  },
  {
   "cell_type": "markdown",
   "metadata": {},
   "source": [
    "### Optional debugging of the training data's shape"
   ]
  },
  {
   "cell_type": "code",
   "execution_count": null,
   "metadata": {},
   "outputs": [],
   "source": [
    "print(train_wav.shape)"
   ]
  },
  {
   "cell_type": "markdown",
   "metadata": {},
   "source": [
    "# Model"
   ]
  },
  {
   "cell_type": "markdown",
   "metadata": {},
   "source": [
    "## Loading previous model"
   ]
  },
  {
   "cell_type": "code",
   "execution_count": null,
   "metadata": {},
   "outputs": [],
   "source": [
    "model = load_model(\"/home/alexm/Datasets/gunshot_sound_model.h5\")"
   ]
  },
  {
   "cell_type": "markdown",
   "metadata": {},
   "source": [
    "## Model Parameters"
   ]
  },
  {
   "cell_type": "code",
   "execution_count": null,
   "metadata": {},
   "outputs": [],
   "source": [
    "learning_rate = 0.001\n",
    "batch_size = 32\n",
    "drop_out_rate = 0.2"
   ]
  },
  {
   "cell_type": "markdown",
   "metadata": {},
   "source": [
    "## Model Architecture"
   ]
  },
  {
   "cell_type": "code",
   "execution_count": null,
   "metadata": {},
   "outputs": [],
   "source": [
    "input_tensor = Input(shape=input_shape)\n",
    "\n",
    "x = layers.Conv1D(8, 11, padding='valid', activation='relu', strides=1)(input_tensor)\n",
    "x = layers.MaxPooling1D(2)(x)\n",
    "x = layers.Conv1D(16, 7, padding='valid', activation='relu', strides=1)(x)\n",
    "x = layers.MaxPooling1D(4)(x)\n",
    "x = layers.Conv1D(32, 5, padding='valid', activation='relu', strides=1)(x)\n",
    "x = layers.MaxPooling1D(4)(x)\n",
    "x = layers.Conv1D(64, 5, padding='valid', activation='relu', strides=1)(x)\n",
    "x = layers.MaxPooling1D(6)(x)\n",
    "x = layers.Conv1D(128, 3, padding='valid', activation='relu', strides=1)(x)\n",
    "x = layers.MaxPooling1D(6)(x)\n",
    "x = layers.Conv1D(256, 3, padding='valid', activation='relu', strides=1)(x)\n",
    "x = layers.MaxPooling1D(6)(x)\n",
    "x = layers.Flatten()(x)\n",
    "x = layers.Dense(100, activation='relu')(x)\n",
    "x = layers.Dropout(drop_out_rate)(x)\n",
    "x = layers.Dense(50, activation='relu')(x)\n",
    "x = layers.Dropout(drop_out_rate)(x)\n",
    "x = layers.Dense(20, activation='relu')(x)\n",
    "\n",
    "output_tensor = layers.Dense(2, activation='softmax')(x)\n",
    "\n",
    "model = tf.keras.Model(input_tensor, output_tensor)\n",
    "\n",
    "model.compile(loss=keras.losses.binary_crossentropy,\n",
    "             optimizer=keras.optimizers.Adam(lr = learning_rate),\n",
    "             metrics=['accuracy'])"
   ]
  },
  {
   "cell_type": "markdown",
   "metadata": {},
   "source": [
    "## Configuring model properties"
   ]
  },
  {
   "cell_type": "code",
   "execution_count": null,
   "metadata": {},
   "outputs": [],
   "source": [
    "model_filename = '/home/alexm/Datasets/gunshot_sound_model.pkl'\n",
    "\n",
    "model_callbacks = [\n",
    "    EarlyStopping(monitor='val_acc',\n",
    "                  patience=10,\n",
    "                  verbose=1,\n",
    "                  mode='auto'),\n",
    "    \n",
    "    ModelCheckpoint(model_filename, monitor='val_acc',\n",
    "                    verbose=1,\n",
    "                    save_best_only=True,\n",
    "                    mode='auto'),\n",
    "]"
   ]
  },
  {
   "cell_type": "markdown",
   "metadata": {},
   "source": [
    "### Optional debugging of the model's architecture"
   ]
  },
  {
   "cell_type": "code",
   "execution_count": null,
   "metadata": {},
   "outputs": [],
   "source": [
    "model.summary()"
   ]
  },
  {
   "cell_type": "markdown",
   "metadata": {},
   "source": [
    "## Training & caching the model"
   ]
  },
  {
   "cell_type": "code",
   "execution_count": null,
   "metadata": {},
   "outputs": [],
   "source": [
    "History = model.fit(train_wav, train_label, \n",
    "          validation_data=[test_wav, test_label],\n",
    "          epochs=50,\n",
    "          callbacks=model_callbacks,\n",
    "          verbose=1,\n",
    "          batch_size=batch_size,\n",
    "          shuffle=True)\n",
    "\n",
    "model.save(\"/home/alexm/Datasets/gunshot_sound_model.h5\")"
   ]
  },
  {
   "cell_type": "markdown",
   "metadata": {},
   "source": [
    "## Summarizing history for accuracy"
   ]
  },
  {
   "cell_type": "code",
   "execution_count": null,
   "metadata": {},
   "outputs": [],
   "source": [
    "plt.plot(History.history['acc'])\n",
    "plt.plot(History.history['val_acc'])\n",
    "plt.title('Model Accuracy')\n",
    "plt.ylabel('Accuracy')\n",
    "plt.xlabel('Epoch')\n",
    "plt.legend(['Train', 'Test'], loc='upper left')\n",
    "plt.show()"
   ]
  },
  {
   "cell_type": "markdown",
   "metadata": {},
   "source": [
    "## Summarizing history for loss"
   ]
  },
  {
   "cell_type": "code",
   "execution_count": null,
   "metadata": {},
   "outputs": [],
   "source": [
    "plt.plot(History.history['loss'])\n",
    "plt.plot(History.history['val_loss'])\n",
    "plt.title('Model Loss')\n",
    "plt.ylabel('Loss')\n",
    "plt.xlabel('Epoch')\n",
    "plt.legend(['Train', 'Test'], loc='upper left')\n",
    "plt.show()"
   ]
  },
  {
   "cell_type": "markdown",
   "metadata": {},
   "source": [
    "### Optional debugging of incorrectly-labeled examples"
   ]
  },
  {
   "cell_type": "code",
   "execution_count": null,
   "metadata": {},
   "outputs": [],
   "source": [
    "y_test_pred = model.predict(test_wav)\n",
    "y_predicted_classes_test = y_test_pred.argmax(axis=-1)\n",
    "y_actual_classes_test= test_label.argmax(axis=-1)\n",
    "wrong_examples = np.nonzero(y_predicted_classes_test != y_actual_classes_test)\n",
    "print(wrong_examples)"
   ]
  },
  {
   "cell_type": "markdown",
   "metadata": {},
   "source": [
    "### Optional debugging of an individual incorrectly-labeled example"
   ]
  },
  {
   "cell_type": "code",
   "execution_count": null,
   "metadata": {},
   "outputs": [],
   "source": [
    "i = 9\n",
    "sample = np.reshape(test_wav[i], sampling_rate_per_two_seconds, )\n",
    "sample_rate = 22050\n",
    "print(y_actual_classes_test[i], y_predicted_classes_test[i])\n",
    "ipd.Audio(sample, rate=sample_rate)"
   ]
  }
 ],
 "metadata": {
  "kernelspec": {
   "display_name": "Python 3",
   "language": "python",
   "name": "python3"
  },
  "language_info": {
   "codemirror_mode": {
    "name": "ipython",
    "version": 3
   },
   "file_extension": ".py",
   "mimetype": "text/x-python",
   "name": "python",
   "nbconvert_exporter": "python",
   "pygments_lexer": "ipython3",
   "version": "3.7.3"
  }
 },
 "nbformat": 4,
 "nbformat_minor": 2
}
