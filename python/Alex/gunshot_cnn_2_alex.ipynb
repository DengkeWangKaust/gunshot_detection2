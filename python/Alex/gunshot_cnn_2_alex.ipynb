{
 "cells": [
  {
   "cell_type": "markdown",
   "metadata": {},
   "source": [
    "# Library Imports"
   ]
  },
  {
   "cell_type": "markdown",
   "metadata": {},
   "source": [
    "### File Directory Packages"
   ]
  },
  {
   "cell_type": "code",
   "execution_count": null,
   "metadata": {},
   "outputs": [],
   "source": [
    "import glob\n",
    "import os\n",
    "from os.path import isdir, join\n",
    "from pathlib import Path"
   ]
  },
  {
   "cell_type": "markdown",
   "metadata": {},
   "source": [
    "### Math Libraries"
   ]
  },
  {
   "cell_type": "code",
   "execution_count": null,
   "metadata": {},
   "outputs": [],
   "source": [
    "import numpy as np\n",
    "from scipy.fftpack import fft\n",
    "from scipy import signal\n",
    "import matplotlib.pyplot as plt\n",
    "import plotly.offline as py\n",
    "import plotly.graph_objs as go\n",
    "import plotly.tools as tls"
   ]
  },
  {
   "cell_type": "markdown",
   "metadata": {},
   "source": [
    "### Data Pre-Processing Libraries"
   ]
  },
  {
   "cell_type": "code",
   "execution_count": null,
   "metadata": {},
   "outputs": [],
   "source": [
    "import pandas as pd\n",
    "import librosa\n",
    "import soundfile\n",
    "from sklearn.model_selection import KFold"
   ]
  },
  {
   "cell_type": "markdown",
   "metadata": {},
   "source": [
    "### Visualization Libraries"
   ]
  },
  {
   "cell_type": "code",
   "execution_count": null,
   "metadata": {},
   "outputs": [],
   "source": [
    "import seaborn as sns\n",
    "import IPython.display as ipd\n",
    "import librosa.display"
   ]
  },
  {
   "cell_type": "markdown",
   "metadata": {},
   "source": [
    "### Deep Learning Libraries"
   ]
  },
  {
   "cell_type": "code",
   "execution_count": null,
   "metadata": {},
   "outputs": [],
   "source": [
    "import tensorflow as tf\n",
    "import tensorflow.keras as keras\n",
    "from tensorflow.keras import Input, layers\n",
    "from tensorflow.keras import backend as K\n",
    "from tensorflow.keras.layers import Dense, Dropout, Flatten\n",
    "from tensorflow.keras.callbacks import EarlyStopping, ModelCheckpoint"
   ]
  },
  {
   "cell_type": "markdown",
   "metadata": {},
   "source": [
    "### Configuration of Libraries"
   ]
  },
  {
   "cell_type": "code",
   "execution_count": null,
   "metadata": {},
   "outputs": [],
   "source": [
    "py.init_notebook_mode(connected=True)\n",
    "%matplotlib inline"
   ]
  },
  {
   "cell_type": "markdown",
   "metadata": {},
   "source": [
    "# Initialization of Variables"
   ]
  },
  {
   "cell_type": "code",
   "execution_count": 2,
   "metadata": {},
   "outputs": [],
   "source": [
    "samples=[]\n",
    "labels = []\n",
    "sampling_rate_per_two_seconds = 44100\n",
    "input_shape = (sampling_rate_per_two_seconds, 1)"
   ]
  },
  {
   "cell_type": "markdown",
   "metadata": {},
   "source": [
    "# Classes"
   ]
  },
  {
   "cell_type": "code",
   "execution_count": 4,
   "metadata": {},
   "outputs": [],
   "source": [
    "class DataGenerator(keras.utils.Sequence):\n",
    "    'Generates data for Keras'\n",
    "    def __init__(self, list_IDs, labels, batch_size = 40, dim = input_shape, n_channels = 3,\n",
    "                 n_classes = 10, shuffle = True):\n",
    "        'Initialization'\n",
    "        self.dim = dim\n",
    "        self.batch_size = batch_size\n",
    "        self.labels = labels\n",
    "        self.list_IDs = list_IDs\n",
    "        self.n_channels = n_channels\n",
    "        self.n_classes = n_classes\n",
    "        self.shuffle = shuffle\n",
    "        self.on_epoch_end()\n",
    "\n",
    "    def __len__(self):\n",
    "        'Denotes the number of batches per epoch'\n",
    "        return int(np.floor(len(self.list_IDs) / self.batch_size))\n",
    "\n",
    "    def __getitem__(self, index):\n",
    "        'Generate one batch of data'\n",
    "        ### Generate indexes of the batch\n",
    "        indexes = self.indexes[index*self.batch_size:(index+1)*self.batch_size]\n",
    "        ### Find list of IDs\n",
    "        list_IDs_temp = [self.list_IDs[k] for k in indexes]\n",
    "        \n",
    "        ### Generate data\n",
    "        X = self.__data_generation(list_IDs_temp)\n",
    "        \n",
    "        y = self.labels[indexes]\n",
    "        return X, y\n",
    "\n",
    "    def on_epoch_end(self):\n",
    "        'Updates indexes after each epoch'\n",
    "        self.indexes = np.arange(len(self.list_IDs))\n",
    "        if self.shuffle == True:\n",
    "            np.random.shuffle(self.indexes)\n",
    "\n",
    "    def __data_generation(self, list_IDs_temp):\n",
    "        'Generates data containing batch_size samples' # X : (n_samples, *dim, n_channels)\n",
    "        ### Initialization\n",
    "        X = np.empty((self.batch_size, *self.dim, self.n_channels))\n",
    "        y = np.empty((self.batch_size), dtype=int)\n",
    "        \n",
    "        ### Generate data\n",
    "        for i, ID in enumerate(list_IDs_temp):\n",
    "            #### Store sample\n",
    "            image = cv2.imread('path to spectrograms' + ID)\n",
    "            #gray = cv2.cvtColor(image, cv2.COLOR_BGR2GRAY)\n",
    "            #X[i,] = gray.reshape((224,230,1))\n",
    "            X[i,] = image\n",
    "            X[i,] /= 255\n",
    "            \n",
    "        return X"
   ]
  },
  {
   "cell_type": "markdown",
   "metadata": {},
   "source": [
    "# Data Pre-Processing"
   ]
  },
  {
   "cell_type": "markdown",
   "metadata": {},
   "source": [
    "## Acquiring gunshot sound data"
   ]
  },
  {
   "cell_type": "code",
   "execution_count": null,
   "metadata": {},
   "outputs": [],
   "source": [
    "gunshot_sound_dir = \"/home/alexm/Datasets/gunshot_data/gunshot/\"\n",
    "print(\"...Parsing gunshot sounds...\")\n",
    "\n",
    "for file in os.listdir(gunshot_sound_dir):\n",
    "    if file.endswith(\".wav\"):\n",
    "        try:\n",
    "            #### Adding 2 second-long samples to the list of samples\n",
    "            sample, sample_rate = librosa.load(gunshot_sound_dir + file)\n",
    "            \n",
    "            if len(sample) <= sampling_rate_per_two_seconds:\n",
    "                label = 1\n",
    "                number_of_missing_hertz = sampling_rate_per_two_seconds - len(sample)\n",
    "                padded_sample = np.array(sample.tolist() + [0 for i in range(number_of_missing_hertz)])\n",
    "                if np.max(abs(sample)) < 0.25:\n",
    "                    label = 0\n",
    "                    \n",
    "                samples.append(padded_sample)\n",
    "                labels.append(label)\n",
    "            else:\n",
    "                for i in range(0, sample.size - sampling_rate_per_two_seconds, sampling_rate_per_two_seconds):\n",
    "                    sample_slice = sample[i : i + sampling_rate_per_two_seconds]\n",
    "                    label = 1\n",
    "                    if np.max(abs(sample_slice)) < 0.25:\n",
    "                        label = 0\n",
    "                        \n",
    "                    samples.append(sample_slice)\n",
    "                    labels.append(label)\n",
    "        except:\n",
    "            sample, sample_rate = soundfile.read(gunshot_sound_dir + file)\n",
    "            print(\"Gunshot sound unrecognized by Librosa:\", sample)\n",
    "            pass\n",
    "\n",
    "print(\"The number of samples of available for training is currently \" + str(len(samples)) + '.')\n",
    "print(\"The number of labels of available for training is currently \" + str(len(labels)) + '.')"
   ]
  },
  {
   "cell_type": "markdown",
   "metadata": {},
   "source": [
    "## Acquiring sound data from examples of glass breaking"
   ]
  },
  {
   "cell_type": "code",
   "execution_count": null,
   "metadata": {},
   "outputs": [],
   "source": [
    "glassbreak_sound_dir = \"/home/alexm/Datasets/gunshot_data/glassbreak/\"\n",
    "print(\"...Parsing sounds of glass breaking...\")\n",
    "\n",
    "for file in os.listdir(glassbreak_sound_dir):\n",
    "    if file.endswith(\".wav\"):\n",
    "        try:\n",
    "            #### Adding 2 second-long samples to the list of samples\n",
    "            sample, sample_rate = librosa.load(glassbreak_sound_dir + file)\n",
    "            \n",
    "            if len(sample) <= sampling_rate_per_two_seconds:\n",
    "                label = 1\n",
    "                number_of_missing_hertz = sampling_rate_per_two_seconds - len(sample)\n",
    "                padded_sample = np.array(sample.tolist() + [0 for i in range(number_of_missing_hertz)])\n",
    "                if np.max(abs(sample)) < 0.25:\n",
    "                    label = 0\n",
    "\n",
    "                samples.append(padded_sample)\n",
    "                labels.append(label)\n",
    "            else:\n",
    "                for i in range(0, sample.size - sampling_rate_per_two_seconds, sampling_rate_per_two_seconds):\n",
    "                    sample_slice = sample[i : i + sampling_rate_per_two_seconds]\n",
    "                    label = 1\n",
    "                    if np.max(abs(sample_slice)) < 0.25:\n",
    "                        label = 0\n",
    "\n",
    "                    samples.append(sample_slice)\n",
    "                    labels.append(label)\n",
    "        except:\n",
    "            sample, sample_rate = soundfile.read(glassbreak_sound_dir + file)\n",
    "            print(\"Glassbreak sound unrecognized by Librosa:\", sample)\n",
    "            pass\n",
    "\n",
    "print(\"The number of samples of available for training is currently \" + str(len(samples)) + '.')\n",
    "print(\"The number of labels of available for training is currently \" + str(len(labels)) + '.')"
   ]
  },
  {
   "cell_type": "markdown",
   "metadata": {},
   "source": [
    "## Reading in the CSV file of descriptors for all other kinds of urban sounds"
   ]
  },
  {
   "cell_type": "code",
   "execution_count": null,
   "metadata": {},
   "outputs": [],
   "source": [
    "sound_types = pd.read_csv(\"/home/alexm/Datasets/urban_sound_labels.csv\")"
   ]
  },
  {
   "cell_type": "markdown",
   "metadata": {},
   "source": [
    "## Reading in all of the urban sound data WAV files"
   ]
  },
  {
   "cell_type": "code",
   "execution_count": null,
   "metadata": {},
   "outputs": [],
   "source": [
    "urban_sound_dir = \"/home/alexm/Datasets/urban_sounds/\"\n",
    "print(\"...Parsing urban sounds...\")\n",
    "urban_sound_iterator = 0\n",
    "\n",
    "for file in os.listdir(urban_sound_dir):\n",
    "    if file.endswith(\".wav\"):\n",
    "        try:\n",
    "            # Adding 2 second-long samples to the list of samples\n",
    "            sample, sample_rate = librosa.load(urban_sound_dir + file)\n",
    "            \n",
    "            if len(sample) <= sampling_rate_per_two_seconds:\n",
    "                label = 1\n",
    "                number_of_missing_hertz = sampling_rate_per_two_seconds - len(sample)\n",
    "                padded_sample = np.array(sample.tolist() + [0 for i in range(number_of_missing_hertz)])\n",
    "                if sound_types.loc[urban_sound_iterator, 'Class'] != \"gun_shot\":\n",
    "                    label = 0\n",
    "                elif np.max(abs(sample)) < 0.25:\n",
    "                    label = 0\n",
    "\n",
    "                samples.append(padded_sample)\n",
    "                labels.append(label)\n",
    "            else:\n",
    "                for i in range(0, sample.size - sampling_rate_per_two_seconds, sampling_rate_per_two_seconds):\n",
    "                    sample_slice = sample[i : i + sampling_rate_per_two_seconds]\n",
    "                    if sound_types.loc[urban_sound_iterator, 'Class'] != \"gun_shot\":\n",
    "                        label = 0\n",
    "                    elif np.max(abs(sample_slice)) < 0.25:\n",
    "                        label = 0\n",
    "\n",
    "                    samples.append(sample_slice)\n",
    "                    labels.append(label)\n",
    "                    \n",
    "            urban_sound_iterator += 1\n",
    "        except:\n",
    "            sample, sample_rate = soundfile.read(urban_sound_dir + file)\n",
    "            print(\"Urban sound not recognized by Librosa:\", sample)\n",
    "            pass\n",
    "\n",
    "print(\"The number of samples of available for training is currently \" + str(len(samples)) + '.')\n",
    "print(\"The number of labels of available for training is currently \" + str(len(labels)) + '.')"
   ]
  },
  {
   "cell_type": "markdown",
   "metadata": {},
   "source": [
    "## Saving samples and labels as numpy array files"
   ]
  },
  {
   "cell_type": "code",
   "execution_count": null,
   "metadata": {},
   "outputs": [],
   "source": [
    "np.save(\"/home/alexm/Datasets/gunshot_sound_samples.npy\", samples)\n",
    "np.save(\"/home/alexm/Datasets/gunshot_sound_labels.npy\", labels)"
   ]
  },
  {
   "cell_type": "markdown",
   "metadata": {},
   "source": [
    "## Loading sample file and label file as numpy arrays"
   ]
  },
  {
   "cell_type": "code",
   "execution_count": 5,
   "metadata": {},
   "outputs": [],
   "source": [
    "xsamples = np.load(\"/home/alexm/Datasets/gunshot_sound_samples.npy\")\n",
    "labels = np.load(\"/home/alexm/Datasets/gunshot_sound_labels.npy\")"
   ]
  },
  {
   "cell_type": "markdown",
   "metadata": {},
   "source": [
    "### Optional debugging after processing the data"
   ]
  },
  {
   "cell_type": "code",
   "execution_count": 6,
   "metadata": {},
   "outputs": [
    {
     "name": "stdout",
     "output_type": "stream",
     "text": [
      "The number of samples available to the model for training is 6658.\n",
      "The maximum frequency value in sample slice #0 is 1.0.\n",
      "The label associated with sample slice #0 is 1.\n"
     ]
    },
    {
     "data": {
      "text/html": [
       "\n",
       "                <audio  controls=\"controls\" >\n",
       "                    <source src=\"data:audio/wav;base64,UklGRqxYAQBXQVZFZm10IBAAAAABAAEAIlYAAESsAAACABAAZGF0YYhYAQAAAAAAAAAAAAAAAAAAAAAAAAAAAAAAAAAAAAAAAAAAAAAAAAAAAAAAAAAAAAAAAAAAAAAAAAAAAAAAAAAAAAAAAAAAAAAAAAAAAAAAAAAAAAAAAAAAAAAAAAAAAAAAAAAAAAAAAAAAAAAAAAAAAAAAAAAAAAAAAAAAAAAAAAAAAAAAAAAAAAAAAAAAAAAAAAAAAAAAAAAAAAAAAAAAAAAAAAAAAAAAAAAAAAAAAAAAAAAAAAAAAAAAAAAAAAAAAAAAAAAAAAAAAAAAAAAAAAAAAAAAAAAAAAAAAAAAAAAAAAAAAAAAAAAAAAAAAAAAAAAAAAAAAAAAAAAAAAAAAAAAAAAAAAAAAAAAAAAAAAAAAAAAAAAAAAAAAAAAAAAAAAAAAAAAAAAAAAAAAAAAAAAAAAAAAAAAAAAAAAAAAAAAAAAAAAAAAAAAAAAAAAAAAAAAAAAAAAAAAAAAAAAAAAAAAAAAAAAAAAAAAAAAAAAAAAAAAAAAAAAAAAAAAAAAAAAAAAAAAAAAAAAAAAAAAAAAAAAAAAAAAAAAAAAAAAAAAAAAAAAAAAAAAAAAAAAAAAAAAAAAAAAAAAAAAAAAAAAAAAAAAAAAAAAAAAAAAAAAAAAAAAAAAAAAAAAAAAAAAAAAAAAAAAAAAAAAAAAAAAAAAAAAAAAAAAAAAAAAAAAAAAAAAAAAAAAAAAAAAAAAAAAAAAAAAAAAAAAAAAAAAAAAAAAAAAAAAAAAAAAAAAAAAAAAAAAAAAAAAAAAAAAAAAAAAAAAAAAAAAAAAAAAAAAAAAAAAAAAAAAAAAAAAAAAAAAAAAAAAAAAAAAAAAAAAAAAAAAAAAAAAAAAAAAAAAAAAAAAAAAAAAAAAAAAAAAAAAAAAAAAAAAAAAAAAAAAAAAAAAAAAAAAAAAAAAAAAAAAAAAAAAAAAAAAAAAAAAAAAAAAAAAAAAAAAAAAAAAAAAAAAAAAAAAAAAAAAAAAAAAAAAAAAAAAAAAAAAAAAAAAAAAAAAAAAAAAAAAAAAAAAAAAAAAAAAAAAAAAAAAAAAAAAAAAAAAAAAAAAAAAAAAAAAAAAAAAAAAAAAAAAAAAAAAAAAAAAAAAAAAAAAAAAAAAAAAAAAAAAAAAAAAAAAAAAAAAAAAAAAAAAAAAAAAAAAAAAAAAAAAAAAAAAAAAAAAAAAAAAAAAAAAAAAAAAAAAAAAAAAAAAAAAAAAAAAAAAAAAAAAAAAAAAAAAAAAAAAAAAAAAAAAAAAAAAAAAAAAAAAAAAAAAAAAAAAAAAAAAAAAAAAAAAAAAAAAAAAAAAAAAAAAAAAAAAAAAAAAAAAAAAAAAAAAAAAAAAAAAAAAAAAAAAAAAAAAAAAAAAAAAAAAAAAAAAAAAAAAAAAAAAAAAAAAAAAAAAAAAAAAAAAAAAAAAAAAAAAAAAAAAAAAAAAAAAAAAAAAAAAAAAAAAAAAAAAAAAAAAAAAAAAAAAAAAAAAAAAAAAAAAAAAAAAAAAAAAAAAAAAAAAAAAAAAAAAAAAAAAAAAAAAAAAAAAAAAAAAAAAAAAAAAAAAAAAAAAAAAAAAAAAAAAAAAAAAAAAAAAAAAAAAAAAAAAAAAAAAAAAAAAAAAAAAAAAAAAAAAAAAAAAAAAAAAAAAAAAAAAAAAAAAAAAAAAAAAAAAAAAAAAAAAAAAAAAAAAAAAAAAAAAAAAAAAAAAAAAAAAAAAAAAAAAAAAAAAAAAAAAAAAAAAAAAAAAAAAAAAAAAAAAAAAAAAAAAAAAAAAAAAAAAAAAAAAAAAAAAAAAAAAAAAAAAAAAAAAAAAAAAAAAAAAAAAAAAAAAAAAAAAAAAAAAAAAAAAAAAAAAAAAAAAAAAAAAAAAAAAAAAAAAAAAAAAAAAAAAAAAAAAAAAAAAAAAAAAAAAAAAAAAAAAAAAAAAAAAAAAAAAAAAAAAAAAAAAAAAAAAAAAAAAAAAAAAAAAAAAAAAAAAAAAAAAAAAAAAAAAAAAAAAAAAAAAAAAAAAAAAAAAAAAAAAAAAAAAAAAAAAAAAAAAAAAAAAAAAAAAAAAAAAAAAAAAAAAAAAAAAAAAAAAAAAAAAAAAAAAAAAAAAAAAAAAAAAAAAAAAAAAAAAAAAAAAAAAAAAAAAAAAAAAAAAAAAAAAAAAAAAAAAAAAAAAAAAAAAAAAAAAAAAAAAAAAAAAAAAAAAAAAAAAAAAAAAAAAAAAAAAAAAAAAAAAAAAAAAAAAAAAAAAAAAAAAAAAAAAAAAAAAAAAAAAAAAAAAAAAAAAAAAAAAAAAAAAAAAAAAAAAAAAAAAAAAAAAAAAAAAAAAAAAAAAAAAAAAAAAAAAAAAAAAAAAAAAAAAAAAAAAAAAAAAAAAAAAAAAAAAAAAAAAAAAAAAAAAAAAAAAAAAAAAAAAAAAAAAAAAAAAAAAAAAAAAAAAAAAAAAAAAAAAAAAAAAAAAAAAAAAAAAAAAAAAAAAAAAAAAAAAAAAAAAAAAAAAAAAAAAAAAAAAAAAAAAAAAAAAAAAAAAAAAAAAAAAAAAAAAAAAAAAAAAAAAAAAAAAAAAAAAAAAAAAAAAAAAAAAAAAAAAAAAAAAAAAAAAAAAAAAAAAAAAAAAAAAAAAAAAAAAAAAAAAAAAAAAAAAAAAAAAAAAAAAAAAAAAAAAAAAAAAAAAAAAAAAAAAAAAAAAAAAAAAAAAAAAAAAAAAAAAAAAAAAAAAAAAAAAAAAAAAAAAAAAAAAAAAAAAAAAAAAAAAAAAAAAAAAAAAAAAAAAAAAAAAAAAAAAAAAAAAAAAAAAAAAAAAAAAAAAAAAAAAAAAAAAAAAAAAAAAAAAAAAAAAAAAAAAAAAAAAAAAAAAAAAAAAAAAAAAAAAAAAAAAAAAAAQAAAAAAAAAAAAAAAAAAAAAAAAD//wAAAAABAAIAAwAAAAEAAQABAAAA//8EAAAAAAAAAP3/AAD///3/AAD//wAAAAAEAAAA/v8CAAUABwAEAAAA+P/8/wcAAQD2//z/AAD6//v/AQACAP///f/9//////8DAAQAAAADAAQAAAABAA4ACQD+/wAACgD4//j/DAADAPb/7P////7/AQARAPz/8f/w//b/BAAjADcALwAkAA4A9v/L/7D/yf8AABIA9f/x/xUALwAwAFcADgD7/+L/s/8hACQANAACAOX/8P/O/woABAC1/5T/x/8AACcANgASAPj/1//R//H/DwAhAOT/8/89AB8BxgDdALQA3v8FAJv/P//7/p8APQBnACYBxAB/AFD/cv+W/63/zv/r/9H/MQDq//z/AAAKAOf/RP8e/3L/2v4b/xMA1gAOAcH/wwH+ABT/Ov+t/y7/nf/aAPz/TQHWANP/2/8xAFgAewBNAewAEgEgAVcAaP///yQADABp/wT/gQDO/2gAOADv/rX/PgCrAAABMwGL/5n/zP9KAA8ADQAsAiUBzQFqAXQAPP9W/tH/QwD4AaIBrQDrAOv+NP/w/9cAqQEMAPP++fw3/6MAeAAy/Rf/7wItAZIBZgMdAhAKUgdOBmIGUgvtEE0eayg0G44PJxicJOgAZfGizY8UkVE1QPQjHDqY5+mHMCZFQA8ru0QL6gGAkYSogAGAL4SjjL2eSaijvGDEC9OY5Kry5ucS/az3ww0lBUEs+3r+f298/n8eef5/pVy4nU6oY6zj5oY9REGMQYBAV3zEKE4mYbtRkgGkhb+9P5MyvjY+I+hWrGUUASY0QnI4GSZLvVQ1OhI4GR4UFiGmxpbElt+ZY59apemo1IsBgAyGAYDetg0Ucv4sDhz26DUMbblV405VQe01Zu/J9FUwExLoBwET1qEBgEuGAYBFpGWyXaUortCgJ8QO7oPqrfDk9LX1+vud9oMFg9AEmkGxzbftx+3PAyIc4lgl/n/gbP5/dXj+fzBpBESlFw9K+3T4YkpaUViiCAyppc9zvYno2zdhyRiI7IJxhhqTm/LTLykvYuBHkwfAYbgj0+HMiOl/4CYYt3cocqt1I3JKd2x9/n+Ief5/Mebglfml7qBLqinSjeD39iBt9CDOD5B8vU5/E4BqNRW6sNMIAAu5yTfdZ+qZrbH3oFfJTJRLXktjUdFUwE98RKUvzyedAQf20Ola2ILxDux34BT2wPNq8PvnqeXi0tiIkYAbgpyBHoHrhm2LSI+Umgus5bWmxYS9YPDvb9l0fWAYZes23r/r3uU6TlrwYwtQgFLxQIU5cjikIDnUGYx9nialabId2vawSZxmppbQXPti/sUqbmbKcEZw/3OwbOFsVmowaFBmW2G3U99EmEnuSFc+HTzpM74rxCs3Hbbi3/QM1b+Oq5tXjyOI7cV1QnhuEHAEVac1pFt9aMRbfWwpM8gR8jDBRAtfoWmbeJFyUEr36WXvb03AY0pgkkuKPhItoBnzN38Z7vV9FNz/eQwXU+R0vlwwVj55MHgCfhR5YmygW8RiVniccFxzSX4tZGhT4mvBQjM9HWbfakF0K32UWfQ0i/ZM0bvgn/x9JCgu2EjvYvtsakxkZCJ9SHarfwV+53VDVjlia2s+ec58xXEgc01zxX4hbjNurHFAbYVXVVdoYyFOMlDVOYxKkVolWVdBDSqNLw4oNUWoQV9e/n8MdCZx63lpbklu2GCfJNk46UsaO/QY7RBCEswNziNHM4VJLjEWIUX73PwBEGDxo/mf63nw7vCjBXAfsR5BMRNGNVkoRqc1jxJPChIcKBj/EUUf4xSb8M7bYcciz9PWoNhP1mT3MhtsHwshFgYm5tzmWgJ5AcoWligSKEAsMT+hWaBTd1WQOTockwC69Zz3sO5S7WFF1XUSEBLcQSmcChDYKfgwL+1n/n+YbOFjLW97K9xTdSC39YYbcxZrINorZS82ZQ1npViIfcBx3EVBRrV95nvie8p7pm1Ja1V2V3A1a75aGWu4SfBiemYwZH9FgSQrbCFWWkoR+prkIOir4+EQSywyMqlMNC5QEQwinlRieGdb/n8cIgD/VwlF9e0zZByfEJ3+uu/R0rPxsOYFyfQahiwzTZhvEmj+f+JbMSnrAxAiNFtqVSVWhA2Yr4iYHLZTuLrVutENoCPCptO04AzKz9Tb1Z/9ZiUM7JMBTC9MABTAn+oSDOhMJ3kVQlAoTglI/9sIYSceSBT5AP7ZC74TtBWk1bwCZQwlDFEOrSCTNAgpAB/s//oIqBadHdhASUvqR+ZLoE+5Q8YNBew79tULMxagDQ7z8eCT5A3lZNEo27TOh8nH2oPQ7tky18/Y2dmj2nfcMu4r6mDWHeuwAOcH+vCa+8zpFuxM967mX/1Z5jLr8esy9uzvdMy+xjPHGce70ybxnOmw+VruptXW27neROzkBhUHu/fUADT8Q+uE6o/49PzN7gfvkPE877r6SgFMFAIRJQ2rAdHzpetj7Hnpcd0x7uvqStuOyuLX4dua7O//x/YZ+Vzuyupv9L38igAL/r/u6vIc/q3svOFD7AH1NfH1/Lf6e+p59VwCRwFBBZ4HNe7n9D7/G/+KDbIMmgucEIIZHRzzFJcHzxZjICUOo/liCkAZzwOjAQYFaAK17yT1XAqyCAMGUP3E/3b2gu3SAKcK9ADQ8TD5Yfc78QXqgPLN85TsK/Ah9unzwuyT+rz4b/Zn8jHxptu32eLnpu+w5UjapODo34jZD93K7rfyqO1z34vjve6F7PzkE+0R5ubxx/EOD5f/n94f6qAIUwuq22fg5qvmvfzAIr3ZwIjfGb4fmMTfKO/1FMgRuxrDLwdLN1MkLojweMBEsB+WRZZbnsGd9szF4w0DdiM6LyMb/f3p/u0K4AzB68jjJcFrvSrAm8aD0t8Faf6TBEwIrMA5uFa++8hWuZLQ19X70NrW/LnEsjC7KNAZ2cT1mR90JcskaQuDE9EE0hVIHnb1YutS6XXwV+Qy5MXXjvNXCZoJzgUk+Ib3TOn520HXw9iizqHMm8+K1Uro1f8bB3rzYfYD+/j7nAFh+4P0k/ZcB0YKFgxFBhMAk/hS683pZOzg+JL5/PMG9H/rD+gS7OLobu1L7OvpQeaU5HbmGOa96jfrNv2+AFUDOAN09IPqLumr7F7o5O8L9KP30PyE/7sDWgNHBGEGpwbeBUX8q+gq3bboz/m3+Sb4Ufe69wjyCurt7tfpb+Vt5q7vJfTD+Lrzvuqq2eDNmtw25ozjBN9a8nPsqe3mAL33++k4553hlN9N5fbsK+Z+42/fuNlF5NLg/uZt4+fpZuje59zqXeNh5GHaVtdU2OjlReys68nvlvCH9T/3Z/YL+gT66fYg9FrxDueL3ozYOdRc29fbwd0r5BnkBehZ70L3YvpE9MzzbvXP7/HnnOP83mbUP8svydvO3tb+3Pne/eEC7c/4rwBXADP6Q/eP7vvqZepR4c/gHNwI2IPaZeMf8BHykvBQ8xTzw+8D9Zb4ze/k6vPuwebE5u7gydnL3bjc194s4YrlQOR+49/lYuld5xPsXu6U6hnrHe0X7TXnMuRm4mrqLuN83kbpE+mQ4lPjG+m45tXpqe6q6dvoZu1Q6t7nN+Up45bm2vBK7wbuB+/L7Fbrz+Ew6wLreOup71TvZfVy8MDx+vSs9oj5L/6H97vuNelF6xzugvAb9mnzafJQ7qbzlvRg7tHvpfKa82vyAfYB/JPwB+kW5z7uZ/IO9Wv72PPw8K3zlfYt8O7zRfiw+3j7R/kg+bjwW+6x8MnvOPFM7wfvZ/MP8hPuv+408d/zswIMBGr/h/wN9GXyG+/D6rzr8fP38wPwlvA98/zzYe838rvtxO2P+tD5zPcd97jyA/D88B/0dvj9AVgA1PzQ/Cr2XfIx8Yfvm+/k9oD8p/kt9nf1yfg/+iX6Z/jr9PDyMPQT9WzxqPXj+JX3LPqn/iMCMgC9+hLxqu10707sLu2Y8rL+OQGZ/B34OfPy95D1qfhQ+H3zjPdH8kbxa/Wv+p/+AvgO/J3+k//R/336tPWd7nDxuPID95z6VABJCpwQExSgCEb74uyT3rnkRfG495/7zPyj/cwGmgekAbYCYwXyAm/6Vvi87t7opu4x95b+uf6AAIwGSQUQBeIDtAAu/vT/OAUq/vH4cfbO9NkAthE8ExsGx/0RAYwA5v7x+kT+3gRPAUUAt/+b/3b/O/+J/x35fPnS/goAFgP1A7L/p/rj9hnzKPxdAnz8PvYX/TQM6g1xCgcFV/h28fTxkPMs6g7pAfaR/Q0I9wtOClQH2AOk+B70Zvme+an5pfm7+pn7Hv/cA9UHgQPBAQMA+AFyABj7Mfsg8bDrv+WL6T3tY/ER+FL5nv0Z/YQDe/+K/RAAUPGc7gHuveIN5h3vS/I59T/z6fm4+LH5Rvw29gnzh++q9JDx5fF87n3tNvS19Wb1EPJm9an63/kk+Y72tvGz8UnuHO5M7EPou+sS8NPy1/OY74Hxz/fG9B/zGvCs8Y/zKvE/9JH0TvJd9ATzpe9Z8Zzy4+5W6oTq+eeU6Uvtsu677lztq+7A7zLx/O2B7BTrp+dC6Z3oAOct503mSuj06ynvYfR095v1ofB+66XndOZx6kHsQeqv6bnoFeyn7ODwpu3a6gzod+SG6cPlyun96O/qHuhe5qXqzu728fDtBe2U59fpvOlQ61XtBu1a8Lfvp+6c6xnsP+8m9BP4UvOs76Tuku6z8t30aPV08OnuUfIn8Y3u/u+L9Xr31fTm7x7rr+/x+jj/R/8g9kHxBPTX+IP+If0h+ADwWe0D8of5K/uj+OHyTPCO9Hf3oP5A/TTzMfBq8vT2mvkr9xnzJPAb9/r7xPeI9+739/gQ/Pb/G/xt99X07/WV9Sr1Dvc39rr0CfTk9n30Ffe99fL19fjJ97b4V/mx9i7x6+6C7uzybvXL9sH3rfVE9337A/kJ9Sr37PWg72bxDfRL9Sz4+fsS/JX5Xvq3+V33Avau+Vv3afZv+MH8y/52/c34dvaB+nL34vnz+Dr5ePfX+vb6HPjh/En7NP2s+d36xvjD+SD74/bl+kYBPwCi+xz1FffF9WT17gDl+X3+EfnO8S73EvkK++X3HfzI9r3zVPaE+IH1/vSa+vv2Rv0nAXH/8/4p/Yf9KgGu+QL3H/vd8lv31frXATkBu/3G+oj5S/w0+av9iPhW+DIEd/7Y9/AByQDDBFoETwBV+bfvVPEg8nj84wrR+k39zQrcCWj8LuvJ/lX2tANZ/6T4zRO4DDoC//nJ7awDVgN57Frwl/y6EKnxyd2H8dcLk/hY6KYUtzKQ8J3guQv0GwAFsdWk96nuW/XN/sgGawAY8dD5NO2w+3frvfAKP3puay9jsgGAH4dhhnjawUGzUK06ww7O+x0PaRwGDEXcP9Q758LY69qV6hjmH8Nl2hUbvxhnAmQF9vpH/mAr/jImGeUNwPhC04OkR6i2w3r3RxvTElQgVxZDCXUAWyKCIwMSsxdC7G/Wlb0+u8CgPI8/t+fvfE6WchpAgRRZFl7rDtSG/Vns7gdZGtDoFMr/rQrTUQMeF14gGjOeG4rkFOFt5MXbCAgRGqgCMAnb7qzKoqtgrGv7+hv1MSw1fg7WDj/iOtSl4VEERwKp+I42HCN1zdvOvBS15QrGN+m38GQDMP7R/U7tS+Vg9C7jk9jcxVbB2sST6ZsZwxgPKzJMwwD1ztsDBuOXwT3nFAV87ij9v+kEvJXpxyoiH3D60SdNHzkHazOEBSvnwvOE4hHyXvlz/8gXYgxQ9KLS6cTO5HbMyMALxnPo8e6OAN39//JrE9bxBuEx08noU/OT8e0L5QJN5ZX1xPZm+a8Ejg3qMAsp+xWYCIYHoOw75kL/fO0s7hcG9RkNFhr0DvB75VrvzgB/+qIBuQeMCHP10/L5+ZP2W+uY75L/Yv1i+XAOdxYdB00E9gZw/ZjlJPWjD/0EM+jL9UcLawqGBIP8Uv16El40BAaODiT+2wHl/gzhTeIH5z9ZDXt4W5heCjI3pyTsODwFNA0uXjTY+wGAO4kBgLGDa4Csid+gwaR7yPja1APFx5IOuTmyydvn9eUQ8x8JXgnSSf5/n33+fw962HONfbt1QHjCfZhv0mXaU1JHlza0KyMfqpwBgGWFAYDK0xT3Uugy9WjqyPeMyqiKAoBgplEsT24JcUdfV/kBgN4emU4Xw8Dez9CI4GnWvdoQ4He+uYg0ntfCBaYkqyu+ysGq0ujUpuuRbv5/Rn0haEAugSkkRP5/VnddakFkT0vMU0rgbc483ALNZ84BgMuCKIhqyfznEeOo8Njp+fUd7P7+g9QwjySUsquu2ZoRHuwMzcvAw91nbf5/bnf+fwF5A3PnaQ9hHUprO9FBYTEVLE3gqICVpgON+gwACgGAR4cBgPWDlIve/dr73pC7iwme6adstJ68L8w1zT4lr25PXMhejE/ATCA5GFv+f6lFBEb+f19vXWs7MRyuAYB1mE6fEcJkL+9XlWdKXKVTL/svtsnyIK/lgTiS6MyR3T/jIU2ocARPxifmFLskCxi2uhjuFwZRFDk3+BsIESH2b78tiQvMtv8fyzXZvteLho+O35Q6m0iMaIO/huON7aKptP7O0uNk7JPvmjDKbnp6d3e9d7hnGl++Z2h/Y3kBcxxr9GLrValJzSYY/HgdCfTI+tkQp/JC2IO4ial0lbGUNpcDoz6QIcsPDzseUTwBI0Avi1l6W39jWGMuXmxVxkZeRWJQgE/PQ+g+Hjq3LG8rtyE6JZHqZpkTj8SCXoisiwfNKvp7+3oLYBLwFVQhRC7PIqUkIDEsIhwTxCd1PAFLAV5eVIpBZCPG7jfx+/k4+hz7MP0v+BL2Be+t8ygE1vKk7X4AVR+ZMOFFrVoCcW9ctlH6VFxBkFG0SgFB/EHXORUz+jQRMNI1J0t5UG5QmVqIUJktCBpG/BblIdpw7GX1dgGYCmMGiiV9J5gqdi5vRzRfNFe+UtFHxC0jNI1EpENrX8Fm6mffVF9JnUygTwlCJ0AJWSNA6jhvQnsvNiA7KCwmmBOGAykOFCZFHc8oOy0jHXEqaSmQM38/KC6XJKQ2tzebJ2UoRhapCh0CL/MN9/n/fhjJG5wffhKv9bH4rupz2rrv+PyG/bP7p+9W8vDw1AoKH/FHxkVXLHAXzgxiHS4EOAw8AuHtpuKj3J7oNfhq9ejxKfsMDBUXfxAoA1vkyOsZ/m33WQhAHc0wwDAbJvQsqyMAFt4fXQlBDFwaJgg0FztSoBzQxZ0B6ciDy2/qW+YGFU8sZVA3S9tW5UC5NRlWVik+HLpIXBj+6PTq2gYFIm8T7zEbV5xUPk8SIW0c9R7lGkA0KEZWaXR4HXPFcVdP+ClXF70nSxbDK7c69QiHTH5Tr23qdgQfeP2JzOO8IOMs41fOVPvzD1H7UBU1KcNQY2Y9VaJX4i4Y9vT01+Mcy03Cje44GRQWKQ3E9usRge7k6k0asDKPRXBPd191X/A7lCTsHtcdxElVKoLnubc8nmOi27NXytju5vUM6PLUfsvs0VbKv+qP+Sb0wQnhDAcSDhC48UL+9PG8AcgHzw+sIfAWUTjpNYodrg1hAP8M/iIOF94SofZ84rfzuQQA+EET9An9/LEpvyA3Kzwj2BueCWwHgxInC18T8RxDMRYOIxltK+kWRA7O9EHwk93243n4k/PM5FfdSuwR6ibtS+7x7XHrgdO63K7l+uO14ivvHfwF/AT2Iv8TBvkGYRGbEeITRe3a4yH0L/Gq7cnY7dnQ4B3ppfLi7rYGNQFO6gvzyfrE7g/pbfvr69vuHvie+nr+Cfnd/W3tnPVL/XQBO/8YBQYOrgkMFzsSCgui+uj0PO5C5dXycvjh7nTnY+hO3xLdkekS5oroo/hM924Djf6t/DT4me6B9hzq0ux68Xj2c/Sa9dn9c/xe/vUCgAJX/x0CEgQT+Fz0z/il+PT7rAYrEnkMpwsfCaEOzA/IDFoZBQpC9fb3nP4OB0INYAsuAW8A8/ob/o0FswOSB00F9QdY/gL+zwKEAGAASvdU/J8BZAGC90fyP/3L+GH5zAQQ/n70Bff/+9z5JfpZ9xzsDuwv7Mb15vrr/DX49vVr9n/0Te4r6xztu+xv8xn1Kf6W8ywHVPuo7jv6jBUX/gHrNe0gytfizN575jzfzPD6zl/UpfPI/kEU/w5NM+w3JUlfUf46Wu8D2/LSSrqBx0nHB8T/4K0J1v4dA/kK2f1y84HzjfWH79QD4wH+9VHuQ/a69g/8rQfz8XnnFsg6xme9/Nin8E7o6+0q/lkIzPih4MmqrqiVr5nM1e4SEdAVdCPlSlovoxysBYH/Dv/RByIHhugk4+3ccN886Df00Plj9LXvfvOp7rDZptk04cjtufU79fro1uTD40fl8+RT22bnvvnOBAD9+/7l/uMDcQtrDV8KNfoK8Anq0OvS65roUulm6C/tyvIr++QFcvuB73jrNOWJ5PznhN6g29XgXeLL5cfo7/IK+pD24vVz8tjzkfSl7NPxgfiF+a8AKgdWAs79r/7T/Ar5mfWv6aPsk/Xl7VPywAaFA0n2Ufs/9Lvlx+Of6VXxDfTi83/yEvI49Anvou236fTogOLI5dbwYvLv8IHxgvgd6STi4O1b7NTrVPLq6EDent4L4/npTvUB7o/oYOva6nbsKubj4sTdZt9C4W/qNfPp8uLzRPPv9UH0G/RJ94z7Xvrt9YH0FPLz7UHpguV/3grcm90Q4qnjqeDA4e7pOvI38Zbx7u/Y7Crozeja5k7gy95O2vDaY9+U4D7gB+EU50fsKvNj+Vn0XfJ38YTv9+vl6D7jJt5R3w/eKt5P4obl2eiK6Vfv7fBF9ID5sfQ977LptOop5EXhV97L2zjcct1l3/PfOOLt3dziveaC5ozqA+yQ66nsx/BO7XXoAeAk3JvjAeMv4s3ntexg6zHsheVf2wTb1ttl5NLsKO1x78DtDuv/5xnhrtx62P7ew9324hXoNeas5G/p2O3F4sjj0+M+6ontj+986LXrpfLw7OPqP+iq6ufsXfW+81P1Au5W6qDvEeti5QzihOIi4k/kMedM6YXpce707hfrNueb5efqNeiW7nn2Ke5c7CfqSOgX7qbv6eoC9WLw/+1W9ATyKfcB+OHtpeXu5PDdo9/o4NnmfOQt23/a3eTv8Kb1lfiq+kf8m/oa9G7v5/GR5UfhStrL2FnhR+6B+Wr4NPfA8/H6W/jT8xni49hx2QbqV/iV7fbw4u5Q67j0TvIr5rXsreS83hHqgvbB99z2Xfir79TyNu272yfmSfjDAbUHffk+/VsDevwb6YXfAe8A8r/kI9hN2Zncfedi33XTptFd33MBfQ0rENv7Ve1GAs8BLvc0A+z7kNdJ6IPp2d3r2OS9Y7zV2Cr58P9yA4wIrBC6DnMDkwbFHeI1rDkmGMX1fu4m5+nS2rONuUPBXsvg3WvSbdbp03Prceu7403py+QnCdwS3ycOO5YcIRjjFKcYACFqGRYK4OZ55vTmFNer1lLFUdFg1qnUEvOa+b4D8u1T9ZEHlPq+69ziqvuCC30KNglqDZIOBx9cFHUGIfzu6erf2une98LaRK4rmsmg0JqfquW+PbcRy8Dmfub79Hf+Xgx/IP08QFtFU2NjZ14JRRQtRiAUIssH1u8X5CLnxNpz2AHM9q3boVqqLcYTv2qrnL963/fWc8WFz1DEbcgl7UUBKgyrAJX9HxPEH9QalSe/Na8v7ChAErQDnwBp7PnYCsyTvAjGR9jb2bPbxd/R4D/eqt5U3y/gxukO553pTvgkBAYGhPSm9Artqu/C9ZjsHPWN7PbpMvDm+Nv+hfsZBLn77/T19iPyjef1zQG9dblnwh7d0/WzCC8VsCReJrkFDenM0/PVAdld21vtEOC21mre5eZT82/02PsJBYz7tfOU9C33s+rr5JjgQN9D6WXa0NYH6Tvug+v/5m7h0OM88X4GeQl1+NfjL+kZ61vXZOR49k35+OvO097Ilct01JnXKOTG6pjnv/zEEW4OXPqW6972VPT57Hv9BgJC9X7vIfdl+Jn5I/+XAr7/vQHcBY4DNf8l/53w/dqwzQ3GC8e12TX02u/B95f3f9tWyHbF/LhesUG5N8lb6bH+4hqUMPI1ASA3BzIM/hA2Gb8Y1w82/eHu9+eR3Mvd0OZ68XP9ZgbtBO8LLRARBJv5Cuq85H/uAPQU9F3yCPWn/d/7I/gK9KP1cAU+Di4Ygw3++XblRd/g6bfxNPPP7Uvquu+x/hkAEAdDAm8A/PX06HDr2ucI4xHd1uID7OTxUPPm+TYCQA7dEC4Q1RjUGR0Mov1p/Tr/IP+r9mzt/eB81lbdCN/52iLZc94e5/ryYgGPE94SORSUJEQVWBELFdkQ2gozChQUPQ8dCfz4IPRg7M/eA/hd80vpQvUF7ofwGu5c6P7lgOBU5YTf+ue28Djn3fNcDUEqvDxKPgUjUhKkEY8Epf7X7xPR+bLor3+7zdYO5trqyfyPAkUaQR09HcomUTKvL14jyyKmCxb56N1b5Wv4agL5CRT4meX030bh6eJN5uv/RwNy3z77MwCU8Vv/Y/qm9QzUBdD91ivsgwMzDyEYvRLXHbMDpf8R/uEBrxgQI3kTX/Zq7tX2LQjr+kHvr+h75ozqPfSI8135+fWG8JMTCBojDZEFVQpG+VHZutDAztbUa9rI77f6eQEpB0X9q/nyBVAb8ikMI2YQ1f7wDSoy+Cl4Bgr58OyP8XMITBAlJ7ocFAqs/sbzePt/72nid+Cd21POYrtjqimy+9nm/cz6XwJwBfz8YRb776UCNiFADY0uQRTqCI0edgLi9P/8UeR42KAUwxuXB0MF2Re5GkztXfhs2/rv7+tA4Tn6G+TP16nJWPNNBzL1X/AB+ov4se3X+WfmJ7BL5bEadSZ/MpUodC5dD2wOUA6SHE8UX/3XCRoAgCNNH/QA1fdq6HDzM9nFyi79ggaMB/UFygNL/gzmXfXk9OfzXvSU38ng1+cwAhMDnvjS+Uz61fhJ3lfjn+aO6PzhLdoH9PoEcxDUBRgGLw+ZFa4aPRpfDwb47fCm8m756e1+9vXsuPUrBwMLrgiW6FL08vS46iHzRRDHGkgAp/uM+sjshfP7/A8NQBV0ADn8KP+WAwnq1vFvDYL5AQFqCmoVTfEa1JnsvuCs5hgGNA1B+m30C/pjENkciBC6H88g8B8FGYUK7wrv9lj3u+bf6UP2LvxN9fH2jwuj6awGLeeN+ELmMPZ9Hpr94TLPBCkRzenLA7gQtDz+fXxloV2bVY7kAYDVEGFI4TNlN14q1a8BgACKAYCwiEGQcaLJpye5ldKm6crhUOTn5VfuYPCT/UP3fCvhfxB/cHr+f45IaEXH2zfEFHaJfIR9M38Lc9lpylUxT8ox1Tu72wGAFIkBgCbAuvb47UDtaPbH57pFZ/YBgDGFjKGlEUwICxGKBBYFl58lh/jN0/dfC3AHOAtL95L4MgdoF4Dc7zPdSucblMngnI6y7LJzvXQt/n8idP5/WTXnD9INyQjwED0ljBKbRLtnQVGrR5U4BC9zKXbyHYW2iteklrT0tE27GLsGxibHaNDju0OHAYBZjCWtzaclr/eu7e5mbn08OebSTGpvUvpvDtpu/n9CaZBtbHOAXnZgyujPEUFXHDGeNL0GyRB5z52Dj4MJgG2EpI3dhD6LfpqlqMK6LcSPzu/cUtlDDe0uR/csUP5/THn+fw11/n+rLgEbvWhBePX6JpN0pvWl7K8d19gVT0ZMdEh/gHrQ+I2XbqER0GHK84ljEQsqygqAfBJjJFRVR/cnTzKnNu/aga4nB0IJsijQQL0/vyv42E/IHb++vFYyiC3t57z2H7F+hDuNr5pxrkeUSolVh5a4j9N/yKnhrPRqNHhlimatTA81dRacJzVWJmHyZjZhgUEbLVoULwtwAvfVQcakvpLhevVy0L+1WMR1wBe56OJl8UfWl8Z51TAMD0NTRN84aUrhRf9It1HJPkk6aDz+JRAtEzXNJh8rbyLqLSwpTSlWH2ghjfYFuWy+D6hMk7yHR5n7sATKN/Gu/6EahzAkFfYWZxyBFrQnlie0At7jmfl6I2ZYRnktc8pXyB0SCUIGihXZHdMMdhU7EeUW6ASu/4UDxvjT+KMXBFFdbEVpNWq/WfZF/0bZSM9idE5oTRBTZDzVN9E25znhMJgztCbFLs08eEykUes0cxt3//wDPhIYEgkl+CwqKb84kD2FOj9DmVP4XbRZKEYQUOFXwk6QRcFFeVHfUp9YuU2fW0VdiFG4QbpAdkYtIrAvFUsuUxQ8tyK5KYsTTBDlKDgsODRKN1Y/oEDoOqpGhD4GPeE/BUtMO7cv1C4MI1MWWAAtB80Cjww/EXkUnBlVEYwZshbSC03yOvQ0CCcABgnMDBMWTx72HcUaZDTpPztD2ExOKw0apBMAHC0IjweyBBvt3eR77ej7GwDNB88COAQOCR4D2P7DA2gMSg47DMcVtxp3HF0a1yshKp0x3S6SIYAJzw8yI/AEG/qfKfdltQfg4mAFS+cV23HSft52D/czszmqPMFfv1s6Q25bJkbJNHkjH/jHBewDoRfBNvIhpXY5TLon+TZ1Im1KDyjfWBZdeEY0Uf1XJm7kOKktv0HXLpsnMjshPpIxNjZ6IptC+EEkP3VNfw9FCDz3fe8SBzALFxX5Ff8Phhd1M/RXOGPTbspekjuiGqcDhd+t5VMd+Ri7KwQPaOyO6kPbNw9OSkhXLkrsTLlqJFnFOksn0i2fJ0QkjEpOJhgKPeJOvX3DT7fX3tELtf7IBqcA9fHu7IDgTSVoItocqCbLErgmtf0m2hvxDRofKeAt4DfySAxAZkNNMpoeRB6CDeca/A5YDvn7Zf67JQQwOynWMNwR1wZlMj4oMh10ES0Pb/zjBrYoyiPEGdUuOSheJmEl0hTXFk0aPRB3+WwL6f6NBw0DCvLf+MTvze9O9IX1j+9w4D7a7eJf5vP36Pfd9lIDPRTcDVsK2hzYE9YJQf3a8yHvCPcGBDAKlwEX7QPnselD79TnY+U531LhJ+kT61riMNbE6W/tFuqC+CUF0AUyBEYBtu6H8Br8gfRY+7byY/Sn/e77AAADAGb4hvTq+h3sTu0+4lLhieIQ277gAeKP7o78+PzC7invwfEq+Hr37fyR9vHxVu+P3sjggO/B+6wA8wSR9/33O/wF8Bfyxfn6/IX+V/K99bHyn/aw+NztZPqG/mQIlwGN/Nz5YOx3/nz5nvAiAvkKRAdA/yYDCwGg+kf5Ff7a/Z/yAuzl90oAAPpp9F739vTo9jYEdAL39A/x7fno+sr7qPYz7/vuQ/SU+Kz8OgG/BPYAl/ek9vTxw+zM6S/w+PJ68V38Cfei+BQCwv0Y9fz0uQL6/w4L7v16+W38z+wt7mD7pQ+c+eH7692H0Z7gQ+ar7zP+zwJu0n7miPms/tgLkxIfHbIsWEuPOf4CkePz3nrYycWU3Qvi6+0lDasfhisTK0onteea5hnQscRN13rVE+Xa6v7/iguCG94jQyWsGL0L3fPI4dDd7Pnl+c/nH+zK1oHMls9Q2SrLLdTb9Yn9jAcOGncZywbfB/36kPfQ/83uQehM8KEEjf1C9k70he99+k4APwPt/ND18uwP5jPfQNjy4evs2+1G8SfusOxO5X/phPFD9FIGAwd+A4wDOAb4/Yj6C/g+/S0JVwxCCpD76vaK7D7oSdul1m3hBeUh6zzwO/ml+jnzRu+86PzpKvKs8pn0fOpN5tDk096/5Xns2PWw90nzy/Pd7Y3vmPhRA+UD6AX3EE0MmQYh/GftVeeT56nlb+UJ5vvmrOym8Hry5+1J7Pzu9vTQ+SP+QAST/HL+Xwdm+tTqi90O4QHnOecG7iH1SvMo7uHyB+vC7JLzR/ZM8ozsWuxr5srrguun5Jbr0+4o7V7vhewJ7Fbqvunp7IrsyvBs9b3yJ/NO77vszO1k5v7fJ9gJ3cjhGeDV6mz01/bE+a/3qvoG/sn76f6K/4UBiv0c+27/u/9/+wHzZ+iE3D3VsNRM14jZCduk3s/n6+hz5yrs0eiH59XqN/Gj86P24fsH+RX3Ivcy9Tz2x/Yw86HxI/IL74LtWuhk41nmIepj7FjocOqv6SLt2vRS+Jv3B/Ch6D/if96A4GXjR+Dh5fPqh+zj77nvp/XY9yzwQuic6m7omOQF5Zjknud85bHpbPBp8dTqXOy67wPqReeS6Yjkwt8p5CbkF+ic6v/rouyg7cHpduB/4kfnmemU6p/qE+UN5HHm/uPR7LnzJ/fr/Nb/bv2A+JL1ifPC7zTqkuPj5erkZeWI6Zbjped36ETrDO6K6j7pUOh04CDZZtue3XfgyufB8nDxi+778OLwv/wBCOwJxgQ0+O/0pvfK8JjjWdog3H/fcuTk6gbqFuwW7vTus/T48qjsDO/C8Obun+327jDpAd3R1+HXlOAl7mnupewy6wHnC+e65nruSPUI8H3vavRt+A74GfAj8HXw2vY9+VT3r/S/6k7gMdMH1eDVjda527vkdu4a9Cv3lvq7/gz9GfwF9zTzeu0H6xTlAOaQ7xT0jvef84L0m+/j5ZnqIu4z8C/yO+0b667my+Vv687tBe+19Wj1Te7B5EHmJ/Zm8k3wcvYc5krfc+rY8YfuUeQU6zDyb/3DB98C8BFDF7MMk/kz45Pm3O3i7Z/pd+Lz5x/lSODA6XTnl+cF8rD3Z/Cs8Sv6KwD2+wTqcOvF8/73xwdUAb7zY+8O6WbuRPNu9Kb5m/4mBVwKHQyAD2INmQwSFt0aKAjh9tTvF+Wxz03E5cacwrPXluoZ9cv0RPg5CK8GcwpdC0gHGP9yBwIP5BN9A+fw1PMZ+T76tusQ4zHlt/aM+3nvze0C8QHyHfUE7Bbt6vue9Cfv+O6v+p8ITgJQAVEE6hIsHMYfVR8xGzYNx/Ys4mDYgMkwurK9lbUHufvM4fRr/nMCxgrU9TEEvBf1J58pSBfhDZjx4+10BJIbTSymKfcfmw6JAC/smde6z6DXptQDzivXSuWC7s7k6N9e3a7dYtn1zLjSGcwq0EbmF/TVCowJ/QdsDwwKshi5JC8b3xTDHM8WDwcACj8RUA0i9mfmLd4T1aPaCtlR4wvrjt/C6VT6IAbB/s/rKtwb3VXzy/aX+M30s9x53R73vwRRCEL/tvbR+eL/eAqTAIj+9/p79ATyEOZa5prafNX/44L1BQyTA+ToP9S99dE1+xQtz8LVVf/47VrVzdbu4Bn7kxdYBV7jGuy+9ff7XQXG+CPomfSv/q4Nugpy+2n/AwBb+kXuk+pi5K/nAOwB7V39jQgnBdLo9thM5g7uyeBR4E3zffXe9Tf5ifJH79Ht/N/y6s8CD/6c/8oESRGoDnIFf/n68Iz1MveQBFr5GfLH74Xv5fu8BZAUQxtaEEsKEgUABqgUnQNX7JTsaea73OzjEfav8V/y3vZC7/zkod491u/BRMa1zmzelfisBuYWhh0sE7sGowU3CB8OyBP3FKUPAPh89vbzCfD49YL3p/viAZ4OBBD1GIEXggGK8NTnVeRO37/hmPCeA4gHVwcuA6H+bQfECwIMGwtXBvj66vEe6yjrXuu07r3xjPR/+WT1sPfH9WH6nPo79inzMPOn+p3t+uw173zuTvdq/2UAJP0sAJj8mQfpFt0UhAvCDn8XhhxJFCcG1vtV7WDoQOx57XPm8+Zx46jn+PQN9bL4YgGvAx8RuglTECcXOQfTEsgT3w1//gIMgw/m/874xe5c73T72P8R/j//rPoPApjv2unV/R/yL+kI3bPq7wTF6vrz7v6wCuYSSRQhEvv+/A0LFz4S1OlazxvURdkl8/IH2f/zA8v+qwWDGUcanylBGNwYBSyDKq4ngxMRC/IGCvmp8J/k1+q52zLaE94k1ozvAQS8BBLyJgB3Bvj/+/NH5JDrEPWW8Trr1PdG+ncEqglXFNAT5wSkCsEKgRR/GY4cKhKPELAQGf0++hL6ogGxDZMJB/2p+Ozvo+td47H2iwtRFf4iyQnIAbcEm/Zm4jLTxtKa2cDmbPHrB4gJ+vs3/9L1JwScG0wssyNqHaYd+hhrEa0GQhBG+ZQe9hXg/9ogZBScLW0WlPOF9zcC/ft/5fbwCtDAxMzikN0N4yHrPOwS1H7fde4z6mwnPh/NDtgY3/Va95MSlwzAEc1Amim0BefycA9NIfgCtQey/gfqxe3Y/LH6mxwlDyL6RP9E4mzvXe+ixtXVZ+LG6GcHK/T84LbpHNzw7Tcivk35RI4mCicbFTIMOxHzNkgh0Q4DHXkLZhUvEfsFy+I3y23Zl/c7CkckBim4/czxlPIn7Wnf2t/37XL6dw6xCzP/7/Bd7/3u2fNsAqb+MgGa9Frh/u9B8ir2DgYyDk0cIxbYDhcSDBBaCjYNtAvqB84H4Ppg+BD8JwMFBcQAIf8H9Yj8GQP0CbMLL/9jA+0CAPfm+74NRf3E+XbzEOSq6rPpEfq5/VAJNwxMEh4Mgws9EnwQRhEPDaEZLBfRDUzqBwFu+tTXceBU5WAO+w/TDPgiwgKw9xMUUx6hD/hc4XIhY2VbDUt8MHuDXNbWTbMh5C6VIxGrAYCAiQGA/YWEicGjBai1uEHA/tjN4ajsA+uB8sPtSQrEeKB+/n/Ve/5/anv+f+dWYFw2G2GX0kz+f4vbUMQ8/5H7j+Mk2tb5cLZLjayAdLMVKuge6CXuHG0eVRKyoSCTu63OrAdD/n9sef5/0XSEcPz7HdKA4l/cv+hg343sh+NM7jjbVRKdcPNjqRc3kwGAEZgUhPn8LirkOwF82my/bWQM3esNnAGAfYw+mKztN7Og28IpaBe2Cku/k7RdwtPIye/u37Qg7jl5Mww9o0CRPgdGRybh4ZXV6Ot+bf5/a3t/e/5/cVrLQNlgUUR3WCI10x3WNaAedBiLCuoJIvn+ly+DlIh/huiO94tEkcKWPZWdglmBOoGzjmGTVpkFphGvK8EnwunUS9x94AHohi+PYC4IVPyOR0N6X3+hfv5/ZXv+f8l6YnJvXgxYnR3YnWOiN/8ELpAhW+2I6xMqIiynCYDPxoUBgK6BAYAnnwit8qpNG/haNUN/O54uWRQSreSbvbfF5LEqGUhsPw8tMSk2BSgJLBvvDmPbM8a5tSOT1YYCt1fB+LFq0M64I49FpPPc08p2wzXu2DR4a3RdxTqXGAgb7BOvGn1Zj3tUffVorW2VTMs4Q0IlDeH2tOwGCXQf9Qe996HsOPcD9Fn/0w5HHKwXzwI1Htk/Vz2gQlhgFmq4bchqoGCnUTE0nRvAEyYhqTXZL203WTVGNLM96T0ONtgR3+qq2HXc97yKoRidD6hMsjLKdQbsH+grQzTXMmA3Xzp5QTAzIhJiAg8CkRV9IQUsB1PaY4RExh+YBbztAfqLFeYaURyjGGoLeQnNCF3+UhHtDegYQDiXR/BUzUi6Pl41RUPQS1FQOEdXQ+lMf1MHSDg01ShyM9dQmE+dQnQ1NzRGOZMyvhobDg8OCgzZCU8M9Q22DVMJKAx+JjRB3Ez9RsM8sz1gP/BI80N4SIFDzDtbRm9BNUDONmM7hUADRDQ+mT6FQOozsj3OO0Uo3SKHHXsTSwj6CukfJRGZE2QcFReOJfI3Fj2CJ8wvRiwUDxQDPwziE98PEQUs+GHzU/at+JP8RQl/CUEQmg9n/b/2KPie/rAA2vhaBD0RLQ2VA5n8ywKmDRwVPBVuEc4SsRCSEGMEnvmC8OblHd0w6NvwjPg0AYv7DwJ09fUEvAeEAfQCZwD1DpwO9A8VBqELMxUUCksQCQ+7CdT+IghiA8rwq/KjA3It+xSA3DT8HvUFvkzj9QEGH1k+R2f+fw5OTyHBFGsVhPeg7s73Fvt8CvD03vJtG5k5Wy26ELAK0frZEWYnGitfXfE2+TqpQaoUrEIhIBwVKRhgG7M5ER75HWABYAOUCWUeuU7MICAPM/8c4PfvYgE3Ctj+CQ3mEJz+MRRJ+vcfLiDMCskxcPNuBj//vutA37T9FRcBBmkUVPDm8ejQ9e/cBaMpOENMPzxRFzB9H88I0fiX4qoAmSKrBUDoQdsG1VfZAsLN1MMGfQwAADzpjta+urq44eaD/5PiC+uQCKj6TgncAgvgaQLTHoQfVxCGGM8YHxFWEoMAdxAeHJwbOgJJ6GvW4Ofr7urr5v8h8PUFixnXE2APLQlfCOsZ6ic4E9wUOBEODIYdURhZB+EIKQdp+7T60gWuAgbs2+Fw55nmTPRA8o/tHfNi5u3l9tgw3BjhiOpuBFAE4f5y+wADgwhC/rL3QPtG9dXpOfov+bny2fmHBhsMQPgx8aH4mu0G3o7j6uWx65nuXuy95iniUuDr6g/tZPDR+svw1ui25IHrgug88iby0/QuA20JTQcy+VT9I/iA+1j5xvW97v3kA++n6W3kKPHI78vmdOVW5+/pF+XU59Lr/PHE88/uK/RA91P4Dvz69nPvF/hx+9T0hPLm73fs2uoi9qL21vNj9YLvmPTA9aj0pO9a6kfs9/ND+U/9DP9o9ob6/QIwEO8HFgCsBlr8+fhZ+68E/gVf+4D4qf2EBOIBOwPdAJX32/HS7yL12PAc8wD4SvaS9lvyhPVY9531bf6nBr4Gsv69+Hz3QPQB9yUA8P2K+SL0PewG9bz9JQIr+xT3Re9x7/b1MfOX90/zLfkx/eEHU/+Z+Kn4SucF6NP/8RA+AToE+ugK5r7t/OzT9QD/pPPh3x38W/dRA4wWUCnjLAxDGj5EG90IU+/K3ZnLKst7uHzKuuFi9SYNOBIiErkI2Q3nFa4QxvdD7SbrSOlp+ZH+fQBpBOATvv2M8DP0Gd+D3c/g+PuUB90RMQcO+Nb29esJ5SjTJMB+vjTVA+9rBV0PmCGpJHsVbA5jD6EJ+vhB+nT9q/qlCiIVQRT0Em8KzgcKA3n4G/L169nl/uBn1Z7ZE+el63vs++dS5dTuRfVZ8rD97AYp/7T41POm8gXw7/DU/aAE4gtyCEn7vvQg+DH2FfF+9Fb4vflk+j77wvQ57j7xsPfS91z1NO8t7+nvE+/E7sXspu/g+CL+hvq58ATsUu867//yqvpn/Iv11/h//N0FLA3bAeLvhek/7ILtmPeL+Fz2cepj46jlEehC7RvyOvpj+P/65wCGAa7/Svty+Qb6x/Zk657iP+ba4JDlhfFE9QL58fHu7antI/TA9Er1JfWr9oz63/Ql9Gbxtfgl+7/zf+y55dDqP+0/7zzmZ91V5czqw/Fa7jPrl+2B65fsDe1q+aj9e/nL+uzze+tD5DLiuue96MrlZ+YV6nPt8uxx8e31e/aH9OD4Jfn38xr1Vux84obW489B0o7Y3OBq6Zv1PPrO/oAFbwtoDMULrAei/sH4DPeI9LXvvO6v55zlnOPf3U3gc+VX5y7rtvE08cTxxuug60PvQe1d7QntYeu25qzpiOlx6vPuovH+9ED2P/yx/Rf8r/qR97Tzg+4B6abqQ+vI4GniyeJC4gbvhfeQ9/r2HfLQ7sfvU+4v6yXravCC8f/x6vMl8rjq3ekK8g/zVvWV/Xj+efnb7hbpAeFL3w7pE/Wr+ov5/QKp/srzhOwa7ljvMO2w8SP3Ef/Y/Ub1W+xO6eroVOyK8HDy2v1dCvwKhQSX/vf7OPnO+RT8QP5/+pv0d/TX8SfvZPBG86/0MfRg8abwEPVP8z/zevwp+1LxQerf7Ivo3+aX7FXxYfjf8JTvNfSo/T795vkZAB4B7QjjECsV0w6RDKIGEPzC8lfxYfCe7cnvyfHw9Wv1efGY7cX2ePfV9gn6yAD1/2n/NAJ4/cf7+Pth/lf+mv7a+Mb5EvXN9UD1uPN08lnrB/Jk+A8DugRzAWcF5v4E+Sn9U/6BAEr8+/qa+Mvx7/Rf+TL5nvr2AesDaf9D+Fz0Cfnf/vb7o/wz/JT5Q/zt+5T7Uv+ZCLoKNgXqAzsGTQf8A837gvhN+3r+kfoXAR4C4PsD/ODxzfvNB/EMeQpmAUYCEQKzAtcHoAcT9e/s4+1s7rP4d/Tu8OX4Ef6EAt//3/uDBtAP4hTDFwwVIwpc/Zr4rP0MBuoJigKl96/8UPMf8uj2su6A7RTqUe0P69/3+QnUDYYfCxjFBtABRgbFGWIiXCu0HwgL3Qw9AI0BOwP4ARP/mPD48a7obuFt593sqe0c7ADuxvGd9LYDbQ53D/wGxgAcDK0QEBURIbwZ4BSwBfbot+Hi5ObhR94n10+8ur6+ygjkOfhsAIcMmfx9Br8fEjD4NFEs0R9sAjkC6R7SJcEbTw/ACAUDMAcMCDX6zfHu4QfZcuKn4HjVJti52rbZ7t413+fj7eZT71fpct306cD8xgvuDEYDtAkHC8sGWA9UFPslGCKmEiT+tvhQ/VLzF+os3zzhaOHT5E/kh+cq7c3plefU67TusetN7tT28vpe9Db6Sf2O9hX3TvWX+rcEPg7nDXf+PfOr8tH9IAUSBcEEHvuO9H3x5/d68s3nneOt3orjueqz/dQNWh4jGqX9yeL+23HgWdn42Qrk+uw8+3D+7fuI+kv3OgNtBmMK5Ah390Lus+9K613x4PIt/IL+muxP6QfpFPXU8eb4Lfy16oLav+Y2CLX7b+Xb+KQBS/Or9y4BHgGB/j4GmO6H2LLjIO0b95P3c+vc82oJsw7ZDJ8E3wHZ/X79fgH7AhH90flS+KcDHhvvGoQSowXL/GHzBfM09BX1Tfzg/tv6n/MK7iXx0gUr/gbzzP/w953kt9r40vXNd8/f2QfpQv2fCRIYfiMKHtsXghefFUoSEg9TD40RYAb7CzEKxfN/5s3fQ+HW7FQAOwwUDsoEYPim9sP6Of3EA+gK/g1NEIgTwBYyD1YFFAKvA6j+u/s4+UL1ZvKV7/nyze/h8zr8gfx/ArIIzAcyCa8NYgq9BmQGLP8n94XwDut76SXyUvfq83jySPsHCB4VqR3aH1wX+hAIFTcTZRc3CyUA/Pns+FT2qvL28mLsJ/Hz66Ls5/Nz90b8BQNhB/4LrhSmGtoXaBGXGbwYcxyqGEQRxQ80AS32SvA/9cv+ugseAZr4SwGf8vDyHveN+Tv9zO2yEI0DfOnf/eAAERLvGKwd5wF2BksM4/5hC7wBvuvs0hXdHeyzBfcRThAIBrz6XAypHLQnlBypFWEEzQhXIvEnoRBXCeML4uZy5Sr6gfxh7cHtCv3k73UAMP6M7Mf8xfnu8qr0WQZv+Qr22QxR/tTz7wB/CaIMiA8tEH0aBBOtBakCXAQrEtIIMwKACsMN3wdB/2IH+/8o/lr2ZfEl8k7jZvD++AACfQOxAsn8R/mv+jj+KvsG73DpweLT7UD7JP8IAFwPixEAGRoP1g+HHssYgBnIHOsgIQkiDEwFTvLj/6ECXgPFCZYQfv3F/kDygvK9CtYJZAZy9Wblp/Ty+GroAPbB2LzfuvFu61fyKuUT/LcEkPTW6lb55hkMJXI1eEElIzUCNASQ/1UQ+R5kF98JuP1m+BUErOf93NL3PwJXGtL82u0/5iLiadr04JPWFOeo9wjl7/d698j+guip6yQWayE1JuQjFyWOH84bYSiuHMkkYR44GbIRNPUR/2ANnPnn6E/zUvfs+5sNwxu3Gp4VKhBfAq7uoOW+1ire9OXb3Xns9Pvw+SoF9QUrBGD51fjg+MXspP0k+9IGrwHm+5AA+gSUCOEO0g8SBfMCHgDHBRH+uQpqEBUPGgS0/MbzmO21Ay4CEgflC54KQgvfDCgI3wNkDmIcYxV9EvP/he49/Qb5Tf1x/479Yv5q+An2aQK0BZsCXgqkDH4JFw73D4oFCPEr8f38g/jzCkERlwSOESsByh0yGBP/oP+w++gDbAJOW0V79HLAJkse377juTxdG1UgR/xNhAgCgCuFnYAQgaSJu5MipBytBLtyyfvnB/F85VvpmPGk+VkEoQ5IX6l/tXL+f4hWZQouZv5/039aeP5/XjIkqBUA5gYyDyFlOF5Q8pWhAYDfte0swAsHBgLw8QSb6wbDSf7VxkWTCtFibjdOQEuST/VYqf82mj3OO6IQyTLXjdbJzqzYcud849/r2t4mvdnIJcCStu3VGLL9uzgHZV+IdVd0hlygEpQCLPi+pTPvZG5RailgWlaaRzc0rwhCqsmS2J9ytAe3Ersl12vH66ycmgGYHKb4pz+f0L3Fu6r38nSNexB5UXofJk1EnHIN8G6mV8xW9MlAt3NFdwl7yhFXm5e3mgRuLEpmvnSu4wGsUMYz9PIid8V8hi6/tCbCBtvOzs0mqgexObejzZvQJPWYSglZPzJrAzAxk2duYVVZuXD+f2R6R3nxcaxWmA2P+CTjG6VAp8C5lCEdZW9SqyziGfv8uLNpyByzOYUhl5sBFgUt+1dM7jxwGnYb2RqeC+bYwafsuOvc6hOnLZ4x/iVc9j3VlNw6A28LDgHr2wWsXq/iqcSepK63tpyjpJWpiJ6EQbTJ27nlJQmRHDs+D1gUQRwg8xnzGg0ddTulRSBn8FuyV0tXIzSBJtEV3xhCF1MHlxfuJLQADezz4mPp3QIVHF8YLxYZEvkRyyQhLMY21DTUTtRjBk81SeJUa0H4IJIdjCijMJU2vTEdKitKol8qYUJd0lOUMq3wveVl4dfOrbyTv2nDr84i6hf/2yG7KpodrALUEnQWGgDDBGAAYfQ6AOEgWjDVRrNu62ZzNQ4XIAF8+mkMPRv6Hb4sxRVCB7IFt/BUCS8YUx36Fpsl8TmpOHYp3xpMFuoVPixkP3NWQUPaMFQZwxMxEooVsDXVQv47SDJSLXwTSyXjE3UC0AtaDvIJ0gNU+qb7/wZz/jMQtCKSMC46mDxJLrIqyyU/O18zLSCgKzgm3DDlOStA4DU+OTQyYTNwNCId+i1MMAIfZRgEItontiLiHG0KVwHO//MEQAIAApQaCCSKIUUryzHiIa4DHP1t/pP9zwudDDD5lu4X8ZQA8ghmCHASnRLuEIEFO/4e/6cADwZ/AN0Fmg+QEoAQGAiBAXwVHBgSKns3zCChGCIdGC0vCmv9MQdgBcQMZwCq+ucQUBWrEaAUbwwfC9sP/g/4DFwQshUEHJAVdRH1DEULhQpWD4MW6yA7GB8XmBQBGscNbxdsR2sv2Pf49yvyl8ulBoT4fiMPWWNj/n9pVK44oh3PLy0M4xBkMKL5awl8IykpjjFWKqsYBCS4KBQsoTMfETE6/1iKU15Lp0V4OckxCj4WN3M48RFAGyYaVBC8LXIg+yzlORRAFFGkGf/oUeVK1tXjwhCDFNIRTwyIFWEpcyZ2PLIv0y/RIp8X/QbEB/kMcg6AHnL3qhjrDwvkRwAsE4gPDh4VQ9pCtT9wTUIySzNeI4EHCRzeH9wxmA6f8b3vsOrb6y3eL9ia4L3mHOh6+lTkdM8o6icMeRHIHeERVg/kFhog3QwVCRgkYQzXMk0zSTFtNdonwR5SDNUn1DMSKfUNN/238WzxRPQ0AjkO5hSBGtQayS1JIH4leiFfHQUlnileISMjhiawErMRvgqZFiEa0ReJDtIa6Q7eBMgLkvSk+l7ubfi0ARLycutz6l/tdOpX+K3y1PNe9LPtngAHDb0OphAfHK0gtiBBI7EVeg0wBX7/egRKAWf6a/w++krtPu5E9gDy4PGa/+H8ffTH9GfzWvjd+90G7hciCPICugTf/Of+fwZpCqL+tgXgB7sLkwyUAYYEswTGBWgAWQEw/6f5Qvmj+E/7avmY9SP0wPJA71fzYvsJAXcDPgjhAiYDjgXU/+v6wPRF9uX5LPyx9C32wvcm+mgDSQHpAt0BevtW92//i/oE9/v8TwHbBzMIEgOA/aX+mvo0AjkGY/5++AoG+wiXADb4Z/Rn+mj5GgCUBG0DkwEd/1z/X/2n9SPxXevj9g39agO4BTT8A/Zz80v5n/TL+X/+wgLxATH+r/yn/bj7nvlf/aL6cv1y+abu5Ojz7BX2Dvj292j8JPsH/b3/tvrJ+mH5mfosB8f8vAU3A0jwXvlxC+MJ6fe++gXeKeWW74/tAe329mnxK91C/RYIPhpfHXce4iTCL7ouFhT4AIXk0OF03I/XZ9tP2RPbD/G2CaoLPBykHJsHWQbACAsFQQwJBlv6tPzJ+w34dO8V7QzxvwIpBpX+o/Yw9lQNaQ4pADD6LPRG4b3QZsQJuBDNg/S8B2Mb5yJ9HVwdAR2jEa8JQQds/UIJtxJjFY8SEQ+TBzj3qfeu+t0D7gWTAEX+gPGg5svXmc7z0sPb/+NE7J33V/aU9Sb7TvwwCNYU+RJtB+v+0gHCBeMMug4ZDUMGMADYB+wE7P7O+in18/LC8//0D/r/+ODwzu+I743y5/SU9mvwqu029+H8Af69BYcIsAKn/An1LvPv8N/vEu827ILttvcB/bgB3gnjBycHFASM/Z/27O6e7l/tzPD79WX0nfbZ8gHzSPOV8jn3xf0hAF392/qN9dr5QPkG9s312++X8Ir74v9j+UjzDOlG4irmjuhN7CbtUfJq9T3vkOqx6QTvFvD/9jv5s/So9d709fdw9A3wZfJx75no0Ob366Lts+4V8tP1wPhW+az5APyh/Xf8hfsq/iv9//j++Bn3m/Uo897upu678kv35fpq/PH5TfR57vHnsd3U1/vUYNRY1rvZ3OHm6h/2Mv3f/ksGaQsGDQkKkwRiA30ATP/Z9yrz2PGP66bnS+cL52fnzuo27TTyJ/eo+3X7Tfq3+6z5m/Xb8fHxLfDx8F/yB/If83vzr/aR9x/4Nflh/8H9Gvif9hPxdO2w54XnT+dI4Sjle+rQ7vr7BwLo/wL6JPl198P4z/tS9TTspO+k9AHwy/NR97X1W+9e8BbwLPMD9dX8FwHr/eT9+vRy8XzwpfPu7iHy5vii9mfy4vWr+nf53AErCR8F7AAvAFb9kvlX+Cz4tPgX+8b3Z/ng/Cj71/dj8wLtVvDu9Qb3jfp79kH0+fga+Z75kvxZ+4r6Tvu0+aT0l/aT9WH1sPaH9fj0kPQY+Qzwm+u27TXwKvT580n39vj4+HP8kPs9/VAEgQOWBgEIbAI8/uv8Tvsb+9n1gvNQ8kDtVO5F7qb0Q/Vg9BX6nv4u/wz/D/909mb2A/vD9WDun+4b8Rvvvu/s9wn8kf26/m4BfgVDBAICSv2J/jX9pPMB8afvMeoY7Pbxyvh6/R3+U/hP9JLuS+pY7TvrX+9D+W3/UgdyB3H+M/3G+9v2OPDW8xb3hvpj+hj3MvmD9xP5QfZi+DD8Mfpw96/0c/eY+RH4Mf2C//r7Hfhz9/P7i/oS+U32y/Ty8oT0E/MH8Mr0a+6n6jLuF/O39Bj/5gYLAEABivpx95X6xvdk9/X1I/jO+c38TwAT/+/7hAH0CFgNRg3uCDYFYwj2DH0HUgQZ+WbxSunw4uTeiNIT1WnYr92T4RPvnvWu8noBMQSWAcX+hwroETEXSBkfAxv3Hfe89OXuXfGh7RfoBOwx9N32sfg1/qH7w/aZ+j4HjwNTBPQEbAXJCdoAkPxn/g/5jv26BGL4OfXn6sLkWeZ37MvjLtzq1ODCFstF1nX22v3c+4L8S/BfAbERyyBKJWYjNBKS/fIOghejDtEK+ARIAowICARJ++jzHe737Xrr5PL17yDtVe+65xTpF/XK9DXrXuvT+Qv10eNQ5n7uXvtOAF8DiAqbBpECv/8z82T6ivkf77/qbuYX6qrruez27Hr2EPXc4G3d0+wuAQcLggw8DhsPUQtf/0z/jvkN8gH3kv5FAsf+svcq+RgCLAe6/HLz2fbX9ur8OPt//KsGzAMY+6D2wPxG/rj5AvD652XrC/Pa+SYOKyLJEOH8aOov6orxL+g845jg2OsH7oTuqfOH73X6Ww1GCZkHPAwkA2z3lvFgAkQNYga8CUIG0vvV4ZPO0uO++30C3PI5+rIGywAL/p79Q/gt+nwJ8PGt6mr99v1k+Zf54fMy6qnzxf6VA5UGBQI8/iz+MwehCgcBN/3R9C72/vmMAlQI5wQbBXoD6Qq+DZ4OaQmOCj8NjArqBaf84fcs7aDk2+rW61jo7fPC+q/+PwEW+jfsg+XZ1p3Nr9DC2uHvI/4LCzkXQx++HmAbTBibF+cWDAbq+1sA5/3jAPb8Bvfy7gbqNO+w+RMQ4hWrGNIP1/wj+JPvH/Pu/HL/Gv1N/g0Bkf7I/Or0oe+s+FwAMAQoCPED5fh/7/LtKe/X9N0A4wleCVEHGwKHAV4AQP6J9b/rYu4T7DDrzfHE+xMD/gjtA2b5lvv7AGQJNRF9DqoJsQZLC88MxAdEBO/5nOzn6ortZu0W7YbntuWn67jox/GY+4D/NAoeChMRdBCeD/gKkAzhDlQPBxb4DacGoP339obx3fQa/BIGpv8F8EX4uPk4+ff7DPDa81X4o+z/8AH7VvG274IAPRT9D7YC9QPkBOAADwRUCrP0te6z4EHhHvMn/XAHcQAPB68Bpgh7EnUZ+xFvDaMafBABFD0Jv/1++rr6dP6K+NLwOehA6ADpTPN08+bsePYlBNQJqQAR/VMEb/nx9Mb6ofku9Zz5fA0rFKsQeQvzCiEDYQQu+13rZvpxB8gKiQXd/bv/lwhIC6MCIgAmAjfw/uWG80b3rur66RX1IAGLB60QFA8cC9cLjP+U86TrE+0a8Gb4o/zd/a35vwatDk8SVxh1D80DeP5oB9P/rgvOBbgTuSDFCIr/cA/5D4gFbw2E7GbrCvHWCFMNowlmD/rsReaZzW/Zudvs2ZHu9d2g41ruPAQAELkSRRSNDdoG5Q+8GxsYCh7rAtYNSilMExUGjvjc6WD8bwbEA9L/8QBwEMsSwwoeAo/9Zu9t5UnSOtrg4XjbC+Tf7In5mv9b9hLu7fR9/ZAb5jP1J4Uksx0ACWQSBBbIDoIRzBg/Ge0X6RC3ArIAM+qW2fzr/QQoAm8FRBW7C5ELiwmd+RnijeFK4C7cJeuk/RwMogaxBF8K+BAOCxr8WPGc8aHySfLY8arr9vraDBoK/wa2DNATOQ1JC18F6giaEPsHPwEc/rgBpP2K/H/61Pbh+WD23PMA/FEF3gYFASj87QCUEQgdSxR/CDf9C/GX71/2hAOh+HP/ogrlCnMbOA10CeUAbggNCncJJhL7+d0IOv0K92TrF+so81XygurtDoVyK3BLah5RcvEBgJnV3GjrV1lHvlAfAgGARIYBgB+G1olDldeja62qwbrGutKL2+TppvUt9+f5tP0zDxkdeT3MeP5/pHP+fxAZaK+r1zLvw+7H40Nh/n9bd/5/nxodZkRd9tK8+R4lK/oq89b2ruZS9YnEvj1BA/fimxUY4Js8OSobI78c1wiBpR6IL5nEhs2HcpGvnQu1m8csxTvOs8EeoDyPR7cFxOOzsJ2c5FkfnM5tuWoqTn4IZcsasBWkEJcQqPr8zr6+HuFOPDwFPS23S0fx+CLA/ECshxNvGaK+0Obz8vXwaOKf8QAA46ermxGcEQj+f0F2InvXVuRS9kstMcIj8MeW9n0C5PXDNlxASRtEmNOVzrJO7R4LBcmjuKSok88+107FT6S1jXadb6F3p6e0DsBKzVXVDt8G5EntwxV/QcpvHj7fHjlBEF1Se1N6/n+pfv5/W33TdRtfi0EKIQX88awEiei4s8uCFLdk4VbNKkAXRADP7/asiIsCgDmUdaAjsKgHhQoIFaMhDSGD3ZTxEfUtuQLhpAiBQVlYx1J+QJgMndf80mDglPdkBhPo0MIunSGRy51FzKLfQaWTk3mXLqbVxa/nlfBZ8K4iiEfmPN8mARzY+qcE7xrrSeV9zHqlcYxcBz+UGM0F/Ac29mTdietd9rEC3uciyirTX9bj4Nb4YhhvCqT17w3cD6sXcTouLnkxuFX/Sew09CsJMBAd6QXHELMRQi1fJ04hcy5DMSI0pi6/LNAR09WDww3QgrmXpX2PE5d5rdq7xeqFDNkNlAZ0DDgPZBA0DBIDLAh//Iv6Vv3bG+4xHE13XNk1Og6i8cf9GhqfIiAmdiP8EFUUQQlTBTIM+xhKH68hiTA0MC044zVpLaAssC55Pd9O/EbDQeg34CU4GqIX5h2yNHNDQjWiMYAl+S45LosW2Qwg+FP3dgObB9kC2/tS/zADdxZgM/Mx3DSlMBIcMhlAF0ssqCyTIIInCyHnKWooNDECNU8v5j1nKGMeMyX+KRsqgiZJK/QfqRuHFt8MXgn7DnIKNvxk+gL8nxauI1oL0A3VFkoE+PwA+t/z9APQEFQDY/pB+MnyRwJpDM//LPyJBUr98ep08Yjtl/CA+nv4ufzRBt8QfwgeBv8JARRDHqomEijGFj0Q3RIwCxcEVva56Kzs5e938HLyQf5d+2ny3PR580f9n/os+jYCjgStE5EXpwhV+yH34v2JBxIPxQ77EdEP9ABh/Vn2H+7D8rMW4x4m9OjmhPql3NvdreNs+tk3yjcNVkdKq0XWMu0MmQnM7EgIvwzp9dz0yvqJHUYQvQxkCyQDHC5mLJQqwzpgJxgjIEPKRjop3kgSLAgBOCqKGpoAhP089WX5rTEXIt04tSTN32D+NuaV+U4KRfdI68oC2xg4EhwgghIqI4YhuhBkHIX+zQzQCwb1mfEe7ZsCkPiq9iPowuf09w/wMgs5E4IfUB+5IXI6yy7AIsYidgA+CScMzvq1CZ/iuM6su1LIxNON2svmiOju9fbggtWG2HvxzPle+Ijp2/LzCIUPvQpM5/vtAP+p+3wEjw+hIAMqgh4aCdgBKQ30C5/6iubo7yL2x/3A+ADtNuvJ6SP5Zgn9DsP9LfVU9YgBNBX4IKQaLABGD6cWjAcbD5AJhPpI9usCBgHw+5DzGfJA64LdZ+fO31jZ6OeB8ynmZOPf5ajo2Os38+gOs/C13G/xxuVQ5Sj0Qvi6+tP5efZK9aT42/uG+jX3s/T39YftROtR7drnmeYS65T1GfC65zPwgvje9C/wJ/JT7G/vbffc+Mf0avTe8envzfeC9pr6f/2fAyD+UP4gB64Cxv0r9M33DfGf6pjs3vHB80fy4Op93RvnHvKs95P4j/Hn70D2s/FZ+xwCh/2bAGf8B/2PAVn92fEX9Y35vfLx+HUBGPW95pfjm+yV7Vb0Qfra8kn4hftcBWoHVQhX/VD4dAfV+NTy6vls+9P+gPw5/XgCx/gu9qf+/wYM/cT6JwzI/3n50PtN8kHya/vV/00BoPhJ59/pTu5A8fL4k/bf/Q8CofwA/vL85PV9+JD6u/k//W74ovLY7i7uMu9V8STzH/Mx88H3Uvfh9Dv35fp5+L8AKfwM9nv/3vBr8PT39gUg9zf8lu2F3nLpldxK627viPCN2WDzwfrXAUIQ3AJNDbIQvi0AMbAbXvK36HboUdo/4x7c89u93afxgPve9eP4Ku858wXyD/S07R3w6wE1CeoScgxeB9YCxfyL8vzsVusl3Vjdi+ta7+PttPNP+CP2FuqR3yjZg9386+gFhhXAFp0WmQXv/PH+Af7n/fQBJ/ws/+8C/AWjBRQH5BE4Cj3/CPTy7zXvSPOc7aTl/eV24zzsE/Hk8xzzRvME78Ll4+g46fXyEv0i/0gA7gQfCfcL8gwRD1IM8AEa/mX3u/cd98r7XvY18XL2d/fa+Fr3PPi988fxOvCP87b2+fmT+2/1WfY++6EAdv4P8c7wcfex+lz9EgHFCAoKiwJN/DD7NvlJ9gzymvac9czzBPKC+Kz56fat/0L3M/QV9sr2EvVA8knv2+/R9/b3m/a1/fn7Cfoi+MH5IwT+/uH7ofwv/6X47fu1AL35Y/p/7cXpOe2R6UzlHN1w1rzaZeef7kjyXfXu+AH+3QPMB44GewC995PxeO+A7ezq4u107+/wsvHA9Db0OPG6+d79ZAI4BAcCIACW/Nf5TvXb90f42fCG8M/vYvJ19Z/1rfVG8n70xfAG63XocOdH7hryLvKZ8GTseOZw4ePeYt2T4uLnqvAJ+nb+4f/r/cP8vvmk/Zb8ufnv/TYCWQXMAg4CJgFr/wj/BvqJ8V7uSu2M60Xswe1378nuhedt58roxeiH7bnuO+7G7bHzofpi/i7+Avse9870EfR/9Jr0WvOO89D1oPV/8ibv0+2a6aXkBOqK7977/wP9BPABqPjj9tDzKvBC7Uzs5OuG78TxwO9G8VLxKvTz95H+vf7a/Jj72ffu9xT1v/LX8Qb3/fne+FL4M/oM+RX3DfV89xr8zPnJAJoDgQIoAB7+W/g08sr05/WA9//0ZPYQ/Ar9WPmW9WTyee9A9AP86gAm/9v7bgCsCLoGEP+w+dP5ovw6/JL9x/ti/Df80vxt/Lz2fvHR8fLsNeQF7GTyDvYc9ej2OvzB/VwBqP///7z9lwFQBjIFgAGd/ZsB+/wt+wf9ZPqY+X/0WfMx9y77Z/6d/ML8qgEgA1kBFgKRAyEBLf1c+LD1tPQF98/7If4rA7sETwnHAyz8NvfN8fPy6fP/9qL3DwCRA84GEgj1///5a/64AdME8gUMAwIDPfvq+H/2uPQx+Ab+Hv9v/K35ffZN+MT+y/6C/n/93/is/SIBLAOcAiwEzQYUCaUI1QQDAXIBHQOw/Yn4r/qi/nP8rAIBASv5UvX77hHvIPgG/2EA3QLQBawEIgY7Bxn9O/Yd8vHyG/w8Ag4D3/2Q/XUBQAR3C0MPoRV9GzcXMRWwDAkBVwShBLcJngmMAYH8tfeD8bzqUOod4LXhNug069DwifKi/psFrAYmBs3/XfrwAWwPcBP/DtsCaP8EB1MPvgiSAagCCAHpCYMNEgbj+yD39Piw9ALv4fK3+FT90v6d/SECPwgNDt0Lgw5hBLr+DQgJBKD+/vqe9tjzHPWC6XfhJ9o60QjVQeG49wn6nvzn+Vr5AAv1D8QXHhTvFzQPMgnqHTYlSiQZH5oWPBPlFAQPXgQ17gLvhPZD/If9feuH5qfkgN+J5RP17feT9bznwepx6svzjQFiAEQKlPqo9I3zU/euAeEHZA9mD1UJaQCk94/zf/Gt8PTp+uep7yryLviX+L/7p/0j/j4AfwJ8BBMCPv5k+1j4ZPXY+p7/nQFKANMAoQL8AYcCXv3RAlwMIw7rEGcFdv7sAXABK/wM9VP3YfeA7Bfi4ue87iL0FP/kERcaBQ6b/OjjeOYR7qXv7vqP+hP5w/sG/yP8NPPm8cf4s/xUAbv+wf5ZBtQE+wUMB539E/Tr7rntoPTc/yYRwBFhBrHv5N3L9cMPFgzJ88L6aQBT9lr6KADg/fgEnwYM67Xo4Ou97sfzJPtD9970OwgbDswW8hRpBEX5Xvgi/JMDFRS6E00HYwRIDHkOCwj5Ci4IvwKq+7j8Tf8L/zACIAPo/FztnelV8Z3+Sf91BmoJafnC7zztZeU32ivaAd/G67n01wHjFUwg1RwLEjMP7QiyCnoNahYyG+cU2Q/K/BP0F+6Z8L78GAb+EFgR0A/6DIP/gvIY6yzwJPeC+7EGfwyZDwkQwwgXAeX/2QGbBfYF8AJ6+Qv42/Li9Gz8/vb0/Xr9LQGlByMKiAyWCHcI6AgU/sT+hP1B9xj0QPYT/2H9cgdIDpoQ1wpKE3oZ4xdUFnMQIgXXACYFkPCR+Wz3t+jD64L3bv3g8krucu7T7fjyn/+J+lMHwQayBqEaoxw3GpAQexaqE5cN8gprDjcP9fxs+33+9wtYEGoIyAZlBSb9mvhG/fD8W/aY68DyM/hg8qHvV/vJBEwJuQvVCP8KegH6/CAEmgeCAmH0G+2W+KX/K/4kByMIiwp5CvIM9BSuFN8VdhKQFbUZCwrsAYsSKwpO+VD3yvjJ+BD+WgGVAG0Hzf4h9WDu9OzH9Af2p/Uy8Uz2QPt1+vL+UQApAXwFvA1jEUQYqxacDn4KcQFNBowHYwigEtMOswdN+0UK7gx6B13/vfWN8hLhewDjAm35W/8Z/wgGtAb2HTT7CfC/Bu37KviJ8BjqfONH9VL8jP0pFcUZGghCB9Tz7gvVGWYe5DkXKuoVTgU6F8MQUQ3QBBrxdgTQCtkX8At171bvxvdG/GAHpwQ87/fpu9w459rjCt+r14vov+yt+TcUMP/aELkKJwlf+/gIQhWSEGUd3A70B5wXCSjvIEckciGQC3wGAQXs+6T20fL29V/2wOsi9Pz9K/Ku8hjoffY/7a7zYe7f26TmUuq4/6L7YQuZHlUloSTALXMtWh4NC2IGMA1NE9MeXBWvE8cOzRCnE2f1Lum26J/1wAHNBHcZzg7xEMoAzepk73/tdO+O7V/xh+zG8NX55QGiBJUCQgS0/8EFGgr0AbP0WOwT9r0DNBLnC/YBgwaWDrAR5gqMDl8O5QTkBPEJ3wYjDPsDjPH27b345wTdDKEBfRKtBcoECRt4/NX/BPi/E7oAmTDOaTJvpivzIkryAoB5I0BpW0UySvMxYKEBgMeJAoAGjXiJ+qGUqsu5rchm0YDRweYz4TAjAiPl6wEN7P9AH+F1R37+f/F0/n+9/Z2mPMhp4x7uLyf+f/B3i3cbHlUElZ7qkyKj4rbQM1A1qy/SJxIlXx8/6SG6O5MpxMQpqkIjcTg+SUY6FBSgE72guoPTjvL/68btx+uk6uHpKukJMqdpMULoz9XiM0CwNQMxKiOsGK4N8QWB/E/0yfDwskOMbpMKk7iG5oIxgr6H5oJkj3mlAYBLkzKMwrno7l3DsejkCgcaEAAC/cfyNdZw3Y29DcxDztrro2Rbf7Z3M34Cftdup1VAbnVQsUanWOREuz2GMkYlqhv0EzwN6wP6/ezvTNuV4HHStetGwgGAj4MBgD+CAoBOgeiA0IP2kpejDrLovc3NPdmB4afygf/cBysS/UTwffR+VX7+f3VjW00ZSZoBRywDdY0bjvC3Iupztn4mfWh9E3clZKtJDTwX75CpfZ9wGOBZlUo7XD9M5z1GMUcrjR795RmZ9aEyxpziGR6uJysWTwPV+jvx5tDOzTGs6aGQqk2fjLXNtZ+p45ycmEeHt4QBix+mwcHT2rQCQwktQIpnAF31M4EZOgJM+aEXdT42cyh8vX9LeKVjtklMMakuux3qCR8VmicOKEEjIg7h9gwGrBFhFK4k1wpV8x8gOzUpN1BCMEcATl9bYFK8MpMzhjkdKmA2KimsHjQ1tCv7KiAgSz6vO+g6a0CAKOzzp9u24BfKedQguVXCUNdF11Dtcgl+CrAZQhh6BAkAvwMnCRP7SQN+AG8LGiB/M3hIPToQHhb69eHW56EI8SGuLQoobBKkDCL7//VR9P0G3R6cNzhHw0URROkzYjIANsZFPVYtWMxLzkmAPcwwsjF8MJlEUlf3SfY7jSgxHMgxrTHUIUAeNBLbA9YFowMeDnMZSREQCdEbdS03MF4+ZjuRPM5CK0PRPgA/GzfQM4s3sidJKSQwzjXIOWI/UDbdIQUe/R0NLNg5xjwQOS0x6h/eH9crdRvfD5AlTyW+ENcd8CXdINYnbS17KJIbGBTjFFkOdxIdFhka6x7cIM0ZXBGkGN8UrhUkEvQJUQsuC18ILAKuAWUBkANfAnoDyQocC9kQFxl3M18x5RvvF04fTR8ICm4B6gGxCTgCjATbB0QGGAdA/0MHxQ4ZHngg0RLNC7AL2RjqFg4ZIR7+HjMeQx1/I+8o6RrmHU8idgmeG/QceDM/T+cWUPRPDbsAxOZU7I7zFSBPODs2yl/uW7klpyYELrkIdw96Gg4mNT9LILcpEDJTH78JYw1cIckKfCCORVVPdVXVVWEk7Cu3XRI3gzg3OIM61DsbHB4fzSGIGeoNQENVYRBY1ixR+lsA9QYXAz8MUf6vBH4khAQmLTdAfDNRE0r/tfeAA+sYkBuyFBABACBvBQ8v+RJr82DuP+pAENsfvCZdIoQ3Rj+mR8wsATR0E4sFURBWDlUJG/U+7R3hpfAf33XoJQDH+xX7gehw3kjSZu1SFMsSSBgr/tP2QRKYHc0blADHDqUULSAELU4S9RKtB3IRDxBr/b0TzRzbD6ULse/X8X0JEAy3FxUZhgeDF/cjxhpyI4cWFxh/FfcUDxJGILQqlR8pHmIJqhUnFTsNtxGFFFMbcAi8CioHDvlL9db0FvZq/1wDLe6l8yL1JvnS+jT/pv4n8AL8MQOlC2MXeRBLDOIKqAP9CdwFXQtzDbMOlg2HBvP/TeqY61f4PQQW+pr5PPyP/Oz99fDM+xb5Rfg5A8AIjgcGCFQH3gJUBloEIA3mDBsQJxMuCeIMeQktC+cNTxNUEJADLgBr/HL6OvYhArcCfvye87rt//UG/akC8gafBIT9qgjXDdcSfhJnC6QI9QYNBigI0QRr+oP6FgP0BmMEDAvqAlX/NAG0AXYEPgMzBaAJTAjRBVwNcQrvBuoGdAkqC3wUKRJ9C4cP6BGwEPwDFgYYBqYC6fzb/bcA9gD8BugAZf5r+Gb6zQBtAAsBngPfBZf+5PnW/yv/ZvU59PX0If1IBmsHHQarAe8C4AUIBlX9W/XL+cT8AgONBdX/Ev8jBkQITwX1Adf+dvs++GH6/vhQAj3/7BDDDwYAzQawDZgG0PuBADjo6PKD9HfwJvNEAHrtZuS5+2L4oQqSDfwVmRoLKygr4R88B2vw7uj31H3X5eHv5QnqOPdb+nkCLgjWBfgB1/e39gDy0PjR9/3xXvQH+gAEngg5E1sGQATH/X/0wesc8mL/OfD55xvrTe0U8Sz2v+H12WrbmOnb96gBFAxpFgYe+h0SE5kE/wJW/R8D7foV8Rf2Afcv+kj6v/5FBU4D+QGs+673kfhP9+X0cvrJA5UHYQFD+sr0f+zg8UD7VQFgCjwPzgGW+xwCQAa1B8wBbAB+//f/UQbkBqoGBAF6+FT6iP3c+67+PQIM/HL1n+/57MPseOqa6ZztVPER9sf8yf6h+wX62v26/Rv/gPqe+vn7Dvt4AmID6gQHBQoA1/5Z/sD5SfvU+nH0q/bY+Fz93gIZ/8f8I/sg9wn1XPf691r3uv1lAKoDqAd3ART5ue0/7LXwQ+px6YTtj+/J753ye/XK9Oz4lfd59jv2bfRV9Hb0UPPY8hrygvFr8MnsI/Gp79DxPvTw8274APeV8irxsfKR9uf42ved+GL3Y/Wj9IX2evUl7jrm3uVT6mDqee9v9Jzwb+2c7jzy9vKK8Cz2Cv8l/2r7tfdu9nL1NvQ67NDo1ecv6Obs++Z76BrxYvSO9n74JPlX/G3/Df2Y9CPxpPBm8i/wRO1V7O7n6uwo8Ffxi/En8sz0pPfx+lf6o/Ho54rlUeM+3ungwuMT3w7joelj7Rz0b/k+/tr/Mfw9+WH1OPh2/l4APwFbAhn/gvpL8tDnJeWP4TDiYeRr6ynvrO6t7iPuMOsr6SLqvus+7+jtue2P7/b24vcD/Tr8KvoP+bz4qwAv+0b1bfHC7R/rWu4X7QDrn+pE6lnyZ/q5/lkBfgJJ/cn6CvnI+G703vDg7TPrZ+8I8PXxN/Xu+ur4C/bL8yzzgvdN/foEmwSbAAL7ifZR+5//3/sa9ZPvHOyt7f3y3vWT+nwAfQcIAor+DP/b9y3yR+888I/0LPdL93r7+/tF/vn66Pcq+Dj6a/uA+tb7n/s8A60IFQk9BN0Ak/6Y+7P6gvwV+K/vLfAr7rbxlfQ99Evzgu/S7o7xg/fw+ED7lfxM+mv8ywDsAUYBdAED/vn/twS3BakDVgCXAVX8S/Yq96T6V/mx9/b3Nfiu+EbzovIi+NT8RgA7BYEHswFQ+q72kvBT82r4o/YZ9lz6Pvzg/t/99/bpAJwBTAO9AJz7WP6tAEEAovl9+cD1fvTL8df3W/29/Xz9JfhW+iT7GfTc8+P2Kfw8BRkJKAVm/dX+vPor+NX3k/TO9n/5l/wc+X3+mQThA3wEQgDe/XH4mPbr91/4SPeK+vv7nPMs8PPu6fnDBcYGGgRG/7f7hPiEAN0AZvZz9tfw2Or27GXuyvH58gDzIviuA7UE3gAqBe4FXQfsBbMCuAhMD7wWWBNZCM79VPgB+brveusp4YnX4d2U6OXtKelk7YXvEe4i8nnwE/rgBSgIFAUJAm0CoQKLBU0HfQWYAwYBWv8o/0EAIvzQ9KruV94K36XrWO2R7GDsSvMX+PL5rvq297X/ywXCAgoGrg1uEdsQxxNcEIcGafry7oXrWNz40IbElb8jzhbZIee+5b3by+TD8ekB4xD2G5gSfAFOFmgkDir7JKUZahWRDTURkwn4/Dz0EurE55Lo8eWC2PTREduw35ziIefH6D7x9PL07eTrNu1A9rQAjRA1FNIK4gnZDhQHOgQ7B/ENtwzyANIC3fvZ77nlJOHL4rfhKd3f15fdnOoK9W729PVW96nyw/GY8UbyDPfk+j7/XgVrB0EFvQZGBZECbP26Ag0QhA0QAuD+yQMhA+gG2Qh6/vb2NPlW+MrwEepj47jjmuc39VcN9BYdEvIFE/G56NHua+o/8AL3K/UM+x0A7f50/i4BlPfb8BD4YftJ81P1IffJ9XH4nf8WBwUFEwcSBu4HrgoKBe8EGgOMCNoJsAHu8c3cGu7SA/D3jO21/pIHYP81AZ791vBCBVMFufAN+gv2H/Y7/I4AcP65AJYFNQAMA1wHsQyRDdUJXgXcBPsCNACMBowPKRCdDPEDSPQK7x71mv2/AGf9d/jV83H2zAAy/3H7WftV9jDtP+yS5gvbodre48vvA/qUBfwPJht+GXkPMw+kDMUGlQmlDHYPYghjA3n9iPgW/Lj8sPnj9A34T/67ByYFWvbd8NbvpfFE9zEAzgjHC1QRIRRiD6IKpwEnAJgC3AL9/eT5S/Xp6NfqjO9I9Gv1LPu8/jMFBwUo/CMAgwV2BdP5+vy2Bnf8QPzO+575WP2O/RsBsP24AxUAkAxhDZENzRC7DZMN/vvy/cD4D/RF+Vzz6eL47Tjv1O/s9B/zB/PF+JcGIgLPBOEAkvi//TL+UAMxDr0P5RB1B3US7A3pACAKmf+K+WL6LfQm9PD70P4i+U30b/uk+Yr2KfbD8Tjz3fID+jr8bgIPBQ3+vf1XANwDmwjvC637BfAY6s/s+e+o934BT/3i9gr8rAGsAykL6Q1zEnMHoA5cFuoKFBFDEkQGFPpF+438rvWV9Yzvruk36qDww/Q09uD3BvZu7C7oaPAJ773n7uhX9Tj1dQG0DnoP0RN0EToP3ApHCe0NygMDBnkCPgo4Dfrv4OwT6yD7BPsD8PL4BwG8/vj7mQFR8+fq3gg5//gGAg1m7rP3/+uH7qXo29+g4g3ks/yd/4gCcQSAFqgef/8WCyQJVg0kH8gbFx6XAhUBng43B3v/1vYT953wIQAWBO3zEALs71T5Wv0G7tL1a+0L6t/aLOOG5unt0wGdEasLCfbt9l/67ANW/AUEJgna+RQDxQHXBB0OkAvuAPcC0A9lFS0OqAlpCPj7uf1x/N/5WvUnAIgLkhBgCFD1wuoR47fkzdvA07rQs9VM5FvtifjB/eYHqxNmGmEcLxXVKE8mkCjzIjYX3ynMJ6Ui2Q/2BpUE9/Rq5THoo/Ng8l33rwOSBHQHlwno+zH44PH672zySPGp8oXy7PMV9ZYAPgKTAvT/BvSO+Rj6n/Qd9pz9vQFjAQf+9fd3BUsKGw9xEcERzALx/roGcAd0Dd8A9v96AF8HV/ob98wCxAMGAvdSZXmpYMtUK0b5DwGAMLLKU7JVMDm8QEfkAYAhhQGAxYE2h2mP5qNwq+m/OsA/2O/Y2enk4xsH0VQf9/v9lmH+fzRz/n9rG/WufMy3yeXYBuRq/S4NSFv+f1l1SS+SMVjhS8Qs/16tfBWgUYg/VUJHMBk5K9zBlBzEsyw9dv5/eXk1bTJWEE6sJmC//aM8r9ehkqKCkOSn2MNItdKXQtNkSqs5vs6suVDFr4MLgAGAS4MBgI/q22khX+dhuAfb0ZXmbLp+gzaAgpJXjz3FjeTi4Uft+b6KsnbJm99l39jS0eZjEc8XvBOdEggM/xaMcW5xqB4ELZshKDERPec+NT5LMDEp/hQLB+kS2NY7x0b6cvSr1iGHeIaFjYGMjJHHkB+VL5ThnEGaiKBGjQKAYYB/gmKLiphlpxK0/MEoyufUWePf7N3yyQVlC/ILeDaZaP5/lH4hf85/fH/+f2R//n/5eSRgiSphDdSszos8jeHDkw7p5XdAM0cM7XjtQf8FxvikMrZhAmQeZgkDPZ9NC04VPEo0TAHo+MXoA7rhttaw9eF9GkMyzftD+Ar6ccz86JTLRKmSuz6liJzKpXmmibqivb+iUZqrp8TN5vziBIoQqRoYNLw0qSx1Hx0I8gKiD0oW+iyzaNVc9GCdTJ8uTwgc/JUDoPam/Ff6Nwu5AhwDw/fd+Kf/tgQHFZYaOQ4FFh8v0jdsM4QqAS+ERtdiv1PgQ2Y9Ez7LMlwkwRKHGaUQig0sGq0k8zHvLhsxHxVlBdbTtsZew1u8w65Kmx62DsYa51cG2yIFJDYtrisjImwVB/0A+TvtFPPJ+I8KgR5NOJpCEz6/JArsVtwr6xQDYgugHe0Y8xlsHVQP/gk3C20lkC9ULoMvsTOrMq86KDNFQq9Q8FNSUyhE+DUSK+gxRCP7I10w7kTWPEks8x3pHU4rZB64F34KNP97+n/7nvd7BJob4xb7GqUq7S8ENX0/VTdbNVU9QTlyPEcoRi6LNlYyFTDULSQxRziBRUhATDfmKMUlqyAJLbg5ui+ZJX4nJxnTDfAljCBZENsapy5AMHUtNC7oLlc7kSsmFh0H7/yWBtMQWQxEBP7+Hv5oA5ECaAUIASIHMQsJAnv8SPqn+HAEUwgHAHkCdQcECF8FtgdtGGYfTSC8KaMYkwVVAicGTggdAVnv7+zT8LXujvKA9HD07fGS/dsFUf/j+h/59PXM/CkRtgmaEWYZeP9O/hMS4wMlCk0exSF1LO8c/gtL/Dvy7RFhMEvzI9S/8izcTMqu8Kv+YRa2Kcw+3EBXMGwfSQ/7LGAWegVM/IwCkPs5JDcwqfjjADjzq+0iL6tBMSeiKz0rmyufIodAliinG7j+NA62RrExBzwUHFECNft9AEUVnUHDR2wlvQHq9Lrp8OK5A9YHiRnKEJgXvxn0Dnsg/CBfJ2ULPwRpEtAJqe8/8RH93u89BFjtuMhExhfzqgLsCPskQhkjMXs5/xzQEdEJtPpbEUcIg/VtD68GKvkQ4z3C8deNyCDNKOQw4ljz6+xg6kbgzOIk6vHp8AAoFrD/cxwbGij07udn6E7n8POWFmkNvRmFEYgTewWi/GcK/P708LrqvvVi8xwATPy4+8X9Lu5z+DYHQhqyG5AdUhE5AcUIwgMHChwO/gq6/Vz9d/8I+jn7TvlZ9Z3uct41zIbWfeEN8IXyWe/g7aTn/umx5Ojifedr57PZ89xt7PL06ux48EX3cOxZ9O3yhehN5V/ov+569RwBo/p79izyI+Sg4SHhw+Hg3XThd+E/5oHm7+He4o/mEvDe7y/wxe198tr0y/FV7yToy+0O8NjtSvW29j/4WfYT+YL5ofY+7ZnnAOdL7CXsm+oI8QLoQe0x60/rFu0Z6kLsQetb6cvh7OdP9pz0mvXU90j2m/GQ7df1TPdQ8i/4Ofy1+Ff5MP4VAif6Ifa58KTu6O8p7jnxGvY3+3z3W/Z7/Vz8Svip/rv+nvgZ/k4GbQmsA3z8MP6p+Vz3+v25BOYEIv0M/7cAD/78+hn2Kvb4/iwAlf7r/9Dwle/z7tfzZfY98c344viB+e74oPz4+yf6sPhw+V/5e/wPADr9gPg383P5tfe+9aD26/ZI8vX31P7H/sMDrQPRA3j8Dgih/rHzCPl2+q74//xg/Z/j/ehk6gbvMPQK+ePsgutnA6IF8wE3CLcRlw/XHvshfQkR7Sjl9dqV2pfh0t+J4AX5IQpzBa0Q6QwdA2D/Rgo7BCr7jfVl5hvnG+qY9Dfx+/S9AXQK9hV9CJDwoeBU6uDyc/S38AnruO0890b4CvAJ7MPnqvUWCOsRHREAEWMHSRCYEb8LpwMK8ezwYfdwBdkG2ARK+TT5jAJgCIIJagUFA9v9xPzO8qHrd+qM9BcAbgFrBCAHdQboCWURvgizAKn7puuk5C3r7PLz/4MJ2QlFB4QC3QCMATILjgm9A/sIvwgRCygPvhJ9DC8C1P/K/OH5LPiq9MvvCO/K7rXu4vI38fbrmev48PT1MvpNARIDTAQUCggGQgLVAjT+UAKyARcD3QJSA64FXAGZAr8CcgEz/J39NPes8lP2Q/bm96/2MvoP/QUBkAFnAGH6hvPP857yK/jE/q4DNwCO+wb6cPPG8DvsOe237QfsB+9Z8ArzxfXS99DzGfaY+yX5pPZZ86nwNfC97BDqhewV63HtN/Np76juwPUz/aP+lfwC/Er8hPw+/bb/xvok8JPsPOw85yflm+Es4dbkVess8WLy3PVJ9335gviI+YX3tPPI9fDzcu3L6mjsDusE62nsc+pe6KbsufFx9BP51/WN8InvOO5E73LzgfKy8Cv0afVB92/4qflG92j2nPbe9rH16O+f6wTrsezt7U70dPLh7C/tcego5WPfYti/2f7asOBJ6NfsXfD48uz3FvwoAUMCLQIYASz/Bf9x+qv3vfY19TjzufD35wvk6eKL4LHm+evH7vbrNuoT68Xryut18J3ynfC59K/5G/mj+OX7ovln+dT2HfQ++eX5gvcC97P1e+/P6NTpp+gO6vfuF++w7Yn1JP7O/zQAhv5s+bXws/BP9ND25PqgABr+Cfcu+FD2W/LK8hL3vPcb9/D2AvZz+X74Rvm4+J72Qviv+Vf64fZ4+X/7DvzP+XX1Vvkh+cX6tvsP/Wn8/PUB9vL2NPy0/XL7lPkZ9jH6afwI/fv5lPrb+7v4Yv67/Bn5bvla/IEAIQG0ACYCqP/N/LL7Pflk+eT2VvhC97T1g/vx/LL3sPKS8173qPgk+Ab7LP77+4T8JP4D/z4CbgPXB44I4QlTCxkH3wGL+hX3UvGY7A3qVO0P+Fr7h/cA/zAIFQYfArX8Df10AW8DVwIt/z//9f4h/SX9Gv3V/HP7E/mf+Cv3sval9/H5eQHFB8UKawZRBIYFgwAZ/Ev7pP9BAlEFsgfeBKP+n/X/7gzwTvSV+eEB6gMwAvH/cPmD82/7eQOeBVsGmwT5BSsIsQs4C2oGBP/Y83Xzv/lI9v3xRfNL+icD1AS///3/ZAFCAisEtABjAEAJSwuhDAYRRBHyDQwISAEx8GDicdzf3T7mmfBz9Rf4Xfy4/IABjQOJAMsDEQxDEREOsQfaBQYHDg4nE/oTRwrv/sj+jP+D/2D5TfFD5xjlIOnY6fLwZvWL/NgF1QFg/Az8bPqn/GcAoP4OCCENZQsSDs8L7QJ6+9b4svJ88hjkRtbK0d3Q3uIW7W/u3OzJ8Kj9qAn9FJcbFh7XGIAXpBsqGdAT1A8fCx0Ejf2a/xX9Xfc1+8P1UO0y6UfiOtrz3z/sOeby5Onq3/RyBEgERwFu9c7uIPnH/2IDlf7F/IT/8/2mBykRIBIgCQL/o/3i+fb6TPh9+NP0fvCV7tHuYfbi9zj7gvrO9xj4W/z2A8MBu/n99tfyjvOK/DMBZwJN/Wj2SvMw8DXyhvT17u3qJupc7731LfpCAmcATP5j/FX1N/Yk8xztnerw6lTxGQKLF5UW3gYJ+0D1P/xq/nv+3wKw/0cFCgcXBucC0vZ9+7AEVwVDBUL7Ovdq/Ob8zvvO89/xVO6C7Db0VfRb+xL9gffE95z5ogFvBAUFTP/g/Hf6lPWW8XfwrPm0/vz74vrq+TnxNfav+sX8m///97L6vAJgDw8Xzwh++5/uDO4uCM4X4geD+ycFqwS2AGMHHAlYCdkUvAmX+CH8Lf6rARr/TflQ8+P0F/Vc+jMF6QSpBdoCcPfQ7ePoR99d14XcDOry+S8CEQm+FpMZKBC8Da8U+w4XEboQ3g+oDLf+1/oM9pD1H/Jl9in+pf8CBrwL/QVm/z/5ivSK9ZXyKfinA20NexPKExUPkApjBbgBXwPMAcYP2g6rAVf2nOmO6GroIvhM+iIAfgUQCG0Gxf7e/qz7jAOz/yoBWvyi/bgGpAPDAUr27vCD8jX44gmfC9kPww3aCm0Pqg5QD0MEIf7M9nz6Y/j3BokG6wLw/o/6UPx65goBnAJaCuYEHPvZFLoEiBizE3oMJBPwCIEQPQPS/zb7HPWl+pvyafm/AbX11fz6+lv97P0c/CICofYx+Mf02u7a8Fr0LwkVCw0OWBBdCE4OcA1ZFNwMRv/f9mHvjfNS+Fv4kwFnAGYEtQ+lCpgITw4+GCcY5xCQCFUC6fxXBOL9OwGPA4H5tP1N+oD+iP4Q+zr5B/gk/Nb+wfnz9dbzCvqHAQv7gvr19Vr8oAVGBkUIHAxmEa4FRAvk/Rv7oALNAhcfgQmp930Gnv9lAXYGTv0l6BfyLAi9AR/72fV++FzvCwMhBar7SRWjIM8XQgrz/eHzUet88jr+lPGV8Rn2yAieA10KMAVe+pIOPvty/54Fgvz6DB4XVw4zDWoYHxW0Evsa8v5b5Inls+qp+tP90gCEC6oBIQYJDbQFxPin8afuUvSu+XX/eQ4S/b/4SuwJ8aH7Uvp/ALwDJBPxFK4kVhd2Ax79cusg8i/yDfYtAGIChw0xE9QV/wszATr42+7P7DP0hgvHA6LxvfdG7/v8Ivnv5Lbbt9sE9Rf2oAgHHXkw4jEVJ9UbmBE4GeIIdgdfEkYXMAmiAtYGOgYFA+vuHuJW3tjoPfb2AfcLqQj1DfAJSfyI+2PyvwCpAkb39f8E/SsB3AUHDmoHiQBYArH8Rf/a/nvqle8N9tb8HwLJAV4DVhLrE4YRRBg4CzIYMwEi9YXpfPuC5W4p3WV0eFMGrfGbBQGA/g/JdVtLSUlEMq7ChAH4qQGAQJYBgMSZz4qgtb2o1mUMYYutMrcvwwDNG948Yv5/L3dBeDN6/36cYZxffFsEWOFPwFLPPyA+JSePwOOjgsSKvgGAI4QBgJKLJgTQEAERvQdEFKf/AxWq6TKbApAp5qo6UDnybP5/hDdQnS3oCAlWCP8HeB7BJVX+MBQGCQUPQV/+f59vSG6Yx5+QLaKLlE+p476SHURTv2nXfpJ0OSgM6B+fkJB1o5e37eeHMQVxt09PRz1IUVP3+Wfa+NaUvNcNwhg2ICcc2h0jHnEAo+cWvhrHztLEKv5/o3oJWnJVw2kecEZt7V7nQkQq8T7tNuQu6xepEyz8APzd9tbe/fGBrS2fEbJmnoaU6JRBjOmAY4IBgOKA+IItjx6dkalatxfGKs983KDo8/GM+ZoIG0AGU95q/n/DfS5+PX8sfLJ8/n8De9x1xUzT+c3WEfdz9Bj0vwaRGbIfLvTWrCDBCZySgJ+BKLvpObseFSQrJfZI+VoWSN8tlfQk65DrIfR5EQ1D9FWkW41KVjVmIzIJnQB3B4z5POPL1Ga0pbyQxd3A0Nk5uQmiN8x1yF/CwdVf22nlmhLMLnkmLRpXDU4BWvpxGlg9x2NWZYRLmj2LNmYwgyFOJsYi2RhqGf0PnwYs+/70sfxK86n5CgvADR0AnwHPGjMsbjMHMagruTxgZPxSE0NVRnpHdDu+Ncwv3RWzHF8MDA+yG2066Es8UfFTMjm6ElPrc+iy1AbG1rnryjDc3uFoCKoj0zsfQzo83jNNI9YVVRPYDEAIWA9bGJ82c0JxS1ZMHikq/+PY/uZB+90N1ycxHfYYECA6HUMc5BpuMZ46TSjgIQomSTLFLVUotTXqP+JLQ1GGQfIzkCyGKPAnRCYsKfpDBkdKP8I5ISwwNSY1bSYaGkUP/QSLCt7+tfmRBkgQpBxuKU08kz3QNek3KD4+Qg5EJ0lmQMw3pTC7Jrkr6iapLwc8bDIhKvst8CtcJ2gcYhoKKRExVS46I2MkgBp1DYUOFhRLDd4LmyJYKEYY3w8MIC4sOijdIDkYqQahBnEZeRrzFrsItgpsEfYSYxK0BK/+qgSPBPT+evZO9nYCNf72AgYIgQt5D3kFxANzEC0YOitEKqYZdw0tBhMDEQBYA/jzH/PU8KPvGfQA96r76/cZ9ev6e/t9+/8BeQJxA/cVYxOaC2oGXPK7+/n4RAf8ERYV1Q8YM38SlPEwIOwE3zvKP1/9KO67BbjyhM9P7GP1XQsDGyEx801cPk8i7gJuHtoS/P7p+B8SpSZv7TwxmCYq5q0HJT45Ib4qSCMlHQVmQDs3PPAirB/mLXomPi2qDncgy+2yECstHiXyTuQ7u0Ua/kvywPOL848VeAbBCl4GexJcFEQCXyrVLC8pfRMhADohsxOoJmAh8xYLCDUKdxT6CqfxxfU68Fbos/ixBmYgix4VFSEdqSjNL988riYWKbAdfyY7COntAPhbzTbIa+kG+ar+C/dK6Xv4KvVy8rX5LwXCDEYeCBZsB7EOGxCf/dYC5xHG/w4TvhKuEGoZ4RmMGYYPhBiJDlgKQQLq85D88v24/60ODR2ZC0sGew1qBjwdviTAIGElRRl2HD4cACPoGNYb9x/ZDz8M+vnJC0UJYgqdDyn4Y/md/PL3c/BN/X/8CvFa7ajvXPvj83L6ywJTCHkHwwNMDxkE0AJaBVcHwQZ4AYAF2/5E/on5VQP1BIb5R/rR83T98/a8+EH84/6+BxP9VAJ0Axz3hvYt/4L6+gJ1CR4FfAZlBeX8XvxLArL3xPj//v//iQEOBjgFHwmfCXgLJwzIA9AAb/vB/ST7cgN8BEgHfgReAcsD4/uu/1n8w/z9/20GnAG9ACcFuwR5A5j/iv2E/j4AKv8XAjMBff+DAl8G0QalB2v+mgIOCBkCNgH2/3EJQxKfDjYFWAR7AvQCIgi1ETwLKAI8AysDkwnACBgV9BSLBQX/1/0KAVsCUQEYA4cDBAJPBmoJ0Qm7BxsELgLFAXn/YP5W/UL7N/e7+WwBjgJ3//oBIwXwA+IBw/yq/yD4b/X7++7+yv4v+aT6Hvch9kn7a/7f/QkBTwHzAA39CAHp/z//CAsQ/+z9fApcEDYCbwUf94bm6e6M5yToBfNp9wfk0+/O+3D8AAOQC00TVyEXLcYfXAjm+NXpFuQY5pHnEuhK6Gj1HfJU/rT8mfVb8Gr1RvyQANoRKAokBX8CRQPUAKb7cPnU8HftLPRn7Rfk5eU88D/wE/QY8f/nP+nZ4enlTOUS6urzoP/QDXcR+xNKE3kJDAEK9gHukuwM8EL59vcw8wvxufIs7UrtWO8Q71H8JAX5A8H/M/xI877r0+2B8MTyT/fD95HxzfTY96/2c/ySAfgGNglaBH/+9vuZ/VoHPgJf+Cfygema6uvwyvaK+hz+bf37AnsA//7M/w7+O//J/9QA5QBDAMn5kfhW8yr0Rfjz9/z3BPTG623l7Ohj7orxPvGJ8BXyqf3eBFwH5AppCP4GZP8d98L07fWg9Cn2hfgV9mXxQ/HK8kLs7/HQ9kXze/V790fzNfCM8tzzjfDy8d/xm/Lc9S/2OPpg/ED+WflY8qr02vyl/QP6Yvce8nrs0OY/51nmcOgk7Cjsz+9q8LLz6Par9ZL14fMc8/PwJPBN8azryOuN793wZ/Dp7/7ymfUz9zf3QPqg9xXyWPI+9Oj2H/TB8fTtAeq+6xzqjept6mDlnORd57PpQOt27EnrXe0C77zuf/C29An4c/ZW9DP0K/V88vD0BfZI93n30vHy7kfr9+bc563rZeoa6tPr8OxC69fov+e06D3pE+on8Nz31vxt+l34dfQO7lfrR+k86A7r2O7D7Iru6urO4+Tj/N+q3KLeX+J35XvtH/XM+9f+AwAoAroClv6R9L/vovLg+2H/pvrO9g33tfUE8s/oyNlw0bjRedYA4+HrxekC5h/l+Oth6s/q/O4D7YTu6/Jj9nzycfBO9QP6j/u79hX2vveW9Pv19fV58hvw3fJm9BnxU+1172HtN+xl8k711vcD+rX1fPS19G/x9/G0753zUfdW9H/x/vMt9nf0TPFv8gzwou+69XzvwevG78ryKPf4+/X9Wfwa+kj5h/iJ+er0i/DR8JfyvPZj9m3xsvCH8UbuL+0K7Z3xgPTP9AX4F/zj/8P7gflF+pP8+f7z/kL9FPlf+9n5wPYA+LP2kPoe/Dj6Tvdd8xrymvHm8SD2J/mj9pv36fKR6y3u8fFK8RXyePGE8uv2H/uq/Cr9Sv+p/6ADOglGBc0CM/wc8nb05fLb71/wwfGc8dHxMPVW9m/38P8VAsABmwXmBgQH7QBI+7z4bfTy7abtyPCu9rT4e/V89rn0du958Mzve+8P87D0nv15A1EAnP4h/p/9l/2r/1QAov4MAiUAl/mu9rb20/N08ZDzfPNg9/D5aPmY/ZYADAHEAvUAU/5UALz8jPZW9A32sfpb+lH6Mvfp9cD0Te8+92kBVgRTAz7/PQFhAycHdgho/tH4/fTK87X43/NY6+DrT+5r8/n2hO9s7F/vAvbG/Dn/OgE8BOUHCwywDJYI8AYuATICdAA6+xTwSOPj5Fboxenf4Xrkcenn7pr3GvoT+ab2zfca+n3+uP2c/7ADggs8DG0FsPo+9BD3hvsY/4H8ZPr99x/8+PsV+3/6Jfrl/Sj3jeoq5mnq3+ye8BPxx/U5+qz9ywSEBZwD1PqY9jT1KvjB9Lfov9zq0MbUud/m6evl49dD34XvRvaa+qUHYAhdAxIOghkgIPYaJhOXCb4Fjg1HD48DHfpk89/vgPSA+KrxJe2+6dbelNjS2PDknuvn6rPmxuKR44Hnj/Ll/UL//v5TBR8H0QBDBaAPfwuVC3cMHgYrA4H+4vk17Wnjw+Xv6VLuWOfA4Urmo+we7M3te+0V69/tJPNc+RX9JgFJ/t78Of1gAKIFGwL7/Hj7Kfkk+af5QfYh+YT8Fv5G/8f2ZvBZ8PvuAuyk6PzoKuor7UD3Bwd4EnwKUwLq9s/rOvDU82P8aPxA+wsB9v1q+572XfUF/sP/iwIDBfsDCQWm/0D/uQCL+uP1bPWX9Qb3GPlhA2YDaP9i/F/98gX+AHX7YfTW70rx3fvC/VL5We8F3xnuXg3s/UzpIfsoAOT8N/2tAdz9EgpEE1f3Eek17RD3k/yd/57/SAQjEfYWuhAoCKAM5RAHEdcTyQ6OAJX4kvyF/6/9gPol7CfnPe5C+Mf+xP60+3b5b/GC6KfhHNae0xbZxeZE7x0Auw06FY4YMQ6AEPgQuA/IEBQR0g7rA8f6l/RY8mHxOfjS/NX41feQ/L4FbAaM/4/3+/Tm9dP7fAWYCH0K8AsZCXsFSwD5+Lj+2wrfErwPGQyv/nfxePML82bvqund8972KfxW/Rj4jPZa8mD4pft4/973j+sA9a76V/1JABMEmwAUAuELiwjnDqYMRQnVAvj2PPkAAyUCzgGtBVkFdv5N+r/+NvDN5lzxavDC55jsKv87DDUM3guwCa8DgP++A+gA2wKNB/3+sQKhAaP4RgFIAD//3QcMAMP3gvRn+ev86fWS9Ffrx+ld89fy3/fB9x73nAJTCssJqANY/qsD8g/EDGoC6vk17ZDn/uiZ8RL0B/Dh9LX4T/jbANAJqwmXCywOZgooD48SNA6xA9z+JAC199v9JwIz/lH8Qfe49PbzNe9w7gDrmer19uACtAB9/vH1xPO17q/nSvcI7eIKGBAy+ZYAOg4TCLfvvQuT+wb93waMClQNqPoHCEP2HPDW7L7qN/5mDOsFCvWB9Qr7z/Kc9n4PHRnMDiICcfTO9brsPuD83WbXV+Kq8sACmPKE8+P67wMeDrgEsQgEECQdWRSZCB8NfBiJEJsG+QANAxAH6QKwAKD9WwizBL/71f4m/B/1kuur5ZTeXs62z73f6u+E/b8OoAh4+oL9Gf9QBLIDnAsZC1kHHwp7/lcBTgwlCxsB7PZK8SLvre6f7iDxKPjK/RoGwwwJEHwRlQpqEs4F2frd+4/u4vK0+jz8sPYR887po+7f93Xuzu/z/9sNMw+TDr8RYxENEOYTDBRWBo0BoAhc/4z5Xv83BCX/bf4iAo0C2wbzElQNbgMkCG7+lOuj5G3qovDh++30VPvh9JnyUvdz8pz/mPumBKMClwyd+Rz+8And7H4A6f+c+jJF/n95WQRiKiwpIC+6AYDFMDlPoEIXOXIy97oBgNmFAYDpgSKFdJmDpJ2vK7nFwFTPFuCH4/9uwx3NxQQVyHk8e35XQHxzfLZ/V3iFVQGA19AAAYK90xhjGFkHWO7M0PyhLaGZtUu2nfsLb6lS+EOuMdJEuhMH3RYNYqgW78BgQnn+f5R2Wnc/DbjVq9C71b7b0eBM0yjOE54m3Ht0QWIIWY1FvhwNwraYAZVqkAbFxyRADgQPoTSXMhUjr433gO6A3IPvhb2Wg6WDsQ75QPrHDF4shUQyy4Glq9qyyBLzHQ67JUQh0SHKDUgDAxWs106y39AHN/5/Qnr+f0lNTBNpUQdlpmPkW21KzUBtMAMpQiB2EKfFAfNaBgYChddDh+KNkZyByrCzSZoyhJuB94MBgASBkoSUkd2cPaxruDXKp8wy2bDg8CRQVn07PS24NFBh03r/fM59Rn9PS8BV/n/+f8hbls7Ik26Sj4muxYohQAyQCbdUPle0UN5SQQvnr0es8MZuDbEapP/JMZliWVxTR00/Uxwy34iYncu3CogZEj5aPowwBRqtHMwDuN3Ty9CsdK3npqOtEMeustWmu7mY0MrIb8eUtOi1sMfMyyXqqgO7PrtHAhtN77/fPd/g4xcPJlC3YfVMKUiAMeUn8hNIAb3yCvHTBoYKaB7NB4n3xQjDCT4Q/hjnJcwn3xjQFpIxqTnjMJ0xAUWNU8BlLFzgPxI5SzC0LJ4m+CkdKAQNCRWaKxNBRETrQEY+NSjvAa7Yiev/3BPMRbmwtjDTENzS/n0Uex5gJzctcxugFk4emxi2Ccn8LgJQDoIrLTIsMzIzqyuaEL/xevKF+ZcIbhA1H50hdBMh/d/zPv6UDBYjSzLZNds6RUVzTw5XNUb/RsBRS1+kWIJNKD6KI0IrqiSlLHk6xktaRaA5mEDINcI56DMjI8UWJxPZFM4VOghlBx4WdxdGJfw0Pj4sPCU3DC/sNSw5MjRrQnAzvy08Mq4xuDYCMDYodTZ3O5M0tTFEJrkjZCp7NZcuEC2zKAccZBpRDXkaUCvvFIsWkR8PFO8NWhbHFl4YXCvKGygO8hXBD1cOVBoVHScQ4QWnDvAaNxj6EnEXIRcGCkUJnwlxBCsEV/m082X6EgIdCckESQBhBncUUiXgL2wvQRxrEacRVxDHDLcDjfvj9hD5PvoP/9j+2/id9JP74gJdBSII8QGyAUMJxAJTCaYLOQXiAhcINhNZFqEdGQpwDa0NyPiB/84JjQT1GkM1+BJsB78Lz+9y/OD70gt1KyMt5i+pKvkpRC21K1EIdRiDFxID+g2nH0MqyT53NPUiFzAxE6wODRUSNdNHkUlBM3g27Ds7I0QoWQnj/84NagSlHjUwmxTHLLRNWl+dMtwQHA3A61D3ge1Y8LjzKAfUHsIJJAfZCfQhzC1HJSUTdRM5Ftv69A1kChsdYhz2EMYjKfzJ+fPmYvGXDcwQmC60L5w3NikhJEUwgCOgGdUXeRkb/BT3NvQ82ILQztJT1fLeFPp4+pH3EfuO3iLoWvPZ9Rz8YwXQBwsJkREpAHwFTvnp4A7mxgNlCzAjCCM8DBkGg+xo7Vvss/Br87X5JghHBDQHAwq8AxQCdPVlAQ0RCw7xDIIGzgBBAfwH9g79EpgKrf0FB8UA3frNBDv/2RR4Ao3mGuVK5w3qv+EM34rQqdU133T0P/1G6fHntONN9jv3X+b58LzwkvBd7ab5SwJXAlcEOvZ87w7sG/XR8aDsQeuh4LTpRumT7Mzp9+P14gvnMefA3rTkxOXs6OXtHvf+9BDq8Omq7rnt6+xN6HHr0u1r7Vzz3vah9kbwU/b6AfUDegDa+oD7yPp86yvqT+c/7aDybuPL3/7dEN4s5V7oduwq7wPyKvqw+Rfy+/BL9+L55/Zh+MH6EPls/6X4iPEO9qX6Cvvd+E34P/Ao7fntgOvT6bvsYPCb8fr1qfng9K70bvgeBbMIOgMqBcoEAwRS95n05fYo9b32xPiI/ir64fWv8fnzevJ78ED1UPUH/AL/uQVLBdT7zvir/yEEuwK4AwL8TvZJ9671ZPc5/Tv9owD0AnEDwf2P/hn+GfUW9wH1Av7IAcf9Qfjz9QH3kPdg/hj+bvjf9430YfkX/i/xK/XRAFD+efTD+sPn2+Uf7BPn+++s75ToXuKR9CH2zv00CvAIBwt6E8kdXA8ZAvTwPt8F2+jUaNn106HjMOsP+f7/uwbCDKX+0gWwBgP/ePZd/A/oVuyU9p3zZf9uCaj4P/aY+srhTuFG52jsv/JT+TP81vd180ryXO0p6njrifWM/cz/UgF5CY4IiAMLAof/f/8S/DD9Rf929hT2LPhs9oj8R/wLA/L/O/9D+urw4vTr9PD09PPq9t7z2fXMAfIGmAh5BygDEvhg78XotOdK8cj1uvz7AWEAS/wX+4r9nQBQA88CNgK2/gYBiQFhAuf/gfsq9nnpQOS06dHvn/A++Ff6UfprALEEnwVuAsn61fVs+2b9QgC//szxv+k+8pwFzA7XDEgDYvgz8JfuHe+v7PTlJePv5QrqyvSu/MsAafdy9c7+WP9I/7/8Dv17/sYAVgBL/tz8I/ec+Nb26vZZ+jv2GfpY++v0P/MM+ND1h+8X7zbuQ/HY87n0jfAu8ErxvPSj/t8CsAXCAuP5m/LL8GjsG+fP5JHpl+pV7SX2kvOb9c75Pfru9W34H/82/lz+ifqu9CjwcO1x6sXqXu6M8ZP0yvZI+Q77nvtI/KL7hvqk+Oj5c/wD+M/uH+ko6lrn8+aQ6ETmf+YZ7GDyQPbL+Ur6Mvjx9kL3evXU8QTw4e627cDuE+5k7eDrSuxA7zHzVfql/iD+F/6u/fz4vvHG6XXplOj/5f/l2uRi5CXkwufq6wPupPH/8vfyfvPY9oH5v/6PAS4CJwaWAE74MO9u6Ovkxt+h11HVrdUZ2W7ja+o88K7ztvbG+VD9QAAyAGz+y/6YAwcCmffD9cP48fRV72/ijdfT1l7ZWOE46r3so+kB6jPtnu2u7PLrPu9b89/1yfnS/YkBfwLR/hH8Gftt+sD8avoU98b0N/Ly8dTvavAc8Jbrs+sA7gTqSOym8+r3nvtV+/36C/j7803yUPIN9LT1KPM179PwjfW89Xf4iP01/F350fA07Qbvm+2d7iL0TPcM99z14vSP9nv3p/ld/O37GPsV/sf+ffvU+ob3u/AM7fjqL+o47kj0EfVO9578XP/l/fL6jfmX+TIBygFn/bD3mfUr+lz4MvXx9br6Qvz6/fj/pP5k+YH4b/b0+FT+IPku9g3zA+tH4/rhwOcd7TbwpvXM+C79xP8UAXj+G/71AiYJCA6sC3MJ6QEX/eP2OfWJ+QD1SfYj9cry0fKw8JbySvSp+aL71/1JA1oHowdKAg79L/by8UDz8/U59d33Dvl++Un84vgg8vzwMfau+hgFPgveBjkAhAZ0DFsDg/ug+Nj7U/2Z+nP5MvSI7FXo3eYM8iP6kPz9/qv9x/2i/0kK2gsjC3kJ4gCEAUcBWP4o+5H56PwM/xP6wvdU/G7++/m3+K78cP3D/hAGsAp8CdYMaQgDAvn8OPZp7wnhnOPl7qPyp/Il9+38efui/iP9RfxL+fD7MgSCALD9sQA4A1QMfxVsFXwPTwSm/bn7/fia8znrheRy5JnjvOsD+rP/6wP1B/YBof0q/Gj8Yv/iACUDzAiXBoAE3Af5A7//0fuw+9f2Zvlc+DrvyN6W1N3XDORJ7qzi4uQM9Qf6z/hdCBoQbAORAC0GGg7yGiMifRnQCqsGNw39Bg3//ADq+lnvbeoh6kzmS+hJ7CDuLO9f8iryWfGq70DqgOcv4qDm6vC8+2oCawIsBUUIOwvyDqMSAxSLD7IKoQNXAxkBo/op8pbpPuvZ5PvjH+du69Lt7Os183D3T/tL/rr7e/uR+Q7+FQWdAyUCsP0v/ez6Jfb19SL3kPzZAokDXwC/AD/+oQG1/uXyIvDR6/Tnb+ct6h7lteHT5hTtPf4QCj4MBwgz9YvpG/BJ8oX7xf1G+i4G7wWjAbT67PNq+e/5GP1fAs7+gQTDBGr9kQBq/hn/ffyY+gP5XfOg+uT3E/tm+fX5JgDA+vH7/fgc9Ej2CfhZ+ZwDTQq7BdX8+PY77oDvUu387Z3wRPC29X74cAmkDbkIYgNd/fj8vf7JBSgPwRBzDUIFhett544N+xki/20F2w/IAd///QmVCTQCSfy/6EPekeNL7vL03/Xc9GfxkfAT9EjzwOiU4z7tkPVW+hQH4g4zE3sVFwoCCnQRIw15DG8LeQxOB/n9ePC96rbxMPcAANAA0/siBVQK3gPn/TjyOPJK8z35nwYzA/MDnQxKCvsB/fg59aMAFwdhBZYEKwPWAlb4/fBa9Kv3OvpXAvj/Zvdx92Dz+PKV+Jv9zviM+Ev7rgACBHUFNgfIBl4HlP99A1UQ6RvzEsAQPQVR+Mj49/DF7wrwFvmI9SHvS+6E7kf5dATeBDX/2fbt+7EAngYJDYUJ1QiKCAsKSwUgA7MKVxZ0EzkVoQ+SAZr5ZPs6+vHvlfPr8wj6jvkq/hYBHQL1+Xn1JPah8un15PVC+q7+MgxoDG0HhQG5AbIALgdqDn0HRf8t8Tbm+ejw+AIAvf8B+qT9JwAL/Y0K8RK6E8kR1hImHfgZyhLMC3IHZAIr/BD2WO9r9rL8vfvC+Jf4uvci+mv7T/f99Pr6SwD0//b94e/N8wQAavxO/zYFSAaHCEkJ3/8DAKz0YAABEZMEAwcAD50XpwCcCuoBhO16BA8A8AP2/Av1YPh39TH6Gvsc90EKmhhJF8YCsfnS+DvpSfqJ9ND0CPbD67v3vADaCRwBLgndDun8iwtjD+IHIQaVEUYMuwsOEmYMUBhJA/D+DvWF+ETyIfxfEXz8BAYAAab5KfO44nbY6tQm2vTm9+cl+gMLQA4WDX7/yRSxG1MZ+AybC2UXcRBOFk8JJAWw9pTlhPSVBqD/XfqqA3wC/wO4AE7+B+0F7bDsHvHkC3sOsRMwBXP3rvkt773vo/A78Grzf/Wv8ILsUfqPCy0XsBqjH68fZRsQGrESqAddCRQJ2fqs8FXyXwC7/6X/nARWAwsGvg5TE5YMXgnRBc36CPRX8En2w/WW950A8PnT+WLzj/Yp++T3cvaC+Vr/bwJG/u8EZQSv/Pj/Yfsk/ksE5wjOC/8PlwOnHyc1iQOY58/wCPbm+5P0TFrab9Y5kUkzDiKVPpCtOydluDYLSLkNPIsBgPWC34G+kqmaTqT3reuyUshiyyTeJN6N9VXqDy7+fy93/n8Idf5/U9jfIP5/NHIPbg5pLwv8gvTEVdfTDHf38PTYxoeATZajlEmuYCWNPVYscDX7Oak+c79moZydcuEUSCBXfH5Ydnt6rlVs2P+wzucb5BLnFuMh6bnkvtLX2GInKHQfXvtDkJwBgE+RbI3OFmhlRC5uFnJMg1ZaQMqsAYA0i7WD3K7b1bvc+OTW16HRAvbG4eaurLlrxy7lXgNF+q0tmSn9Kj4n4SG4IbcjohJgtsK4OreqAWhwfHisf7h8C34ScEtgVUmcSIQRqxSVLnIYCBNbBSX6B6EJzzvwrps+iIGO+oqJhmWI8YF5gsmBrIBWgIWJz5VLpJGw87W3x+3PY+Aj5DDw1AG7Gbo2WkVVc1xu/n8zeI9/Gna2Zn9dRBhfEiHtottPtYaxxrj5A0dHZUb1K8j/hBsVFbUD1q4CgJSWWt3JKUdN6DTtSp5PlTg6NOcLkuN9np2S2K/p+nYu60DwLlsmm/5ZovC0I+a0zV+sNMTCt2+hc7Kovmi3Jbtaus+h75i+ojqxFdTm+Ugf6UO6QU4S89jG2yLiS+EX+F8TzDCULwksZC12JuwRKPzm7ubcztX2ywfiu+k918Tk8txc1JnUjOrC/TzvaPsCFYQjKyn2M8E6oU31TOcudCo0MiAywiEUJYMSIwU3B6gIchOoG6ktKCwgNzkzGxPU9pXygOE7zC+8oLggxqXLB+FV+GUJfhDTGd0SjATcBKL90PUv+xoNfxLxDqMkazQMPkUsigRj437f5fxgDywbLhiWBWUFdgjA9bj56fYq+PkHTAzYHl41UDhWMpo6dT44RKFSdEKGNUw2xSfuIz4WJBZXJVM6rTxSLWsmEhg/HDMlPxlZCgMNkgxNELgTaCEnI1wcxyx7On48gD6WOREo0ykXK8QnZynOKHUb+x6+M4wq+CBjNTQ7dSoZH6Ycax8JHeUjwCizKFYkixq/GzIjjxyxG6UlshyVETUM2RCHFGsdwiDVJrc0jyMMGG8YVwz7BQUO6hKOCU4AiAO0ARsDC/p9/mMIBQCI/YP7WPtvAJ8FCf7zA/QDJgTgBcUHjQmbEUUg9yoNJtIVUQ1fCSYHFwCz/kbwSOqY543rY+ZT8fwBcf3q/Nr3iffF/KkA7fXz9Xv4dQQTB4TzZusHEXQO1Pj6IUsfLBxuFDP3RusE7lrteOuOHicTrOpB9fDqjPDE8jbs3hDxK0we6DPdJVUc4iT98PL6MOb03EcA9wFPAcH+vgbiB/QwKCsRFqo0lhoUIgQtri1dOFoc6xDhECkNZB7RJsQV3g9G+e/9aROXHpcz7iklBwUUKf2W84cF4fjxA0D0ZOyK/HQLS/pTFO0g/RzuLFgZdA4B9a7wD/cc8Znufe/Q6mfzxALH95/3wwxsFMocNSHnHGcl2yJ4F4wVVP+U758DBgQYB6v88tcB1TnoJ/SHDQ4FGO/P7TwDN/My+NUC5OfpAIf4TfWO+MgDvAQM+qj3yvmvAvgLIRinHWIeNR4SJTL/TPNVAhbylvtSCjAD1wTXAnX/UgGOA9MMDQmKDBANpP8DDb8TTBBYD2YN8xDUFHIdbSeQJEMWJxUtHM0LBgzX/ujkkOrW4zfrxPfX+3/4nfWS7wHwZPu19TDtQe9G98f38wJXDoATWA3hAU3+Af5/BEX+9PnZ9Pbx6Pq7+f/qZ+nS9Nr4FfNc9LPxhegE9K/5jfwD9bLz3ffr8zf8Lf6tAqD9zfa8+vbzOvgl+M3ylv8/ATkD6wGw+0v8pf1y/5P9l/t9+u/6A/fe+Df7HPkC/t/4IPQb9M7ue+0d9KL6TP4RB9QAXAOWB70DOgTj/K4ApP0v+eX1/vCQ9Gb+PAeyBnUI8/9k+AX0W/a//u39wgIQA7cAmABk/rkBPQILBlEHgw4RFEIABvttBRUMJAgUA9QBBgIeAaD/0AgvCLIEmwnxDcUOHQoXCa8GBP9dAX8IegTi+Jf5CPyc9dv2bPtPAFcBlAITBzYDgwZ6CWQHPg7xB44BNgZnAR/7zfr19mP4tP1FAZ8CngC6AtMB6gDyAGwAHACGBGkDUg0ECK8AMwSaBWUF8wQqAxjrWvIj8RrvdvEU++r1avE7AkcINwxGE5EgjyN5LfooSh0nAy/yyeBd3GTVjdTg2SLi8fwMBegIVgQeDRD/YgYzDM4AvQgTCCICUfmW/ZD7HwiPDGkDbQD46yTmHOhc7fn89QAb/af8FPyW81XwEecg4e/qlvgdBFsQXRxVGnQUYg5mAf/7CP+3+or5SfkV9y77MfsQ/twA1gBJB98NvQxn/6r4ZfWG8lXzBvJJ+HIBMQK1/YT52vde/o0ImQotArsBFgc2Cu4OiBQwEc8IHQUYAFny8uM/5sLr6PYg/3kF6ggMCPMIeAZaBaMFwAmGCwAQrxA7DzEHLfsp9j/7VAR5BhkDY/029bXnwuc27ULtwPR9/YcCIggiCpYMfQemAa0E0wBz+RHywvOK+sMB2wvIDm0NoAvLB/oFXQGB/Wv49/Y++n367QA6/kX+ffpa89LzdvOt9wP7EQDb/zb+gf1O+tL9mAJSBQcCg/uQ/Tf52/gt+Rr5OPkj9fb2AfkO/ST5hfhv+Lf4NPpq+cX4XfbS+RD5IfRg8Kjx7Pcr+0v9BAPEAqv/mwCh/ev56PkT+H/20/ZW9G7ygPGV8gbzzfQY9YT1h/p992D3l/v/+gr5BPhX+AP3gve5+AX4ZPVL9AbzofGZ9UrzHPE28u7xhPby+L73yPe592T4lfeB9mj4cfeN9jz2BvlZ+A321/Jc7lvqLOiG6nHrs++37mbx1fT79fb2+/U/91D1jfKl7k/t5OdH44ngjt6H4tLnJOxK8av5S/60AO8ByQM6BnsIwgxhDDIGeP+D+lTzce166d3hQ+LQ5CDkHOeS65Psqegm5AHiV+SF6HTs2e8X8UnxnfIs9r75m/g79xP6d/nI+L/3cPJB8UHv7e0H7lfvFe9E7QvsRu0c7ybxVvfT/XIBGgADAqIAgv5Z+qH12PSp9GD0m/Dn7zrxs/KL9CT3rvh3++D6HvvY/Y340PMz7x3sq/LH+Tr6t/Z59B71UPQb9oX5VvmN+AP5Kvmz/DUAGf0T/ar6rfb190j3yPY3+s/6mPnU90b01/cx+r/6cv3T/Uv+Ff0j/BP8Y/xmAPEA4/6M/Mr74PvI9gf2HfV99vn4cvrU/VsAefyi9Hb3v/v3/O39TPlF9r/5JPnd9nL9nwNpAkcGTgZMBKcHeAlPBpICbv7j9/T0XO9G7Tvtget28G75UP9lBwsLsgnNDugKFQMZBM0FOwa7Aw4De/+T+bT8Afpm+db8fvu++Pj3QPhm9gr9jAKRAycCbwS2A1H///7f/uoAmwKwBioE+/45+ufz8Pg1A2MC2f1b/uf/ZQER/mP66/mZ+qf+hv2s/nkHVwuiCQwLcQ3gBcECegQ/AJP9e/jh+FUAXP3k+tz2tvZeAtUCPwGkBJQJzQxWDYYJpQUFCz8PbRKYDJYBZfu18uPxdewu6Z/sder484f7NfgL9BX2D/yZBI8PLA5ECv8JqwcKCUYFuwGWAZQBLgMeBeoEx/1C/iP7uvO88LrtaeeS6Tb2Qfnt96P3Y/uPAN4GbAO4/eD79P6jB6ULuhDZDD0Lrw7CC+UG0fx59gD1ZPcD9Xvw/eTF2JTZpdzi653yk+oC8QX/NAQjBtENzgs7B7cOfxGxErYR5QcJ/xT9xv2//JryzfF27O7hJ+QC6DTlReQ17OHxoPSp9+QAHAp/DC8FX/6o9Q3z2fcK/+sANPvL+Sz9NQI1BwAH/waW/kPzHPNG8SD4+/gm9SrzDvLa9YH5Nfsp+qICnACw8DPuDO437yrwdPMT+Vv3cvNk8QPuw+kb7TDvl+x27fz0Xf4/A7QBnf5W/lUA1wKGCxIKiQM9AQP9kvit7jrt4uzI6tL1JQbyECQQkAcn/NLtQPBj9SH3qPNk55juDPai9y36r/fu9wn/wAXnAqL9Dv+Q+AD1L/bX+CT+lfvU+L7yr/Vk+jf9gwA7/OX5AP6WA40Fv/7R/eX6xfj69or6VwjHCpsItQFj+UX3/vgZ+f4DFAMb/LbzIObh8RQRdQhP9EoHrgpIBKkF4gU6+/oIdRS++ef7ewaaA+4HLQ21Adj9sQztELMPsQrAAMH5UPap+0cByf02AJICyfdB7V7t4OJn2GbcFOWB8ZX9LQgDFYIePhjbE9UXZRyVGKUSmxNkDCsDtPzc96vxGfLQ9b/4Ev0iAXMELQKyARL5ifaI+CH5DwgWEFEOtBHeE/sQ7A6VDDcFIwFeA0wCQgEQAE748PE68Qr0QPa8/ZEHDQpsEO0NRg3ZC/sHkQVJ+rX1dPIj7N/pQvCF9OP6SAITCU8QaQxUCE0U6hxkFygThxReFRkTERIVC6f/dfte7VfoAvD34GTkOO2a9FYEUQxVGDYTxQ3ZD8cJyArdCQ8MJwb5A/YLrA9EDyn26e9a7dXwlvxBBvgFUfrLAIwAuwmUBQj5HfcO9Mn4v/wd+fH9lxBjFYIYzhiDE/4JugnaCVb/B/rU76/r+ukM747x8/XEAWcIowYh/mUE6wUwBlkK9gopD5IRrQ3uCn0J2vnr9j31ZPRi+3P/0Ppc9X/9vvnm+tECgQGiABr/df4YAI/+DPsu+Ln0NPW3/PsCegQlBvwGmwrVCasL0AeNASEBiwDPA7AL9wXn+FD67O159bTqxvB79c7u7grxCDgFtwS2EcoPIAwfCJz81gB6BAr8wvZw7Izo1+cU5PP1Mve4/mT/i/xXCbIPKwXhDSkWgQ9DCCgVoRdU/hIH+wCM8SD9GwECB1QFXfzh/QD94BA/Bfn1sP6V+x31BuwM5r/iWe6a8uL3w/+E8nMAEgNxB4kTLQnrBYQCewiKDv4DYABrBjf8Rflx/eb++gJ/C9IGggFF9/XwVPqv93Tz6Pnk/lICw/6p91LvsgC+DJYBk/hL9Mf3b+qY8ufpkvMtA/gH8gpABdMYxxYhFnQOihJPG0MarBX9BGQGUP/h+1f1tPMA/hr6igL9AxoGxwXgAwEDnfE39G3yK/WK9//4nwH6AtoFJv8HAtj7dAGRCFECNP4x9UD55PZx+RoDSQMY/hcCSw9QCSQFEQL5A/gEAQQjA87ykAfzAbz+bQ7FCCz5zvw/AyT1nQ1z93r6RAkjT1NynmXrNmfvb6YCgJcc0mJpRSRIbURjvgGAwooBgB+OhJFhpwusnMfq1kbU29U/4nvoDPH0/8oQ4QxbER8V4h+KeV14/n/wdP5/hVxwxXjPf+gZ/JssOgkRKDUlve2oR7LkiZiq/yw+yycbPOFhRHp8PgmqfaIBgCy3/RvYDGcS2f8nFtsxnNn81Wna3dk52azTRNTMvlbdM9TbSTFApaUBgFCPmYRZk4+HudTlcq5H6mP/XE9LS0ER51eT25Jnkt+e8LLhiA/ZBCSLQf7PAYBDiQGAtZ4S1APd6eb3/yr6q/Ly0+DZfvu9AYW50pM/pdeyBLJfFNx/Vnj+f7ZzpG3gVjVZlg5y7v04Py+GJC4YVAtKB1X3HPih5nXgac8Qtw7KwbumoCuDAYDggCGAo4OwgJiB7YCNhDmRiKDVpLi0i7qF0K/Wa/EUCC0XRjsvVbJ9CX7+f6t9/n+xdzk+ixGHQx9NNwXH3PQCiyjGLRpcxUb7Oev+k/5fKvjNJry1+tkD8vuFDfor+CmQGBAguBNeDLjaJK0YsqKmFtOZ+9wdqBFB9bnpYN456fHhpNNX4Qnh77n8sdyzKL8fso6ljq7QvMXGJOGs70nzhxZ0SLpgoF97Q7IsGTZcGqwloVNUdEl+unLdSfBAnEydK1oroiDCFfAUtCWjKJcIZgLNA1YRiBdoGcoh4S4vH9EfJDugLiQmHzqCU0dc4FcTToRGgkZpKGoY/xMOEa4dgC7UN/Y2cTsiPBBO8T20KIj0GuyG8tDa7dqkv7nAt8qm4h//zR45KZUl3yOdIrghGBJIA8v61wlaDlYSzhk3Hxk8qETxK2AWM/Oq7Y8DZQvNGKQg2h3mDyYDc/la+qARTh8wHAAeOiXeL4crRyRYHkwnYEa2RB01wjlBMP8efxecEuUa7zUsRR8sBiYOH9QelC+PJscgkR8iHQQZFhWpFW8SbBTNJKUvdD0IQwU/YTxpOTo4vzeyMIsrvzE2OLg2fzYhMt0ufjvoPjs3wzExL1Mm7R92JsgqiyhtI6we0SvbGnkNVB2PHT4gqx20IFogczCONykpQiv+IJETvgowDwcJgAdSEIEK0xHkHzcgNxbWGTcW0BirHlAT7w4oCtsLngyYB9UU0hjiGKQVIBHEGJcdEyBBIW0oKyb1Hb8dZyRvIoAYzgbeCNYNHQgrE3cUxwSYA7EGbPlY+sMJNh3PFrYU7hjwGhofkhQeFskZtSsMJNcg4R8IEYYGmRPvHBoIghI/HJs70kSQEwn+ehQA/qXyxfNhB30wxSjKNxlYdTp/FMolqjGcKHcWeQaxK59N3y8vRrA7P/3HEcwnxyhJMGsewDa5UWFRoVPBNWUvViL7B0cTWCsVNOQfkh+pJmI4nEBaKtQpsSMQCATuzPdlABIQ2woNCV4sny8ILw8ccx8AFDcLnxmlEYcVA/dP9kwLRx7UJp8SJu4m4Mvv3vPTBBcQbTUdQvUzQDFxNO8kPCFYK64GQQ5BJCUVrwAX7obbSdCu58EDZQHe/bf3zf58/PX3XPcE71Tnv/TB/wAAVwEQBPUP3fq7CKwJEguNFTodDB0hGhwTh/pCC+wR1B4cCW786A1jA4f3c+O85qDw0ftDBisJKgj8CFMJwhOVE70HthPzB/gROheCDt8cDRhhFikZdAHd9tz6MuzQ4P7w4e+45Rz5gPCu7Mf1Q/Va6Y3o7OVH5Lb78vhv7KHr7OnR61r7wgCiA+gC5/5x9Wnuefi99sb5HPv49O33tPcN4CTdaOgy6rLjMOlm7iHiNeyI7Pzr8ue38Hn2mfTs9LvoRPCf8sntZ/OL64jyvPfN9J3/jfmUBS0CF/3rAPT1Yu+t7FvzwuYC5Y7q6OdY8fXyR+hJ5NTlRusL73Dytu7Y6pz0p/Jh7hLx/fKr8XP4ovUN7djsO/DI+aYBDv339XX12vc89RX4Lvpg9Fv2t/Bo9NP0SPz+/pf4ffMC9v363fMF+kYAZQUCAVP+PAO9Btb5XfOXABACa/8t+aP1/Pd29av5jfy99TjwlPXc+/742vT279zvDvaQ+wb5Lvjo/On8z/+vAtUA/f5KAAgGagG1+9L5hfOi9a/4YPet/JP+NfwlAMwF+QFVAq0HgQf0Arb+jvGn8lD9mvZ8/bsK7QrnANEIZfYY5wT0V/d3/RoCZPwO6zD1u/+kBo4LRQ09ExgR0BknHJMQKf3j78zn2OPW6tTpa/AI/JoEbQo0EIYR1AME/3P71PhG+3QC4wBB+fr+HgCFCckJyACFAUz+ifBE7Nn3TPpE+qb5i/ls9973YfPv7jPq+Oig8s33OwORDXsVDRe6DmMH2AD5/RcEgQrzA7D5YfsX+wL+PwEu+777rvy1+t/2jffW+Of1XPCX60zwfPr6BRkP8hDTCtYCHQDT/Nr5fPWS8uz3Dfkh+Bj5Yvl9+/T+9fpM/SMAD/6z/uwBtgRnBZIJGgEJ/Vj9Hf20/Rv6PPiY8iHr+OcH7aXtquxD7Drs++/l9qz6F/ja+l/+of0d+6n5/faz+Or6xPpd/3L9DPlc837t2uyX7fLt6PNo+jT5l/gh+Zf8pvxR++f+CgEkAFr+EP10/P/8Lvs8+P/6gfop9VntO+nL6ijre+3X7Svp3ul29In3mfa0+Jf6xvv28mvuxPa0+Mv2CPcc9bPwler/6evr4O2d8cHxJvE98zP38/l6+c34i/k1+hf72/ps++P6C/Vw8OLu2ew66gjoCOfE52jrhO6X8Tz1Mfcu/E0BrQGbAW4CEACK+/j2UfWH9F7yg+9q7JHoKupa7SXvE+/Y7DnwyvEp8trz0Pfq95r16vU/98f42fda9uzztvK38jDx1PEu9PXyNfTZ9fz17/W88xv0wfL/7t3tc+o851rnzOYB5vroau9v8Vj3R/qP/pcGYAYLBngEzwNkBEYBnvgD8Tfs9ehx52vju94q4EDiB+dd9Iv4CPYP90H3WPac8Njvu+1M6Qbrt+9D9u35Ovrl9XH0GvH08D/29fuD/sf6n/pz97D0CfIs70TuSu8I8GbvkfaW/Pf/twGI/zb77ffv9QH3ZPc78jj0IvQ98zbzjvYt+Sj5z/q3+CH5WfqOAWf7KvPd7/bubPRa+U38JPyw+hb2MfRR8xfzJfPi9eb0hPdv+nX7S/uP963zKvIe+FP6yvla/BX+df2O/fH7G/k2+Qf9iPvV+FX3/PYD+y7/zAFv/3oAhgDX/e7/jf6u9jbxc/BY81D3J/ex+Rj6H/Uz7eXur/V89+b5q/fK+sD6ifnv9gb10feY+fYBeAZPByMG4wShAuD7n/nM+DL3EfYC97P6Xfpf+Zv5R/wx/az7uQHnBcoC/vu+9D3x4fJ99Fj1oPX89aX5V/j893H8sv1Z/hH9Hf6F/nP8QgPCBaABs/55ApcB/fYl84X2SPvj/uUAfvpA9Qz2//rY/MD6ZP5oAyABYflG9H3ySfK77/Tv8PEM+WP+9f5sAT0E1AdeCJAFzgOsBgAA3fty/Xz+wwGA/OL2f/NT+Bn6afj++GP5N/0F/Tv4ffgf/9cJpBG4DCQGJ/vp8TjvC+6M6xDp7/Dh92b40PsG+/H6AADpCL8HuwNpBQoG9QSjAJH+cfk1/BT/yv0i/Hf6IPPJ7Dn0D/aQ78/uYPNw8K72Pf98AGAAhQAcBSYGjgiUA4cDLAikB4gIjAS6/fD/tQRdAgj78/Du7Ij0bvba6zzq7d+82F3VLNga6sDll+nJ9L793wmdEVURZgdcB/gQbxazEXIO1wNdACYFxQFcAZf+1PM27ov3Xf4V9ybtZOfI6dXxrPd99+rzf/Em8Grx5fTe6lXnpvQ9ASgJBgTq/in5D/iwAHgJ7g+HEAUQsgpR/3v/kP5B/hX6xO3Y6KHlq+jD7anyvPI97N3qN/G89Kf5ev+HAY4CCv/E/fT5ovbK9oHyi+5B8JL1gfjhAOYFlQObA7n/Jfx7AxAENf1l+rD1q/Lu71Pq5Ocq7K316/1uBXYKGAFg9efoLe7b+mADYghU/in58vvQ/uv+cftm93P/FQTVAn39S/wY+yf1Bf3O+1/23PYs9cT3tPXT9Jz8wvyx+cP/9QksCScEzf9R+BH1nPal+aL8Z/9xA3n+CfJG6wvoDO0H9sQBnAQl/en9ku1X6A4MEQ3m89gBXBOtCrEJaApk/2UAPQFD+6oBcAelBSYFQwT6+Df7NgPWA4wI/wQnAA76RfZR9y78yv1m/wb9CfN47Df23ezz4zTh6+Uj9eP4JAssC0EU/QiRAnEMcAu6FPANWg+jBa38qfjr9C73EfnD/d386//rBygJuwK9/h32lvcp9932FQG3AOMBLQVPCMQBCwB1BTkC7/2CAcwC3/2QBED9UfJ38o32TPd0/00AzgLrB2IFKwMGALEAY/Nf8Bnvn/cY77ryrvZ89YX+UgDTASP9fQg6DBwbphQ+CK8HExAnE6AEtQJb/vD4rvKY7ObqROr+7pX03PNJ+HYCSweYCfQIBA0ME4QJDgtJAi0EPQa5/Z0HngIC+wf0IPed9+n4MvqQ9cfyhvbn/63/rQFW/ov7vPeT/9cCuv9T/RD9TQZWB/oN0AIY+nL+1gKPCsMIGfp47FDl+d/N4/HoQfcK+iP4BgMGCVYKShI5FkofHyf1HQkXUxA5CO0Befxi+fT5QPVD9uT1UvP47aHpte6H9yf/rwPEAJPz/Pmx9nTri/XD9H38swhzApgE+wu5FhYDCPdsBGvvyvbeCJ0B6wzj/cP2UAH990X3efZN/iv+tAHr89gDi/7xAFwTjwb4EmoFRglmBWERdgtx8Sn4O+oM5mTnrts76T7qvfAY9lUFMBG+CH8TeQobBcgPtRyhFEgVXP0V9Hz2IfhO/pz9ABeoB4EB5AA7FlUaoAoeDIn7ou085B3lB+mK7LTqT/hV/nQM/QP59J76fva3BS8SJgmz/3QK1gaJCrsLCAGp/cn3hffo7wbx2wfoFD4FDPY1+PX3rfzy+tL1fv6RBWIJ8vWx+FAHew1c/in7ZAZpAIL7+fBt/T/1iu/e98z9wQu1GGYS2QaLDOILnAlvAqQAkgJDAZD+VwhfCIEDngFY/68PVBLODh4FYAUWAWz9o/xU9ej2Xv8cAgf9lP/T/EsB/vPb/qIA7QcsBUr1T/ig+ukE8gJZ+Ob8mf1k/DoDph4zb+1qKV1wMfsKHIwvkj5LNFgvRehI4SPUkgKANYcBgE6MCIzJo92ivrr3tz3Qcs577DXi4Bn+fwtx/n+e9HzF5MvkOv5/4XwzaFmmKq930kbeJEz+f2wuGg9jBt0GbshJooyzVbPsK/JM0jClULxBhU7bDhacR7BIr5TvECo7L2U5nx98LxLrRrcl/mQIcPxuB/j0MwIf7d46/n9sYDhiudEBgPeLJovLuCQpoh/R8C4HZUctVmA8JTFC9o68ZYeDg0aEGoLnhhyvxdn23va9oaGopR6VEJtzyP0Lzwqa/fgHhANr+03gBvIaz7ChNK1CDbx3NnpqY5xmdWNlUYlEtjlcJzX9orLirisL/hYZCzwImuzGnGaLz6FNl2qXT4eSl63CBtcxtFqLAoDRgouHuo0WlSWjb6w0tI/BRc700iPkruzHHd0/XD8TX5xtK3lhe49+ZX0dfpJ82XbBZRU6ygOxqeqQNKumoBTq5AbP9bvo7QqKMwUEhSs3Ig2yAYANuVztKu59KvVbyFxmTmE/nC5WBhKqn6Zk1SC8evg0PFE7zR+UIN4E7PWW/aXOD7P9mnWiS6JTqWqhV6iMtam1QMETzb3NkcTRzZjd9AYXQUNjV1AaGn8TgQp58Kf5Mve/J+k8OR2WEMMPBQ/V+/32y+gE3t7ptfuuA+T2GPBU5//5cgJYBnAb1CMDKTot0T3rO3BDaUfkRhxbKViKQ0AjERglEEgFUweREyEJ5f48BtwKDRDODg0k2htGE5n0Helr6gPWW8Y+wVjSmtn36ZkDDRllFjwiGSSrEYMK0QrmA+r1G/gaAlELWRMJGd8qjzJEG1H6Kd403Cr0bAvcFi8iZBdWCLIBtfYJAcIYVx6DCwoVxyQaLsUzmSpuJSspAzlASNA3lSZyJKAS0gbZBs0Osx7VKYsc4xrHGO0TjxFkAy78dvpc+Y/+Cf86+WUAfAaID8YcFChZLIkrXSVoINUotCWpJggiJxPiE0gXdh53FKII0Qo5D18WmAxlCnoRhg9ZEUEKmBvSG/AKZxTSFp0YtBgiF1AXTRLiC7EPxAs/EmgTuCBJGPn7C/2V82n4pPLp9c/4rPcC/eb4vvZO+SX+avm5/7cAJfXd7jf1D+zI7cH3lvUu9kzyAfYR9bn3eAEgD7EXIAzO/JIFUA4ECkf61Oit6QzvFvTz8aj2hfZ78H7y+up67kj6Hfsn9X3ux/dUBU4OigqG+dn9WwlWDNIamRgJEXoB+fNs8kXzGOshAYImqhkN+TnzEvns79ILLAqgI7U8cDQiMyYmYwmb7anx+fXQ4QX1zxgWEnsK3/lSGyUebhqiE0Ek/S64Exk/fDr4JPYkSiE3FcsISP5oCRsnZRzAGG4CEQ7eD0YLOyTwL8oq6xV+GOLvyPoc//D7ows7BNgFpu0BA9EbFyCzLE0RjQQLDWT0i/xBBw3+SfHn2mDonvwt/VUSoRdqAFYN3f73CMsiEB2vHGcFjwWFGUMcCAu8BP75V+6g12zeXdnrz0zuZvoWA58EZPXN32/2YwHV+xkISA6A/7b3Hv8bAYr1/+eD+EsAGwQMDM4PDxnjFyQazwXCBLQPE/jW8JndcOZH5c3zoP0R/uUKvwRVEEkM5h6IFUEObB8zFS0KkwyQBykQhAYVDwca6gi+DV4IfARcBckE1ei79F33Fe187dTsq+9k8Y39cfBL9f/rMevq7jX4GPsC9aYAfPhY/D37Bwc0BpT7Tfva+kT+ufS8/0H/LvwZ7iLqzfCz5vnmauI354rvh/Z4+An8/vZX84H5ovdY8xb2c/wC+/P7RgSLAcP8JADh9xH27QDDAM39MfyV+/b6yvqY++z4lf3v/xIAUPcs8z/2ePbi8g3t7uwo6Y7wUfeK98j8Svwl+cT6GPx2AUkBgf6c/lsAMvlz+jn+0v1o/oz9WwEP/rYCi/w7/T0ASQF3+XXyuvF2964AigKjCvsIegi8CwYRXgzFDO8MeQ77AmX9DAarCBkJ1QRBCgIFnQGoAUAIugtFAJ3+J/1KBWsNYQ33EjwHEPiy+hL8yf1jAxAGNQjZBTYHdAZcAfz4XvWP96X7lP50/4D9gvzwBfQCmgLmA3kBewF3ABoFSQQiARMEWwJABdoCpP1DA5P7HP+hBSAMVwLS/+r5Jeui9gvvGfDB+DT8GfOw9FQE0QzqFb8Y/x7CGpMbsSR1GHcDWO3s4O7YrNyJ3qfhO/VFCbUTQA4PFcMSxQ1xDMUIt/uk8x72JOng6bjyL/jZ/ywFhA2hDs/+j/Uw9CL5lfxW96HvJvDf88bwMO7W5mnszfZR/4wKTBTMFm8TNBU9El0HXf2z/Fb9AP15+Jv3MPUH8Uf4jfjt+8H/sPua9h/35fqr9xz1rfB/76nzP/my/TYGpA1TB/L/D//a+bz7If8a+yj9+vuxAooFHASeA9D7C/AD6lf1z/56ByAKnwYpAKb7rvoj9yvykOlC6/nsVPBj9vX4Ovnb/KICLwbsCdIJ0gRgAQsDxwHUAJ/+E/bU67jv2fcP/bYAQ/8R9NLrQOut7Nnunemh7ivx+/J29Qn6Wf5+9qL84Pz/98T4qvMF+oX9FQBtBYEH5P228fn1WPOn8mfxxvDM9MvxmvJa9lT4OfRI8sP0WPbE9JTx2vKo8vP0pPcJ+FL5Rf7L/q/20vPu8KLvUu+I6v/ok+dL7Fn19vad9t727/YM+DD50fxr/5n+gPgb8F3t1ukm6zvuwfCl9M3wTvBB+cQAaQIhAqz98fnG+XT7DPsh9n/yXexS6aDmUOQu4+HihObV6fHuKPGa94r/hwJnAbz+nvzo+8n6nPc08xntxO3d7zjw+vJb9Cbzofb99jP2y/Wx9Mf0IfMu8NfuQ+/v7Ovtsu6Z7lnuYO0c7/jwlfGq8qbykPP/9a7z0vC58VvzFPfe9xb1i/Xr81zz8vO576Lqx+ii6xHrMe8K9ur58PsN/Vr+LADdBIEBgf/5Aj4DXP7Y+1r3A/Aj8KzsP+bA5VnhUuDE52HrkOnq6ebs9Oyp7l/v6/Bv7+rws/QY9nP7hABAAOkA/v+k/gAAgf9dBAkDZ/+u/C750vUk8qfwh+927unx3va++4kBKQJ+Ab8Ad/wj9jv1o/X89wj42/Sv8OTucvR2+TD8N/2Q/7/+bv+s/7D7Zfdj86b3m//4CMQNeQjM/lz3nfVl9er0svKB91v6kfiC/mn8Cfhj+XH27vVw/TEA+/xY/NP8DP3v/WMCAAGa/P/8d/uM+yf9qP5sAfMDdQQBA7IApP5L/Oj8Df7u+jT71PqN+5D75Ph/+P35vPmr9jT3pvhY+HX62v6I//D/0gELAED8Mv7DAHQD2whoB0MEIAKf/Sr4y/Ul9l7y9fIk9+X7r/7w/pMCGgY9ByAGsQn0D2oR8wd4/ej59/d2+sX+mv5c/uYAzv5T+Iz2xPSP9mL5ifcn9eL28v0xAOb9TQIMCksDnP2w/LMBMQhOCv0Gdv8H+3H2WviB9rH0t/Ye/kkHIApUBwkEMAFDAqsDMvy795D2Pfl2/KkAhQL1AOr63PdB+az7GQTtB80N1g4zCw8I5ggtBwYCsgKE9sH0WviX8oLt7+2O8mf5d/7A+Bf83/vi9YP02Pg8/ZADlgr5EhQVPA+8CoQF1gTmAdQDdvlM67bu0O3E6a3oKuiZ6vrw4vSD8vr1pvqyAYYEZAL2AE0CXQXGBsUHLQkWB8b8WwI8Cj8G+v7P+Yz2FfXw9Tr7Ofyr9dz4l/uD+I7z2O6y8AL4ffZe9Q/0gfLh+i4A7v6R/0b9rPkjAUD+efv/9lfnqeDR1p7aK+EI2jPe7eg980T9iQNt/mcEshXrIsYjJSDWIEAX7BPoFAcMLf089VX1U/g8+Kf0kOy84J3gl+op7VPpFO038QvzZfKq8lDyBelJ6wP5kP43+sH2YPTr9Z/+rwYSCm8IGAnJC/0H9gOuAID1+u/D6xbryPGB8/f1RPYP803yFO6863LzBPri9ZD49QC3Ax4IoAkSBe//4via9On10Pfp+Irz0PJb8dTvpPQm9ST52QJGARz9c/t58+zza/Jn8bvzjvlNA4EI9xRpE/MK0v509uz5QPkk/838KvxnAqIBXP/H/Gv+IwkRDEQBlPf69gz7C/20A+gKXQML/G36Cvud/uj9TgPnAJ78dPkg/HgC0wDQ/Er4jfh1+9ADhAhYB5/8XOXP5msIpf6f72EGIAz0/Pn2Lv36/EEJWg9b/xP/cgK2AdMGTwh1A7kB0wwQFn4R5A12C00HRAKuA/4OiAfJAWv9b/2FB2YKZ/6K72fudv+ABGL+FgG/9dnuMu9s7o7eptna4LLnjfqGCTMWLB5rHJwU5xJWEgoURBZnFUkUbAcF/EL0R/em+of8mv9y+p3+/v4BBo0I/QMMCOQEEwCE/hMG3wvfC64MEA3JBGr6kvin/l8FFQQkCAwKPwJJ9zz5Z/5p+LT6lPsV+zn+AgPcB3EDywE5/jDydvKQ9O73CgBCBG0KxghlDOULrgzZEz8RRxQ7C3EF8gaf/uAG3gSe+rH+XP4c/jn9Z/lH9I3tK/QW77/tN/hf+PP/pwrJEs8M6Qk/BaYJOgp+DKgYNRCMCfgBpgEZBTwANfuaAhj/9PeR/z0DRQLF+yz3WOz76ozz6fKU9qT3OPxnAzEOzBb9EIgMVgRtA0wGyQl6BMD18u8U7PDsO+7y8Zz/7/+k/EQAPP8FBy8OeBXaFdsPWQy4CkQFvf2T/qMBXQV8Ad79RPxP9hz3Zvs1+Wz96vpZ+/gAnvpH/bQAFwDT/d34Fvgs+Xb6rv1zBjECnQHaBqYE/gaq+rb2ivUNAIv+2AaYA5YAggwmAMQGjf7vBNH7yAIO+Oj3tvnk9aAS+vuSD+QEZ/8fDcT2xQTI/s31junN4tPrHPAy9tbzgAjY/F31pQD1AcwJ0wxxFG0QHxWFJN4mChyKCyn5hA/oBEwF9QCM8PX+b/if//P5gP2x+b75wOxD43XmdOXd6jPzuwwQB+TzF/G6+5MDIQBjA+8D4BHvFFsKGgslBAoO2AxUDK0JLwblA9z4P/zt+cj+vAOzBQACGAidD/AN2wweA+32YfDM8+D4Jfja9jP33e8t8rr0RfbK9ZbzFfuRBnYWUxnIGu4fJybrIxwWFhIKEFMQiAQT9gX77vdN9xoBfAaOCp4MUQsMBZD/5P6dAZb92/ma8bnyf/lY/tsBdfst/nwE0gVACo8FIv1iAfcC9AQ6/pwB2v+2CVQMPAGvDO4GjAdXASAKMQrYFWULlfyeABT98v5r8bL9Kv6DYbx0FWvFOY/wrrxbtXdNyF3IPthLCAYnhCaC94RogGOG7I3WoCupfb2sxc7UVNnb52jwj/9oCRcWIhdVKid2/n/Gff5/zHv+f1hz/n8V9XSR278v42kltxeyFSMSU77vjL6pLKDeHf5/kHrXWLIuL/8esmKaxpnWlZS+qzRoJFIyjUm1I+0e3O1R79rxwOyE7EnsNe1e55fvTuH/L9pxBhxOtgKAdNqWaphIAzHQQfE2dymQIugUtQ/43IeVQYd9gHiEAoBug8mGrr1V5FPLUdZHm+OX66I6tK/A2tbXM8AhvSbiLgou1xzz1je44dSyw/kKunsyftJv+WxpT8xEBVpCFZJUsFnZOF5YOkNTMwkc0B0VB5f1twgU9jr1OAK28GbqT+aV5hObAYD8hAGAAoVogbaEWIP2g/aHKpfCpauyFbtHxWTWw+Rf5mf4LBT8OJh2d39KeMx8/n/neaJeFWPZMRcQmDFaDh3b/iA7TLUVSTDwIVqohMYQFBXUNdf0C3wMfgKKS8Z4NWLnUzQ7TxO41TS2ksrC5ZjkpykoUPBHsS+EJ/nxUM5p/Zrqg9hW1UTFHKB/ofShEaxjx1TBLp9UoWOyDtEI9rUKoTPlQZxMgy8eBHXxaO564/Xn1QCBL+ll9V9fV2lDWy35HJH+8vDB/sUS6wJWHzgOdupJAWX8YPTB89EFEgQADpIo3DsXNVw3dzQvLJ5L8UPFRJQ+Ei3HKNsyMjZ8NX0t3xY8HpIgTS7tO/pVj05bMNEK7fnB+2fn0NEZs/S2XMMJ0Z3svg0eGqkp4BjvBk8ZMx22Dv4PbxugF4grez4XNTI7WFq9SjYfvPwL7av3SBS5GVcXthyxHCoWCwikB0EDCRRMGlgi6yfyIqUxlSh3KXAxxkPaXg9YtEgQOyspjh8WIeEuJjsXSFZLUTmoJk8jWCpBLDUdBg/0DtsS3w6lCYEJJw/3HaQlVTE7Mlg3eETLSvBI00lQQJAyXDFHJ5U1/EZaOZEvuzs3Obw0EDYONlgz8SpJJp8kgy9nKj4n4TZuLMgjiywCJpcmEiZ0IeAndi6ULmstvzNwM4QmMRm9FJwa8yHXIC0W7Q9xEhATLRneFEkTyRaxEiAQYQ9aC6cOCh0KEF8NBRJkDykR3hBDFUYcZS1CLk8qxCSeHiYU2RfDH5wMUPQR8pH/iwj/De4QMhMlCFsK4AhwCwoQhRRnFy8L9Q1eFdkNYBGeEJMUXx3tGF0gziScGxMTXBHMFbAZLQssMktIvkOmMDMhGxwY7HT5IvjkEApFOjsVSzEsFSeuI3IZcyKAB3kZwggnDPkPLB6sR9FLs1TJPOMrljZqQfdLhUOKQEwndy53Nog6+0p3IwAfiBlFKQcuPxLuIW0ZECxcSvpQTULgLe4qo/LuCicRewy5HnAZ3h2xJYtEKTlnRpkXTR3qIxYQZiS1IbQSYv5tE4sPBRR0Awzz6vV39UMQsSM9LoshzReMQzZL31zIPkQZGi9kME85iA78C/vxSeCT3I7g0QPA58f45h/yHGgAPwCaAvUFyvyNFdwyZjNlLUUaqhXd9l4B7QbEFO0Uzhs1KoMk0imjGDwcIg3EBWL6OQCFHpUgUBTlERgPGgqAFUEeTiBmElYjLyMtGD0P0xrzMfcmpx9aGUcdRhOjGZYQ7hAyGokPIv4mBL4OyAssBgnwEPjY+L//FACq/wXubPEGBI/+WwlDC2oPEBpICOX5KwRFB/cDgQT4DEkBJgjfDd0IkPxM/P0K1fpa9inyAe+88Trm5O3s7zzzyP2481XzF/V4/qr/ZgTTA98BfwR292r77fqY+cEAjQQtCGgJy/7g8636AwONADIC4voU9TL6R/dP9sj6qfro9aX2Vftq9jjv7fpk+YH1Cfoh+Nn7SPsf+4f52/m29w31bvYX9dPw5e7W9yv6k/6MA4sCDfxm+gIBpf2w+Ob0ifSn+Rz86v4mBd3/j/rY95MCBAVC+q4BIAhrA9b8XwBEAvIJVwhqALr+R/ud/j0C8AMHANv8EfmS+0z+Cf4z/bv6jvcg8nL1lPaB8x7zg/U/93v8/f8O/gL9zwRZApH90PwT8oPtke3o9o37qPoC/In6bPYs+jP/SvxD/AH75PpYBFECXAHhBeP6tfqaAVUH+Pgo9drsb+fQ9MbzQfJe9AL1YedD8yH77P1rBxIVHhxgIXMuuCjkDnj+8PHA3E/gAeNh39XoA/r6+nQFaQw8C2ELgQqGDdwGHgieB7P4le+u9NX6Zv6PDLgLDwhiDRn9PPML9mH4Pu808hXxF+108Dzw6e4q6L7uZPjfBpIV4BkiF5IQow5+DOALYAd4Af4CmgF3/CT15fLH8kL5hQG3C5ITSBCLCFj/cvPO5w7fpeKE70T3Bf6+/h78+/gBAs0JXwpRFPsUsw3oCU4LuAu1B+wF+v5x9kzpVujH7zLySfF08X34mPmw/Ej8Lf0m/fcAiQbGCIAKaAVZ/cn0WfaC/J0Cv/9g+5f1GupY6AzmL+jd6EDrSfDD8/f7/P3tAzMEngLoA50B9f0n9l/yYu9J7Znvn/di/Sz2hPFQ8nf1yPZr8q32zPb/9iX79Pyr/WT5Kfpt+e/4NPf88+H1GPab9IryX/Ow95n47Pov+0n2XfD270bt2eOr30HjS+yc8EP5B/o2+Zb3n/bd9BzuYPMU8l/yhvCr7+vxLvHh9EHzCPLc88D2pfzM/in+Tvp4+ev6fvdq+Nv00e2H6sXn9OU/6TnuCu/a7uHyKfXv9Yn4K/iR9pXyd/AX8QD1UfI38obzLvC18E/y+PMJ9OrzrPUo9c30TfWV8wj3TfVU9G3v1emv6ZrvYPXl8zf1QfRk8lzxa/Oq8hL0y/Sl9GL3iPpi/SEAo//P/eb8Nvk697DyEe6F6qfoGOU95TDmjebM6evuOvf9+J/5qPms/Ij/LgKcBV0BJ/+d/JH6Sfmc+O72ofJw6nHjxeBL303l7e1F8gLz8fKh74fwffLV8j3xfO9M8Y/1n/sDA7sDQv80/jP8Zv2k/jIAS/4J+gf4nPZU8jDyr/Sk9wb8LPTA8+b2/vdT+lD1FfAO8bP0KvIq8q/z2PSR+sf68/S09vH5r/nw/dgBAv8W+3f8ifyX9IrxYfEu89/6rPtg9dL0hvMO8Trz5vZj+dn4N/59/D3/PwMPAaf8B/W189/yZPMk8670BfjL97b2OPjr+hT7dvhP+Cn52PxeAP0DkwRH/s74z/e9+BP7Dv1X+oT2YfHB8CT06Pm/+pn4+feB+JDzn+zU7kDtiOwC7Bzuu/Jv9rj8e/yZ+34EOwrTCbUKpAndB2IBFfp19B3z+vZL9Uzw3vEd9WTzPvGg8PzyHvRw9Y74efwv/tz9v/5y/Rr+Uf2T+4L70vsm/Ib7WPqV+zH/Tvpx7+3svfL6+Ff2P/Re85rzNvXH8Nv0RgAyBDkDXwbZB4oByvp1+zj0SfJR87rxLfSW9D304vHP8Gfyz/lP/4sC9f8ZBD4IqAmgBaMDVQXuBLgEFQArAAn1fvLd8bb1pe4J4KnlcOwK8kTu8POU+Eb90QC++778PAOWD2wPgAu4BI361fhR/cP/swL2AKv0bfbQ+rP40/Ka8KHxQvOG+M/6YfpJ9BH0TvX99Mbxf+9g83b5OgDIA+0EEQwIEK8N4weF+5v2nPB7+xMElvkK6gvhCd8R273pRO+Z4zrn3vPJ/SQItg51DxQHOAdxCvcFtQVcAysCowX5E3AR5P3V8y3sqPU5AbwAivFW6s3n0efX8BvvM+856jrsR+5K717rBuQu7Yb4Iv5O/PH+wwc2DAYYnBmjDYQH7QddCKIFngeeAErxXuoP7avvKe8g677unPKm9Nf16vKn8aj1o/fx9jT6a/Xu9zH9O/3q+o75YvmI9FH1KfsMA4wGrwOC/5D/5AHI/ocCgQGpAqkFf/4O+tj0te1E4Xjh/Os79tYCVQjaA1r3ke3Z8O/vJu1E72/rt+8/9PT3HftW9Z/5KAMLDF8N+AM8+en1Jvr6/CT++/VL8PzwAfqtAcwD8wV7Afz5+fyIBngEQwS2/wH2m+7m83r3MPQE+cz7DvmZ9Qj0KPLl8zz5CgS2BLT++vqw/8QEUQVi/sf0hvNo+XkFuAVUBRP+j/s1/NH8SAQeA0YGQw7IF9QPIAA66hfQHOW2DxD/X+cD9zP6F/v1AfgM+wQV/vv2fOa35GDbGdzK4Nfl8fHeCaIcPh9aHcsW1BsFGHUP1w4HEGANc/oK8ufuiOwP8yj4L/ZI9wkB9wCKAdH+tvgR+Hz0Bvc2ARIH5wM6AyMIQwRl/fb9OAfiDW4QOQs+AHn6APZI8XruXveX+ZL59vjP/VsGrwAL/g7+YPoq7kX2k//G+734GO+P7tLzsPmN9nj5r/vz/w0O/w4iE+cOUgk7DJsLzgrYCHUAye+i7GHsO+vD6m/prvI+9GbzzfvnAFAEoQoLC48QSxV1ECUKlAOqCP4IjQn1ByD9ffPT7WLtYO+G/e77R/bx+aYBaQs3C2QHc/d/7mLtp/KC9p70KPhy+WcOChOtCC8BlviMAugC2AXu+svua+qX4urrwvaqBI4G9QFW/nECiApJCKUIiQvaBbsJiQ5lCiwBR/cK/GH8cQKy+2L6+P2H+1kCG/3i9mD4LPnt+YD6Zvhq9Xzqf+6b8PjywvPb81f3ZvwrCA4KPAxFDJgLywJk/Hv/9QioDNoIVghdARj9bf0595n0HPY+77Tsd/j2+Ln9QgKGBYYIngk0FpcSowj9/sb7ufA97lntI+1O8Ojn6vAE9XL9EP/B/A4ETwT8DLwSOhIRCXAK/w1zDpYISAUWCRUPzghB9S77mvCF+pYHxQKdAQkEQwA18QLtSuoI2gHaw+nc9t0EYfiU9zLxJ/uO/v3/jR2KEDMSUBw4FLER0wtQEpkGMfezBW8D0P4s/7YD7v+d8bj4vO2k7bXxePWODCH6QfuwB7HyKfUE+ALzTOXb6unoE+2MAE/+qAOt+o0PCxykH1oi8Qeu+uf/dQzNEDIWUQ8s/wwFvQJlC/4WePZZ6xv3pAoxDm8HjQPsAsEBBfhC8gntLfG/7Nn5jQo2CeQBZvoJ+8bxpfSo+nX+twNlAdb8Z/JC9yHxUfRrBY8FfgRCCdIFQgBICeQSdBUAEQAQrQu3BM7/mPr5+G3yM+0R9Lbz+v9fBbb5DfY497/9dv/iCacMw/4vA9sCbfubBqMIywVxA58MyQnFA80I1f+NAZsIaQ6bEMkIhvWC7rLtH+2h9qb6I/ri/K0B4QBY/FP/KgeYChsPJxaYGQIehgB0+MP0O0sPcEpabU3C11W2AYDp8AxvcFNaSd9DxQ51gMKFjoEShLGM05VCpimw+LtvxrnRVeE943/to+sUKJRW9PtsAw9yQn/Ffsp4/n9bXAirOLQgwxni6vWpNKBA8Q0aWf5/OlwZud6VbcAsMIg47CUNXb5J2xgz416Rg5pPklCu/0nHRFZrc3ujNIr3uczhzo7QycxssdywIKaQtMHOGwbfaOpO9uABgKiLAYCKxa5PyQo1KdY4aDLyO75Dy9cBgHSJAYBbhoiJVIxtoOPhdPRq+iPtE8xg1RTKPqfEvlz3kRKnHN4WShKZFxL2yEbOdddg8m/SVutS0UKMN4Ek2B9aFCgMawiL7oWXAYAOhWGJ2w6UJ08b5v5dmWOY/J3imnKh9JoBgCKF75+QkieTuZDQmNujsbD/uUrMN93X4Tjkvu/m8SgKyTf+LnZa+W90e7F+unwSdwdyiX8neKp0LWHtI/XZ/b+cpqClLpC+hSya0hy9N9MzAGpdGfrZzcWLAJME+eqFsbrcbyBcC9REzz+xLnA2NzJ9FQLHbJlsotKnZNxIDK4gkDcjHfv3yexoA3TikbrlvD+176RPngeyaZtup0u8EbCJvtHGbcuWvoPhCgsLJDVJ3EMmDzvpgwNv67vSuOwxFEQ1BSihIa4hByYAFhrs5fJn+dTpSuox/e39q/BH+0Py3/RSCAoXEyLbEMAQmDMXRxc9jTHxPThDp0XIS0o3BilPIEsT5xQ+GcYh3holKb0teisdNjhJpkXiN6InQPTr+hn+bPhn3tLcCewD9nT9yA3YJ2Yv7ih1DxkWMhhAFu0K+RBJCckHTBDwFKAtn0nWQVUZZvf26nYERRtgKtgs1SKjGsggzxwkHi8bdRk+Fz0Y2DF2OmU3FTdKOrw5tzmmNXIxoyifKZckwBBkDXEKSRURLucj6R+YJfog0SZ0GiINfALY++D6RvrQ9oH1eAU1CxoNVR4DIF4h7CazH7st/jhLKi4b/iF7KQ0xMTsmLQkfPxgVGREZjBlZHiAerRy4F6YfgSW/FhcIDwUhC4UJoxNZIMYK8P/jAWLzTgCsFQoTRBmrD+D7/vej9tn5T/iL9/T+o/u691r/6f4M/NT89PX1+IkFJ/aI6VL0efAC6LXunPOo6AjqDvNF8ur0H/6bBEoKpQulB/j+/QGXDKj/7/Ap5efrWeqT77n4FfWC+VL43fT28/P0M/WB93ru2fvnB2gGgu9p/ATvIPLtDwYNSR9kCUYO2O5b8rb/bem2+tD9fBAf8X7ofvjq2hfxEu0t/ng7JViYS4lAGTz3Ax0CCASa6jjkdALxAXv5sAhs6icRugPlANsV3whSHW8mykc5Ta1H1h4sIgAxQDJtIEEE8AvrEVUeWgOCFzkmXh4wPWs12gn0BVYHrfW+Bd4BYvhz+uLr9wOu+xwFcx0tFVom2xerC+4G6AzF8krne/G+Bn0mlf3Y+yjjN91E9TT37xKUFbwJkQWrBJIRUyGFFGQGzxB7NcYfiwVu57DJKdCm1ZbRlNtk5ffYn+c05CnbGeJV7SX7lwuF9hPsdfM086v07vXW9HDx3Py9CEsKYfXJBNQA+gLqA7T0vfyj7J/pc+p66Ub4zwHx8jj8dwS3/PP5Rf/tB24IqweoAOIBLPYU9dzz2v14ExoVAxbACXMC4Phq+sr0BvRs7BjcqusE46jgfdyY1iHlS+RL4TjXb+DM7xHoMuCe5+Xys/GV9lf2ufzT97bydPTa9dH7FfL69PfpeOSO71npiOPY5k3scvRR+cD2nfOT7GTndeTb5RLos+xq7vrzu/HI7frz3Pgz/Gj2vvK17nPwN/FG7U/rQujq6j/xev6MCET8Nvm38U3sFu0e7ZD24fTR78Lj4+Fp4h7sRfGK+R/7ufZb+Wnxdvb69Z/2Hvo89k/4Rvi47k3sYOi/8+P2T/Py+JL1b/rc9yD6N/mk9PD2vv4RCt4J3AGq+8n79/pQ/j4CAANG+fn1g/4OBR0F5P6OAmsDmAJm/wH9PAAu+D71o/n+9vH2JPsvAwkE+AOXAr39p/U08Sf3PQBD/0H2lPlT+q/7nvlx/Az9KvpG+rj7B/0K+474XfT69vf0q/ur+6f5/vyp+gz8cvsX+x7+uP3C/l78bwJgB1T5IvsJBzQKB/3CAazwtOWe8QzzP/fSAbP9Uetn+egCAA0JEKsZpRPpGvQl8B+KC3P4UvRb32PfTuT9423rGQc+Bl4IKQ2FChMIUAbWBCn3ef1k/5EDn/rL9In57f7sEXEJQQVrBU8BP/0bAA0Q7AU9Al37//A46iPrx+Wb3jDkSe/nA/4RWxrgIMchFBEsDosJWw0qFk0RXAay8uPy3f84DncR0QvqBn4GygKR9uTu1+359MP2u/EM8hTwm/D8+2r8sfwHBn8F3ACk/7YLfxFCDlQLnwVsAx3/vP2i/Ln1e/Xg/scBTAAMAKcApgM5Bh4Dgv4x/2b+BPis9Wb4wPtr/wH5h/hh+UP76f8o+0z0mu8m8d3rT+7l82L1OP1WAskGBgqRCQIHMgapArUEKATo/Qv6xPED7h3wVvWx9ov53fky9QH15vonAMIAHP/z/8MCNwKrAuD4yu9x7cXuOuyo6kbs1ef062jxa/g6/JL6b/y/+yn7Y/uc/rb6fPR/9Sn19PZt9abztvN68nPxGfFv8CjvVusV6bHv+++37/bwUPQd9232b/z4/Er69P66AR38C/n/9db1FPMe7/Xr5OfR5mTmiOga7Azvyu9T84DzpPK78azvne3J6BLn+uow8NTvOfOD88P0gfgn92z42vWd+lr//AEAAen9J/wX+434iPKs7QnoH+co6w/0kPZv9JvwHPTQ+Bj6OfyW+Rb01+/P8HTxxvD068TluucX8HXzVvR78OfyifXs9on4dfTH81bzZPH/7Uzrruj77ZL0nPtbAIb+jPmN9svwvfGU9BLy6viG+v/5hfoe/ZH6GvaS9/v2pPUq8l/2jvj+9j/1XvJS8yX0o/WY97v6V/kY9WnzcPWA93n6t/0k/Lj3y/lH/DH4bPhR9wvzp/YL+sb7dABhA9IEiAFT/B33PPhH+pv81/0u/p391fmh+2n+AACJ/1kAeQEMAPz+zP73+yz8OP7M+x/6L/ZM7w/qd+kK8a/1bPqKAAcCEQSZBzQI7QZ+CZYJcweCCioNtQn3/ufzk+3g8gD7w/VU9mP25fYIAWUENQZZCLcCjQChAtICwv93/IH4c/nU+7D58vex+ZP90v02AuoCBwVOCvwJ9wfTA776RvggANADlgdWBrYCtwGz+wz5M/tD/Ln86P3n+Lr5BfxP9hr0z/myAosHBgii/cH4OPwi/gUDEQKtBuUJnwM0AhYCDAoXDeQECQI6BH4HBQrZAxgBQATfAloBB/pM9X/4Ifi+9rX0bfR999P6wAWmB6gIsQzrDMcMmAiZCy0DawHyBcP/7AJBAMP/5fqe+L36G/x6AaX9nQDfBSELqwu5CvcE1f7KBzENeggzBzP9iv1PBaT9TPiS79jru/Kz+XP0nO9l/3IJQQa4BLcBSv2YAOoMnQtDDHQM6hB0FgIV0BTjCoYAIfq/+Mf2wvPT7yLtb+9H9hn7KQP0BL8ELQqsB/IH1QUTBbkEfAIGCu0M0AvRCQ4HwQKo9vfusO5P7iPyy+rh3E3Yi9gi5R73+/8794z0agOQCDsKOQ5wEToOjgscEywXShorGGsNrwOoArEG+gK1AF8FIwbaAWf7ZvEh67zrT/KWAHIB1fhj8S7pSuco6kzrz+xg7972GPzR93/1Hv3/B9gU4R/tGwMRggQQ+pb3z/fq9VfyAeuB7Y7xfvP39B3xUPQ3+CHzLvcZ/+gCSPwj+DT83POC+BP+/f1SAQQCbQEsAJMAygYRCqQPcQ/fA68B5P56AiYLygE+9d3ve+oG6q/pDuoz6oHore0L+/ANlxBvBKP4A/Eh9pX1qvdl+dj2RfzG/zj+DPl7+Bz8+P6oB6kMtAixCBIGFAVU//fxkOmF8nP60gM8CzML2QRj6wLgjPsfELP6GwNDCz/zh+u0/WYA+/gDBF/5Cus49PLuiuhW8VXt4fPm/qgGcwj5DNIX0hOUA+j3pQBcBx8HwhAPEK79nPhT/yb+Xv85CA8I4AKUBHkDLv3U/HX9Ov04AJX4ivAW7IH3xgL//+kHTgc6A1r7Kvmt9CDqSeh+6crxPPnJBGoNYBjpFO4MKguODNcXeBbeFJAKpwER+Pb0yfbI9PP+zQMyArIDOQy9DlYJQv9M+0DzYfOfAHoIsQshCZENQQqRBDEBTf1MApIGRQb4BMYC5vfl9QX2TfDV9kv8dQPlDFMREBQcEpcLEwJk/nL9Kv5fANL4yPah+YH8iwhMCpALnwwhCxsJrgEUBcgE+f4gBP0H7wZJ/TD2DPpf93f2xfhf/mP7uPtS/XsES/87/CcFbgd3ByIHJhRnEmUViBMzF9ITvAqrCCUEm/sd8FX8APtM+lcA6P+DAxwE4AoQC5/+SP1l8mD5JQEP/20H1/p2ADEHDg0xD2L/KwH7ChEJGAoLB1D7HfWM8Y3wXfUJ/gUApwQNAHv8WQO/CFkTRxWaEIgLfQubDOcJAAc//x33EPlc/pABVgZQAnQBHvnW9LD8sf9HAfH8dPfB9uT0jPvL/yv7vwM7BXoGBxDjEK4Qtg1HCO0FQPuX+7EFZwhRBywGkv7U9zf0CviPA38C3fg5+7v9ZwSVCIwA0/xO+0f3C/jdCFz7tQJWBIn3s/d7+cX4re/L+eTyIfTE+qARfQbyDMkWAAjhF1QFEBmpIVwRiQ4dCrsA5vx8+ibwPhSvFcwOJxCD8XoAZQBK8839U/A18CD5KvcgArjhY9OX9OjoVu/x/JL88AXjBpoGVBLvFIQStA8J+wgMzxBGEq4mwxgMCwMDuQOQ+SryA/Km+kXy9+ZV9ZD61gEHDGIQkALB+Gv7nfW99Ir38/Cr74Hnn/Cb+mX2Cfei/PAXkiaIIVUdLRtJEpkLwAbOC+wYRQ3SAgL9yALHDU0N8v5n81L+Ww1rFf8aZghz/JkAD/Fy9GP2hP7u/Fb1VPqB+Yv7VPdH/S33RfJY9X//bgvAC3IKl/nn9GL4//6WA0sAyAdYAUcAaQhzAX0LwxC7DMEJfA1gDYQDxwTj/FvzPvzrAnMByv4UBlYLhwSVD3kDFvuaBA4NwAcW+H/+5V10d1ZddV5HCOWRAYAhI0xyLEr2R/hC1MEBgJyIAoAbhUOKN59hpNu018DBzVTXz+KP7wn6IPkMBQQEYy++LRUg13n+f4l8/n/Jef5/qU4mQP5/IGsPZT5Up9vzr4GqAYDOiAGAza7JHqQMNC5MNrUloQaJr9qE3o0olY6gZCkmLLZmu3Gl0YezqKyW6rMA4t231dX549qK7CwODw7QbedfkwBLxMu7e8uR40I002FpUFxCpkgyODAxTxBfjgGA1oIBgJmEr6DGOL5lnkriSp4r9w5trgKATIkBgGmn7tgw3FS/NZ8VjOaSvOlm12amZLJ4u1rRHtVM4MjZ4AlsfAR7/n+TccrP6rYOz4wi/n/3ef5/uHH+ZrFVdUZLPCkvsCNeHHcTLge0DDXCAYBzgwGAZoGtgE+BFYE+g1mOHY+wn6SnPrMXzpHL59FE3vfjSe3gFHBm1HvkfwN9xX+ncDgpdBMl+EAPeEumSmJCnFmcU7lIbQZQxMrQnLsIqG2Cl4NIlWCbcK9m2uokXTMZQ8BWOiI4+DDA/bT/uPbEf//8EK864y5dMM8Vteik+6r0W9DUyIS6dZnEquG3staf4ATE4q5VvfzRqc+Su+7NE+js/vczi0f0M/Qkcgu29XsJ/zODZTxXPTyQO+UiPwsBCkACA/Sr7TLjWtJh3CfUpLkhvvzMzNLY5UT3Ieav61v1jf9CAPUNJSJvNqhJVDYiOo0tjx0TDTkMfBiaK6U4PyrHL+kuyUC4P2Y6Dic7/DbSMNBR4GTJ+b3qp3G4Z9Bj2R7r9wFLD0ACyvrtC0YjmxowGsQUox0PH/clHTeqN5dcKmVKPusV7Pv48GEIiBj7E8sbeBGXDM4LgAPKAyP9QghCC3YH3hbzJMc2pjEAMk01BjPUOVA29zgAOx0tLSXQISspYz5sRe1DUUCsKcsm1zNKIjYZwBK+BzgB+gHQAH4I+Bl0GMchMShfMnE5TzZAPJIzSzMcK/YtZT4NPQZAtTNgMVQ3MDN5NJox3idqJ5MpNCs1KM0lqySYHdEa1RaTFYYVjQ/kBNYLiwav/eQKjxEoDroTWRgkD5YQ6AsdCpMQwxGKFGQbixp7CxETzw7zAX4JIA4ZEK4OUgYp+/n8JwYS/D300voX+4AKeAwAB5ISoB4mKiAtBSRgGlcQLB17Ghv8bfIZ9RT8R/oW/+UCXgFUAs0ACAtCC3cHZw8jBYYGpROmGY4U/wqfE3AeRh2NHBMTsxkzER4UIAcQCO8auANrE0QqvBW74FYM7wFHCosd4RygL48jw0rFO7cvOyNaHSsFQQPwGIEa8ygMFp8ZtiK8M80luBx0Qysm/BOuPn9DkikYRsk7OjetGxkVdzo2JNlEmS9nEyAeGxBUIBw6iTYZU4Q4iRBGHKcJ3QP6BkcJuuxu57f7JCLcHpMKoh76KNhKMzsCLQxI/iQjBJD6kvBq7CP8hg53GRwSTBdFFoL9wQ98Lz8r3hqnSwk9KUBuRsMg5RgHIaotnSCnIoADavAT4Rfb/NU/30/vjwMjBDj+6/sL/IwXdRTJHekL9B1qJ14krx95GywgZQgQFs1CkTdaLFM2Ohy8J4kcpQPU9/kRqRaCFk8hzhkXE3AJwRDjAOshJjeVIr8dSRqoJQEetCRoHdMj1DJmNaUvGx21ImEY3SXlJMYeABH2AzD6ngbXDFf46PzUApAO6QP/Ce4GWAMJBBIF8QTKCZAP8ArWDAwQsxyTEUwX7hhRGcYboxjWHbYb7BIGCbELLAbY/PX/BAg8Aw0HJP6N/vEDG/c2987+SAR8+Z0Hag+sBWgGowkBCjYCsAyqDfgTqx7UF8wZhQ+yCusO5wzUCGACqAS9Am4BrQAwAO4EhQWXBKv/Zv4KAEICzAHJAkkCS/6yB2YF4wL4ALD69P5m+rz98wKPAxAJVBDBD64LWgnjAZkEeQfsDLQNRwL8A3ME8gjcC78EEQa4BcYFkwZ8CiwVeBRHCQsLNQjb/eX79AItCdEJeAWs/1gBRARD/hr+fwchBaoDK/tw+JACFAisBwz+9/Sf9pj8gf1fANb/cvzZ+6z+ygHY/xX/7vm8+WX8xgBJAzb+bgD3ASQE4gIQAjb/r/26+mz1KfRx9Lv88v4SA94A3ATkAFH9AwStChQB5wH4CJHwf/bi9L30X/qE98vo3eXU+eoFmxSKGOAe4x+wHRYplxp2A2H2ge8I5VPn5e+S6Hb7PgsQDEAM9Q1GAtYCIwSz+rj8GAN1/xb4UgFCBIcASQt7EVsJgww2AnTr/+lD8R30AfdB+oP3r/j+93Lvg+ig4lzxyf14B78UvhYSHKgfphwcE6UGxAFq/VP+6wJdA3gE+P7s/uwDNwrBCIcDwgXtAUkB7wBl/VT6O/2xAb79afM57CDwpvaS/fT64vhcABIKhA+hDkEMZwnQCf4JkwjqCgYLmAWO+tTuMvQt+l4BeQi0AWj2fPCA9fX2rPj193P0o/Fm70/2xPvU/oD5OvomAU39nQAhA3UGDwgPB70FEAO2As3/OQD//d3+O/u5+97+uvOU74zwmfXo9zP24fY79s76NPha9sn4B/bg9TL5tf0dAz0FcAJy/Xn1QPKd8v/y5PEY9Rn6D/rL+jD7uv5A/LT20vRs9H/3lPJ99BLzBezx5wXlc+dV6nXyLPLT8Fr1Evvb/Gj7M/jd9fD42Pw2/kv7Wvjq8y7z8vCo6rrr3u+V8OrwxPBb8PnzLPbV9OHyLe7Y8Nz0P/WA9ePxufMk9sv0pvPq7dHqQ+r556nqWOui6q/quu+A9HH1I/tV/qb8Y/s1+pb2nfE28G3zJPTm8kbydPBK7uLuGO3q7P3yh/WL9j/4D/Ri8FTwm+0G6Wvjd99K3Mjhjuej6eXuGPRn/N/6e/uC/D349PVD9Qr77f1++zb4zveg8mnu9es76C3qNOtc7vHzovZK8zjsv+vk6rjoOeub8vzyEfFJ8qfxS/ha+/r7+vtW+rL5zfpR+M/2Qfev8pjwyu5x7ALqbeoV683sr+3g86b8vQFEBToC5wEk+of1hfcU8L7tiPNj8CXs7e6g8pv4sfpb/Ij7i/3M+zEAagNL+lb40/VI9/j3I/Wn7iDrx+2L8jL3EfmU9+r2Yv0+AngFfQRt/uL4x/QS9xf8KvtJ+1YACAIt/0b8wfZW8XPxRPNg9RL5Dfn3+57/Fv55/E38LfoC94v1r/OS9YP12fSS9Y75o/tn+zj8MPvj9+LyoPbm+pL73Pup+Vb3z/bP+hj8Hf1FAcIBKgTgBZUIqgUXAML8hvIX7QvxfvG87OfqAO518mD1dfb5+EP/0wIJC9QP3g2kCnYBV/xG/WX8uPqj9/70CfXF9PL3nPlw+Sf6+fmZ/aj86fr7/Uv+nfup9o/1ZvAx8H/3Lv+PAmkCGgVnAb76RfeR9ov31/jk9sL6O/6B/M/7tPxo/TD9Of3a+/75b/oV+vn3Tfe8+Uv8b/qz+Oz48P2+/9r/wQNmB3QFGQHa+oT7IAOn/HP0mPfX+7n6q/dx9GrxZvLc8x/vrPIl+Pb1DfNG+acBEQX2D10NcgQVBZH+0PwY+pP2aPUz98D++f9/Aa/8DPuA+z76PP2o+wDy5PQA//IE8gXNAKj4yfHY9ubxc+xf6GrpLvCD79Drjeq39TT84/1EAEkA8QI+BVQDY/y8+E75HfT69QcBHQJc+9v3d/ls+YP9HPyp9Aj1MPi//F758vwBAvABXAF1+fD4BvlY9UzxhPB66+LrMfe1/Pj+Vvsg8cjrWPDS7333ZPcq5N3e0OLJ7HH1wfji75roovVRAVcJZRF3EhIFVAJGDXYMcQcQCdYDTfeo+Av8w/XZ7ZnxJPR/9hoCif+W9ebz0fVZ+W33fvHv75nwAu6J5tXgP+LI7lP2B/nm99Pwy/XK+3P6yPuTAu4DkwDG/Pb7Cv0S/9L8D+zy5xXr8+pn87r0ovHG8570oPbX+nn98vVZ+PX88voeAdwEvAqQBD79LfoX99v4u/nk/dMA/vy5+ib8hPxdAF8CP//r+fr42fDC5CjfkuCO6gjuNPO1AjkRbBWpCHH7JvFq8ZL31vZW+ab2Dfl2+b78Tf40+un9AgVCA4EA1/1c9/z9gQNhDHkGyvB45o3SH+E6Bin+Rvb1BjYQxQRGB9YN7A3bFvwLNfBG7ezwDO+h9q/3N/Bm8zv7zPoq+8f94wSeAPr8kv2/AWoOZg9CBFH5If16ARj/XQQkBx0Cw/38/Hv+vgKbCOoJKgfvATgA7gHH/HD9C/7I+pf4Z/ST7oT3qQMe/+YCofw+8jvuRuoi6B/e0d6J6CPtBPklBpkPDRfmEZUXaRqSFBoSQAg6Be/9Xftq+EL1UfDZ7Sb0hfZS++kAZQ1TC7wJTQT1/rn51PQo/+L/L/1dAEAGaASKAGgBwANTBsoFvgBIBVMIoQAk/bv4EvaR+Wz39f1a+Nv4jP8D/ej9av09/8f5MgK1A90EgvvO+5/0me+B9qj1NP84BMUJjAMgCwcO2QSr/iv+5/7x/F/y4PcP+if5tfWq7wb0bO0C70ryNf5v/iv/RAxhDxMNBwySDMMOLggVC5wMlAo0CEMB0vuS7xL3VfpkAKX7nffI+y/74f65+Ff7hPvt9nHxVfeF9TH31vTB91YHvwbDCmUCCfwK+6L7zfwp+pHzM+8V7azz8vtI/cn9T/1Q+3r3CQXsCF0LkhP/EtgLGQpWDeEFbgCt+vf0TvPV9qP8XvwF90Tz1fPP9uv8vvvo9VPyJ/CH9KL5lvuW+rj1kvb68Rn3zQd7D8EW2grfBKb+n/9R9MHzpALg+m0R0wpz98H43f38/Lf20/sd54bg+Pgc+Hz84P+m+YH4EgFZCdr+QAtiCqoISf7x75z08eMl88L8ufEO+4r7kALo/WMGGAaNCaEYRwrJEBMMdAJfBY0SvQih/m31N++B/YP/6/CE8er2yvJOBe0NZAei+kn2P+wt60nsfuOh6tf4VvRd86z3+vjNA0cGPg0eFYwaFg1LA6MDOhBJFWIEsP9269Tv5fIn82oDFfcL+GT5wv39C+UL/Aoq+mX0uPOF7f3xmvJr9vT6KQCi9CXvZPb+/Yz6TPheATsSTB0mFb4XPxm4D6cNCBguE4oM4gTs/vn4nfRp9mzxrO6Y+KP9Pvyc+5n9awfoA5sFmAjSATj2RPrdAuIB8QPWBBD4E/p+BL8BofwS+RH+7vGd9DPwTfXh/x8ChgXn/c0CRgJHDYMO5ghoEqsTfgg/Blz9d/zBCLEEHgiZUopxekT4JU41AewCgHLyKmD6NaFFFCo9mgGAyocBgOSFepBln0asr7OpyB/T6OfN2X4g/n8N/ITQSfKr7Vk4/n95eP5/uHb+f9gq0Y1zpQO0+cHH4yA5UUmSWMk5ysDIs2+1y884I/Rmd1MoX1tY+ym9JHcBojr1wlWLRJdHynpjkVgNQoFzf1D5z5DUy9I9w7Par8ZQrizFN/vXYt1TX0qIF1iSAoA3hgGAZbEzF9A1tVLmTpk27DFdEOvEQKS5iQGAq4PYgAGAU7eL+OzL25bgkrCiZ55I2WohZR1JHD8VFx2eExcFGcqRw17wmtPH3G3KFTb+f3d1/n+PeFpii1uHVmk2Q/NE/+gzICZAHAkVoQdAte2D4Kk9xZuj8aJ6ow+pR5IBgBOQAYBYg56CFYwvl+SiR63MujrGEMxy1WHZ0Omh7zAE7UPSfg9XL0nFeuR8/n8pfP5/HHYZacUdeQjC/QDZFLYvkOrGgMv5AScb7QqUGYDUArC1/az36/rpFvw87SvBALwx6CLAKAwXMwj+8MTTFLeDmTfQrNf04vAJjg1x/nQBLvLCxVDF97eUkgGA8o29jQaDQYd4nY2bSafcxbrAMODq4NXqg/zSELw+yk5NMq8OwgzY++H9JP1yJWJgx1FzJKkaURtPAyYC/f5Y8Xf4u/pBB9IN1/U0++j4DPt1/wEKmxk3IIUsby3qRmxC2DbIQS9MrVg6V6RM+zvjMC8VLRTSFVMUewXh8w4L0h5sNf0+CkVvL/kF9OIu7Jjw69UAwOK5isoL1ojkwPjjCGgMFh0pH6kVSBAbBDsATgO/A2UOoCELKXAqz0LfUGEzSgVr+Xz8zw0oIN4h+x/8EgEYAwyMEKoPOBjEJf0gHSUjMMQ4fTb/OooxYENGUptOB0Q0Q88/hDRLL+IjkighOvM8BCxfKRwl3yH6JoUmISHXFroKuQm/A94AHgeqEawXAiLKKZouFT6HOMc4LDraNscpHi6dMVEt9jSkMXAqqyq5LB8oNCx4GigVTx//JX8hTCXIOLEzFCwrGWsRJx5uKjUhdCG8IZkP4BjbJconqB3NGfAVpxB2CCIEyA3PB7D2K/Ur9JPp5/KX+OPoPuYQ+98BO/+Q/2P82PvS/egDIgZzBVD3lflj+W/4yBT2DSwPexSxAWH7EPa4AmQC2u2U6fTuuuwG6/r1tPtP84z6/gRfABb2oflAAkj9AgWAGScgVwbA8vnwp/hj93IQQBN7A9MRjiB7HJMMIwNpBK8XBRx/+2Xt9fa35oDgnO+jESYz60/YOmos4g7xCuQHLAcaBTTg2/Q6DC8lVhaD//gFb/jH/uQksiGlMogwJi0PHPEbMjkTKhAuwxwaAzAcJyh/FqIUHQFcBHUKXA4NGc0xCSmFG6YJTPmhBYMAKRsGBOEKZCX4GM4LhwXyGtX/hA73AmASjBlL8Pn/WPt6BQMCehBE4+vUUezj89H/eAXpDJEJLggJD4kaIBm6HwkIsRGbAtgE6ReKFqgCR9bP0SbJlMr34ebmgfi1ArP/CwSJ9Dz/9QJg60XheOF44wr5KfnN50zq0fNc9eAHXxTvEKAjuwqm/H/t/d6m9FzomPA5+zUCaRBsCEX0P/Wr+FbyNRRJG1cE5gOhBdH5/wNiDlcD3/3s/Bf4ev2TAJ/1TgoI/fzzQfrc7nTzmucQ5mzkztjW4dDwS/fe7WTgCuJV3l7pT9663qPo9PFr+Z3lQfK+83n/tPGF3eTkO+0s7pTsyvIH6AvqnuUn7L7pVeJN5FzoVu7g7Vz/TPlF5lniseTR4/jnGuok4y3rLegU6QjnRt6u56nqFfLp+4r6GAH5+eLzx/hP8A7xFe+U7GnpfuaA4j/msu2K6l7rdOj352zju+HB58br/fJQ9J32QflJ8bPtZOUh5Rrxpfm59qX0Bfki9k3xS+oV7Mfqd+jw6KXsJ+wp7uz0avfM/0X+BP4uB0YCTfuR9av5of1e8fT16v1a/4/91/3E/Ory/vRP+4P+1AnjCDAANwKtAWr6h/n599P6yv3AAsj+vPGc5gHowvTp7u7wz/AI8dHxl/R6+BP+WwAg/mUB+vqF9IPwcetB6hzxN/Md9s37Yfiw95/4PPQo9qD62vym+Jz3W/N392r75/ab/IwFOfxi+Kj70uhw7Gjp5eQb7Y3xPOjI5sD7k/3zA+AM6A1+FJgYKiQ4DbX/VvCi3ojet9yY5nvj9/Ur8hMH9Qt/Ef8Q0v5C/qX7WQL9+r/+x/Co8OrzXvbh/WoBz/X781H2HfIY9on5uf/b/Nn60PXX83fsPeQe39ncW+8MAC4OTRprI4gpeyOOEkT12+sO6cHvc/iy/uv9UP3mAzUFuQF3Av8OZA4tElgGbfmU9m/3Iv7I98/vR/Sl+SP0Ze8X77/zlAG3CXEJyhP9ElsNVxLWFAYVBBC+BRT4Du4x5/noKvEo8434xPxQAKEA6/6JA8gB3fgf+pMAKQN4CasOhwj1AT/+Jf3m+9z8IP8D+k/0jPCe8zvyHPMw8x32XvrP+8X9PP2m/IUAwwMg/5n/y/l1+WP9xf3m/1wDtwOw/94A8Pq99uT5Ivdx9yv60frB+H/54fny9Kb46PYB9Fv4PPh//A4Aaf+6+nb3nPqG/CP/7PaR8f/wHu006ZTo1+087dXuU/GZ9Zz2jPcx93/14/Ws83nyafJD8z7yT/KI8vPxTPKr9Hr0dPa6+E75SPya/LD6Pfr5+IL5HfrE9ePu/ek05rroi+1T77Xv5OuW7nHyJffe9u70zvRq8Cnw2u0R7N3rlOwF77vuGvDL8+v3+/b39Hfxz/B39cj0Z/O49Gj4wvgC+nz2VvPo8ynx8PJK81bz5vEa8fPvIO457xnw/+9z7k/sleZC4zXnfuwH8t71Pvb09DvyTPDx6Yvje+Ja5XDlwug36z/rafBQ+Hz8z/yz/Af9awPcAh4DVv669+b2A/iA9Wbx2ezI5dHiH+Dg5QfuLfML9JnxJ/Lh83jysPIT9Inxbu5M72Lz+PUd+Lj6Tft0+qn6Zv4I/v/6NfkL9hrzmPId8rvuBu3G7IjyI/Zf+ST/Vf4W/db64/md+Vb57vZg84Dy2vOL9if34vge+8r+ovzt/ZD/BPu9+8z8owD8AO74mfFP8qr3Pv1R/1n88voC+Xj5CwD+AAf98/4T/rj5TPiq9uz00vOe9mP3nPtw/nD6ivna+53+q/4TAOMBswPoBDUHeAPNAFkBCvwW+7X6wv32AE0AtADmAUP/5fpf+pX60P3Z/Oj4WvlE9ynxjfIn9yT4fflU/Q0AmgGaAvX80f7mAMr+zgKUAxUEGQcjBmMGUAjLBEkCzf81/DD4Qfef+H79NP/MAKsDGADMASoE5wX9BLgCbP1w+ir7z/7fAnsFXAmXBZH8Z/m99uTzevZj91z7SQRCCiAMLAqRBuEJQQUR/Pf5Kf9vBGkFyQTIAfb6SPa/8Nvwbvma+tkAPwSvB8oGfAfgDFoGZAakAFf8zAD9/Yb8rf0xBSAGPgGw+Bn64P+MAckIiw8dDwEKGA2QEDUUgw+xDPQB+vox+CPyDuvd527xI/jB+/Hzf/Pj+Br0UPbB+hf7iwAtCYgQpw8TGEIcLBp8GXcXIxXtDUAGnwLsAlL7YvNE7nvtZfAn80PxxfNg+Dz7o/gu8372zPg++vz73gJiAD8AoAj6DYgSKg0mBD8B1PvP+aMAlfOA5r7g8ua192n+9fq47u/0UwTHBpEGGQ0YBgL7Ogg/FDwXoBKZDHgT1RupI/UZ4AOs+Nv2lfaT8UntYeT53irh8uco7G3mCuZo7aH0Kfda9q3uq/Ai+0IDiQopBEABagHo/4YF2g2BDp4KqAc3AiMGUwdSBv/9NfPB9TH2yPEq8YLx6fQk9gT8qAblBAsILgF9/ij+APt0AuT+CgHBA0r4I/Lc7Qbuj/HF9Gv7q/hA+XT3sPI++Gv9w/is89rxgO9a67Pwgvia9DD6pQddFRcaGhQ6A/zvtO4X9o72KvRt9875zf7IATsDOfxR+3EGugtxDXoHmwNz+kr5KfWU+qv8Evi0/Yf+DgAK9Qv7p/kd/DH88/Tm9lb19fgL8h/vQvYVBD/+aPy2A1n97vhT+d323/Kx+Z7+8AewCHkFggc7AygKqQsG/RX5hP14/rEDcQqFCSQHhAUf/8Hvs/BMEWETlAdkE1oZHAX/++kEF/qK+6/6puU34gT5QP6MAEEE+vb98lD2rfiZ7WToTuVY7Bb7uwe3GpcdZxx8F2MSNwtzD8ANMQjjBm/7gvyn+nX8jf0lAUACegCnB0IQ8xEBBfD7p/bu883wmPiYAKYBzwmbCwoMNwovBVUEMAmQBgQDBQLP/Xr8+PcL9/b17/eAAh0JLgp8COcCKvt/9zT8AAL//1b5pffm+Jb6b/ybAgUIOQfNDqkS0hBiDb0KJwzsDKAOigg9/U/8cfQ573T19vmq/JP3Jf+4BaQCswCSBEYDhQMyBX0KOwn5CpESRQgcFDwTVg4LEKMOEA05DrwHGfj4+RH3Wfyb/q7/eP1a/qMAIPkl+Lr4SfpH9Rz4GvfO9Xv3E/pfBQEOPRaQDIwGUgK2AGAMwhOUBEf0lvOy8xwBGwppDoEELP/W/jEF0Q50CKwDUAW6DvIPihBoCgIEwgiFDrcIZgAj/vQAmgQkAlj+BfhS+2r78Pek+Er4LvdX9ab6A/kf99YAM/xT/lkGTwk7DycOLQ4vC4QJ7AGB/psAMwHlBPwCSAGi+7D9a/4F+uf5h/1K/awDFQU+AKoCoAHcA4n7ew8QDowPUAuGAK4FhwWmAXPhEvpt9LzwePwLA9wNtAThDrEFiApZCyH8iv6fFIsTsQ7qD+wNjhAfAQwKnQ3LEvIHBvYzADv45wGv/ibpfezw8xXwr+ax5APmTevz+Iv1av+JAwsEZAex/VUMtgRHCpILNfusDvISAhZgGccaYx2UEO4GdQRUCsj9XPew8xHqf/I58BryegAJ/vsAlwEhAkL1l/PW8zbp1vB05u/s1fTE+wb6cf7oCj4dEyrdIAgbvxGVEZsOQRDMGD0gkxLCBkgD+wHUEasAJvDM9378dwAM+m0Ghgw9A8T+yfST9arwE+66/PwBS/ws+rD2WfGU9rb+TP/U/pkDNgdWATr+6AJwBJ4NVRALCtIGngQHAcj/PwfyBmkE2gXqBYH8qwmrDOX6yPjG7LHubvum+B4AygvxAEETQAdZBPAJhwQ+FNb7MkqUe7thylxCKNLmRobqi5Y1BmzZQmBVUhAWhImD9IABgDiNWpLuqxefLCel8POsq9jOzXLwK+hP+rb3rA/+BU40/n/0exd9eXz+f+N/Cn7dfMxrqWHx80vSJkqrJx7/Na0BgJ2IAYAU3LsZmwATCDH+8AXp+lsGoO9ihn8H2tsp92Bn0Cc2aB9MG9LEoBW9Ta8DunTAg90V+wzqzQJX5og/9EitokWWL7A92PG9l/YvZKhVZFrCbOljfFf1/4qWnYXAj8OMk6ftnh/27HekPowbr8kVsvvGre3jDuT5qR67IfAeKBvVDdzp/Q8nN6HcE6O76u1aiG0bHVHkqRacfgl3fXRwVnK9AYDPp6xCbXfbWMVZf0DpP9kKqAIN7wWx3qsWr6PRYvgII37mXINfgKiBgYEPgQGA74JGj3Gbvqolsj/BCshkC7gEVQ6bKKAgjTr0Kxpy/n+PfZ9/xH1icm0lSe7o89vk6KT6wf0Y3ywuPVVQuTqiEdvZV+cL0v66EJk0jY2f1aAXIJ5HiD6HKiYirCmA4d6s4IP8k3uSC7jt6TAr3DxRDXwhV9m92ajwS9fdwbHLjMuLn9K7WcU0rFiyc90S0uzYKAP65L3Upgx7RvBi/mf3P+wcBRBG8Oz8sRMkPZFQ6ELROlU/rkDeIGsUTfeT6Gf73AckAqgBpvBU7THsR/0S/7kITBaZAhsTiCLnIOkUpChfKes2lT+SMXUlghk3FMIPhyNMJ2Uq5xgdHfotySweM9BBjUWZMv0Mqej8863mYNDlvze/s89P3bPwPwPA/7X/dwRN/LIDYgHVAfn5g/1eBIYKghz1JMU3q0a5MfMT9/nv6UP5+hBmJv4ysx7ZFgwS3Pw7/fYErg6fB7gN6RrYL5Au9x9IHogdIScQLgc3ozF5LQgcJA8jENIY4ifKPbk2+Cm2H5QW0yTTIsUVxQdR/vr8VP7X86383gKQBPcHhhndIpAi2ysJJvssgy+XL/MpuCR1KAksuCxFINsfwyzcI9odxRgIGUggMB0TI6kg2CK3IxAkyR1TGMAZbhiLECYHJAXl+qMARxGqGzIVGB2yFY4HuAim+Bn8CwmmB6P/Ofnf+a4BGQb4CyEAPPVZ9Z74NP5a+P/23fsn+lj2pPvLAIn5cvX+Ab8G4Q2rD90YkRo9FCoPhwNiEigPhPos9RXugPHH9VDxCPpUAEIGSQAp/nP7qQOqCT/9zgZ8FNoQhQvHDu4PLxnHDT8UKBWdDJkLdwu3B20GZQuzDI4rfB8/9sn0FQB670fri+nxExY13D9wS/xMeUUpLO8r2/qj7K/9F/qB/1gOGxDsCBQUUhw9MPcgPxMcJYI9X2I7O/hQClzFMuozsSMiKBoX8Ch/HqwmFTB7/SElYhz7EAUyahCXGmMHQQOrILcT1A4Y++8LEBHJEpUJ7v8bFdYaehALC6crBCxwEigE3QCS9bMWyCSLDVAJXwNZAw70rA3lJtggwxDFHcYfxy+iQMYn6CfxEh8O7A1dCJgGy/t47drMzuQq8mIFrQki9treVeKa9abrWROlBTEQtQydCRo0sBZ7DYgQtAEnDoogdjpUOgUu5hl3CYYOSwqx+PzubOnp+40WeQtiCOX5Lw3Z/tkJZjbqNuUvuA2wG9UYbBTbEy0crCoGFqAoEhzjFGcMBgNaFL4AjgahA0H5iQY9BjD5Fvgo9YEBuQ3z/5b8Hvb399QIgQBl/S0RdglLCbsHGAONBa4IBhJSCuwP1A8hD8kOdwlWB7QAQAIi92D7jAZ1CDLylvSP/dn1C/j59DkA2f1mAEUDJgegBAwCpwXbCzIVbAwLBDUG/woQDxkTsA2MBcAJzgwsEn8QEQS4CgQEnwHe/ff9KQgD/p/8oPst9o32o//DAZkEyAYGCBQKpQd4DUALZAsuCFwGBg3f/wv+jwgKCe4LAwroCIMC6vZ8+6YC2QUmAtT9ZgBnBpsG0wuhEHYNfRUwFskbXRxIEvoWLxpaFV0P6Ap3BVkD4vnn+/wFggobD/EEWQUmBRAJdAdvAI3/jwSQDpkIsAXxAJj7cvfj+EL6FQGFBjQEGAkLBdIG8wVKCBUIkQBlBkICCPy+/OD6vvma/Xn9ef3A/dX9RPwB95b38fdUAdsFmwScDY0IBgl3DO8SpQEEBUUEOuto9+DqVe//+zX9c+W45i77x/+PEBkXvRrhGygyRDkjG3MACOwQ3TLk+uhA5/zri/oq+hYFyQ2KAxL7UvWlALgJmBUQC7f4CPai/TD+Ffr1A+UEmAwTFsAH5P8m+h39u/td+zf4ne+l8e3xnfLo6BbqSebJ7eT8EgayE1sgzyCuHmsTsAXLAEP96QI8APwAuP9l+z76XvvqARoIrgbb/xH7vAHCASP/bvuW92n8nQJlBwAAgfLO6ursj+4z9mT+8wQCBxoK4A3ADkkKignLDX0NOA2tCwIITf4i+138xwLr/tb7c/2G9tXzlfF969Tor+179gn97P/k/vr9NgPiAC8A1AOyAc/6CPao9F74EvhF+8X/3P13Ai4FMgR9/gn+nfvo+sD6EPjM/LQA2ALg/3j74PkD+DL1sPFm85P3SPyE/44AEgd0Bvv+pPuw9nryDPC58cP1w/g1/b77X/57+8n5W/+a+MTyWvjh97X2HfmO8NjsMO6V8jv2YvYb9t30gvYC+CH9MAB3+5L0mfKr9Gz3sfqL99f1l/Qr8yD1APYV82TtXu3h7cXv/PJW9Ub0p/PF9Kjy4fKK9fj1GPiC/ZL7yPcy9gf1qPTx88zyF/Gg8eTtxOug8pb4ePiA86vxN/LQ8/fzvvMZ9ZjxtvDu8CrxL/A77QzvyfCY78PtAu9N8CL1L/xV/Tn91Pwl9yjyHu+g6M7iI98w4Hzkt+tK8L7xOfVU+Wn8K/1J/mD+8/1yAQQFpwUqA5z/fvyg9Zzvj+026urpVeqR6wzsUO2b7dXkWeCg25Ldh+bi7trzofP59I74gPxJ/dL7A/wFAXf/if0W+/fzv/RX9xX30vOx8LDtnOou6rnp+vGe+Lr8RgEB/84AkgAB+jP3k/OL73/whfSF+IL9L/5g+dj5avld/dwCSgIA/RP7Nfhn9KPw+fE/8ljzXfyU+lD74vu996n35v2a/hr86vpz9+b4Q/1k/DT6q/cT9n7zLPRc96j5ffyU+3/7//vg/CD9Bf3y/YL/LgAHCMMF3ABt/i/8Jv1l+9z6Z/fP9OLtH/HF+XMAowFI/T7+I/8c96fxxvVM9l73qveC+eX65fjd+Nf6xfsxAW4HRAexCugNJw59EIcK0APdAzH8CfWl8D7ume8m8KbzX/V++qj/l/5mAdgCFABVADcBywEk/7T5jfjf+HD25fku/ksASwMEAJn6Evp5+c315/r1/cAA0P8m/Fv7EPoqA44GlQmBBvT/kf/G+QT2bvZ7+E/4bvbY+J3+VP9I/sL8F/2B/oIC8gSGAWAD5gcxByUEWAVUBMH/A/qK+zz6qvad9f3wp/W3+tD+efzV+1kCgwPcCVELuAirCmkEcwAVA9j/3/Xn7+3u5/Ht94322fp0A6ACegJSA9H+1/ya+z/+8wTcB7YIXQqaCg0Ey/mj7IjkxebA7JTs4e5c9oH7QAGoB0EHOwAH/wz9mv+2/k76Cv6CBCEIeQby/6z0c/NS+UMAgfxV92H4X/gs+9r7b/5OAeUAOf6N+xP6Uvjr+PP6CgN7BTYCuwLqA8QFlAPH/AzzTPM39bT4ZPYz6Tzg6ttH1ynWWuaP6qHmsfDl+eMD9Q8xFQsKA/xd/IkKERDmD4MOOwcLBbgIEQlWAIT+e/5XALr/JfYf8E7xkPBp8OXtIefO5SPovuzW6+fqbunQ7SD8Xgg+C3QE/gM8BE0E2gnUD0IQOBH7CSX4L/Lk81D1oOx56Yzo5uMq4W7fhOIa7wD30Pc3+gr4Ovsr+Vf/zgFp/x7+svoS+4P5ZPq6/psE+QQIAykF6QcXAmUE5QKnBFILxwpiADz3Rfhs8Ivz5ewN4OzYw90J9cQFiBS4EqcFNPVA7cbya/Bz7+bvYO/u8uH8JAJTAZoDsgvDDPEGEwWA+0b2BvzA/RIESf+P+V70bega6krrBfa7/vQCtv+9C2AQthHVCQH+DgJZ+SwC5vJL2Jvbxf/KCOT7uAKwBaL70vpgA1z/1fnp/GL6pvVACJwCA/cU/RL8w/0JDhsWFQfuDTMQyRDUG0gZoxh3CiYAv/2q+9j2JPqc/Fvvl+hk5Ffl9fMN/CEBCweZ/K31du9G8VnwUOWs6sf10/2cCS0QBxDWELoJWwwWEA0RGg/LChYGZ/Vp+dj6D/g397XwQ/XD/vMC2wyoE7kRKApj+bLwLexa9dz8XwMlAM8BnRBFD6MIaQVHCjIM0hKbElENTgnq+z3z3+s68KrvyOtg8wbzW/i3+fv58f6zAUkGJf0Y/L7/S/kt/Of68AOsCCkDkgy4DHUKjQrWB5wLsgp7BgsG/gTLAZP4CPhK9nz03PRR8Z/4PvRb9kH6HfTe/97/xwUUAcEBLgGuAR4PZAiuDYgBdwOzBf0MwwSP91EAE/1m/RIHcQEd+u4CIAYiDvX8OfqV8v7xFvj899H3z+7E9KP8UAjeCDgDufr8AMYIdQicCVAECfZ35r7rwvbc/eD/HPgc+LL0UAMHEmkShRMyD2wUuA8DDiAGrv8y/N3zgf36BI0GQAZ7/pD0GvYQ+FP4Z/fM7bLpXuhi7g34/O9k7h/2z/yU/T37UQJyBzsQqwhuB30L2QMYBgkB1geDCwYJeQey+vX1H/zK9Rb45f/Z+GL6PPcG/r34Kv3p/uX/VQgNCT8UGQey/5L0zu0n7Rvq9Ojl6kvrZ+qV8mL3Lf8EAeAAmwSHDg4NihJrCOYGxBbWDxYfQhltBeoLdxP6Fr4OvwVf+EnlZfoB+8UC2PtT4BjvquB58ifsbuUo7znlIfu8A54Isfvi+4APLxArEm8GXfha+9L2VQYvATP7uwXO9NfpEuS27BT3o/1HAhcGTQ8wGBgduBDCCFMHefm3+//2PvT48x35PfyX9Hrzm+3w+jf0WPd2+XH7NBIrGwkSMg2GEj0GrQBI+8f8vQckErAZChT/D6QWAv6x54ruGfMV/TsFKwYnBp4QBxGjAoH48Osc6CzxLvk1+av7GQEV/8QCVAIp/zH7HvYm99j7Qfp5+vD4s/jX/iP/vgVCCfYFmwPMB2kDs//FAWEAQv2uBBUGvf/O/Sj3w/r3+/b9MP4jAhwC/gGZAF3/cQKgB/0MpAnsBVIIewiABKYJnfqt+lsBIwxaDTUAkABWCpgPlwbtAmsH/unq7vfwyjAseyZgyWVGFeLMAYCL2LtnsFLJRw9NBu4BgPOIAYB9gn6B6JIBpLyu2b61wXDNQtR35H/q9PXyFnhcgEgk67UbEXT+f3x2/n9uWBrSas0G28vgk/bZIdFAAz/+f78+2ZgXq0CnyMzLRVdQcDoZTopOJ081NIrf0/yN1vCCs8U4Ie0+v0p0c6EwQsIPwlzPKct7t3uqxKpMlOjgZtkW7lkDvBWrOrQ87Vri19+fWYqNijmRew8SVfY98hT01szOM7hsuuuAAocBgCu/IgxKD+G+WYk4qNme65OqoHGy5s6eDSAWfRTVEn0TjAJ30POyyq3otf4v/n/ddJ5urXgqes9rOVnAR8QsmhYJKbMhBBjlFdICEPqx8LC68JFviA+jruS3xli5x9/CoAGAH4MBgGmBt4A5gQyCd5QwoUmx38Cyxm7LKtjj5SHuv/yxBpY9fF0MZRB/cn8dfRR//33+f1Vlvix4B0wB6CfPI7FhB2m3UcNTlRpWCrDrJBCyyrWp/71r2iX3QgPtOlYt2CTA9eUgZATLuriblp8rrN6sfg7VI6o0cje+GK/9Bsna3H71Oc6xu2Ow0ptRoSC0L7V517jZL78I3WnkLutG7TYbr0sdUVhnyVPoIeUi9xdhBbkWjEdtehl7C27zUV9HTzJsBU3u6vjGBJkMEgt6Ejz8md9y6uvnlOk875YEMQb2CDQX8yTWNBM4tDkjPMJN6UtSVKxQYD/jNQMsUyegKGseHwYLDoQU/C52Ou9AxD1ALtAF4dyP3J3V3cq/oLyj+cdv11j4NhHYHjgxKDMsI1cb3RKdABL+BQe2BiwACx/oKyM5TVUQQn8UHe8v4q/wYBbQEkkVohfAGdsdMRLkB2QDUyDgJOcloSyEMiErli0ROBs+c1PZXB9RZD21MQIo7yvmI00pHzjWSHc5By+9LBopHS0uGgoUUwohDwwOaQunDJEVfxi8F00mzC4gOfQ/bzkQNAc7oTzBN6IyVymnKIAtzy2zK2I1kjvzJmUlwCqNKdgxLCeRJD8zvjoLO70+dzT6KO8w2C/nL1YyhypOIHQnqDaEOIcuZS4AKyEbUh89Im4b9xTdFkoatw+1DdAOrg/bDYUKLQwtDW0EoP1LCkkJvQbOBSoC/QMECecKFwh/GEIskzTYNV4yWh+hD3ALWg94GBMYIgtu+5HzefgoAfb9V/dP90j4H/3RCH4CDwfpBnQFAA+uFe4T+wxhCaYLzRgrFqkiVBeuIjwhCwlvDeoQQRYPE7Y9ijk1E4YiVgw01lTfReutDFZEtUYkMDE0Nyx+CK0zzg9U7z4FRAMlLM4EGig6NOkgAjkfIRMvDw77J/tPWEbEQFYmPjntOeArqh3aFL8ouxc0I103dCkTGaT11gMWM1ss9ij+KmAaogB+9dj02vPRDhz+svz8B+Ac8i1ZRyhOiENYMLv+uPMO2Hz4jgq98U329P1gAD7wRvvh8G3zxgZHEMIqjz0zSWM2eTlBMHUfBBqhGNgF7v6C41zMEtPdxhvQKtUw6+vydP1c/Ijo7O9b89QAwhMcAnIJOwvRDo8T/gF38eHpZ/dn/4sTQxvaEGUNqQO08Sb1TfkH843whvWF8JD8JP6WAr0Z0xyaH1Qn0yZmE48OAP0T+jn64frlAb8ILRDCAm4NLAcv/8P/1QCmB031FvYh9XnpzO1g5tbo4O1C6JrvXOQP3xzfK+Ih6v3pn/U791Lz9O6K90Pz4QC6AJH8jAmB9JTtXuOC6WzkTd9t65Pmku8g6/DlxeNV6dLsy+al8U/ukOuT5GDm0eTS57HycfD4+NnyfvNO7rfqjO8W7UPuyfH28c/tWvJr8TjwFfe39xv4Nfol8qftQOeq657uFem36vrm2+yK6x/qo+3a56bwMu657z71IO+68q/vUe+B6AfqiPJ+92T1V/i291r2cf7I+ID3vfco+Kn0dPpi86PoIOw09G/7///nCNYD3gIfADsK2wd3+cP6vQFUA6b1b/mY+L78aPyt/dAFDAKlAi8Civ4t+9n3Xvf0+u/3+vle/2oAfPqJ+QT18ferApL+Yf7Y/cL5xfW1+cD74/9FBDQC8P8b/or71/Pp8zX62QKwAe7+7/X+9KH6zv3BAIP63fZL+WT8kwN2BsT8i/4AB2gJTP1mA87x6epb9CruVPs9/WP0Eebs71r4xP7eCTcMAhqXHlcj6iQlD+z4B+bw3ofeqecR5c/kHvT8A40MaQnDAiP22/ltAM3+NAD5/E7zGPnfAZ/4nPS9BVUE4BYgHR7+IelZ3gTileiL7V7p6++79cb62/I34PLgW++C//MShBQzEAoVyB2NHDEXOBTZA1IMdwT+8hXpKOr18nv2I/4P+oz6jv4JApoC6QAr+XzzSvw4AiT7tgCNAdb91wKOBEICpvTa7v/2+vjS9PP1afJa7j/yffVk+h73zO6H8Zv1zf5lBkP/5fqf/aQBPwSoAZj/fv2W/tn9n/xB/nf7Uvqu/dsAzv0p+VD6afpC+ML3A/Vq9UL68Peq8871R/sB//3+8ANHCQYMaATy9i7wxfE09nPzWfTd+Cz5U/es90j7ZvyMAqAFYwPIBDYBmgBx95H0lu+X76PyROoO8jD5zgDh+1P0j/ki/B0BmgHr+8f5MfjL+n73VvHQ7U7uovJc8aryW/Ks8FT1efyc/N33kvfE+Rn6SPkQ+Qv7Svm/+T335fLx8sTxIfE/787uw+598+D3SPeO9y74jvb98/jtwu3Y8pnwifMv+BH6Ufl49NPzlvRm9Cj2IvqN+jX7n/0L/Lb2yvK99Ov1tfF+7ebzo/V88G/uF+qW6Q/r/u1C70LuiO/b78Lz5/bm+HD5LPlj+vX+2AEK/sz9Mv+Y/5/3uuzl5XfgZN5J4NHk0OkH8Pvv6O1M7Rjobege8Fj0ufSC9mL5Qv3G/zD/lPsP9sz0x/nW+yj47PSl7uzqoeod617r4OuB6BfooO1R7jz3b/vX/bwAFfoA97n18vGh7OPsGvA38Fvxp/Py7xXxjvXp+9z97/Zl9vr1kPm49sjxn+8F7OTxqPR09Kzzt/TW8x708vQM9RP4NvbB+SD6L/0R+4vzXPGp8p/5z/qV+sX3pfhU/b3+tP3J+QD5zPts91n0S/L48uD56/o7+dH1APZi+cH8fP3y+2D5hfSB9Wn73P+S++Hxse5U6lPm3uaq7s7yXPBj9nj41PzGADP9T/rp+70BnwnUDkUNdwnzAZD9bPwl+sb8h/0I9+jvyule6x7see1b8HPw4/R6/CsG9gn+CeEKtQvtBj//fvnZ9Qb3yfo1+DP3KPxp+Fv24vjv/Qb9Evl++6b71/4/AFsCXwHk+qL48v3QAqz9avqU9GLsVPCe8azwJ/a/86r3pwKUAvD/af6n/wEGAAirCCAFo/2p+iX13/tMA8ED1wIl/9/+UAAgCPACdvwR+kn0ifTP9Tz3BPgF+kD7mwGIBdgITQQA/TL/IwRrCYwFUAAQ/6gEwgIEBs0Dov2j/3P5b/TZ63Dqw/BF80r3ofk5BQ0P7Ab7A8f+bvuF++QAmAFj/9wAEgEyCo4T2RZMEuoHBwGPBIkF5v+x+d37mvWR8kbzOffj+zj6wPzJ+Pb7jvlx/GkEVgS8/8X7+fp/+qD7SAAYA3b90ftq+Zn3fPHG6VHamNZD4QbpMf/w/Qv7NQhJCR0N2xPrGM4SVQs1D0ETTxWlF1kR9gbbCKcQ7QZw+FrueOwJ8if3GPJN6Wnoq95n3kTmOexL8tb6e/4g+0z9H/iB83L9awDY9n3wSvIr9Zz1r/4cC4gN6g8nD30IuwgJCsAFuvky9Cj34/Yj/N/7w/bc+Mn0u/at+lP6nfm/8fDz4/DW7Kzwn/KK9ez1iPQL9M3zi/ev/GT7Yvuc+UvzqfZJ/6j9rPon+vj6//g09f7wUen06+7yhPq9DAwZTRmWDj8CYPVo7rvyhvcg/A4AHACW/SP+M/2v9+7uR/O9+ogFmgPu9RjzDvdY/LL23fFn8NDzB/bO9h78PwNPA2L8QfSE9NP5ifoJ+BP1GfJf9+/8lPpE/2IAFP6g9dH5YfgN97oAwAJW/Pbjk+EEBpoRt/82B10BRPHW92AEeAJ3C8sQKvUC79v/jgOb/6kFUgaf/CoLXxUdBe0IwAt8AK33EvFQ7/7u/PnZ/UT89wAC9FbkdeBL3cXc9tuy37nrnPdaDbcb0yYjKFEXDhWPDmQQOxRJE2YNZP/e+431j/HW82/5t/0R/YX+6gX+A4kDgvrk8E3xR+wh7xP1tfyQAnMS5hnOCTj+IvyC/aYE5QomBpEDZ/9A8lTur/aw+6r6K/1s/3cA7Ak6EDAKFvyC9PTxf+s07SzzP/V69d73mAAm/h/8hwaRCCIPExZTHB0YXhLJEScKeQiW+KDvAPEF7/bqQepT8Dn02/uC+0j+7ALFA24DbAexDVEKygZQCQwKgwvUCIQC/Am0E+sMLf7Y9cf+I/7R/AH/kfXk+tz8TQKr/Xz93PbE4BnhNveN+JHtkfCd81UA7glQFZAK9wlgCMoJ6A+lCXwDo/JR9VvtVPm/CXgIAQOQBIQF+QdBEi8RphSqCOYMLwnRCL4H5wdhB7HuWPI88QP0jfgNAB0G1Pk79wP5Nve86wXq4+oq8//1kvMtAT77KQHGAjUDhgxFCi4QThXtHlMQOQipACP9ZAgiAwwG1gbxAlPz6fa++oP1T/an9yP7aPyYBMECkQOZ/0z/6gHs/3wDSAs6C+0MnQM/75Pqdufh5y/0Evj79WIF1gY+AdcEYRHmDQoYYRCGB9wLsg6qESMIKRAn8xHxyfJfBKoN0glAIboJ2vg5CoMCX/c9/Ar2UPQ99NT4YeZT5nz2pv6ZBT73Pfni9W3xA/wA+1oGPAXyB6QQpgsKGMkbggpXARsQLQxz/ob56vTf+gcABwMD+vn4PQKKBmT+Ofl2A4HvN+i5/Sf65vNL83j2y+Zv3vLuGfXC/eIWrC2LIYQZHxdAF7gWIRGcEnQRLQjYDlMMhQTDB+UGnvtV5vHrUuy39TIDmgCl/c4DxAYdA/4Bx/q/+7D8Hfbp8MXzyvn+/a4BKQawAdf6aQEWBjwECgdm/BD1QfiW+aQD/ASnAZEEahRsDUoEgAblAzIJiP0Q/okBmfp1/Of7MPIF9D/7zwNoCLwBcwOtDQUO1QZlBn//4vPg/3kIdwC8AIsFaQYRCKgNCAc5DSICw/+o+qD7Kf/r+jkAI/ndEKUjGiAbEn0Cav+f/8X7Hvj7CmNKAT9jQkY66jW/LNssBgHuz1mfvJ/RJZD2CxckuqilWJU+hSJIYWXHThldegcBgLiJAYAljLmZF7F8wMfEC82m1nXtN/0sJRM4dEF5J7Q7FDMsU/5/yHfxc/5/AXj+f3VoKyru/4JUZkQJDLN+dvUamkrJASG+RaHu0ged0QGAV410iSCmIaIR4wUpGdIS2I4mRk7+fytlruGZ5SjPRvynxTT7/n+rbQ1/62olad80TC/O6YDA589ax5DUgcT17kVL7i2j9msmYO0Q3fD4ogZRQjoIZalRgMyHIJXEg8WrH/GR925U5gWTi/oS5TfNOSXpf4ZskC6X7bue6Lz45hnkA8TZucPhzMHaN71V2cPZvQYVVLBTRCj8B6T9Ox5jXgdW103hRTFdsGTzIcs8Am3ad5ETqcFtsBfKXEifZpJ153qocyhnJkPVMB8lYsz/lfOjCYkBgNay6b3C0xky1gVz+bHnBcv/3rUgEBOu6nf32RctSxcY6y14Hprzjsr4rMa6jM7s5AbDfOlxK+s/akT5QSv5rpwhqTTFcNqFEOn7L/+/GT4hsRhqEE8BLKXoi/SSOa40qUCYvZ2jm9Oaj56bl/6iSQw8PmwF7s2v25XeIQDJHmkC9yL/Ni40pTLVM5wmUxRkB3ISdiZMIwM0yx/tF5Qd6R0LK6gy6Co3NkEzXhZ9CgYPEiJvF7IZyhQlCWsG6AgWD2gMyhU+EhMTFRQAEsMJl/c18sr+vhT4D8wS+/wzAAULrgOTEF0JVBffIVIeYAoA+ar6S/sz7hrwl/Z7AG0UpB7/H4UjUCjrG5gkZSCjGuEcpBPGD9YHhwHn/80PiCZHKsQTrvw972nqEO0a+qYHWPekA4wD9/6HFQ4JZxEtGrIa+RjaFjYPWQi5EiAUtBtlFcoSnBB0FNsUmhCNFgMbZRgYE9oRrAxpD0oIRRZGHjQCT/RM9JDum/Ur+U30Lf50ClsQKBNSDZEDjAYvCP8JuRFvEYYS2RgyD84LPRJ3EHQT0RQNDU4DyfmU/5wHmwleD3sR3QfYASAFBAIREcgRNfeR7EnzjfvA+eEAvgd6AdcGLAxtBUj6uPE55QjlgfSc+gT+TAFaBpYFgf6u+N/4JwKJCZwI1P+lAfkDKwJpACz/zwW2BIUEDf5v+TT8mgWuDIMWSBVrClEGOf/BCfQHjQLRANYCPgcO+3j4Tv5G/B/4Eev06GfrauJu6nLp2O1h6qjgrOKZ68r9iv66BkkDfPm391H2xv2QBLkCigUzB/kgiwnP6Rb0HtV8u0/KiPcx8X7pIAgDGVQXTQbtCqYehvcC8Fz/5gijGxYXByAKFnAbNg3h/CkEcf3HD8kKkwmsDZzttPk85fbytxgHAJsBy9/u6CwLFzAYKm/nIwJe4n7qQurV1UsGzO2rC1gOav7+9gbvn/1H5WT4vv371jIB2Pt1D+Abpe08+h30yP6MAzMYRPt46OXxKPHl/Ur+dxQQGIkLyQBC+QIGKPZw6AnpoO5k7qP1jgiF9fr/0Q5f+N7zwRLC/4L3BgXP5kvht/cy7GzyEvZr2ojdZ87T6O3/nfm5GYMiryonFx8RfwON/m79k/FbFf3wVO52/bQIcRsjH4AU9viKFEwaNxuADzn+jxFFDCMTRwxaA9wPwxIJDzIL/xDc9nv3WvPb6TL2FvvmBUgO3QFC+bz0nfLB/UX+wQNz+P/vafSB9EHx+/c7/LUAewhp/H75zfv3CBwO6ARsAWbxxu8e8lz5Pvdo9P32GfdW/DoAtf+d+pj9cf4+A5v8ifZm9Jv7tf9n/FMB+AI+/gX7I/pM+YP0rv8oBmD5v/vl8974vgDyAekFYwH0AIMAxQVKBcz66fYE9Ln1jPX69Av1mfVi/ND2Ff0t//oALwmjA0kBdgLsAc0AzwOUA8QGzwLs/f75hvm4/JL/GQDK9hf85/gL+Bn/wvno+mL7rvmm+4//fQPpCowNpwliBE3/jPyA/kP+OAJtBX8DGwV6B7MIUvxL/Tn9e/1N+UX1APs3+VwDQALBBbEFZ/j09TT1oPU1+5cDdgT5/wP5f/RU+df/3AKwB8wDDgRZBLgA8ADLAtwEvwB8/yz58vv6/NL8/wDIADQAfP+b/M/5xfdd+0IBVP7h/5X9y/i4+RcBlAeBCoQJhghXBGEECAkHA50D/gGxAMwCYwMe/2H3F/mM+Gj4ivb+8xb0V/FA+FL/HgC7BPgEDwNpAz0Bz/2V/9X+Hf2i/jkCogenB+wHjwTSAKL/BwEEBI0DRgMWAYoEtgLpAVYF+gD9A+oBRAC//r/6d/wX/E3+efxA/eEAUwTFB1sC9v1T/j7/5/1T/iX9gvpWACME9AIRARj/Vv64/Un/dQFWAq8C8QF6AbgAVATpBeoAyAC7/o3/egKNBHABIf1O/G374P9h/kz+uf6fAq0GUgaDBZgDFAP3/mr8yPiy9gr49vxPAS4D2QVuB00GwAIKAMz/mgKEBGcFLgOG/1X8Uvob+wv8hvqB+Qb6D/oV/QH+Iv40/Sn71vwP/sgADwE8ATUC8AEyA2MAI/8AADb91vu2+8H9zgFFBDcDPQCy/hv/vf2G+u70fu2a6p/oLuqw66ju2fH+9cr9awKWAjoFOQZBABv+v/np+Cn8YAIyBHwAUf/f/vr7VfdO9fD0wvcy+hj6Evbv82rxUvRW9gH0svbp+Uj6Qfmt+tn6Ev0f/qT6OPly+Vr6gvvV+lD72/qu97X35fZr9Oz2GvTo8Pn0FPne+6H+sf9V+kf4+/ln+w39V/u1+gr6yvn5+ez4M/Vw87D0pvJ68RDy7PMN9rj2f/YL9hr31vvh+un4HfrU+bv7F/o+85/vYPGw80H4vvXd8771bvVe+Pj1a/dK+KT2Z/ju+EL5D/oz+6L6v/oR9mv0evZu9U71yvXB9AnzTvMb8dvvZ/Bk8GfyQva/+Lf4hPjD90P0GvP99A32X/dB+Az5N/j3+HD63Pn8+pD7f/p6+c73k/gs+Uz4QPrQ+Tr2J/Tr9L71wfFG7t3utfCG8VTxZfXl9qT35vpS/GH9RQDdAJkAHwExALQBz//T/kr7avwU/8f7L/qp9iHzDvNE9Mr27fYC9TP0ZfTi96T3JPlS+Vz6KP74AEoEsgNgBLoEXAPhAwsC0P7p+gf5JfnM+eT6Vfln+D/1g/RQ9jb5lP8iAlP/if0f/Zn/RAKLAjUAVfz4+1T6WfxP/ZQA6QElACT/ZPuv+3f71fyv+zj81v4XAGn92fxL/n7/8f/N+qn88vl79gL5rfmG//EFMwL+AOICqQHHAtwBy/2U+wH9jACWBPkBigB6/939cf2j/G/9nP2l/UP8x/xp/U39i/2e+737Y/xW+vj3A/sSAzcE2Qc/BoT/tf+K/LT7PgA6/jD7q/2SAAAAx/5E/2j77Ppk/S8APALqAj8C6QVqCfwKBgyZBRQFnAVtAT8AuPki94z4ePc0+gAAEgMy/6X9ZPt4+4H69fhy95T06vn9/Q/9q/4YBWoJswilAwkEZQXQBucG5AAw/oj+RgEEAXUBTAIK/wz6g/Ry9eL3yPfS+qX8av+M/aL/AQX8CPYO1Ax7CNUFwQlWB/X9c/hA8TntMOpi7iHzjO447b/xk/by/TkGVwGI+1wBpwkxC0oIHAZVBtQG8AR6BdoCgf+H/K/5f/fD9gL4ZvVD84Lxpu+R7mXvGvQ094P07/Ih8jz6bwftC8oHxgJtB5EFSQOGBCwALwK8BIYGRgbYAdL8af7TAPD2G/Sy8Gnt8fAM8ovyXO9S8df2YPlx+ab8Uf8GAb4BNwFe/xj8awBKAR/8Yvlw+fD5s/k4+8n3kffE9mj2lPpm+9UMuxCR+e/ieOEw9kEFnvwr7+39PAtrBeUAR/vH/hj/9//b92vypAFC/5P9JP1U97LzpvRj9S3zBviY/av+vv7D+7z8i/lp+ND6Efo1/YH84ftE/0oDf/4J/GT7mfxuAD4Eo/++9f70UvK+8kXyNPTd9n739vlO9gD60/t7/Cf5/PTu/TL/HAGbAh3/if7yAJQFtAKB/nT/bQDIAlQEzQPWAmoD2wFpAQT/Nvr6/Nb+gfyM+bv4P/OJ9OT2E/Vn9s707vak/q4GJwcJBWv7SvCF87707+2E69ruTfjbAIcG0gx2DPoILAgUC2UPmBFWFOIQawfF/gP4+fPH8bXxyfOS9Qv6+f2K/t8A+wEyAc8AtAVBCAILqg+JDCkHWwPQA3oE0gNyBKkC+v98/+n+J/xb9kPvh+yV7s/wffNK9uj4UPhz+wUC/AT/BhEGDAhCCgAKBwckBIUDEAORAKUBhQNJAB4CtAOtApIBwf+l+8b6Lf+9/Jv58vqi/aYBHP+z/w0EgQNmAdQBawRRB6UKeQgYAwUBcgMiBSkFagRLBc0EigNqAbb/QgCG+2n5lfd69Xj4Xfve/kIBvwJdA3oDwQLp/ZT7q/tf/p0AEwKEBjsDcv4Q/BT/vAZNBoQHtQcRB+8Fmf9z/X76iP7AAgkD1QTTAZgBvgMeBfQFcwX2BHcHggYjA6UBbgBu/2oAYf2E+Nv5UPi39N7zkfRr9m/5cvjR+tb7JPtt/yQCaQP3BO0LVQ7fD7ENnAzfCEQFsALq+Qz4SftVAGL8ffop/AAAvwBhAdf+D/1KB/kJSwREAvz+VACoAjT8X/xR+b731wJXAvf8AQVZDQMCy/i4AST/lPd99eL2deuC93cCivoBALP7of3LANMKewq4CnsLLQbGENoRJA9fBQX67Pm6/vP9XfxZ/uUCegLq9/f+3P6t/F774vnl+W/zMPe896n2kfGt+v77Sfnz/An/iAIYAdUG1Qt5EYgMjwc/BIcEOwYl+hn5zPZh+f77VfdU+oP30//L/z/+FALOBxAKmgPTCI0Jigfx/2L9W/1s9lDuROlK7V/znPzi/WsBKwS4BhIOFgwJCw8L3gb9B+EK1QzSEkQPKgyS/MP5YgOX9GDhGOf9AyP8g/t6B97xBwDrD8wEdP9YBVX7LPJy+NzuHAZF+unwo/p7/coJzwriD1wHSv5u+RcFFv319tv4EQO0BLD6bAhfA64DbQfnA3IC9fXE/UX+lQPkC3MArwPk/94J3wrc+CL1MPzdAVUCUAGXCxAH5vqfA+f5Tu+T9VgCEvsU/4oH3gByBeD9uwQ6CC8HJQ5ZAzsA7QIcB3kBwvuQ9SP15Pqi9wP89/hj+5X+Z/+BAaQJ5AzQDiIQJgwaC/EIvAnzBcEDsAFeADf+lwGl+1b5tfoA9uH4lvicAKYCkAb3BP3+D/97AVYGRP+tAxsLgA/4E4kNKAjnCiAHPAE9+jj9jv5Q92H32vW6/FMGIQolA77/E/6r/wYIhQrzB3oHtwpJB5IGfQOJACb+1wCVAN/8jwCVAosDLwTAADH8oQBvAlIFwwRCBjUFewb8CMEEdwsWBWQBcAP2AoIACvm8/0oAPf0z+U78+QIAALYC0gC+AjIC6wNnCoIHaAScBOMCsQQNB6YBUP+nBNsDH//9/VH9cPwN+vT9jv1n/t0BOwJf/xkDJwlFCBkMvQluCZsIvwNsBJ0ICwo/Cf4HuwRcAtf/EP2m/W79f/w0AWIAPwECA1oBawI0Av8E8QYoCYEGhAJtAvYASAbgB/wFfACy+J32OPhnAH7/kfqi+cz2l/k6+2v+4QO7C3wQSBA3DeAK2w2YCtQHAQMAANkFuAZCAuH73vTY9gr42vg5+lL5e/ydAD8HAAsSCK0EGgSwBcsFowUnB84FwgUoBAcBlAFZAvMF6AVmBPEFOwOt/rD7QfxU/Xb+Bf9q/vf/SwNsBDoCGv80/k8AnAFcAVkA6vwH+yf+lwISAn0AJwIWA9AGLgmLCEkFHALq/yH+Y/4//iT/MgErBD8DKgJiAVz/dgD0AfQCVwMOBAQFfAWhBhIH2gdaBy0EGQH0/OT65PxV/poB4wPqAbH95vyMAjkIvwpOCBkD6f8BAKz/3P5z/kj9C/og+Zz89P5U/zoBhgJ8A94Fpge3BocAu/4T/yb+8/zX/Lz/QQMECRELighiBKQEwgc5CUAIIwbbA3UBCwKkAfgBmwAYAm8F9AKOADX+Iv2t+yv8g/1c/aD9ef/NAaUCcAReA2sF1AS6AZQCoALUA88FkAUSA2gCGwIgAzcG/QQsAsECrwJvAkUCxANCA1kCgwO2AdgBFwSyBRgFqAIV/6z5b/b69z/4mvdx+kf90v/nAsIFzAWZBJYFhAYgCHYJgQqoC6sK5ghqB0IGOQedCH8IwQoiCz4HxAH4/Dr7+Pe59V/5w/33/rL+RP/h/pMA8QVKB1EHxAXOBDEIXwiEBl0F3QI5/9D88v0EAMr/jADKAjgD4gGxAKsAwAHNAwQH0grTC14JKQWSA/sBRABQ/3X9H/+Y/2gALQAW//b/WQOGBdYHEgoKCWcJawY9A1b+qftV/bb/qALVBM8ERwOmAsAC6AIhBHYFNwSvBdgDSAOiA64AGgHQAosDHAVUBPsBXAXWAwEB4QOTBAUEFwUrBhgHlAU7ACn9Nvq++DL9LAHrBokOpw6hCQIGwgWEBpkFbgbNA67+YfqA9qX53v9LAT0ApP5G/Wj/KgJlBCMFsQPmAVgBeQLkBgYKNAvzC8wJqAeWBDEDtQNoBNIDdgP+A1ACJAKyAZwASgAP/pP8B/z2/YUBgANOBJkDdgDo/xUElgYaBnUD/gAd/1b/IQF6AiACwgGOARcBtwC2ALIBYwD0/rH90v8RA+YENQc1CHQIyQb0BLMDdv9h/N/8Vv90AMcATQNSBO8FoQfdCRsLXAoqCVwGegJlAHwAigCqAkwFwAU6BH0B+f4Z/u/9//66ADsBKABb/+P/1QHVBD0GhAZVBkcFjwSIAxIE1gSaA0EDlwPrAzYEHQWLBMQESQSmBJEGFASoAe3+uftD+t/8Zf8JAB//3f0W/6X/XAGxAo4ENgVGBvsHxQXCAen/ogK/BJQFVQcOCVUJ4wcuBqwDIwAj/tz9h/0L/k7+of1z/+QAoABBA2oFSAWdBeMFdQX6BMkEHgRRAtP+g/2S/loAawLoA4YDowBRARoD2gKAA30EKAPzANAB/QEKAoMDZwMdBPwCxAAfAJL+V/6aAIgC5AKwA3UF3QYEB10G6gN9AKD+Sv+IAIYA8AEDBIQEhAM0Aj0B6gH4BD0INAodCZ4HRQWmAgMBVf8U/vn8z/tj/J3+uP0S/98B9AMNBmsGjQVjBBkGaQfdBsUFpQO6AjgCiAFdAbYA7AA1Ag4CfAEWAbv+7/1p/3sBDgNUBG4EEwMDAwQEmQTzA6AD4QOzBJAEuwOZAxUD2gKAA14EWgbdB1kGkgKt/M75DPzI/tIC1gaRB2QGRQSHAXMAMgHjAisEqwQSBM4DKgRpBPoEfwPYAsQCowFTANT/m/9/AMsBkgHcALz/eAI7BioJTwrGB6MEpQCY/0T/Cv6YANwCSAISAbP/K/+1AHgFSgi7Bb8Ad/3K/dv9FP+mAdEDrgPxAYQDugK2AlIF5wScA3oAvAD3Ag0Egge2C8cKYwnTBqYCkACy/6IDegQKAxkB2vwT+sz7kQBFBeMHZQXAApkDXQUCCfAJZwmVCrgKvgo4CFcDRv5c+7/7f/wX/Kv6Ffhy+HD8OgFRBdEF1gMgAuMBQQKdAQkB2wGIAloCmgTcBFEE6gXhBSMGPAYGBdMDvgKzA6IHrQjSBxwFXgIAAQcBiwGUAAEAef58/YL9Xf8sAnQFLQc+CCUGgQKyAecAeP8+/H/6efs2/rwBrQRsBZoF1QXKB7wLegvYBbr+ffqZ+Qj8av9GAZsANwCfAnkGSQqHDFgNPQ1RDHEIawXUAsEARgAu/yr/sP9kAK7/Gv1o/OP+fQI+BhwK4AthCq4H1gawBdUA1fwY+1b7GP0A/3D/7f18/K78df7A/4MCVgaJBvcEoQRoA0EETAioCAwGkQQQBMwCGwHkAWICtQEJAsID1ANkAgkDWAIKAZoBPgK0A7UFhwiCCiILJgkHBQsCeQBB/dn1l/Hh8KfyPvcj+57+yAI2BnUKKg30CXAJ+QvLC9YMiw5KDb4L6QwDDTkJdgND/dL6evo6+o37GfnS9Yr2f/gl/OP/pAMoB8gEogKYBPUFeQY8BskGXAjuCCMJJglFBkwDEQErAFz/av4l/WL7yvzW+/L77P0uAc4GAgqFCtoGqgR+BV8FiwTeA30D/AOUBWQFRAP1/wv/0f8p/4H//P+3/t39Rv4R/gb+Dv/RALMBZgMuBvAIFwmsBu0FyASiA6IElgWYBAoDcwCE/rb+2f+zAdcDBgSQBCAGGgdPCK0GhARYAWD+7f2d/gj+ofx//Wn/YQF9/x39xv7rARIJdA3ZDioPyQwVCQwCJ/9f/zwBkP/y/Lf7gPu9/Tn/cQDv/gYBAQU4B1QIwQdRByAGkQV9BT8F+AVbBqIGxwQ+Al8BugEKAaP+ov7s/2MBZwTpBrgGGwWZBJgEsgMTBJgCSwCo/k3+CwCIBDoGif8e/i/+OfzD/M393f8x/6X/ygBpAaoF2QetCB8JdQdiBgkFVghPC8ULbAljAdL8wfr5+Sf7gvoZ/LT+Tf0z/Sn+9P/RAY8DrQRfBE4EAwgtCsIK9w4sDlMMzgjdBnUGLwPq/7T9p/w9/m7+//wk/8P/OwGSAhgCpQHz/yb/eQItBrMGggVXA8r/7/7c/E75EvybAXgGAAYLAgMAk/49AQ8DTQGQA5cGVAfmBn4GlglzCT4EKQFY/3b/0ACVAV4E1QR6BNEEvv7a//EDKAJuAST6ufSH+Rf9h/5UAGkC3AKMBUoFwwWZB1QG+wVEBugJtQsjDZQIvAL8ATQA5vyN9+P1a/pH+Ar2S/bO+IgBawfPBSIF4geNBzkJ+Qf/BFcGyQhMC5EKKwoDCn0JUwVVAHz93Pnk+GH2YPiU/TL+x/2r/pf9YP2s+wD9pAGwAz8HegZFB+II+Ad1CoMM2w+0CWUDo//r/pIAa/R27VrrbO1/9Fn+QgFN+Tf+WAbiB6EN7RBuCy4KShEUFucUHRTGE+UMywflB9MHjATu/ND4p/gZ+qX66/lZAJ3+8/fz9/v01POP9an3Lflz8x3wV/rtA8UKyQzqBbQD2gDkAaIIGQsgDsYMXwugCoQGzAVTB0IELQFo/4j83voaAOoD/wN4BKAE3gVzA87+Vv7hA0kEYgDr/OX7fP9iBJEFCgW0BFIDVQOCBY0EhgKBAGP9QP02/TP8ogB6BXEE7wKT/pL8WPrD+pP7HQI2CGkOvBVACrj4TuTa66QC9w4vCJD9uQvJDHEEbgFxANUCmgjlBSf13/fhAM0BbAJ7/4MA0wMgBVgDvAW6CSkKAAjuA8ACDwaQBZIGtQdvA0wAev1H+tv5e/rA+kr9cP+4AHr/l/1G/ID9y/7YAXcE8v9GAJkCNQGvAv8FjQaIA68CJASDBncJ/AnNB1IF4gRlBNQFMAY/BQACEP/T/vP/hwE/AYQE4AAX+bP17/aY/fEFLQpoCBQGWf3F8mPy4/G0737x5/TE/H8D2QcbDVYPRg7jCyAL4QsID/sQDA08CRQCn/mp9I/xN/LF9jr+kwFoABoACQIdBTcFzgQlByUJdgxPEXkQCAymCTEJRwlMB7sGXwYwBcIDDgBv/F74vPMz8r3xg/Fi9gr4JPeb9Vn1s/pgAPcDowLKAM4CHgexCLsGlAZPCbQKRAuHBz8AOgLTBWgEIwTeAff/J/73/fb8KvtA+v78JALJAasEmQVmBL0BMQGSBGEEcQU5Bp8FsAZ2BhsFoAXsBmkF6QTQBIkCVgGf/x//9Pzn+sX5Rfzh//YAHwPnA44DMQJ5AMX8J/k8+Dr54fpI/lYCQgMzAogBlgNzBQMGXAiJCcsIIwfaAzz/Cv6DAOkCUAVhBBoCAAJLAwEHuglOBkYEXwR7AdMBvgLEAY4BVAGZADT+efw4+2b5/PiI+XX6DPkG+Tr78/yH/84A1AGUA+kHbwiQCC0KVAnVCKUG/gNvALH8DfuJ/D/87/qD+dj9NANNBa0GGgTTBYAJnwx+DB4KpwZtAcMAw//B/Tf/7P+8AqYFJgWfBQUDjv05/DL9QPs++Hv30vPB8mz6YwDoAwcFlQLD/oX+4QS4CjAOVBKWEZgPzQq2BvAFhgMgAvf9xP4JAZ8EcgbdAzYBe/w1+zj+Ef9Y/df5+PYq9YD2fvc99cv7EAAvAEMBwQRpA8AD+QihBRcGcghyCagJNwk1BxUBlfvJ+Kj5r/3JAfMByQDjAZwD1gKAA34EgAZEC2wNpw0+CswEZQIU/nj20u/m6SXpo+5W9Kf8fAgUC5wK4Q2yC7IIGwffBTcGnQoSDt0L/AWzBTsDjQTkCSH/YfoD/FIDrAa8BJYF9AFqAI7/n/5R/lP8ZvdV8hDxkfQX99b4UvzdAroIzA57DNkFWwKgAlAHpQWqAdX+bgCoA6IC9/41/Qf87P3N/i4APgOYArwE5gaxB/0HWAq3B7ADlQVXBDEDqwT9BGYEIQJ8/839P/qJ+pL/Qf84+lr3hPUm+bP/ygKvAsUBmwFPAZUDXQevCh8JZAhLBUgCwf9B+Jr0qvnvASoEJAcAB8UGDAhXBcAFYAVLA9AEJAUKBKwDCQJkAFf9mfsy+eb24vhP+0r97f8S/+v+YP/CAKMFvAWsCJoLzwa/AksBbP7U/8oEdQRkBfYGYAQRBSYFQgHS/bD7hvkr9wT3JPkv/hoBbgKPBFAFEgcUBq8DlwQdB4AJOgi3A1UA4P2U/Qb9Mf5f/638SPwX/QL+bP74/xUAHQEHA5IDxQUUCO4F+gNJBQ0FEgV0AhACXAIXApAC0wGUAeMBgwDK/cP7APw8/gD9OfoR+fH6k/sZ+6H/IgT4BWUIzgnMB7QG0AUOBKgFfgIJAEMAA/6k/Kf7sfoj+978o/47/+z+jQHWAmADawTuBPQDzAMyBdUGPAfuCBIJRQfSBb4AeAHWATIAMP74+zr9ywB8A5wB5v9n/rn+1fwD+jn6V/uO/2ECOgRMCeQH3ATCASD9xgBUA6gCjfwo9ory8fB99cT36/xzBJUKuw6JD/INaQ18DbwIPgOFAPn/kQMYBbUC8f9p/E3+yv7a/lP9nvq0+zb+ZQKTAK//KgEOABwAbv+RAfUDLARUAz4As/8PASsCWgMqAn4BlgP3A7oCAwL3AnUCKQHlAPv/gP48/y8B1//P/RT7m/pu/a39Yv3u+zb8j/7MAPH/N/4dAW0EIQcgB6wFtQMYA6ED9gM1AvsA+wCFAqMFXwfzCZsGjgDO/FP7qfmY+Kf8HAAHAk0D6gJuAaMA8P6H/Uv7tPr//CwAVgNaBHkDRwGUBf0KQw5IDuIIEwWpACX8ofqt+/H9KPxI+Q751vtc/Yf8O/8MAcgBowTFBTwDoABjAE7/6f7S/WX9Tv94/0kA9gA1Aj0CzgTZBqsF1AUDB5cHWweXBvwFJwc1BUYFSQTJAo8CGQCG/Hj5mvjh9Rn2KvYA9eX4E/zc/W7+Z/91/zP+0QA0A5oE1QaQBroEUgX6A58CuwM+BHcCewBQAdAACgDlAF0ABgDSAQgC+QI3BY0FcgMRAGT8APgY9sD2sfjb+hL8Zv4nAYgB1ACc/j//xQGdA90G/AZ/B24IYAdbB+sGOwbVBBkDIwTyBs8InQboAXL9Y/pm+Kb2Ofcc+Yz7bfxB/d/9g/9ZABv/rwGvA2AG7wlkCwsJgQWPAi4B7QGgAHgA2/4L/IP7PvxC+/X5GvrB/DMB/gEKBCMFNAWsBLkBo/+r/2wAcgBkASACzAN3BQsE2//i/BL9OACuAGr+ofz1+j/7uPz+/Kv/kgRKB3AIuAWqATkAEP7Q+8T+WADg/70BnwEJANv/ef6x/isC8QI9BZUFwARTBYEC5AIMBVcDywD4AaIBQwDt/339xvxX/HD76voi/M//GQKoAtEBggLBAmACfQLKAeIAOQD6/r39RQCQAUQBlwCN/5T+m/01/sH9ZfxW/en+fQLwBJgEOQXSBRwFBgMFAmMBKQDW/tP+i/4U/9L/QAHCAtsDLgUUA5YAIf66+6D7OP7t/yoBWgH6/jf+u/7c/lD+9P3j/Gf9ewBmAT0CsANzA5ED4AOPArgBFQMoA78ANP+//m7/r/84AP0B5QGZAaz/pPyT+bX5TP5CApQBQQBkAnoEogUKBMoCpwE4/uj7SvsT/df/9gDqAkMHUgqtCJ0FsgKJACn+pPpT+PH1rfa++AT8f/86AeMCVgNLBVwEtQOFBFwDkwJyASUBLwMLBsMGGQUvA+7/pPxQ/QD+1/7v/VH8hP2v/vL90v6jAL8AuwEYArcCMQLXAR0DzQLJADAAZwH6AFn+0fxn/fz9//0V/9UBagQ6BTYF9AMcAQ8ABf+X/FL7n/wU/hz/z/5O/dT94/xF/CX9Rv4QAHcB9wGwAo4DBwNZA5QEdgW8BZkFFgM+/hr9df57/kj/oP30+lf7+/1l/5kA2gLvAmcCSgENAlkCagDi/84ADgISA4gErQMZAYYA5AB0/zP+IP42/nT+rf0b/rsAlwJ3A3cC/f70/B3+kgCKATsBywBBANL/NP8c/tz9Sv4W/of+0gBoAmsDgQMbAsoB3QGiAIX/PAAn//X+cv52/UH+bQChAvoCvgI2Ap0CKQKCAWMANP5A/TL+h/7N/4oAjQAaAbgA7AESAfX/Pf9//hP/x/3i/A793P0P//T/bwDEASECrgE4A0IDWANkBB0EBgO5AhIDMwIoA00DygCX+8b1LfRK9g/6wv9FBCIF0wWXBGIDpwKVAiYCjAAZABAAOgHsACYAfgCiAJ8A+P/q/lD9Gv23/AL9Df6M/5ABHQIxAy4EAgSXAXgBTQMoA0L/xfo6+6D8af0NAA8CSQLPAOj+tf4h/Vr9zf68/6j9sPx5/7IAJAO0BxMKawkoBtoABP7D+hv7BP4q/i3+R/10+zr7VP4NAqoD1APkAkQCogMUCWENvAutBqYBbQBxAG0At/4z+0P5xfom/e/8p/tv++f5Y/qO/XX9xPvi+Zj4bfh9+rz+tgH3A2IFzgR1BLQCDAOlBI8DwALXAoIDGgR1AooB+gMgBckEPwM6AiQBiADn/kn9F/7o/uH/IQDg/0gA3AKmA4oDCAHs/LT7N/ul+p36V/pR+/b+1QALAagAB/8U/e/8M/8BAa4A6f/v/j3+zv7cAKABpwE8BL4GUQmQCSIFcv+R/CD75PqK/Mj7W/p7+dL7WQDzAvIEugYrBj8FjQVPBXMGFgh9CJ8Eo/8//Y38xfvl+XL5DfqX/AYBWQPtAqoCewNJBOECbABq/h/+9v5n/Vn77fmI+CH4a/k/+zP+MAFrAhgCfQAK/oP71v3jAcUCEQTrBXsGhQV+AvICLQWsBq4IjAh4Bo4Bnfwv+WH1dPB07h/wCvK29pr7EwD6BLoGLApeDCEKRgn6CKQJyApoCqMHVAUtBTUDGAEL/eL3y/fN+gX8Qfxg+lT3g/eC+G77UP+3AdICjABB/oz/oAHXAuwCaQOgAzoCVQGsAdEC9gIKAU4AYwF1AcD/1f3t/Tv+0v3P/V7/df9y/5cAEgCpAJYB0gBu/s3+4gBbAu0D3gRUBJ0ChgFKAHb/W//i/mH+O/4w/ST8u/zk/cT9tP5m/7f/q/9s/xj+Dfua+Z/6gvwa/mgABQFeAK8AowG5AlsE+ASaBO0DeARQBiUJ/wnbB+EDnQAAAIn+2Pto+Sn69/o4/Fv8UPp2+TD6vvz6AHgEKASyAx4CDP+i/B38t/z6/RsAQgFiAVMBhwGlAWoAy/9sAZQC8APGA5wCggGJAc4D5AM0Aq4AWgCo/tf79PqP+qT6gfr6+tL7V/63AcgCrAO4BKYExwMVA6cCiwKgAtkCqgLgAw0F/wLH/wD9Q/rq+HL59/nU+gD7WvuB/Yv/KQBiACcAggBlAd8A8ADZAgIFAgY0BZ8CkQBf/or8H/yW+rL72v5Y/wT/Tf7a/eH9MP5x/zsAFQD0/+j+zf2w/yAD5wPxAoMDxQQ0BsAGDgUsBP0ENARUAyQC4wCA/4T9//zJ/Gj8hPzk+4L7xf0MAPr+bfzw++v6J/tl/HL+NgFNA3kEwwLo/7n+b/+h/lb+5f77AbEGEghNBXEAzP2h/G/7qfqF+oL8pf98APb+vv3k/af/CwGOATQBCwBFAYgDrANTA+sBFAHxAncFcAaiA6IAUvxX+Xj5cfqM/R7/Z/87/2P/AAELARoAEwBdAPkAGgFz/+P+YgBUAk8CfgFnAS4A4f/i/sH9K/z3+w38pPoU+lL6bPxn/lAAMf/c/Rz/OQGRA44FBQZtBRgGRAdpCCcIpAanAkD/aP47/g3/Uv+j/jH9JfzK+4j6FfvT/Hj90P3E/eD+DgBKAhIEUANFA2IDrAOiAlcBEgH6/y3+ZPxy/Gb7XvsD/HX6bvqM/JEA4AGD/yz8XvoE/Cz+TwCLAhkEjQRtBHoFBwYXBFkBdP+L/k/+S/79/tX+ov5D/43+S/4Q/vj9vv+gAuQESwVrBAUBpf0I/cb+mP6s/Kb+qP/C/t7/ggO1BAkE+gPkAkEC5gJ8A4sAzv2B/GL6v/oM/bX7PvpO/Pf8VP2x/6IAMQA=\" type=\"audio/wav\" />\n",
       "                    Your browser does not support the audio element.\n",
       "                </audio>\n",
       "              "
      ],
      "text/plain": [
       "<IPython.lib.display.Audio object>"
      ]
     },
     "execution_count": 6,
     "metadata": {},
     "output_type": "execute_result"
    }
   ],
   "source": [
    "i = 0  # You can change the value of 'i' to adjust which sample is being inspected.\n",
    "sample=samples[i]\n",
    "sample_rate=22050\n",
    "print(\"The number of samples available to the model for training is \" + str(len(samples)) + '.')\n",
    "print(\"The maximum frequency value in sample slice #\" + str(i) + \" is \" + str(np.max(abs(sample))) + '.')\n",
    "print(\"The label associated with sample slice #\" + str(i) + \" is \" + str(labels[i]) + '.')\n",
    "ipd.Audio(sample, rate=sample_rate)"
   ]
  },
  {
   "cell_type": "markdown",
   "metadata": {},
   "source": [
    "## Arranging the data"
   ]
  },
  {
   "cell_type": "code",
   "execution_count": 7,
   "metadata": {},
   "outputs": [],
   "source": [
    "kf = KFold(n_splits=3, shuffle=True)\n",
    "samples = np.array(samples)\n",
    "labels = np.array(labels)\n",
    "for train_index, test_index in kf.split(samples):\n",
    "    train_wav, test_wav = samples[train_index], samples[test_index]\n",
    "    train_label, test_label = labels[train_index], labels[test_index]"
   ]
  },
  {
   "cell_type": "markdown",
   "metadata": {},
   "source": [
    "## Reshaping/restructuring the data"
   ]
  },
  {
   "cell_type": "code",
   "execution_count": 9,
   "metadata": {},
   "outputs": [],
   "source": [
    "xtrain_wav = train_wav.reshape(-1, sampling_rate_per_two_seconds, 1)\n",
    "test_wav = test_wav.reshape(-1, sampling_rate_per_two_seconds, 1)\n",
    "train_label = keras.utils.to_categorical(train_label, 2)\n",
    "test_label = keras.utils.to_categorical(test_label, 2)"
   ]
  },
  {
   "cell_type": "markdown",
   "metadata": {},
   "source": [
    "### Optional debugging of the training data's shape"
   ]
  },
  {
   "cell_type": "code",
   "execution_count": 10,
   "metadata": {},
   "outputs": [
    {
     "name": "stdout",
     "output_type": "stream",
     "text": [
      "(4439, 44100, 1)\n"
     ]
    }
   ],
   "source": [
    "print(train_wav.shape)"
   ]
  },
  {
   "cell_type": "markdown",
   "metadata": {},
   "source": [
    "# Model"
   ]
  },
  {
   "cell_type": "markdown",
   "metadata": {},
   "source": [
    "## Model Parameters"
   ]
  },
  {
   "cell_type": "code",
   "execution_count": 8,
   "metadata": {},
   "outputs": [],
   "source": [
    "learning_rate = 0.001\n",
    "batch_size = 32\n",
    "drop_out_rate = 0.2"
   ]
  },
  {
   "cell_type": "markdown",
   "metadata": {},
   "source": [
    "## Model Architecture"
   ]
  },
  {
   "cell_type": "code",
   "execution_count": 11,
   "metadata": {},
   "outputs": [
    {
     "name": "stdout",
     "output_type": "stream",
     "text": [
      "WARNING:tensorflow:From /usr/lib/python3.7/site-packages/tensorflow/python/ops/resource_variable_ops.py:435: colocate_with (from tensorflow.python.framework.ops) is deprecated and will be removed in a future version.\n",
      "Instructions for updating:\n",
      "Colocations handled automatically by placer.\n",
      "WARNING:tensorflow:From /usr/lib/python3.7/site-packages/tensorflow/python/keras/layers/core.py:143: calling dropout (from tensorflow.python.ops.nn_ops) with keep_prob is deprecated and will be removed in a future version.\n",
      "Instructions for updating:\n",
      "Please use `rate` instead of `keep_prob`. Rate should be set to `rate = 1 - keep_prob`.\n"
     ]
    }
   ],
   "source": [
    "input_tensor = Input(shape=input_shape)\n",
    "\n",
    "x = layers.Conv1D(8, 11, padding='valid', activation='relu', strides=1)(input_tensor)\n",
    "x = layers.MaxPooling1D(2)(x)\n",
    "x = layers.Conv1D(16, 7, padding='valid', activation='relu', strides=1)(x)\n",
    "x = layers.MaxPooling1D(4)(x)\n",
    "x = layers.Conv1D(32, 5, padding='valid', activation='relu', strides=1)(x)\n",
    "x = layers.MaxPooling1D(4)(x)\n",
    "x = layers.Conv1D(64, 5, padding='valid', activation='relu', strides=1)(x)\n",
    "x = layers.MaxPooling1D(6)(x)\n",
    "x = layers.Conv1D(128, 3, padding='valid', activation='relu', strides=1)(x)\n",
    "x = layers.MaxPooling1D(6)(x)\n",
    "x = layers.Conv1D(256, 3, padding='valid', activation='relu', strides=1)(x)\n",
    "x = layers.MaxPooling1D(6)(x)\n",
    "x = layers.Flatten()(x)\n",
    "x = layers.Dense(100, activation='relu')(x)\n",
    "x = layers.Dropout(drop_out_rate)(x)\n",
    "x = layers.Dense(50, activation='relu')(x)\n",
    "x = layers.Dropout(drop_out_rate)(x)\n",
    "x = layers.Dense(20, activation='relu')(x)\n",
    "\n",
    "output_tensor = layers.Dense(3, activation='softmax')(x)\n",
    "\n",
    "model = tf.keras.Model(input_tensor, output_tensor)\n",
    "\n",
    "model.compile(loss=keras.losses.binary_crossentropy,\n",
    "             optimizer=keras.optimizers.Adam(lr = learning_rate),\n",
    "             metrics=['accuracy'])"
   ]
  },
  {
   "cell_type": "markdown",
   "metadata": {},
   "source": [
    "## Configuring model properties"
   ]
  },
  {
   "cell_type": "code",
   "execution_count": 12,
   "metadata": {},
   "outputs": [
    {
     "name": "stdout",
     "output_type": "stream",
     "text": [
      "_________________________________________________________________\n",
      "Layer (type)                 Output Shape              Param #   \n",
      "=================================================================\n",
      "input_1 (InputLayer)         (None, 44100, 1)          0         \n",
      "_________________________________________________________________\n",
      "conv1d (Conv1D)              (None, 44090, 8)          96        \n",
      "_________________________________________________________________\n",
      "max_pooling1d (MaxPooling1D) (None, 22045, 8)          0         \n",
      "_________________________________________________________________\n",
      "conv1d_1 (Conv1D)            (None, 22039, 16)         912       \n",
      "_________________________________________________________________\n",
      "max_pooling1d_1 (MaxPooling1 (None, 5509, 16)          0         \n",
      "_________________________________________________________________\n",
      "conv1d_2 (Conv1D)            (None, 5505, 32)          2592      \n",
      "_________________________________________________________________\n",
      "max_pooling1d_2 (MaxPooling1 (None, 1376, 32)          0         \n",
      "_________________________________________________________________\n",
      "conv1d_3 (Conv1D)            (None, 1372, 64)          10304     \n",
      "_________________________________________________________________\n",
      "max_pooling1d_3 (MaxPooling1 (None, 228, 64)           0         \n",
      "_________________________________________________________________\n",
      "conv1d_4 (Conv1D)            (None, 226, 128)          24704     \n",
      "_________________________________________________________________\n",
      "max_pooling1d_4 (MaxPooling1 (None, 37, 128)           0         \n",
      "_________________________________________________________________\n",
      "conv1d_5 (Conv1D)            (None, 35, 256)           98560     \n",
      "_________________________________________________________________\n",
      "max_pooling1d_5 (MaxPooling1 (None, 5, 256)            0         \n",
      "_________________________________________________________________\n",
      "flatten (Flatten)            (None, 1280)              0         \n",
      "_________________________________________________________________\n",
      "dense (Dense)                (None, 100)               128100    \n",
      "_________________________________________________________________\n",
      "dropout (Dropout)            (None, 100)               0         \n",
      "_________________________________________________________________\n",
      "dense_1 (Dense)              (None, 50)                5050      \n",
      "_________________________________________________________________\n",
      "dropout_1 (Dropout)          (None, 50)                0         \n",
      "_________________________________________________________________\n",
      "dense_2 (Dense)              (None, 20)                1020      \n",
      "_________________________________________________________________\n",
      "dense_3 (Dense)              (None, 3)                 63        \n",
      "=================================================================\n",
      "Total params: 271,401\n",
      "Trainable params: 271,401\n",
      "Non-trainable params: 0\n",
      "_________________________________________________________________\n"
     ]
    }
   ],
   "source": [
    "model_filename = 'gunshot_sound_model.pkl'\n",
    "\n",
    "model_callbacks = [\n",
    "    EarlyStopping(monitor='val_acc',\n",
    "                  patience=10,\n",
    "                  verbose=1,\n",
    "                  mode='auto'),\n",
    "    \n",
    "    ModelCheckpoint(model_filename, monitor='val_acc',\n",
    "                    verbose=1,\n",
    "                    save_best_only=True,\n",
    "                    mode='auto'),\n",
    "]\n",
    "\n",
    "training_generator = DataGenerator(train_wav, train_label)\n",
    "validation_generator = DataGenerator(test_wav, test_label)"
   ]
  },
  {
   "cell_type": "markdown",
   "metadata": {},
   "source": [
    "### Optional debugging of the model's architecture"
   ]
  },
  {
   "cell_type": "code",
   "execution_count": null,
   "metadata": {},
   "outputs": [],
   "source": [
    "model.summary()"
   ]
  },
  {
   "cell_type": "markdown",
   "metadata": {},
   "source": [
    "## Training & caching the model"
   ]
  },
  {
   "cell_type": "code",
   "execution_count": 13,
   "metadata": {},
   "outputs": [
    {
     "ename": "NameError",
     "evalue": "name 'callbacks' is not defined",
     "output_type": "error",
     "traceback": [
      "\u001b[0;31m---------------------------------------------------------------------------\u001b[0m",
      "\u001b[0;31mNameError\u001b[0m                                 Traceback (most recent call last)",
      "\u001b[0;32m<ipython-input-13-0f9aad7ab054>\u001b[0m in \u001b[0;36m<module>\u001b[0;34m\u001b[0m\n\u001b[1;32m      3\u001b[0m                                 \u001b[0mvalidation_data\u001b[0m \u001b[0;34m=\u001b[0m \u001b[0mvalidation_generator\u001b[0m\u001b[0;34m,\u001b[0m\u001b[0;34m\u001b[0m\u001b[0;34m\u001b[0m\u001b[0m\n\u001b[1;32m      4\u001b[0m                                 \u001b[0mepochs\u001b[0m \u001b[0;34m=\u001b[0m \u001b[0;36m50\u001b[0m\u001b[0;34m,\u001b[0m\u001b[0;34m\u001b[0m\u001b[0;34m\u001b[0m\u001b[0m\n\u001b[0;32m----> 5\u001b[0;31m                                 \u001b[0mcallbacks\u001b[0m \u001b[0;34m=\u001b[0m \u001b[0mcallbacks\u001b[0m\u001b[0;34m,\u001b[0m\u001b[0;34m\u001b[0m\u001b[0;34m\u001b[0m\u001b[0m\n\u001b[0m\u001b[1;32m      6\u001b[0m                                 \u001b[0mverbose\u001b[0m \u001b[0;34m=\u001b[0m \u001b[0;36m1\u001b[0m\u001b[0;34m,\u001b[0m\u001b[0;34m\u001b[0m\u001b[0;34m\u001b[0m\u001b[0m\n\u001b[1;32m      7\u001b[0m                                 shuffle = True)\n",
      "\u001b[0;31mNameError\u001b[0m: name 'callbacks' is not defined"
     ]
    }
   ],
   "source": [
    "model.fit_generator(generator = training_generator,\n",
    "                                validation_data = validation_generator,\n",
    "                                epochs = 50,\n",
    "                                callbacks = model_callbacks,\n",
    "                                verbose = 1,\n",
    "                                shuffle = True)\n",
    "\n",
    "model.load_weights(\"gunshot_sound_model.h5\")\n",
    "y_pred = np.round(model.predict(X_test))\n",
    "print(\"Accuracy:\", metrics.accuracy_score(y_test, y_pred))\n",
    "model.save_weights(\"gunshot_sound_model.h5\")"
   ]
  },
  {
   "cell_type": "markdown",
   "metadata": {},
   "source": [
    "## Summarizing history for accuracy"
   ]
  },
  {
   "cell_type": "code",
   "execution_count": null,
   "metadata": {},
   "outputs": [],
   "source": [
    "plt.plot(History.history['acc'])\n",
    "plt.plot(History.history['val_acc'])\n",
    "plt.title('Model Accuracy')\n",
    "plt.ylabel('Accuracy')\n",
    "plt.xlabel('Epoch')\n",
    "plt.legend(['Train', 'Test'], loc='upper left')\n",
    "plt.show()"
   ]
  },
  {
   "cell_type": "markdown",
   "metadata": {},
   "source": [
    "## Summarizing history for loss"
   ]
  },
  {
   "cell_type": "code",
   "execution_count": null,
   "metadata": {},
   "outputs": [],
   "source": [
    "plt.plot(History.history['loss'])\n",
    "plt.plot(History.history['val_loss'])\n",
    "plt.title('Model Loss')\n",
    "plt.ylabel('Loss')\n",
    "plt.xlabel('Epoch')\n",
    "plt.legend(['Train', 'Test'], loc='upper left')\n",
    "plt.show()"
   ]
  },
  {
   "cell_type": "markdown",
   "metadata": {},
   "source": [
    "### Optional debugging of incorrectly-labeled examples"
   ]
  },
  {
   "cell_type": "code",
   "execution_count": null,
   "metadata": {},
   "outputs": [],
   "source": [
    "Y_test_pred = model.predict(test_wav)\n",
    "y_predicted_classes_test = Y_test_pred.argmax(axis=-1)\n",
    "y_actual_classes_test= test_label.argmax(axis=-1)\n",
    "wrong_examples = np.nonzero(y_predicted_classes_test != y_actual_classes_test)\n",
    "print(wrong_examples)"
   ]
  },
  {
   "cell_type": "markdown",
   "metadata": {},
   "source": [
    "### Optional debugging of an individual incorrectly-labeled example"
   ]
  },
  {
   "cell_type": "code",
   "execution_count": null,
   "metadata": {},
   "outputs": [],
   "source": [
    "i = 0\n",
    "sample = np.reshape(test_wav[i], sampling_rate_per_two_seconds, )\n",
    "sample_rate = 22050\n",
    "print(y_test[i], Y_test_pred[i])\n",
    "ipd.Audio(sample, rate=sample_rate)"
   ]
  }
 ],
 "metadata": {
  "kernelspec": {
   "display_name": "Python 3",
   "language": "python",
   "name": "python3"
  },
  "language_info": {
   "codemirror_mode": {
    "name": "ipython",
    "version": 3
   },
   "file_extension": ".py",
   "mimetype": "text/x-python",
   "name": "python",
   "nbconvert_exporter": "python",
   "pygments_lexer": "ipython3",
   "version": "3.7.3"
  }
 },
 "nbformat": 4,
 "nbformat_minor": 2
}
