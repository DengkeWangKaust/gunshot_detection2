{
 "cells": [
  {
   "cell_type": "code",
   "execution_count": null,
   "metadata": {},
   "outputs": [],
   "source": [
    "import librosa\n",
    "import os\n",
    "import numpy as np"
   ]
  },
  {
   "cell_type": "code",
   "execution_count": null,
   "metadata": {},
   "outputs": [],
   "source": [
    "Class Augmenter():\n",
    "    \n",
    "    def __init__(self,numpy_array,sr):\n",
    "        self.numpy_array = numpy_array\n",
    "        self.sr = sr\n",
    "        \n",
    "    def padd(self,interval):\n",
    "        return numpy_array,sr\n",
    "    \n",
    "    def change_pitch(self,magnitude):\n",
    "        # magnitude = x. 0<x<1 slows down, x=1 identity, x>1 speeds up\n",
    "        return numpy_array,sr\n",
    "    \n",
    "    def change_speed(self,magnitude):\n",
    "        # magnitude = x. 0<x<1 slows down, x=1 identity, x>1 speeds up\n",
    "        return numpy_array,sr\n",
    "    \n",
    "    def change_volume(self,magnitude):\n",
    "        # magnitude = x. 0<x<1 quieter, x=1 identity, x>1 louder\n",
    "        return numpy_array,sr\n",
    "    \n",
    "\n",
    "        "
   ]
  },
  {
   "cell_type": "code",
   "execution_count": null,
   "metadata": {},
   "outputs": [],
   "source": [
    "def main():\n",
    "    pth = \"\"\n",
    "    #play audio\n",
    "    arr,sr = librosa.load(pth)\n",
    "    aug = Augmenter(arr,sr)\n",
    "    aug_2,sr_2 = aug.padd(100)\n",
    "    #play audio\n",
    "    \n",
    "    \n",
    "if __name__ == \"__main__\":\n",
    "    main()"
   ]
  }
 ],
 "metadata": {
  "kernelspec": {
   "display_name": "Python 3",
   "language": "python",
   "name": "python3"
  },
  "language_info": {
   "codemirror_mode": {
    "name": "ipython",
    "version": 3
   },
   "file_extension": ".py",
   "mimetype": "text/x-python",
   "name": "python",
   "nbconvert_exporter": "python",
   "pygments_lexer": "ipython3",
   "version": "3.7.3"
  }
 },
 "nbformat": 4,
 "nbformat_minor": 2
}
